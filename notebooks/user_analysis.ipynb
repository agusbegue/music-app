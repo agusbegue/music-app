{
 "cells": [
  {
   "cell_type": "code",
   "execution_count": 1,
   "id": "6997a410",
   "metadata": {},
   "outputs": [],
   "source": [
    "import requests\n",
    "import json\n",
    "import pandas as pd"
   ]
  },
  {
   "cell_type": "code",
   "execution_count": 4,
   "id": "2b53fa86",
   "metadata": {},
   "outputs": [],
   "source": [
    "def refresh_headers():\n",
    "    r = requests.post('https://accounts.spotify.com/api/token', data={\n",
    "        'grant_type': 'refresh_token',\n",
    "        'refresh_token': 'AQBUMI3FVqVNmfmxpWgBb4aGNZ6BzT7mf85XoC8Aps4K_RJnnqNm_aajnLOVIqnEOa5a_Qfg-n-a_axaVMr9gtF2205hvi9mi1IFT3n5Iep7DrLKtl5gl5T9RZ-_tmqTXiU',\n",
    "        'client_id': '908d3e07450148849b073e188ba0216a',\n",
    "        'client_secret': 'd14f7cf76e734ba1b32e43b79f5e48cb'\n",
    "    })\n",
    "    return {'Authorization': 'Bearer {}'.format(json.loads(r.content)['access_token']),\n",
    "           'Content-Type': 'application/json'}"
   ]
  },
  {
   "cell_type": "code",
   "execution_count": 5,
   "id": "f7358209",
   "metadata": {},
   "outputs": [],
   "source": [
    "headers = refresh_headers()"
   ]
  },
  {
   "cell_type": "markdown",
   "id": "037c39bf",
   "metadata": {},
   "source": [
    "## Top tracks and artists"
   ]
  },
  {
   "cell_type": "code",
   "execution_count": 9,
   "id": "2a9d1dde",
   "metadata": {},
   "outputs": [],
   "source": [
    "typ = 'tracks'\n",
    "time_range = 'long_term'\n",
    "limit = 10"
   ]
  },
  {
   "cell_type": "code",
   "execution_count": 10,
   "id": "dadc400f",
   "metadata": {},
   "outputs": [],
   "source": [
    "r = requests.get(f'https://api.spotify.com/v1/me/top/{typ}?time_range={time_range}&limit={limit}', headers=headers)"
   ]
  },
  {
   "cell_type": "code",
   "execution_count": 11,
   "id": "8bcb7068",
   "metadata": {},
   "outputs": [
    {
     "data": {
      "text/plain": [
       "[('+', 63, ['Aitana', 'Cali Y El Dandee']),\n",
       " ('High', 46, ['Maria Becerra']),\n",
       " ('Dejemos Que Pase', 39, ['Maria Becerra']),\n",
       " ('Mi Suerte', 70, ['Morat']),\n",
       " ('Perdón por las Horas', 48, ['Pol Granch']),\n",
       " ('Le chant des sirènes 2', 37, ['Fréro Delavega']),\n",
       " ('Nada de Amor', 35, ['Maria Becerra']),\n",
       " ('Mi Debilidad', 66, ['Maria Becerra']),\n",
       " ('Me Gusta', 56, ['Nicki Nicole']),\n",
       " ('Desastre', 45, ['Pol Granch'])]"
      ]
     },
     "execution_count": 11,
     "metadata": {},
     "output_type": "execute_result"
    }
   ],
   "source": [
    "list(map(lambda f: (f['name'], f['popularity'], list(map(lambda a: a['name'], f['artists']))), json.loads(r.content)['items']))"
   ]
  },
  {
   "cell_type": "markdown",
   "id": "9697eef1",
   "metadata": {},
   "source": [
    "## Playlists"
   ]
  },
  {
   "cell_type": "code",
   "execution_count": 2,
   "id": "160db39e",
   "metadata": {},
   "outputs": [],
   "source": [
    "user_id = '11182136211'"
   ]
  },
  {
   "cell_type": "code",
   "execution_count": 6,
   "id": "c47adda8",
   "metadata": {},
   "outputs": [],
   "source": [
    "r = json.loads(requests.get(f'http://api.spotify.com/v1/me/playlists?limit=50', headers=headers).content)"
   ]
  },
  {
   "cell_type": "code",
   "execution_count": 7,
   "id": "feee0d25",
   "metadata": {},
   "outputs": [],
   "source": [
    "oks = list(filter(lambda f: f['owner']['id']==user_id and f['tracks']['total']>=30, r['items']))"
   ]
  },
  {
   "cell_type": "code",
   "execution_count": 8,
   "id": "7269f8dd",
   "metadata": {},
   "outputs": [
    {
     "data": {
      "text/plain": [
       "[('Peligrosa', 280),\n",
       " ('popsicle', 47),\n",
       " ('yes', 55),\n",
       " ('ruteros', 43),\n",
       " ('yay', 76),\n",
       " ('pv2', 575),\n",
       " ('le fr', 39),\n",
       " ('Imagination', 59),\n",
       " ('forest walk', 81),\n",
       " ('tom & two', 52),\n",
       " ('Muy Tranquilo', 153),\n",
       " ('movies', 34),\n",
       " (\"c'est la vie\", 92),\n",
       " ('laxin', 34)]"
      ]
     },
     "execution_count": 8,
     "metadata": {},
     "output_type": "execute_result"
    }
   ],
   "source": [
    "list(map(lambda f: (f['name'], f['tracks']['total']), oks))"
   ]
  },
  {
   "cell_type": "code",
   "execution_count": 12,
   "id": "ea245e09",
   "metadata": {},
   "outputs": [],
   "source": [
    "playlist_map = {f['id']: f['name'] for f in oks if f['name'] in [\n",
    "    'Peligrosa','pv2','popsicle','forest walk','Muy Tranquilo'\n",
    "]}"
   ]
  },
  {
   "cell_type": "code",
   "execution_count": 13,
   "id": "bb9db4d3",
   "metadata": {},
   "outputs": [
    {
     "data": {
      "text/plain": [
       "{'0x7qUjuFBkaNO5xYpWG4MI': 'Peligrosa',\n",
       " '28fZyyGjM0Yb8ZSITmdi0j': 'popsicle',\n",
       " '2HJbwEyjWXKyqeXpjdExUd': 'pv2',\n",
       " '4y8KPM29YuzdnPX6iuExfH': 'forest walk',\n",
       " '6UgUBdv2BqkEzvxaKpOIoi': 'Muy Tranquilo'}"
      ]
     },
     "execution_count": 13,
     "metadata": {},
     "output_type": "execute_result"
    }
   ],
   "source": [
    "playlist_map"
   ]
  },
  {
   "cell_type": "code",
   "execution_count": 33,
   "id": "ca9d04dd",
   "metadata": {},
   "outputs": [],
   "source": [
    "data = []\n",
    "i = 0\n",
    "total = 1\n",
    "latest_n = 30\n",
    "while i < total:\n",
    "    if latest_n is not None:\n",
    "        batch_size = latest_n\n",
    "    raw_data = json.loads(requests.get(\n",
    "        f'https://api.spotify.com/v1/playlists/0x7qUjuFBkaNO5xYpWG4MI/tracks?limit={batch_size}&offset={i}&fields=total,items(added_at,track(id,name,popularity))',\n",
    "        headers=headers\n",
    "    ).content)\n",
    "    data.extend(list(map(lambda f: {\n",
    "        'track_id': f['track']['id'], 'added_at': f['added_at'], 'name': f['track']['name'], 'popularity': f['track']['popularity']\n",
    "    }, raw_data['items'])))\n",
    "    total = raw_data['total']\n",
    "    if latest_n is not None and i == 0:\n",
    "        i = total - batch_size\n",
    "        data = []\n",
    "    else:\n",
    "        i += batch_size"
   ]
  },
  {
   "cell_type": "code",
   "execution_count": 34,
   "id": "24db38de",
   "metadata": {},
   "outputs": [
    {
     "data": {
      "text/plain": [
       "[{'track_id': '6Sq7ltF9Qa7SNFBsV5Cogx',\n",
       "  'added_at': '2022-05-09T01:59:00Z',\n",
       "  'name': 'Me Porto Bonito',\n",
       "  'popularity': 99},\n",
       " {'track_id': '1txrFHh4XUU3Kp8HcD2TFW',\n",
       "  'added_at': '2022-05-09T02:01:58Z',\n",
       "  'name': 'Te Mentiría Remix',\n",
       "  'popularity': 77},\n",
       " {'track_id': '3zUtuSPwyqKElkqfnJj3X2',\n",
       "  'added_at': '2022-05-09T02:11:07Z',\n",
       "  'name': 'NO MIENTEN',\n",
       "  'popularity': 69},\n",
       " {'track_id': '41oY4WCTj5kccfesTVFnvN',\n",
       "  'added_at': '2022-05-09T02:29:54Z',\n",
       "  'name': 'Tarot',\n",
       "  'popularity': 94},\n",
       " {'track_id': '7kYbxvrGXv8cmKjkqgqhrw',\n",
       "  'added_at': '2022-05-11T01:18:39Z',\n",
       "  'name': 'La Triple T',\n",
       "  'popularity': 84},\n",
       " {'track_id': '78SjIkujtNsOewFNlrlr08',\n",
       "  'added_at': '2022-05-11T16:29:02Z',\n",
       "  'name': 'Sonrisa Falsa (with Sael)',\n",
       "  'popularity': 48},\n",
       " {'track_id': '6LRzzkbOtYNPrlhlcjBUCs',\n",
       "  'added_at': '2022-05-16T19:40:33Z',\n",
       "  'name': 'Hermosa (feat. Daddy Yankee)',\n",
       "  'popularity': 50},\n",
       " {'track_id': '7INDea2qgB7TlUgpux3hsg',\n",
       "  'added_at': '2022-05-18T17:03:35Z',\n",
       "  'name': 'Castigo',\n",
       "  'popularity': 80},\n",
       " {'track_id': '2rm9Jixn9sLzTM6PF8u8AH',\n",
       "  'added_at': '2022-05-21T18:36:15Z',\n",
       "  'name': 'Nota',\n",
       "  'popularity': 78},\n",
       " {'track_id': '0Z1nHrPg0IThethNdVNxJd',\n",
       "  'added_at': '2022-05-23T19:32:09Z',\n",
       "  'name': 'Un Momento (with Moffa)',\n",
       "  'popularity': 40},\n",
       " {'track_id': '3a0P7wE7Gv3ztKND45C3jv',\n",
       "  'added_at': '2022-05-24T23:02:06Z',\n",
       "  'name': '10 PM',\n",
       "  'popularity': 61},\n",
       " {'track_id': '3i5cUvzBImLJTLh0koudVl',\n",
       "  'added_at': '2022-05-25T04:52:15Z',\n",
       "  'name': 'Maléfica',\n",
       "  'popularity': 76},\n",
       " {'track_id': '02mhtclidb7Jpf1gwEasJh',\n",
       "  'added_at': '2022-05-29T03:12:54Z',\n",
       "  'name': 'Barranquilla Bajo Cero',\n",
       "  'popularity': 74},\n",
       " {'track_id': '1uGdRSOpObu3lp0jvrVREl',\n",
       "  'added_at': '2022-06-03T04:36:23Z',\n",
       "  'name': 'OJALÁ',\n",
       "  'popularity': 80},\n",
       " {'track_id': '3JWKzfp6YX4LXFk2ybAfql',\n",
       "  'added_at': '2022-06-03T04:37:25Z',\n",
       "  'name': 'BORRACHA',\n",
       "  'popularity': 68},\n",
       " {'track_id': '67Wqby5IjOMMpIYwqmCYOG',\n",
       "  'added_at': '2022-06-03T05:05:14Z',\n",
       "  'name': 'intoxicao',\n",
       "  'popularity': 69},\n",
       " {'track_id': '42uno8Ku7ydFRwjD7OcXDI',\n",
       "  'added_at': '2022-06-03T05:05:42Z',\n",
       "  'name': 'latin girl',\n",
       "  'popularity': 59},\n",
       " {'track_id': '0Q1NGtkEts8tjIC4eSWiya',\n",
       "  'added_at': '2022-06-03T06:40:31Z',\n",
       "  'name': 'cielo en la mente',\n",
       "  'popularity': 59},\n",
       " {'track_id': '6ojZtz3sZr6ynvejLOqgCj',\n",
       "  'added_at': '2022-06-03T15:40:15Z',\n",
       "  'name': 'Nos Comemos (feat. Ozuna)',\n",
       "  'popularity': 83},\n",
       " {'track_id': '6DoL1yYIwEW7VZMRaJhoJI',\n",
       "  'added_at': '2022-06-03T15:56:12Z',\n",
       "  'name': 'La Llevo Al Cielo (Ft. Ñengo Flow)',\n",
       "  'popularity': 88},\n",
       " {'track_id': '4RtPruLRZbyirtJGqYHPQm',\n",
       "  'added_at': '2022-06-03T17:09:18Z',\n",
       "  'name': 'Antes de Perderte',\n",
       "  'popularity': 82},\n",
       " {'track_id': '4V3qWFO6BJrOh9Zjz0Pk8X',\n",
       "  'added_at': '2022-06-03T19:27:34Z',\n",
       "  'name': 'Dile a Tus Amigas',\n",
       "  'popularity': 28},\n",
       " {'track_id': '6ipzb1kHhWIxp1tS0vwqPl',\n",
       "  'added_at': '2022-06-06T20:11:40Z',\n",
       "  'name': 'Ferxxo 100',\n",
       "  'popularity': 80},\n",
       " {'track_id': '3SlKme42qm1vWrkl3BrZmm',\n",
       "  'added_at': '2022-06-14T15:21:17Z',\n",
       "  'name': 'Nos Comemos Vivos',\n",
       "  'popularity': 75},\n",
       " {'track_id': '4hceSKjrkDTO0nMKFcb3sj',\n",
       "  'added_at': '2022-06-14T23:12:40Z',\n",
       "  'name': 'Villano Antillano: Bzrp Music Sessions, Vol. 51',\n",
       "  'popularity': 82},\n",
       " {'track_id': '0vHfVsEe6Ps0d8cZ9PGzSw',\n",
       "  'added_at': '2022-06-16T15:10:57Z',\n",
       "  'name': 'Loco Por Perrearte - Remix',\n",
       "  'popularity': 75},\n",
       " {'track_id': '7ILwxghUppFKHnAJ5ziB8X',\n",
       "  'added_at': '2022-06-16T19:21:39Z',\n",
       "  'name': 'Yatekomo',\n",
       "  'popularity': 74},\n",
       " {'track_id': '6wtZPYBIXUvCpXwVjMCJBf',\n",
       "  'added_at': '2022-06-17T19:44:54Z',\n",
       "  'name': 'ULTRA SOLO REMIX',\n",
       "  'popularity': 79},\n",
       " {'track_id': '7G9uS8qTQjEnhP5huKomCb',\n",
       "  'added_at': '2022-06-21T20:35:11Z',\n",
       "  'name': 'Isla Velde',\n",
       "  'popularity': 55},\n",
       " {'track_id': '2pEmxGe9nMIjg8wniWkYjJ',\n",
       "  'added_at': '2022-06-21T20:39:25Z',\n",
       "  'name': 'Peli-Culeo',\n",
       "  'popularity': 59}]"
      ]
     },
     "execution_count": 34,
     "metadata": {},
     "output_type": "execute_result"
    }
   ],
   "source": [
    "data"
   ]
  },
  {
   "cell_type": "code",
   "execution_count": 25,
   "id": "fe501731",
   "metadata": {},
   "outputs": [
    {
     "data": {
      "text/plain": [
       "47"
      ]
     },
     "execution_count": 25,
     "metadata": {},
     "output_type": "execute_result"
    }
   ],
   "source": [
    "len(data)"
   ]
  },
  {
   "cell_type": "code",
   "execution_count": 14,
   "id": "e3483dcc",
   "metadata": {},
   "outputs": [],
   "source": [
    "data = json.loads(requests.get(\n",
    "    f'https://api.spotify.com/v1/playlists/0x7qUjuFBkaNO5xYpWG4MI/tracks?limit=10&offset=0&fields=total,items(added_at,track(id,name))',\n",
    "    headers=headers\n",
    ").content)"
   ]
  },
  {
   "cell_type": "code",
   "execution_count": 15,
   "id": "b1b5d7dd",
   "metadata": {},
   "outputs": [
    {
     "data": {
      "text/plain": [
       "{'items': [{'added_at': '2020-04-14T16:38:40Z',\n",
       "   'track': {'id': '6LnXhWRXn8i7xUjEaqwIE9', 'name': 'Dejemos Que Pase'}},\n",
       "  {'added_at': '2020-04-14T16:38:48Z',\n",
       "   'track': {'id': '5vPtzdjJ9tm7XCoKDH22Gb', 'name': 'High'}},\n",
       "  {'added_at': '2020-04-14T16:38:56Z',\n",
       "   'track': {'id': '5utL6qFkMGP7EOw6Gri5wi', 'name': 'Nada de Amor'}},\n",
       "  {'added_at': '2020-04-14T16:39:04Z',\n",
       "   'track': {'id': '2cn7dsEVaIHslGDMWOPlW6', 'name': 'Fucking Diablo'}},\n",
       "  {'added_at': '2020-04-14T16:39:11Z',\n",
       "   'track': {'id': '4xT8BKG51PWefWHmPnm7Wc', 'name': 'Me Gusta'}},\n",
       "  {'added_at': '2020-04-14T16:39:30Z',\n",
       "   'track': {'id': '6kyp35INigDcwXHTKCHoAk', 'name': 'Diva'}},\n",
       "  {'added_at': '2020-04-14T16:51:45Z',\n",
       "   'track': {'id': '2032dz8FNUftQh5NVjmCvz', 'name': 'Culpa'}},\n",
       "  {'added_at': '2020-04-15T13:15:48Z',\n",
       "   'track': {'id': '5xCGpVb4IYAREVhyT2zqyH', 'name': 'Peligrosa (Mimosas)'}},\n",
       "  {'added_at': '2020-04-17T23:21:39Z',\n",
       "   'track': {'id': '7aFBy1CBLGnZE1Iv6TvEZE',\n",
       "    'name': 'Antes de Morirme (feat. Rosalía)'}},\n",
       "  {'added_at': '2020-04-17T23:21:49Z',\n",
       "   'track': {'id': '3r5OlIxUKkh2ydNeYYh6tD', 'name': 'Picaflor'}}],\n",
       " 'total': 280}"
      ]
     },
     "execution_count": 15,
     "metadata": {},
     "output_type": "execute_result"
    }
   ],
   "source": [
    "data"
   ]
  },
  {
   "cell_type": "markdown",
   "id": "441e2935",
   "metadata": {},
   "source": [
    "#### Playlists tracks"
   ]
  },
  {
   "cell_type": "code",
   "execution_count": 569,
   "id": "3cf11409",
   "metadata": {},
   "outputs": [],
   "source": [
    "playlist_tracks = {}\n",
    "for p_id in playlist_map.keys():\n",
    "    playlist_tracks[p_id] = {}\n",
    "    i = 0\n",
    "    total = 1\n",
    "    while i < total:\n",
    "        data = json.loads(requests.get(\n",
    "            f'https://api.spotify.com/v1/playlists/{p_id}/tracks?limit=50&offset={i}&fields=total,items.track(id,name)',\n",
    "            headers=headers\n",
    "        ).content)\n",
    "        playlist_tracks[p_id].update({t['track']['id']: t['track']['name'] for t in data['items']})\n",
    "        total = data['total']\n",
    "        i += 50"
   ]
  },
  {
   "cell_type": "code",
   "execution_count": 576,
   "id": "49ba3770",
   "metadata": {},
   "outputs": [
    {
     "data": {
      "text/plain": [
       "dict_keys(['album', 'artists', 'available_markets', 'disc_number', 'duration_ms', 'episode', 'explicit', 'external_ids', 'external_urls', 'href', 'id', 'is_local', 'name', 'popularity', 'preview_url', 'track', 'track_number', 'type', 'uri'])"
      ]
     },
     "execution_count": 576,
     "metadata": {},
     "output_type": "execute_result"
    }
   ],
   "source": [
    "data['items'][0]['track'].keys()"
   ]
  },
  {
   "cell_type": "markdown",
   "id": "9f68d732",
   "metadata": {},
   "source": [
    "#### Tracks audio features"
   ]
  },
  {
   "cell_type": "code",
   "execution_count": 518,
   "id": "0e2e6adc",
   "metadata": {},
   "outputs": [],
   "source": [
    "features = {}\n",
    "for p_id, track_data in playlist_tracks.items():\n",
    "    track_ids_str = ','.join(list(track_data.keys())[-50:])\n",
    "    features[p_id] = json.loads(requests.get(\n",
    "        f'https://api.spotify.com/v1/audio-features/?ids={track_ids_str}', headers=headers\n",
    "    ).content)['audio_features']\n",
    "    for feats in features[p_id]:\n",
    "        feats['name'] = track_data[feats['id']]"
   ]
  },
  {
   "cell_type": "markdown",
   "id": "955ebbbb",
   "metadata": {},
   "source": [
    "### Process data"
   ]
  },
  {
   "cell_type": "code",
   "execution_count": 553,
   "id": "fd0e0e05",
   "metadata": {},
   "outputs": [],
   "source": [
    "df = pd.DataFrame(columns=list(list(features.values())[0][0].keys())+['playlist'])\n",
    "i = 0\n",
    "for p_id, tracks in features.items():\n",
    "    for track in tracks:\n",
    "        df.loc[i] = {**track, 'playlist': p_id}\n",
    "        i+=1\n",
    "df.drop(['track_href','analysis_url','duration_ms','uri','type','time_signature'], axis=1, inplace=True)\n",
    "df['playlist'] = df['playlist'].map(playlist_map)"
   ]
  },
  {
   "cell_type": "code",
   "execution_count": 554,
   "id": "89839127",
   "metadata": {},
   "outputs": [
    {
     "data": {
      "text/html": [
       "<div>\n",
       "<style scoped>\n",
       "    .dataframe tbody tr th:only-of-type {\n",
       "        vertical-align: middle;\n",
       "    }\n",
       "\n",
       "    .dataframe tbody tr th {\n",
       "        vertical-align: top;\n",
       "    }\n",
       "\n",
       "    .dataframe thead th {\n",
       "        text-align: right;\n",
       "    }\n",
       "</style>\n",
       "<table border=\"1\" class=\"dataframe\">\n",
       "  <thead>\n",
       "    <tr style=\"text-align: right;\">\n",
       "      <th></th>\n",
       "      <th>danceability</th>\n",
       "      <th>energy</th>\n",
       "      <th>key</th>\n",
       "      <th>loudness</th>\n",
       "      <th>mode</th>\n",
       "      <th>speechiness</th>\n",
       "      <th>acousticness</th>\n",
       "      <th>instrumentalness</th>\n",
       "      <th>liveness</th>\n",
       "      <th>valence</th>\n",
       "      <th>tempo</th>\n",
       "      <th>id</th>\n",
       "      <th>name</th>\n",
       "      <th>playlist</th>\n",
       "    </tr>\n",
       "  </thead>\n",
       "  <tbody>\n",
       "    <tr>\n",
       "      <th>0</th>\n",
       "      <td>0.859</td>\n",
       "      <td>0.407</td>\n",
       "      <td>1</td>\n",
       "      <td>-6.317</td>\n",
       "      <td>0</td>\n",
       "      <td>0.0460</td>\n",
       "      <td>0.0990</td>\n",
       "      <td>0</td>\n",
       "      <td>0.1750</td>\n",
       "      <td>0.808</td>\n",
       "      <td>88.039</td>\n",
       "      <td>1yihMXFt0zsG86nue7u41U</td>\n",
       "      <td>Dime</td>\n",
       "      <td>Peligrosa</td>\n",
       "    </tr>\n",
       "    <tr>\n",
       "      <th>1</th>\n",
       "      <td>0.902</td>\n",
       "      <td>0.556</td>\n",
       "      <td>11</td>\n",
       "      <td>-4.109</td>\n",
       "      <td>1</td>\n",
       "      <td>0.1720</td>\n",
       "      <td>0.2470</td>\n",
       "      <td>0</td>\n",
       "      <td>0.0951</td>\n",
       "      <td>0.712</td>\n",
       "      <td>90.037</td>\n",
       "      <td>4jozbMEic7fUM2xH9P90Oy</td>\n",
       "      <td>Pal Perreo</td>\n",
       "      <td>Peligrosa</td>\n",
       "    </tr>\n",
       "    <tr>\n",
       "      <th>2</th>\n",
       "      <td>0.830</td>\n",
       "      <td>0.739</td>\n",
       "      <td>7</td>\n",
       "      <td>-5.395</td>\n",
       "      <td>0</td>\n",
       "      <td>0.0627</td>\n",
       "      <td>0.1360</td>\n",
       "      <td>0.000002</td>\n",
       "      <td>0.1620</td>\n",
       "      <td>0.631</td>\n",
       "      <td>97.993</td>\n",
       "      <td>4srcMdbm2qzVG98tJajHxp</td>\n",
       "      <td>Pantysito</td>\n",
       "      <td>Peligrosa</td>\n",
       "    </tr>\n",
       "    <tr>\n",
       "      <th>3</th>\n",
       "      <td>0.834</td>\n",
       "      <td>0.670</td>\n",
       "      <td>0</td>\n",
       "      <td>-4.324</td>\n",
       "      <td>1</td>\n",
       "      <td>0.1480</td>\n",
       "      <td>0.1060</td>\n",
       "      <td>0.000035</td>\n",
       "      <td>0.0836</td>\n",
       "      <td>0.612</td>\n",
       "      <td>97.964</td>\n",
       "      <td>4Z6ucGPXIzZZTN70Q7KQM0</td>\n",
       "      <td>Gatas</td>\n",
       "      <td>Peligrosa</td>\n",
       "    </tr>\n",
       "    <tr>\n",
       "      <th>4</th>\n",
       "      <td>0.826</td>\n",
       "      <td>0.618</td>\n",
       "      <td>10</td>\n",
       "      <td>-4.848</td>\n",
       "      <td>0</td>\n",
       "      <td>0.1060</td>\n",
       "      <td>0.1670</td>\n",
       "      <td>0</td>\n",
       "      <td>0.1140</td>\n",
       "      <td>0.537</td>\n",
       "      <td>87.958</td>\n",
       "      <td>5idykJt11B56B8XdeDg3Tj</td>\n",
       "      <td>Nadie</td>\n",
       "      <td>Peligrosa</td>\n",
       "    </tr>\n",
       "    <tr>\n",
       "      <th>...</th>\n",
       "      <td>...</td>\n",
       "      <td>...</td>\n",
       "      <td>...</td>\n",
       "      <td>...</td>\n",
       "      <td>...</td>\n",
       "      <td>...</td>\n",
       "      <td>...</td>\n",
       "      <td>...</td>\n",
       "      <td>...</td>\n",
       "      <td>...</td>\n",
       "      <td>...</td>\n",
       "      <td>...</td>\n",
       "      <td>...</td>\n",
       "      <td>...</td>\n",
       "    </tr>\n",
       "    <tr>\n",
       "      <th>242</th>\n",
       "      <td>0.646</td>\n",
       "      <td>0.455</td>\n",
       "      <td>6</td>\n",
       "      <td>-9.563</td>\n",
       "      <td>1</td>\n",
       "      <td>0.0309</td>\n",
       "      <td>0.0589</td>\n",
       "      <td>0.747</td>\n",
       "      <td>0.3660</td>\n",
       "      <td>0.423</td>\n",
       "      <td>139.944</td>\n",
       "      <td>2vpKeYpjTmzR4RfrLUYm5n</td>\n",
       "      <td>Azure - Emancipator Remix</td>\n",
       "      <td>Muy Tranquilo</td>\n",
       "    </tr>\n",
       "    <tr>\n",
       "      <th>243</th>\n",
       "      <td>0.663</td>\n",
       "      <td>0.465</td>\n",
       "      <td>11</td>\n",
       "      <td>-11.532</td>\n",
       "      <td>0</td>\n",
       "      <td>0.0300</td>\n",
       "      <td>0.0542</td>\n",
       "      <td>0.945</td>\n",
       "      <td>0.1110</td>\n",
       "      <td>0.271</td>\n",
       "      <td>125.516</td>\n",
       "      <td>7CGhUAQcsn81EVNqCHfxGc</td>\n",
       "      <td>Sea To Sky</td>\n",
       "      <td>Muy Tranquilo</td>\n",
       "    </tr>\n",
       "    <tr>\n",
       "      <th>244</th>\n",
       "      <td>0.712</td>\n",
       "      <td>0.685</td>\n",
       "      <td>11</td>\n",
       "      <td>-8.431</td>\n",
       "      <td>0</td>\n",
       "      <td>0.0340</td>\n",
       "      <td>0.4400</td>\n",
       "      <td>0.865</td>\n",
       "      <td>0.0975</td>\n",
       "      <td>0.059</td>\n",
       "      <td>104.980</td>\n",
       "      <td>3MZoVNwQG5SCfLqGtpbbJt</td>\n",
       "      <td>Sea To Sky - Parra For Cuva Remix</td>\n",
       "      <td>Muy Tranquilo</td>\n",
       "    </tr>\n",
       "    <tr>\n",
       "      <th>245</th>\n",
       "      <td>0.751</td>\n",
       "      <td>0.670</td>\n",
       "      <td>4</td>\n",
       "      <td>-7.883</td>\n",
       "      <td>0</td>\n",
       "      <td>0.0633</td>\n",
       "      <td>0.2390</td>\n",
       "      <td>0.0515</td>\n",
       "      <td>0.4270</td>\n",
       "      <td>0.203</td>\n",
       "      <td>119.998</td>\n",
       "      <td>2Nsz5vf1G6jxQs9JdKkTaT</td>\n",
       "      <td>Sirens</td>\n",
       "      <td>Muy Tranquilo</td>\n",
       "    </tr>\n",
       "    <tr>\n",
       "      <th>246</th>\n",
       "      <td>0.785</td>\n",
       "      <td>0.520</td>\n",
       "      <td>1</td>\n",
       "      <td>-10.747</td>\n",
       "      <td>1</td>\n",
       "      <td>0.0460</td>\n",
       "      <td>0.1250</td>\n",
       "      <td>0.105</td>\n",
       "      <td>0.1100</td>\n",
       "      <td>0.128</td>\n",
       "      <td>120.015</td>\n",
       "      <td>5IgoF2ep6PLLBW29V5Roue</td>\n",
       "      <td>Turning Away</td>\n",
       "      <td>Muy Tranquilo</td>\n",
       "    </tr>\n",
       "  </tbody>\n",
       "</table>\n",
       "<p>247 rows × 14 columns</p>\n",
       "</div>"
      ],
      "text/plain": [
       "     danceability  energy key  loudness mode  speechiness  acousticness  \\\n",
       "0           0.859   0.407   1    -6.317    0       0.0460        0.0990   \n",
       "1           0.902   0.556  11    -4.109    1       0.1720        0.2470   \n",
       "2           0.830   0.739   7    -5.395    0       0.0627        0.1360   \n",
       "3           0.834   0.670   0    -4.324    1       0.1480        0.1060   \n",
       "4           0.826   0.618  10    -4.848    0       0.1060        0.1670   \n",
       "..            ...     ...  ..       ...  ...          ...           ...   \n",
       "242         0.646   0.455   6    -9.563    1       0.0309        0.0589   \n",
       "243         0.663   0.465  11   -11.532    0       0.0300        0.0542   \n",
       "244         0.712   0.685  11    -8.431    0       0.0340        0.4400   \n",
       "245         0.751   0.670   4    -7.883    0       0.0633        0.2390   \n",
       "246         0.785   0.520   1   -10.747    1       0.0460        0.1250   \n",
       "\n",
       "    instrumentalness  liveness  valence    tempo                      id  \\\n",
       "0                  0    0.1750    0.808   88.039  1yihMXFt0zsG86nue7u41U   \n",
       "1                  0    0.0951    0.712   90.037  4jozbMEic7fUM2xH9P90Oy   \n",
       "2           0.000002    0.1620    0.631   97.993  4srcMdbm2qzVG98tJajHxp   \n",
       "3           0.000035    0.0836    0.612   97.964  4Z6ucGPXIzZZTN70Q7KQM0   \n",
       "4                  0    0.1140    0.537   87.958  5idykJt11B56B8XdeDg3Tj   \n",
       "..               ...       ...      ...      ...                     ...   \n",
       "242            0.747    0.3660    0.423  139.944  2vpKeYpjTmzR4RfrLUYm5n   \n",
       "243            0.945    0.1110    0.271  125.516  7CGhUAQcsn81EVNqCHfxGc   \n",
       "244            0.865    0.0975    0.059  104.980  3MZoVNwQG5SCfLqGtpbbJt   \n",
       "245           0.0515    0.4270    0.203  119.998  2Nsz5vf1G6jxQs9JdKkTaT   \n",
       "246            0.105    0.1100    0.128  120.015  5IgoF2ep6PLLBW29V5Roue   \n",
       "\n",
       "                                  name       playlist  \n",
       "0                                 Dime      Peligrosa  \n",
       "1                           Pal Perreo      Peligrosa  \n",
       "2                            Pantysito      Peligrosa  \n",
       "3                                Gatas      Peligrosa  \n",
       "4                                Nadie      Peligrosa  \n",
       "..                                 ...            ...  \n",
       "242          Azure - Emancipator Remix  Muy Tranquilo  \n",
       "243                         Sea To Sky  Muy Tranquilo  \n",
       "244  Sea To Sky - Parra For Cuva Remix  Muy Tranquilo  \n",
       "245                             Sirens  Muy Tranquilo  \n",
       "246                       Turning Away  Muy Tranquilo  \n",
       "\n",
       "[247 rows x 14 columns]"
      ]
     },
     "execution_count": 554,
     "metadata": {},
     "output_type": "execute_result"
    }
   ],
   "source": [
    "df"
   ]
  },
  {
   "cell_type": "markdown",
   "id": "d220d49a",
   "metadata": {},
   "source": [
    "#### Extract 2 components"
   ]
  },
  {
   "cell_type": "code",
   "execution_count": 555,
   "id": "60a66be4",
   "metadata": {},
   "outputs": [],
   "source": [
    "import matplotlib.pyplot as plt\n",
    "import plotly_express as px\n",
    "from plotly.subplots import make_subplots\n",
    "import plotly.graph_objects as go\n",
    "from sklearn.preprocessing import StandardScaler\n",
    "from sklearn.decomposition import PCA\n",
    "from sklearn.cluster import KMeans"
   ]
  },
  {
   "cell_type": "code",
   "execution_count": 556,
   "id": "87224410",
   "metadata": {},
   "outputs": [],
   "source": [
    "cols = ['danceability','energy','loudness','speechiness','acousticness','instrumentalness','liveness',\n",
    "        'valence','tempo']"
   ]
  },
  {
   "cell_type": "code",
   "execution_count": 557,
   "id": "d9a52f59",
   "metadata": {},
   "outputs": [],
   "source": [
    "n_components = 2\n",
    "scaler = StandardScaler()\n",
    "pca = PCA(n_components=n_components)\n",
    "new_features = pd.DataFrame(\n",
    "    pca.fit_transform(scaler.fit_transform(df[cols])),\n",
    "    columns=[f'Feature{i+1}' for i in range(n_components)]\n",
    ")"
   ]
  },
  {
   "cell_type": "code",
   "execution_count": 558,
   "id": "d4c59193",
   "metadata": {},
   "outputs": [],
   "source": [
    "for col in new_features.columns:\n",
    "    df[col] = new_features[col]"
   ]
  },
  {
   "cell_type": "code",
   "execution_count": 559,
   "id": "8abb9ca5",
   "metadata": {},
   "outputs": [],
   "source": [
    "df['color'] = df['playlist'].map(dict(zip(df['playlist'].unique(),['r','g','b','y'])))"
   ]
  },
  {
   "cell_type": "code",
   "execution_count": 560,
   "id": "7ffc1370",
   "metadata": {},
   "outputs": [
    {
     "data": {
      "application/vnd.plotly.v1+json": {
       "config": {
        "plotlyServerURL": "https://plot.ly"
       },
       "data": [
        {
         "customdata": [
          [
           "Dime"
          ],
          [
           "Pal Perreo"
          ],
          [
           "Pantysito"
          ],
          [
           "Gatas"
          ],
          [
           "Nadie"
          ],
          [
           "Sin Ropa (with Ingratax)"
          ],
          [
           "cuatro veinte"
          ],
          [
           "Cucando"
          ],
          [
           "Mojando Asientos (feat. Feid)"
          ],
          [
           "Tendencia Global"
          ],
          [
           "Si Te Interesa"
          ],
          [
           "No Son Horas"
          ],
          [
           "ZONA DEL PERREO"
          ],
          [
           "AGUA"
          ],
          [
           "RUMBATÓN"
          ],
          [
           "Si Quieren Frontear"
          ],
          [
           "TBT"
          ],
          [
           "ALMAS GEMELAS"
          ],
          [
           "Vdp"
          ],
          [
           "BORRAXXA"
          ],
          [
           "Instagram"
          ],
          [
           "Numero 1"
          ],
          [
           "Te Felicito"
          ],
          [
           "Paulo Londra: Bzrp Music Sessions, Vol. 23"
          ],
          [
           "3 Deseos Remix (with Dalex & Eix, feat. Alejo)"
          ],
          [
           "Me Porto Bonito"
          ],
          [
           "Te Mentiría Remix"
          ],
          [
           "NO MIENTEN"
          ],
          [
           "Tarot"
          ],
          [
           "La Triple T"
          ],
          [
           "Sonrisa Falsa (with Sael)"
          ],
          [
           "Hermosa (feat. Daddy Yankee)"
          ],
          [
           "Castigo"
          ],
          [
           "Nota"
          ],
          [
           "Un Momento (with Moffa)"
          ],
          [
           "10 PM"
          ],
          [
           "Maléfica"
          ],
          [
           "Barranquilla Bajo Cero"
          ],
          [
           "OJALÁ"
          ],
          [
           "BORRACHA"
          ],
          [
           "intoxicao"
          ],
          [
           "latin girl"
          ],
          [
           "cielo en la mente"
          ],
          [
           "Nos Comemos (feat. Ozuna)"
          ],
          [
           "La Llevo Al Cielo (Ft. Ñengo Flow)"
          ],
          [
           "Antes de Perderte"
          ],
          [
           "Dile a Tus Amigas"
          ],
          [
           "Ferxxo 100"
          ],
          [
           "Nos Comemos Vivos"
          ],
          [
           "Villano Antillano: Bzrp Music Sessions, Vol. 51"
          ]
         ],
         "hovertemplate": "%{customdata[0]}",
         "legendgroup": "Peligrosa",
         "marker": {
          "color": "#636efa",
          "symbol": "circle"
         },
         "mode": "markers",
         "name": "Peligrosa",
         "orientation": "v",
         "showlegend": true,
         "type": "scatter",
         "x": [
          -0.8427963301656737,
          -1.7000807831013895,
          -1.5449770792029829,
          -1.7984955808233893,
          -1.2047185460355896,
          -0.8295787006978871,
          -1.3614669872870002,
          -1.1618725661519003,
          -1.6003592458060742,
          -1.5666627133656228,
          -1.279233678646901,
          -0.07330516122130294,
          -2.267301017018465,
          -1.1966316091144624,
          -2.3610117488397173,
          -2.213701168607421,
          -1.5830477661754014,
          -1.6037989667568815,
          0.405041186730344,
          -1.6882060682073108,
          -1.4616188812438153,
          -2.3960107464407012,
          -1.4891781952979601,
          -1.0342387780867146,
          -1.3474571253957444,
          -1.5177303236733688,
          -1.8072300816240536,
          -2.3576985530481855,
          -1.0771671183238392,
          -1.2490347783855091,
          -0.4225957409699611,
          -1.663422298283948,
          -1.9169556294498333,
          -0.5216365745735249,
          -0.6109581294954366,
          -1.4197810283812637,
          -2.5270902927931003,
          -2.150749955213622,
          -0.9136825457597422,
          -2.454718426640073,
          -2.134380582655305,
          -0.9751875174616104,
          -1.1125208030320872,
          -1.9786439982779,
          -2.4951088391901846,
          -1.9943297821500854,
          -0.6494417691095952,
          -0.8332230360033652,
          -1.7377742537394243,
          -0.757398811884584
         ],
         "xaxis": "x",
         "y": [
          0.4739226910403744,
          1.105989757511583,
          -0.21121785784046107,
          0.3945872284456066,
          0.12103577484859931,
          0.06526513658928006,
          -0.6143633596224969,
          0.7615685301064494,
          -0.724382127010179,
          0.5973025912375064,
          1.274234050197096,
          0.33751410801927884,
          -0.43521393943107095,
          -0.6872211142598713,
          -0.7299211508400715,
          0.16577755402494643,
          2.4302403912642587,
          -0.2546409096376697,
          0.8259301854902946,
          0.3480843303437796,
          2.349888122408244,
          0.2989828149700039,
          1.9995872892545863,
          -0.8544166267048507,
          -0.4621629096294384,
          -0.3184849970547598,
          -0.6779559585646866,
          0.8930378282815453,
          -1.0475943263438823,
          0.26544019806158226,
          -0.35957613711154157,
          -0.598270081848406,
          1.1094139168209665,
          2.643263118948543,
          0.33544312037096485,
          -0.5601348098415769,
          -0.005586209232825072,
          0.9899846521895006,
          -0.43610646525137314,
          -0.03362427535245739,
          0.27287569410657925,
          1.036926365249426,
          -0.1389071173550252,
          -0.6408676755852557,
          0.5686260076398034,
          0.23648018843433286,
          0.10401146398234573,
          0.3827342824578839,
          -0.325498854019389,
          -0.6711870840761384
         ],
         "yaxis": "y"
        },
        {
         "customdata": [
          [
           "outside"
          ],
          [
           "yes girl"
          ],
          [
           "girlfriend"
          ],
          [
           "repercussions"
          ],
          [
           "My Oh My (feat. DaBaby)"
          ],
          [
           "Señorita"
          ],
          [
           "Never Be the Same"
          ],
          [
           "Havana (feat. Young Thug)"
          ],
          [
           "Real Friends"
          ],
          [
           "This Love"
          ],
          [
           "In the Dark"
          ],
          [
           "Bam Bam (feat. Ed Sheeran)"
          ],
          [
           "Plastic Hearts"
          ],
          [
           "Nothing Breaks Like a Heart (feat. Miley Cyrus)"
          ],
          [
           "We Can't Stop"
          ],
          [
           "Party In The U.S.A."
          ],
          [
           "Love Again"
          ],
          [
           "Pretty Please"
          ],
          [
           "Fever"
          ],
          [
           "Break My Heart"
          ],
          [
           "Don't Start Now"
          ],
          [
           "Levitating (feat. DaBaby)"
          ],
          [
           "Prisoner (feat. Dua Lipa)"
          ],
          [
           "Physical"
          ],
          [
           "We're Good"
          ],
          [
           "Future Nostalgia"
          ],
          [
           "IDGAF"
          ],
          [
           "New Rules"
          ],
          [
           "Hallucinate"
          ],
          [
           "The Climb"
          ],
          [
           "good 4 u"
          ],
          [
           "Try"
          ],
          [
           "The One That Got Away"
          ],
          [
           "The Heart Wants What It Wants"
          ],
          [
           "Love You Like A Love Song"
          ],
          [
           "Who Says"
          ],
          [
           "A Year Without Rain"
          ],
          [
           "Naturally"
          ],
          [
           "Teenage Dream"
          ],
          [
           "Last Friday Night (T.G.I.F.)"
          ],
          [
           "California Gurls"
          ],
          [
           "Firework"
          ],
          [
           "The One That Got Away - Acoustic"
          ],
          [
           "Ready or Not"
          ],
          [
           "Hurricane"
          ],
          [
           "feel something"
          ],
          [
           "like that"
          ]
         ],
         "hovertemplate": "%{customdata[0]}",
         "legendgroup": "popsicle",
         "marker": {
          "color": "#EF553B",
          "symbol": "circle"
         },
         "mode": "markers",
         "name": "popsicle",
         "orientation": "v",
         "showlegend": true,
         "type": "scatter",
         "x": [
          -2.0228451497088313,
          -0.21699301655415054,
          -1.5492214566432791,
          -0.32438307944321404,
          -0.17935936610043124,
          -0.9815509400083768,
          -0.4732687629159685,
          -0.4030870717417193,
          1.0187074774209592,
          1.0377961675603895,
          0.7836913222344947,
          -1.429006523104171,
          -1.1251712288072306,
          -0.47168331068578195,
          -0.3639713176906526,
          -0.9999031089493375,
          -0.9074912213321746,
          -1.3550783232430617,
          -1.2801679275752884,
          -1.2428479113095223,
          -2.100885650997531,
          -2.4331032316183734,
          -1.5988919381055886,
          -2.017374641102227,
          -0.8240779238197508,
          -2.5209461470478614,
          -0.9692878672857629,
          -1.3460432091383845,
          -1.2729901514098068,
          0.7662537386296328,
          -0.7929169771980025,
          -0.5742532611321564,
          -2.1370920080641302,
          -1.2983757559641178,
          -2.2946865432416113,
          -2.3766689928863047,
          -1.0295806748520229,
          -2.0792339641731243,
          -1.6646601615011907,
          -1.7184273093507605,
          -1.599326358486287,
          -1.4004580855306579,
          1.949554684369152,
          -2.2698253004273274,
          -1.6999294523465218,
          1.1766385118623186,
          0.6796198610775299
         ],
         "xaxis": "x",
         "y": [
          1.188927245471305,
          -1.4388232161166115,
          1.342597006882586,
          -0.5865348968375597,
          -0.5261957584615591,
          0.05448274687719549,
          -0.656323757101067,
          -0.38586914080073015,
          2.2716692984965237,
          -0.3417982540962577,
          0.14492481426124734,
          0.08321575988477542,
          -0.1623563836533508,
          -1.3449702650763478,
          -1.0833603057167849,
          -0.9088189452541132,
          -0.7797207061707653,
          1.0833509422855288,
          0.4304471747754985,
          -0.46075060535025353,
          -0.15124767430114497,
          -0.26971066938926624,
          -0.3082723090491002,
          -0.44712008251343677,
          -0.09563403032495808,
          -0.1988907071466294,
          0.09919304062296294,
          -0.25285367472201625,
          0.1814839139308747,
          -0.8885391881414467,
          1.0233576941482783,
          -0.56104035518153,
          -0.3061343616768775,
          -0.9395678288633345,
          0.287710271500816,
          -0.8288764874102051,
          -0.985935693666047,
          -0.3546185487176974,
          -0.7228865592704437,
          -0.9145925402322966,
          -0.7104687161343974,
          -0.45638595264647014,
          0.895117990254704,
          -0.7358373470061349,
          -0.8329861086556076,
          0.04456293858246542,
          -0.7097030101843405
         ],
         "yaxis": "y"
        },
        {
         "customdata": [
          [
           "Jugando a los Sims"
          ],
          [
           "Tu cepillo de dientes"
          ],
          [
           "Tierra Firme"
          ],
          [
           "Cosas De La Vida"
          ],
          [
           "TE FUISTE (feat. Myke Towers)"
          ],
          [
           "Antónimos"
          ],
          [
           "Flaca"
          ],
          [
           "Deseo"
          ],
          [
           "Superman"
          ],
          [
           "Fuera del mercado"
          ],
          [
           "Mereces Menos"
          ],
          [
           "LA DESPEDIDA - Live - Spotify Singles"
          ],
          [
           "Angelito"
          ],
          [
           "Hasta Los Dientes"
          ],
          [
           "No Te Bastó, Mi Corazón"
          ],
          [
           "Nubes"
          ],
          [
           "Nosotros"
          ],
          [
           "828"
          ],
          [
           "ARRANCARMELO"
          ],
          [
           "Robot"
          ],
          [
           "SAKURA"
          ],
          [
           "De Chill (feat. David Otero)"
          ],
          [
           "Bonita"
          ],
          [
           "Funeral"
          ],
          [
           "Amor Con Odio"
          ],
          [
           "Paralizante"
          ],
          [
           "FBI"
          ],
          [
           "besitos, cuídate (Remix)"
          ],
          [
           "Ya acabó - Con Becky G"
          ],
          [
           "3 AMIGAS TUYAS"
          ],
          [
           "Pantalones de pana"
          ],
          [
           "A carta cabal"
          ],
          [
           "Toy Story"
          ],
          [
           "París"
          ],
          [
           "HOOD"
          ],
          [
           "Flores"
          ],
          [
           "Angelito"
          ],
          [
           "Carne y Hueso"
          ],
          [
           "No dejes que pase el tiempo"
          ],
          [
           "la balada"
          ],
          [
           "BANDIDO"
          ],
          [
           "Entre Tejados"
          ],
          [
           "El Cielo Se Me Cayó"
          ],
          [
           "Perdido"
          ],
          [
           "La Bachata"
          ],
          [
           "Muchas Cosas"
          ],
          [
           "mi otra mitad"
          ],
          [
           "TV"
          ],
          [
           "Sigue"
          ],
          [
           "Que Dirá?"
          ]
         ],
         "hovertemplate": "%{customdata[0]}",
         "legendgroup": "pv2",
         "marker": {
          "color": "#00cc96",
          "symbol": "circle"
         },
         "mode": "markers",
         "name": "pv2",
         "orientation": "v",
         "showlegend": true,
         "type": "scatter",
         "x": [
          -0.9876494703238512,
          0.5416911171746028,
          3.000373418507693,
          1.12876466614041,
          -1.9587485070835355,
          -1.6873314347637831,
          -1.462481324043809,
          0.24756276263452215,
          -1.610545470709091,
          0.329661323518095,
          -0.25078209083358316,
          -1.303159286220083,
          -1.2660554335391698,
          -1.963893370779585,
          -0.23355440855113324,
          -1.9001016913974227,
          -0.6470143808390331,
          -0.5192409722468444,
          1.7829469630107824,
          -1.787703354111221,
          4.120394351483363,
          -1.4915586021889613,
          0.08382230691876336,
          -0.9746104377697482,
          -1.9713387190863803,
          -1.4374894998040215,
          -2.3816803892116467,
          -2.10668890767864,
          0.810578207712505,
          0.4407225948628753,
          -0.3261466807802004,
          3.9390004784246977,
          -1.9611540322969785,
          -1.593957518785778,
          0.5416487186051664,
          1.1716669277086245,
          -0.623794673991847,
          2.066575869396489,
          -1.0133589923010657,
          -0.11387069092517622,
          -0.24910709152712152,
          0.7914951346961753,
          -2.2561234801068246,
          0.07132391283299938,
          -1.0220674091792852,
          -0.334654845849185,
          0.46356003647289606,
          -1.133175861893328,
          -0.5395450591447212,
          0.36945831417129676
         ],
         "xaxis": "x",
         "y": [
          -0.05531701352125667,
          0.6083063507521381,
          0.7835623356625208,
          1.0012545503278643,
          1.0623272116850817,
          -0.17734325051334024,
          0.6178846453443657,
          -0.019727590311822425,
          -0.38178546719669215,
          -0.31287688750315473,
          1.4034257590494637,
          -0.24651540161631072,
          2.2224054895457788,
          0.5089607594543596,
          -0.6521705841818328,
          0.5918124600224975,
          0.38409056171822137,
          -0.5255607135639077,
          0.6048302782269981,
          0.32926853365719644,
          0.02253259510056814,
          -1.0176292387093129,
          0.7320836993287609,
          1.4606455293366751,
          1.1675452898980905,
          0.5716030445342205,
          -0.5516607175099135,
          0.13673359052993442,
          1.1202290420154308,
          0.1418730160936128,
          0.4962665990642502,
          -1.0307607145893045,
          0.94861549888019,
          -0.48158290597259085,
          1.015223268111036,
          0.1701976397731357,
          -0.24905837666315142,
          0.6084445307711541,
          -0.6351370099489706,
          0.10411673494263977,
          0.6293031269938686,
          0.2075284119191835,
          -0.05390907564176211,
          -0.08611625885764788,
          0.8120074984180888,
          0.20097320923185086,
          1.1143023393168134,
          0.3444395586808141,
          1.058484248121731,
          0.2993186121852057
         ],
         "yaxis": "y"
        },
        {
         "customdata": [
          [
           "Sleep By Rivers"
          ],
          [
           "Sorry I'm Gone (Feat. Emily Reid)"
          ],
          [
           "Holding On"
          ],
          [
           "Blue Eyes"
          ],
          [
           "Coastline"
          ],
          [
           "Simple Things"
          ],
          [
           "Permanent Way"
          ],
          [
           "Bite"
          ],
          [
           "Lights Off"
          ],
          [
           "Budding Trees"
          ],
          [
           "The Woods - Acoustic"
          ],
          [
           "Emma"
          ],
          [
           "Northern Rivers"
          ],
          [
           "Heart Attack"
          ],
          [
           "Speak Too Soon"
          ],
          [
           "Thinking 'Bout Love"
          ],
          [
           "California"
          ],
          [
           "Rise"
          ],
          [
           "Guaranteed"
          ],
          [
           "Monsters"
          ],
          [
           "To Build A Home"
          ],
          [
           "On My Way"
          ],
          [
           "Already Gone"
          ],
          [
           "Dreams"
          ],
          [
           "San Luis"
          ],
          [
           "letting go"
          ],
          [
           "Clouds (with Sabrina Carpenter)"
          ],
          [
           "Trick To Happy"
          ],
          [
           "Home"
          ],
          [
           "My Silver Lining"
          ],
          [
           "chocolate"
          ],
          [
           "Where's My Love"
          ],
          [
           "Dirty Paws"
          ],
          [
           "Moments"
          ],
          [
           "Butterflies"
          ],
          [
           "Wonderful Life"
          ],
          [
           "Follow Your Arrow"
          ],
          [
           "Morning Breeze"
          ],
          [
           "Until The Morning Light"
          ],
          [
           "I BELIEVE"
          ],
          [
           "Everything To Me"
          ],
          [
           "I'm On Fire"
          ],
          [
           "It Must Have Been Love"
          ],
          [
           "In My Arms"
          ],
          [
           "Feeling You"
          ],
          [
           "3 Rounds and a Sound"
          ],
          [
           "Neon Stars"
          ],
          [
           "Blue (Da Ba Dee)"
          ],
          [
           "gracias a la vida"
          ],
          [
           "Amsterdam - Acoustic"
          ]
         ],
         "hovertemplate": "%{customdata[0]}",
         "legendgroup": "forest walk",
         "marker": {
          "color": "#ab63fa",
          "symbol": "circle"
         },
         "mode": "markers",
         "name": "forest walk",
         "orientation": "v",
         "showlegend": true,
         "type": "scatter",
         "x": [
          1.8126455682613691,
          2.2519355535013434,
          -0.16136313211406272,
          2.594257007068418,
          1.629949260083415,
          2.714659198553433,
          3.303707628743722,
          3.3854443045107754,
          2.6321128153247497,
          0.6731541155886315,
          1.6843211377521545,
          1.2774049471015292,
          2.1561139341882125,
          3.689586600584984,
          1.6279881835074568,
          1.2725121779328927,
          1.43020836622664,
          1.7297700175615232,
          3.113889266132995,
          1.7213897137736704,
          5.647766821454673,
          2.488261713838545,
          3.002805443722257,
          1.2561061980842967,
          3.175317305277197,
          2.4162708995609377,
          0.8929371666887242,
          1.134595814649165,
          3.3289318416209515,
          -0.4538144537502328,
          2.2597426192886227,
          2.6137028606164048,
          1.0214012267349695,
          0.547082750707322,
          -0.08888020898336754,
          0.8758739553304398,
          0.279575837161358,
          2.028359757099493,
          0.8029951188834566,
          1.7617235935208113,
          2.906155695559181,
          3.3864738187644754,
          1.7545344981999154,
          3.468158156061928,
          2.039457162095337,
          3.871754726497531,
          1.7801922454303531,
          2.8080114470903648,
          3.084837783193709,
          3.3347140848213925
         ],
         "xaxis": "x",
         "y": [
          0.6018087586668364,
          1.3112265285957656,
          -0.9591646021824256,
          0.6809511536493114,
          0.5179879088193237,
          1.202656470997587,
          -0.018123845464763352,
          0.4679213124118989,
          1.4569874680499417,
          0.36352611038352994,
          0.09869455288230729,
          -0.9946987144286856,
          0.017959512526416428,
          1.2472310169726173,
          0.9704079934554234,
          0.7904130296115017,
          0.7092692557775536,
          0.45670944476575726,
          0.6542062195860057,
          -0.20264823316147637,
          0.20149644992254417,
          0.516492470866521,
          0.6861854528153084,
          0.9611813999282067,
          -0.08041935670952877,
          1.2131149100094403,
          -0.21183538762956966,
          1.79262868755477,
          1.5651446585604665,
          -1.2831760668469196,
          1.1851125532906108,
          0.9142936975421472,
          -1.3692099858893745,
          -0.7484237611673253,
          -0.22511311938225473,
          0.9976338781185552,
          0.36887851529810195,
          0.11075341001385798,
          1.40866916059922,
          1.972898487290467,
          2.209359720413193,
          0.4038157027531764,
          0.6109825585218741,
          0.7286734623308297,
          -0.3441127532785444,
          0.2877441808400419,
          0.842476438526145,
          1.6386592298135254,
          0.7893113513828729,
          1.1407732844315275
         ],
         "yaxis": "y"
        },
        {
         "customdata": [
          [
           "Kindred Spirit"
          ],
          [
           "Another Night"
          ],
          [
           "Giorgio by Moroder"
          ],
          [
           "Labyrinth"
          ],
          [
           "Fabrics"
          ],
          [
           "Heartstrings (feat. Santana)"
          ],
          [
           "Southern Man"
          ],
          [
           "You Wish"
          ],
          [
           "Heart Beating"
          ],
          [
           "Slow Down (feat. Jorja Smith) - Vintage Culture & Slow Motion Remix"
          ],
          [
           "Time - Alan Walker Remix - Extended Version"
          ],
          [
           "Mesdames"
          ],
          [
           "Sérotonine"
          ],
          [
           "Labyrinth - CloZee Remix"
          ],
          [
           "Himalayan - il:lo Remix"
          ],
          [
           "Colors"
          ],
          [
           "First Snow"
          ],
          [
           "Blue Dream - Koresma Remix"
          ],
          [
           "Tieduprightnow"
          ],
          [
           "Overnight"
          ],
          [
           "Gamesofluck"
          ],
          [
           "Withorwithout"
          ],
          [
           "Older"
          ],
          [
           "Bemyself - from Hansa Studios, Berlin"
          ],
          [
           "Hideout"
          ],
          [
           "Comedown"
          ],
          [
           "Tangerine Sour"
          ],
          [
           "Pharaoh Dunes"
          ],
          [
           "Let Me Down"
          ],
          [
           "Mobius Trip"
          ],
          [
           "Afterglow"
          ],
          [
           "Sandy Phu Quoc Picnic"
          ],
          [
           "Outside"
          ],
          [
           "Slurping Ramen in Tokyo"
          ],
          [
           "Hotel Dining in London"
          ],
          [
           "Home"
          ],
          [
           "The Journey"
          ],
          [
           "Hark"
          ],
          [
           "Go Back Home"
          ],
          [
           "Mohan"
          ],
          [
           "The Ghosts Of Piran"
          ],
          [
           "Just A Scribbler"
          ],
          [
           "Hodlers In Paris"
          ],
          [
           "Más Tranquilo"
          ],
          [
           "Wagmi Express"
          ],
          [
           "Azure - Emancipator Remix"
          ],
          [
           "Sea To Sky"
          ],
          [
           "Sea To Sky - Parra For Cuva Remix"
          ],
          [
           "Sirens"
          ],
          [
           "Turning Away"
          ]
         ],
         "hovertemplate": "%{customdata[0]}",
         "legendgroup": "Muy Tranquilo",
         "marker": {
          "color": "#FFA15A",
          "symbol": "circle"
         },
         "mode": "markers",
         "name": "Muy Tranquilo",
         "orientation": "v",
         "showlegend": true,
         "type": "scatter",
         "x": [
          -0.025091740919415986,
          1.095064909835512,
          0.48767217314025596,
          1.4628787702067179,
          0.30036993038873205,
          -0.7055656943232675,
          -0.3246175158159858,
          2.8351374719018487,
          0.1839794804468379,
          -1.6580198673175977,
          2.4754825369109903,
          2.255429496905783,
          2.3737084653084195,
          1.9265603613265554,
          0.6298304714405664,
          1.5573208871665996,
          3.679158678097783,
          1.0234306891722387,
          -0.5781609009063763,
          -1.0730594277840968,
          -0.6449423962969331,
          0.41217405508504074,
          -1.6561591904951003,
          -0.6228824947599579,
          -0.876976963928658,
          1.003907808838396,
          1.6103442473200786,
          1.5615131453699884,
          -1.2698937861010633,
          2.0245275262707265,
          -0.1411126785811372,
          0.9770524905562057,
          0.9153107276834735,
          0.7887532138681767,
          1.3487590009981454,
          1.3519933296553375,
          2.201980049057066,
          1.3554816107546457,
          0.09108192926519187,
          -0.3236794331909463,
          0.07304628491213024,
          -0.26773740466086515,
          0.19868048253505347,
          0.23249824493170937,
          -2.805961077855924,
          1.3936628387850054,
          1.9483167425340635,
          1.5642648700306108,
          0.29134085210555843,
          0.9977239257367195
         ],
         "xaxis": "x",
         "y": [
          -2.367727928132488,
          -0.309064433824552,
          -1.8312641643385135,
          -2.428974400900644,
          0.44485330135152523,
          0.4563540112699202,
          -0.6936289692832411,
          -1.2584747450214424,
          1.0253099334584828,
          0.5051844779027518,
          -2.643028749869334,
          0.847415338637184,
          3.4257075321262898,
          -2.1151520797558225,
          -3.276390326632264,
          -1.2405681404429074,
          -1.684284709668578,
          -3.1198462916345178,
          0.6633307707664438,
          0.44389911051633735,
          -1.824693505313432,
          -1.3602270346302527,
          0.8292574878090675,
          0.8230467913458902,
          0.3426699142295458,
          0.37119325326150904,
          -1.920533407520667,
          -0.42620519804402673,
          -1.0877933477010282,
          -3.136444702787428,
          0.3196695183026304,
          -1.996891491114837,
          -2.5580399995336025,
          -1.6453488527971922,
          -1.404862355721219,
          -1.4524853425228843,
          -2.0133112991776128,
          -1.6277776491579952,
          -0.7982567000573559,
          3.352304523236378,
          -3.4096790511110173,
          -0.3487561319535802,
          -2.3380030827725453,
          0.8182153316458903,
          1.3100686678773907,
          -2.0537677863638195,
          -2.6066136845571823,
          -2.743955617254225,
          -0.7147666400003372,
          -0.5874476921556795
         ],
         "yaxis": "y"
        }
       ],
       "layout": {
        "legend": {
         "title": {
          "text": "playlist"
         },
         "tracegroupgap": 0
        },
        "margin": {
         "t": 60
        },
        "template": {
         "data": {
          "bar": [
           {
            "error_x": {
             "color": "#2a3f5f"
            },
            "error_y": {
             "color": "#2a3f5f"
            },
            "marker": {
             "line": {
              "color": "#E5ECF6",
              "width": 0.5
             },
             "pattern": {
              "fillmode": "overlay",
              "size": 10,
              "solidity": 0.2
             }
            },
            "type": "bar"
           }
          ],
          "barpolar": [
           {
            "marker": {
             "line": {
              "color": "#E5ECF6",
              "width": 0.5
             },
             "pattern": {
              "fillmode": "overlay",
              "size": 10,
              "solidity": 0.2
             }
            },
            "type": "barpolar"
           }
          ],
          "carpet": [
           {
            "aaxis": {
             "endlinecolor": "#2a3f5f",
             "gridcolor": "white",
             "linecolor": "white",
             "minorgridcolor": "white",
             "startlinecolor": "#2a3f5f"
            },
            "baxis": {
             "endlinecolor": "#2a3f5f",
             "gridcolor": "white",
             "linecolor": "white",
             "minorgridcolor": "white",
             "startlinecolor": "#2a3f5f"
            },
            "type": "carpet"
           }
          ],
          "choropleth": [
           {
            "colorbar": {
             "outlinewidth": 0,
             "ticks": ""
            },
            "type": "choropleth"
           }
          ],
          "contour": [
           {
            "colorbar": {
             "outlinewidth": 0,
             "ticks": ""
            },
            "colorscale": [
             [
              0,
              "#0d0887"
             ],
             [
              0.1111111111111111,
              "#46039f"
             ],
             [
              0.2222222222222222,
              "#7201a8"
             ],
             [
              0.3333333333333333,
              "#9c179e"
             ],
             [
              0.4444444444444444,
              "#bd3786"
             ],
             [
              0.5555555555555556,
              "#d8576b"
             ],
             [
              0.6666666666666666,
              "#ed7953"
             ],
             [
              0.7777777777777778,
              "#fb9f3a"
             ],
             [
              0.8888888888888888,
              "#fdca26"
             ],
             [
              1,
              "#f0f921"
             ]
            ],
            "type": "contour"
           }
          ],
          "contourcarpet": [
           {
            "colorbar": {
             "outlinewidth": 0,
             "ticks": ""
            },
            "type": "contourcarpet"
           }
          ],
          "heatmap": [
           {
            "colorbar": {
             "outlinewidth": 0,
             "ticks": ""
            },
            "colorscale": [
             [
              0,
              "#0d0887"
             ],
             [
              0.1111111111111111,
              "#46039f"
             ],
             [
              0.2222222222222222,
              "#7201a8"
             ],
             [
              0.3333333333333333,
              "#9c179e"
             ],
             [
              0.4444444444444444,
              "#bd3786"
             ],
             [
              0.5555555555555556,
              "#d8576b"
             ],
             [
              0.6666666666666666,
              "#ed7953"
             ],
             [
              0.7777777777777778,
              "#fb9f3a"
             ],
             [
              0.8888888888888888,
              "#fdca26"
             ],
             [
              1,
              "#f0f921"
             ]
            ],
            "type": "heatmap"
           }
          ],
          "heatmapgl": [
           {
            "colorbar": {
             "outlinewidth": 0,
             "ticks": ""
            },
            "colorscale": [
             [
              0,
              "#0d0887"
             ],
             [
              0.1111111111111111,
              "#46039f"
             ],
             [
              0.2222222222222222,
              "#7201a8"
             ],
             [
              0.3333333333333333,
              "#9c179e"
             ],
             [
              0.4444444444444444,
              "#bd3786"
             ],
             [
              0.5555555555555556,
              "#d8576b"
             ],
             [
              0.6666666666666666,
              "#ed7953"
             ],
             [
              0.7777777777777778,
              "#fb9f3a"
             ],
             [
              0.8888888888888888,
              "#fdca26"
             ],
             [
              1,
              "#f0f921"
             ]
            ],
            "type": "heatmapgl"
           }
          ],
          "histogram": [
           {
            "marker": {
             "pattern": {
              "fillmode": "overlay",
              "size": 10,
              "solidity": 0.2
             }
            },
            "type": "histogram"
           }
          ],
          "histogram2d": [
           {
            "colorbar": {
             "outlinewidth": 0,
             "ticks": ""
            },
            "colorscale": [
             [
              0,
              "#0d0887"
             ],
             [
              0.1111111111111111,
              "#46039f"
             ],
             [
              0.2222222222222222,
              "#7201a8"
             ],
             [
              0.3333333333333333,
              "#9c179e"
             ],
             [
              0.4444444444444444,
              "#bd3786"
             ],
             [
              0.5555555555555556,
              "#d8576b"
             ],
             [
              0.6666666666666666,
              "#ed7953"
             ],
             [
              0.7777777777777778,
              "#fb9f3a"
             ],
             [
              0.8888888888888888,
              "#fdca26"
             ],
             [
              1,
              "#f0f921"
             ]
            ],
            "type": "histogram2d"
           }
          ],
          "histogram2dcontour": [
           {
            "colorbar": {
             "outlinewidth": 0,
             "ticks": ""
            },
            "colorscale": [
             [
              0,
              "#0d0887"
             ],
             [
              0.1111111111111111,
              "#46039f"
             ],
             [
              0.2222222222222222,
              "#7201a8"
             ],
             [
              0.3333333333333333,
              "#9c179e"
             ],
             [
              0.4444444444444444,
              "#bd3786"
             ],
             [
              0.5555555555555556,
              "#d8576b"
             ],
             [
              0.6666666666666666,
              "#ed7953"
             ],
             [
              0.7777777777777778,
              "#fb9f3a"
             ],
             [
              0.8888888888888888,
              "#fdca26"
             ],
             [
              1,
              "#f0f921"
             ]
            ],
            "type": "histogram2dcontour"
           }
          ],
          "mesh3d": [
           {
            "colorbar": {
             "outlinewidth": 0,
             "ticks": ""
            },
            "type": "mesh3d"
           }
          ],
          "parcoords": [
           {
            "line": {
             "colorbar": {
              "outlinewidth": 0,
              "ticks": ""
             }
            },
            "type": "parcoords"
           }
          ],
          "pie": [
           {
            "automargin": true,
            "type": "pie"
           }
          ],
          "scatter": [
           {
            "fillpattern": {
             "fillmode": "overlay",
             "size": 10,
             "solidity": 0.2
            },
            "type": "scatter"
           }
          ],
          "scatter3d": [
           {
            "line": {
             "colorbar": {
              "outlinewidth": 0,
              "ticks": ""
             }
            },
            "marker": {
             "colorbar": {
              "outlinewidth": 0,
              "ticks": ""
             }
            },
            "type": "scatter3d"
           }
          ],
          "scattercarpet": [
           {
            "marker": {
             "colorbar": {
              "outlinewidth": 0,
              "ticks": ""
             }
            },
            "type": "scattercarpet"
           }
          ],
          "scattergeo": [
           {
            "marker": {
             "colorbar": {
              "outlinewidth": 0,
              "ticks": ""
             }
            },
            "type": "scattergeo"
           }
          ],
          "scattergl": [
           {
            "marker": {
             "colorbar": {
              "outlinewidth": 0,
              "ticks": ""
             }
            },
            "type": "scattergl"
           }
          ],
          "scattermapbox": [
           {
            "marker": {
             "colorbar": {
              "outlinewidth": 0,
              "ticks": ""
             }
            },
            "type": "scattermapbox"
           }
          ],
          "scatterpolar": [
           {
            "marker": {
             "colorbar": {
              "outlinewidth": 0,
              "ticks": ""
             }
            },
            "type": "scatterpolar"
           }
          ],
          "scatterpolargl": [
           {
            "marker": {
             "colorbar": {
              "outlinewidth": 0,
              "ticks": ""
             }
            },
            "type": "scatterpolargl"
           }
          ],
          "scatterternary": [
           {
            "marker": {
             "colorbar": {
              "outlinewidth": 0,
              "ticks": ""
             }
            },
            "type": "scatterternary"
           }
          ],
          "surface": [
           {
            "colorbar": {
             "outlinewidth": 0,
             "ticks": ""
            },
            "colorscale": [
             [
              0,
              "#0d0887"
             ],
             [
              0.1111111111111111,
              "#46039f"
             ],
             [
              0.2222222222222222,
              "#7201a8"
             ],
             [
              0.3333333333333333,
              "#9c179e"
             ],
             [
              0.4444444444444444,
              "#bd3786"
             ],
             [
              0.5555555555555556,
              "#d8576b"
             ],
             [
              0.6666666666666666,
              "#ed7953"
             ],
             [
              0.7777777777777778,
              "#fb9f3a"
             ],
             [
              0.8888888888888888,
              "#fdca26"
             ],
             [
              1,
              "#f0f921"
             ]
            ],
            "type": "surface"
           }
          ],
          "table": [
           {
            "cells": {
             "fill": {
              "color": "#EBF0F8"
             },
             "line": {
              "color": "white"
             }
            },
            "header": {
             "fill": {
              "color": "#C8D4E3"
             },
             "line": {
              "color": "white"
             }
            },
            "type": "table"
           }
          ]
         },
         "layout": {
          "annotationdefaults": {
           "arrowcolor": "#2a3f5f",
           "arrowhead": 0,
           "arrowwidth": 1
          },
          "autotypenumbers": "strict",
          "coloraxis": {
           "colorbar": {
            "outlinewidth": 0,
            "ticks": ""
           }
          },
          "colorscale": {
           "diverging": [
            [
             0,
             "#8e0152"
            ],
            [
             0.1,
             "#c51b7d"
            ],
            [
             0.2,
             "#de77ae"
            ],
            [
             0.3,
             "#f1b6da"
            ],
            [
             0.4,
             "#fde0ef"
            ],
            [
             0.5,
             "#f7f7f7"
            ],
            [
             0.6,
             "#e6f5d0"
            ],
            [
             0.7,
             "#b8e186"
            ],
            [
             0.8,
             "#7fbc41"
            ],
            [
             0.9,
             "#4d9221"
            ],
            [
             1,
             "#276419"
            ]
           ],
           "sequential": [
            [
             0,
             "#0d0887"
            ],
            [
             0.1111111111111111,
             "#46039f"
            ],
            [
             0.2222222222222222,
             "#7201a8"
            ],
            [
             0.3333333333333333,
             "#9c179e"
            ],
            [
             0.4444444444444444,
             "#bd3786"
            ],
            [
             0.5555555555555556,
             "#d8576b"
            ],
            [
             0.6666666666666666,
             "#ed7953"
            ],
            [
             0.7777777777777778,
             "#fb9f3a"
            ],
            [
             0.8888888888888888,
             "#fdca26"
            ],
            [
             1,
             "#f0f921"
            ]
           ],
           "sequentialminus": [
            [
             0,
             "#0d0887"
            ],
            [
             0.1111111111111111,
             "#46039f"
            ],
            [
             0.2222222222222222,
             "#7201a8"
            ],
            [
             0.3333333333333333,
             "#9c179e"
            ],
            [
             0.4444444444444444,
             "#bd3786"
            ],
            [
             0.5555555555555556,
             "#d8576b"
            ],
            [
             0.6666666666666666,
             "#ed7953"
            ],
            [
             0.7777777777777778,
             "#fb9f3a"
            ],
            [
             0.8888888888888888,
             "#fdca26"
            ],
            [
             1,
             "#f0f921"
            ]
           ]
          },
          "colorway": [
           "#636efa",
           "#EF553B",
           "#00cc96",
           "#ab63fa",
           "#FFA15A",
           "#19d3f3",
           "#FF6692",
           "#B6E880",
           "#FF97FF",
           "#FECB52"
          ],
          "font": {
           "color": "#2a3f5f"
          },
          "geo": {
           "bgcolor": "white",
           "lakecolor": "white",
           "landcolor": "#E5ECF6",
           "showlakes": true,
           "showland": true,
           "subunitcolor": "white"
          },
          "hoverlabel": {
           "align": "left"
          },
          "hovermode": "closest",
          "mapbox": {
           "style": "light"
          },
          "paper_bgcolor": "white",
          "plot_bgcolor": "#E5ECF6",
          "polar": {
           "angularaxis": {
            "gridcolor": "white",
            "linecolor": "white",
            "ticks": ""
           },
           "bgcolor": "#E5ECF6",
           "radialaxis": {
            "gridcolor": "white",
            "linecolor": "white",
            "ticks": ""
           }
          },
          "scene": {
           "xaxis": {
            "backgroundcolor": "#E5ECF6",
            "gridcolor": "white",
            "gridwidth": 2,
            "linecolor": "white",
            "showbackground": true,
            "ticks": "",
            "zerolinecolor": "white"
           },
           "yaxis": {
            "backgroundcolor": "#E5ECF6",
            "gridcolor": "white",
            "gridwidth": 2,
            "linecolor": "white",
            "showbackground": true,
            "ticks": "",
            "zerolinecolor": "white"
           },
           "zaxis": {
            "backgroundcolor": "#E5ECF6",
            "gridcolor": "white",
            "gridwidth": 2,
            "linecolor": "white",
            "showbackground": true,
            "ticks": "",
            "zerolinecolor": "white"
           }
          },
          "shapedefaults": {
           "line": {
            "color": "#2a3f5f"
           }
          },
          "ternary": {
           "aaxis": {
            "gridcolor": "white",
            "linecolor": "white",
            "ticks": ""
           },
           "baxis": {
            "gridcolor": "white",
            "linecolor": "white",
            "ticks": ""
           },
           "bgcolor": "#E5ECF6",
           "caxis": {
            "gridcolor": "white",
            "linecolor": "white",
            "ticks": ""
           }
          },
          "title": {
           "x": 0.05
          },
          "xaxis": {
           "automargin": true,
           "gridcolor": "white",
           "linecolor": "white",
           "ticks": "",
           "title": {
            "standoff": 15
           },
           "zerolinecolor": "white",
           "zerolinewidth": 2
          },
          "yaxis": {
           "automargin": true,
           "gridcolor": "white",
           "linecolor": "white",
           "ticks": "",
           "title": {
            "standoff": 15
           },
           "zerolinecolor": "white",
           "zerolinewidth": 2
          }
         }
        },
        "xaxis": {
         "anchor": "y",
         "domain": [
          0,
          1
         ],
         "title": {
          "text": "Feature1"
         }
        },
        "yaxis": {
         "anchor": "x",
         "domain": [
          0,
          1
         ],
         "title": {
          "text": "Feature2"
         }
        }
       }
      },
      "text/html": [
       "<div>                            <div id=\"d58d71c3-c86f-4eb2-a228-f1f65bf6f12f\" class=\"plotly-graph-div\" style=\"height:525px; width:100%;\"></div>            <script type=\"text/javascript\">                require([\"plotly\"], function(Plotly) {                    window.PLOTLYENV=window.PLOTLYENV || {};                                    if (document.getElementById(\"d58d71c3-c86f-4eb2-a228-f1f65bf6f12f\")) {                    Plotly.newPlot(                        \"d58d71c3-c86f-4eb2-a228-f1f65bf6f12f\",                        [{\"customdata\":[[\"Dime\"],[\"Pal Perreo\"],[\"Pantysito\"],[\"Gatas\"],[\"Nadie\"],[\"Sin Ropa (with Ingratax)\"],[\"cuatro veinte\"],[\"Cucando\"],[\"Mojando Asientos (feat. Feid)\"],[\"Tendencia Global\"],[\"Si Te Interesa\"],[\"No Son Horas\"],[\"ZONA DEL PERREO\"],[\"AGUA\"],[\"RUMBAT\\u00d3N\"],[\"Si Quieren Frontear\"],[\"TBT\"],[\"ALMAS GEMELAS\"],[\"Vdp\"],[\"BORRAXXA\"],[\"Instagram\"],[\"Numero 1\"],[\"Te Felicito\"],[\"Paulo Londra: Bzrp Music Sessions, Vol. 23\"],[\"3 Deseos Remix (with Dalex & Eix, feat. Alejo)\"],[\"Me Porto Bonito\"],[\"Te Mentir\\u00eda Remix\"],[\"NO MIENTEN\"],[\"Tarot\"],[\"La Triple T\"],[\"Sonrisa Falsa (with Sael)\"],[\"Hermosa (feat. Daddy Yankee)\"],[\"Castigo\"],[\"Nota\"],[\"Un Momento (with Moffa)\"],[\"10 PM\"],[\"Mal\\u00e9fica\"],[\"Barranquilla Bajo Cero\"],[\"OJAL\\u00c1\"],[\"BORRACHA\"],[\"intoxicao\"],[\"latin girl\"],[\"cielo en la mente\"],[\"Nos Comemos (feat. Ozuna)\"],[\"La Llevo Al Cielo (Ft. \\u00d1engo Flow)\"],[\"Antes de Perderte\"],[\"Dile a Tus Amigas\"],[\"Ferxxo 100\"],[\"Nos Comemos Vivos\"],[\"Villano Antillano: Bzrp Music Sessions, Vol. 51\"]],\"hovertemplate\":\"%{customdata[0]}\",\"legendgroup\":\"Peligrosa\",\"marker\":{\"color\":\"#636efa\",\"symbol\":\"circle\"},\"mode\":\"markers\",\"name\":\"Peligrosa\",\"orientation\":\"v\",\"showlegend\":true,\"x\":[-0.8427963301656737,-1.7000807831013895,-1.5449770792029829,-1.7984955808233893,-1.2047185460355896,-0.8295787006978871,-1.3614669872870002,-1.1618725661519003,-1.6003592458060742,-1.5666627133656228,-1.279233678646901,-0.07330516122130294,-2.267301017018465,-1.1966316091144624,-2.3610117488397173,-2.213701168607421,-1.5830477661754014,-1.6037989667568815,0.405041186730344,-1.6882060682073108,-1.4616188812438153,-2.3960107464407012,-1.4891781952979601,-1.0342387780867146,-1.3474571253957444,-1.5177303236733688,-1.8072300816240536,-2.3576985530481855,-1.0771671183238392,-1.2490347783855091,-0.4225957409699611,-1.663422298283948,-1.9169556294498333,-0.5216365745735249,-0.6109581294954366,-1.4197810283812637,-2.5270902927931003,-2.150749955213622,-0.9136825457597422,-2.454718426640073,-2.134380582655305,-0.9751875174616104,-1.1125208030320872,-1.9786439982779,-2.4951088391901846,-1.9943297821500854,-0.6494417691095952,-0.8332230360033652,-1.7377742537394243,-0.757398811884584],\"xaxis\":\"x\",\"y\":[0.4739226910403744,1.105989757511583,-0.21121785784046107,0.3945872284456066,0.12103577484859931,0.06526513658928006,-0.6143633596224969,0.7615685301064494,-0.724382127010179,0.5973025912375064,1.274234050197096,0.33751410801927884,-0.43521393943107095,-0.6872211142598713,-0.7299211508400715,0.16577755402494643,2.4302403912642587,-0.2546409096376697,0.8259301854902946,0.3480843303437796,2.349888122408244,0.2989828149700039,1.9995872892545863,-0.8544166267048507,-0.4621629096294384,-0.3184849970547598,-0.6779559585646866,0.8930378282815453,-1.0475943263438823,0.26544019806158226,-0.35957613711154157,-0.598270081848406,1.1094139168209665,2.643263118948543,0.33544312037096485,-0.5601348098415769,-0.005586209232825072,0.9899846521895006,-0.43610646525137314,-0.03362427535245739,0.27287569410657925,1.036926365249426,-0.1389071173550252,-0.6408676755852557,0.5686260076398034,0.23648018843433286,0.10401146398234573,0.3827342824578839,-0.325498854019389,-0.6711870840761384],\"yaxis\":\"y\",\"type\":\"scatter\"},{\"customdata\":[[\"outside\"],[\"yes girl\"],[\"girlfriend\"],[\"repercussions\"],[\"My Oh My (feat. DaBaby)\"],[\"Se\\u00f1orita\"],[\"Never Be the Same\"],[\"Havana (feat. Young Thug)\"],[\"Real Friends\"],[\"This Love\"],[\"In the Dark\"],[\"Bam Bam (feat. Ed Sheeran)\"],[\"Plastic Hearts\"],[\"Nothing Breaks Like a Heart (feat. Miley Cyrus)\"],[\"We Can't Stop\"],[\"Party In The U.S.A.\"],[\"Love Again\"],[\"Pretty Please\"],[\"Fever\"],[\"Break My Heart\"],[\"Don't Start Now\"],[\"Levitating (feat. DaBaby)\"],[\"Prisoner (feat. Dua Lipa)\"],[\"Physical\"],[\"We're Good\"],[\"Future Nostalgia\"],[\"IDGAF\"],[\"New Rules\"],[\"Hallucinate\"],[\"The Climb\"],[\"good 4 u\"],[\"Try\"],[\"The One That Got Away\"],[\"The Heart Wants What It Wants\"],[\"Love You Like A Love Song\"],[\"Who Says\"],[\"A Year Without Rain\"],[\"Naturally\"],[\"Teenage Dream\"],[\"Last Friday Night (T.G.I.F.)\"],[\"California Gurls\"],[\"Firework\"],[\"The One That Got Away - Acoustic\"],[\"Ready or Not\"],[\"Hurricane\"],[\"feel something\"],[\"like that\"]],\"hovertemplate\":\"%{customdata[0]}\",\"legendgroup\":\"popsicle\",\"marker\":{\"color\":\"#EF553B\",\"symbol\":\"circle\"},\"mode\":\"markers\",\"name\":\"popsicle\",\"orientation\":\"v\",\"showlegend\":true,\"x\":[-2.0228451497088313,-0.21699301655415054,-1.5492214566432791,-0.32438307944321404,-0.17935936610043124,-0.9815509400083768,-0.4732687629159685,-0.4030870717417193,1.0187074774209592,1.0377961675603895,0.7836913222344947,-1.429006523104171,-1.1251712288072306,-0.47168331068578195,-0.3639713176906526,-0.9999031089493375,-0.9074912213321746,-1.3550783232430617,-1.2801679275752884,-1.2428479113095223,-2.100885650997531,-2.4331032316183734,-1.5988919381055886,-2.017374641102227,-0.8240779238197508,-2.5209461470478614,-0.9692878672857629,-1.3460432091383845,-1.2729901514098068,0.7662537386296328,-0.7929169771980025,-0.5742532611321564,-2.1370920080641302,-1.2983757559641178,-2.2946865432416113,-2.3766689928863047,-1.0295806748520229,-2.0792339641731243,-1.6646601615011907,-1.7184273093507605,-1.599326358486287,-1.4004580855306579,1.949554684369152,-2.2698253004273274,-1.6999294523465218,1.1766385118623186,0.6796198610775299],\"xaxis\":\"x\",\"y\":[1.188927245471305,-1.4388232161166115,1.342597006882586,-0.5865348968375597,-0.5261957584615591,0.05448274687719549,-0.656323757101067,-0.38586914080073015,2.2716692984965237,-0.3417982540962577,0.14492481426124734,0.08321575988477542,-0.1623563836533508,-1.3449702650763478,-1.0833603057167849,-0.9088189452541132,-0.7797207061707653,1.0833509422855288,0.4304471747754985,-0.46075060535025353,-0.15124767430114497,-0.26971066938926624,-0.3082723090491002,-0.44712008251343677,-0.09563403032495808,-0.1988907071466294,0.09919304062296294,-0.25285367472201625,0.1814839139308747,-0.8885391881414467,1.0233576941482783,-0.56104035518153,-0.3061343616768775,-0.9395678288633345,0.287710271500816,-0.8288764874102051,-0.985935693666047,-0.3546185487176974,-0.7228865592704437,-0.9145925402322966,-0.7104687161343974,-0.45638595264647014,0.895117990254704,-0.7358373470061349,-0.8329861086556076,0.04456293858246542,-0.7097030101843405],\"yaxis\":\"y\",\"type\":\"scatter\"},{\"customdata\":[[\"Jugando a los Sims\"],[\"Tu cepillo de dientes\"],[\"Tierra Firme\"],[\"Cosas De La Vida\"],[\"TE FUISTE (feat. Myke Towers)\"],[\"Ant\\u00f3nimos\"],[\"Flaca\"],[\"Deseo\"],[\"Superman\"],[\"Fuera del mercado\"],[\"Mereces Menos\"],[\"LA DESPEDIDA - Live - Spotify Singles\"],[\"Angelito\"],[\"Hasta Los Dientes\"],[\"No Te Bast\\u00f3, Mi Coraz\\u00f3n\"],[\"Nubes\"],[\"Nosotros\"],[\"828\"],[\"ARRANCARMELO\"],[\"Robot\"],[\"SAKURA\"],[\"De Chill (feat. David Otero)\"],[\"Bonita\"],[\"Funeral\"],[\"Amor Con Odio\"],[\"Paralizante\"],[\"FBI\"],[\"besitos, cu\\u00eddate (Remix)\"],[\"Ya acab\\u00f3 - Con Becky G\"],[\"3 AMIGAS TUYAS\"],[\"Pantalones de pana\"],[\"A carta cabal\"],[\"Toy Story\"],[\"Par\\u00eds\"],[\"HOOD\"],[\"Flores\"],[\"Angelito\"],[\"Carne y Hueso\"],[\"No dejes que pase el tiempo\"],[\"la balada\"],[\"BANDIDO\"],[\"Entre Tejados\"],[\"El Cielo Se Me Cay\\u00f3\"],[\"Perdido\"],[\"La Bachata\"],[\"Muchas Cosas\"],[\"mi otra mitad\"],[\"TV\"],[\"Sigue\"],[\"Que Dir\\u00e1?\"]],\"hovertemplate\":\"%{customdata[0]}\",\"legendgroup\":\"pv2\",\"marker\":{\"color\":\"#00cc96\",\"symbol\":\"circle\"},\"mode\":\"markers\",\"name\":\"pv2\",\"orientation\":\"v\",\"showlegend\":true,\"x\":[-0.9876494703238512,0.5416911171746028,3.000373418507693,1.12876466614041,-1.9587485070835355,-1.6873314347637831,-1.462481324043809,0.24756276263452215,-1.610545470709091,0.329661323518095,-0.25078209083358316,-1.303159286220083,-1.2660554335391698,-1.963893370779585,-0.23355440855113324,-1.9001016913974227,-0.6470143808390331,-0.5192409722468444,1.7829469630107824,-1.787703354111221,4.120394351483363,-1.4915586021889613,0.08382230691876336,-0.9746104377697482,-1.9713387190863803,-1.4374894998040215,-2.3816803892116467,-2.10668890767864,0.810578207712505,0.4407225948628753,-0.3261466807802004,3.9390004784246977,-1.9611540322969785,-1.593957518785778,0.5416487186051664,1.1716669277086245,-0.623794673991847,2.066575869396489,-1.0133589923010657,-0.11387069092517622,-0.24910709152712152,0.7914951346961753,-2.2561234801068246,0.07132391283299938,-1.0220674091792852,-0.334654845849185,0.46356003647289606,-1.133175861893328,-0.5395450591447212,0.36945831417129676],\"xaxis\":\"x\",\"y\":[-0.05531701352125667,0.6083063507521381,0.7835623356625208,1.0012545503278643,1.0623272116850817,-0.17734325051334024,0.6178846453443657,-0.019727590311822425,-0.38178546719669215,-0.31287688750315473,1.4034257590494637,-0.24651540161631072,2.2224054895457788,0.5089607594543596,-0.6521705841818328,0.5918124600224975,0.38409056171822137,-0.5255607135639077,0.6048302782269981,0.32926853365719644,0.02253259510056814,-1.0176292387093129,0.7320836993287609,1.4606455293366751,1.1675452898980905,0.5716030445342205,-0.5516607175099135,0.13673359052993442,1.1202290420154308,0.1418730160936128,0.4962665990642502,-1.0307607145893045,0.94861549888019,-0.48158290597259085,1.015223268111036,0.1701976397731357,-0.24905837666315142,0.6084445307711541,-0.6351370099489706,0.10411673494263977,0.6293031269938686,0.2075284119191835,-0.05390907564176211,-0.08611625885764788,0.8120074984180888,0.20097320923185086,1.1143023393168134,0.3444395586808141,1.058484248121731,0.2993186121852057],\"yaxis\":\"y\",\"type\":\"scatter\"},{\"customdata\":[[\"Sleep By Rivers\"],[\"Sorry I'm Gone (Feat. Emily Reid)\"],[\"Holding On\"],[\"Blue Eyes\"],[\"Coastline\"],[\"Simple Things\"],[\"Permanent Way\"],[\"Bite\"],[\"Lights Off\"],[\"Budding Trees\"],[\"The Woods - Acoustic\"],[\"Emma\"],[\"Northern Rivers\"],[\"Heart Attack\"],[\"Speak Too Soon\"],[\"Thinking 'Bout Love\"],[\"California\"],[\"Rise\"],[\"Guaranteed\"],[\"Monsters\"],[\"To Build A Home\"],[\"On My Way\"],[\"Already Gone\"],[\"Dreams\"],[\"San Luis\"],[\"letting go\"],[\"Clouds (with Sabrina Carpenter)\"],[\"Trick To Happy\"],[\"Home\"],[\"My Silver Lining\"],[\"chocolate\"],[\"Where's My Love\"],[\"Dirty Paws\"],[\"Moments\"],[\"Butterflies\"],[\"Wonderful Life\"],[\"Follow Your Arrow\"],[\"Morning Breeze\"],[\"Until The Morning Light\"],[\"I BELIEVE\"],[\"Everything To Me\"],[\"I'm On Fire\"],[\"It Must Have Been Love\"],[\"In My Arms\"],[\"Feeling You\"],[\"3 Rounds and a Sound\"],[\"Neon Stars\"],[\"Blue (Da Ba Dee)\"],[\"gracias a la vida\"],[\"Amsterdam - Acoustic\"]],\"hovertemplate\":\"%{customdata[0]}\",\"legendgroup\":\"forest walk\",\"marker\":{\"color\":\"#ab63fa\",\"symbol\":\"circle\"},\"mode\":\"markers\",\"name\":\"forest walk\",\"orientation\":\"v\",\"showlegend\":true,\"x\":[1.8126455682613691,2.2519355535013434,-0.16136313211406272,2.594257007068418,1.629949260083415,2.714659198553433,3.303707628743722,3.3854443045107754,2.6321128153247497,0.6731541155886315,1.6843211377521545,1.2774049471015292,2.1561139341882125,3.689586600584984,1.6279881835074568,1.2725121779328927,1.43020836622664,1.7297700175615232,3.113889266132995,1.7213897137736704,5.647766821454673,2.488261713838545,3.002805443722257,1.2561061980842967,3.175317305277197,2.4162708995609377,0.8929371666887242,1.134595814649165,3.3289318416209515,-0.4538144537502328,2.2597426192886227,2.6137028606164048,1.0214012267349695,0.547082750707322,-0.08888020898336754,0.8758739553304398,0.279575837161358,2.028359757099493,0.8029951188834566,1.7617235935208113,2.906155695559181,3.3864738187644754,1.7545344981999154,3.468158156061928,2.039457162095337,3.871754726497531,1.7801922454303531,2.8080114470903648,3.084837783193709,3.3347140848213925],\"xaxis\":\"x\",\"y\":[0.6018087586668364,1.3112265285957656,-0.9591646021824256,0.6809511536493114,0.5179879088193237,1.202656470997587,-0.018123845464763352,0.4679213124118989,1.4569874680499417,0.36352611038352994,0.09869455288230729,-0.9946987144286856,0.017959512526416428,1.2472310169726173,0.9704079934554234,0.7904130296115017,0.7092692557775536,0.45670944476575726,0.6542062195860057,-0.20264823316147637,0.20149644992254417,0.516492470866521,0.6861854528153084,0.9611813999282067,-0.08041935670952877,1.2131149100094403,-0.21183538762956966,1.79262868755477,1.5651446585604665,-1.2831760668469196,1.1851125532906108,0.9142936975421472,-1.3692099858893745,-0.7484237611673253,-0.22511311938225473,0.9976338781185552,0.36887851529810195,0.11075341001385798,1.40866916059922,1.972898487290467,2.209359720413193,0.4038157027531764,0.6109825585218741,0.7286734623308297,-0.3441127532785444,0.2877441808400419,0.842476438526145,1.6386592298135254,0.7893113513828729,1.1407732844315275],\"yaxis\":\"y\",\"type\":\"scatter\"},{\"customdata\":[[\"Kindred Spirit\"],[\"Another Night\"],[\"Giorgio by Moroder\"],[\"Labyrinth\"],[\"Fabrics\"],[\"Heartstrings (feat. Santana)\"],[\"Southern Man\"],[\"You Wish\"],[\"Heart Beating\"],[\"Slow Down (feat. Jorja Smith) - Vintage Culture & Slow Motion Remix\"],[\"Time - Alan Walker Remix - Extended Version\"],[\"Mesdames\"],[\"S\\u00e9rotonine\"],[\"Labyrinth - CloZee Remix\"],[\"Himalayan - il:lo Remix\"],[\"Colors\"],[\"First Snow\"],[\"Blue Dream - Koresma Remix\"],[\"Tieduprightnow\"],[\"Overnight\"],[\"Gamesofluck\"],[\"Withorwithout\"],[\"Older\"],[\"Bemyself - from Hansa Studios, Berlin\"],[\"Hideout\"],[\"Comedown\"],[\"Tangerine Sour\"],[\"Pharaoh Dunes\"],[\"Let Me Down\"],[\"Mobius Trip\"],[\"Afterglow\"],[\"Sandy Phu Quoc Picnic\"],[\"Outside\"],[\"Slurping Ramen in Tokyo\"],[\"Hotel Dining in London\"],[\"Home\"],[\"The Journey\"],[\"Hark\"],[\"Go Back Home\"],[\"Mohan\"],[\"The Ghosts Of Piran\"],[\"Just A Scribbler\"],[\"Hodlers In Paris\"],[\"M\\u00e1s Tranquilo\"],[\"Wagmi Express\"],[\"Azure - Emancipator Remix\"],[\"Sea To Sky\"],[\"Sea To Sky - Parra For Cuva Remix\"],[\"Sirens\"],[\"Turning Away\"]],\"hovertemplate\":\"%{customdata[0]}\",\"legendgroup\":\"Muy Tranquilo\",\"marker\":{\"color\":\"#FFA15A\",\"symbol\":\"circle\"},\"mode\":\"markers\",\"name\":\"Muy Tranquilo\",\"orientation\":\"v\",\"showlegend\":true,\"x\":[-0.025091740919415986,1.095064909835512,0.48767217314025596,1.4628787702067179,0.30036993038873205,-0.7055656943232675,-0.3246175158159858,2.8351374719018487,0.1839794804468379,-1.6580198673175977,2.4754825369109903,2.255429496905783,2.3737084653084195,1.9265603613265554,0.6298304714405664,1.5573208871665996,3.679158678097783,1.0234306891722387,-0.5781609009063763,-1.0730594277840968,-0.6449423962969331,0.41217405508504074,-1.6561591904951003,-0.6228824947599579,-0.876976963928658,1.003907808838396,1.6103442473200786,1.5615131453699884,-1.2698937861010633,2.0245275262707265,-0.1411126785811372,0.9770524905562057,0.9153107276834735,0.7887532138681767,1.3487590009981454,1.3519933296553375,2.201980049057066,1.3554816107546457,0.09108192926519187,-0.3236794331909463,0.07304628491213024,-0.26773740466086515,0.19868048253505347,0.23249824493170937,-2.805961077855924,1.3936628387850054,1.9483167425340635,1.5642648700306108,0.29134085210555843,0.9977239257367195],\"xaxis\":\"x\",\"y\":[-2.367727928132488,-0.309064433824552,-1.8312641643385135,-2.428974400900644,0.44485330135152523,0.4563540112699202,-0.6936289692832411,-1.2584747450214424,1.0253099334584828,0.5051844779027518,-2.643028749869334,0.847415338637184,3.4257075321262898,-2.1151520797558225,-3.276390326632264,-1.2405681404429074,-1.684284709668578,-3.1198462916345178,0.6633307707664438,0.44389911051633735,-1.824693505313432,-1.3602270346302527,0.8292574878090675,0.8230467913458902,0.3426699142295458,0.37119325326150904,-1.920533407520667,-0.42620519804402673,-1.0877933477010282,-3.136444702787428,0.3196695183026304,-1.996891491114837,-2.5580399995336025,-1.6453488527971922,-1.404862355721219,-1.4524853425228843,-2.0133112991776128,-1.6277776491579952,-0.7982567000573559,3.352304523236378,-3.4096790511110173,-0.3487561319535802,-2.3380030827725453,0.8182153316458903,1.3100686678773907,-2.0537677863638195,-2.6066136845571823,-2.743955617254225,-0.7147666400003372,-0.5874476921556795],\"yaxis\":\"y\",\"type\":\"scatter\"}],                        {\"template\":{\"data\":{\"histogram2dcontour\":[{\"type\":\"histogram2dcontour\",\"colorbar\":{\"outlinewidth\":0,\"ticks\":\"\"},\"colorscale\":[[0.0,\"#0d0887\"],[0.1111111111111111,\"#46039f\"],[0.2222222222222222,\"#7201a8\"],[0.3333333333333333,\"#9c179e\"],[0.4444444444444444,\"#bd3786\"],[0.5555555555555556,\"#d8576b\"],[0.6666666666666666,\"#ed7953\"],[0.7777777777777778,\"#fb9f3a\"],[0.8888888888888888,\"#fdca26\"],[1.0,\"#f0f921\"]]}],\"choropleth\":[{\"type\":\"choropleth\",\"colorbar\":{\"outlinewidth\":0,\"ticks\":\"\"}}],\"histogram2d\":[{\"type\":\"histogram2d\",\"colorbar\":{\"outlinewidth\":0,\"ticks\":\"\"},\"colorscale\":[[0.0,\"#0d0887\"],[0.1111111111111111,\"#46039f\"],[0.2222222222222222,\"#7201a8\"],[0.3333333333333333,\"#9c179e\"],[0.4444444444444444,\"#bd3786\"],[0.5555555555555556,\"#d8576b\"],[0.6666666666666666,\"#ed7953\"],[0.7777777777777778,\"#fb9f3a\"],[0.8888888888888888,\"#fdca26\"],[1.0,\"#f0f921\"]]}],\"heatmap\":[{\"type\":\"heatmap\",\"colorbar\":{\"outlinewidth\":0,\"ticks\":\"\"},\"colorscale\":[[0.0,\"#0d0887\"],[0.1111111111111111,\"#46039f\"],[0.2222222222222222,\"#7201a8\"],[0.3333333333333333,\"#9c179e\"],[0.4444444444444444,\"#bd3786\"],[0.5555555555555556,\"#d8576b\"],[0.6666666666666666,\"#ed7953\"],[0.7777777777777778,\"#fb9f3a\"],[0.8888888888888888,\"#fdca26\"],[1.0,\"#f0f921\"]]}],\"heatmapgl\":[{\"type\":\"heatmapgl\",\"colorbar\":{\"outlinewidth\":0,\"ticks\":\"\"},\"colorscale\":[[0.0,\"#0d0887\"],[0.1111111111111111,\"#46039f\"],[0.2222222222222222,\"#7201a8\"],[0.3333333333333333,\"#9c179e\"],[0.4444444444444444,\"#bd3786\"],[0.5555555555555556,\"#d8576b\"],[0.6666666666666666,\"#ed7953\"],[0.7777777777777778,\"#fb9f3a\"],[0.8888888888888888,\"#fdca26\"],[1.0,\"#f0f921\"]]}],\"contourcarpet\":[{\"type\":\"contourcarpet\",\"colorbar\":{\"outlinewidth\":0,\"ticks\":\"\"}}],\"contour\":[{\"type\":\"contour\",\"colorbar\":{\"outlinewidth\":0,\"ticks\":\"\"},\"colorscale\":[[0.0,\"#0d0887\"],[0.1111111111111111,\"#46039f\"],[0.2222222222222222,\"#7201a8\"],[0.3333333333333333,\"#9c179e\"],[0.4444444444444444,\"#bd3786\"],[0.5555555555555556,\"#d8576b\"],[0.6666666666666666,\"#ed7953\"],[0.7777777777777778,\"#fb9f3a\"],[0.8888888888888888,\"#fdca26\"],[1.0,\"#f0f921\"]]}],\"surface\":[{\"type\":\"surface\",\"colorbar\":{\"outlinewidth\":0,\"ticks\":\"\"},\"colorscale\":[[0.0,\"#0d0887\"],[0.1111111111111111,\"#46039f\"],[0.2222222222222222,\"#7201a8\"],[0.3333333333333333,\"#9c179e\"],[0.4444444444444444,\"#bd3786\"],[0.5555555555555556,\"#d8576b\"],[0.6666666666666666,\"#ed7953\"],[0.7777777777777778,\"#fb9f3a\"],[0.8888888888888888,\"#fdca26\"],[1.0,\"#f0f921\"]]}],\"mesh3d\":[{\"type\":\"mesh3d\",\"colorbar\":{\"outlinewidth\":0,\"ticks\":\"\"}}],\"scatter\":[{\"fillpattern\":{\"fillmode\":\"overlay\",\"size\":10,\"solidity\":0.2},\"type\":\"scatter\"}],\"parcoords\":[{\"type\":\"parcoords\",\"line\":{\"colorbar\":{\"outlinewidth\":0,\"ticks\":\"\"}}}],\"scatterpolargl\":[{\"type\":\"scatterpolargl\",\"marker\":{\"colorbar\":{\"outlinewidth\":0,\"ticks\":\"\"}}}],\"bar\":[{\"error_x\":{\"color\":\"#2a3f5f\"},\"error_y\":{\"color\":\"#2a3f5f\"},\"marker\":{\"line\":{\"color\":\"#E5ECF6\",\"width\":0.5},\"pattern\":{\"fillmode\":\"overlay\",\"size\":10,\"solidity\":0.2}},\"type\":\"bar\"}],\"scattergeo\":[{\"type\":\"scattergeo\",\"marker\":{\"colorbar\":{\"outlinewidth\":0,\"ticks\":\"\"}}}],\"scatterpolar\":[{\"type\":\"scatterpolar\",\"marker\":{\"colorbar\":{\"outlinewidth\":0,\"ticks\":\"\"}}}],\"histogram\":[{\"marker\":{\"pattern\":{\"fillmode\":\"overlay\",\"size\":10,\"solidity\":0.2}},\"type\":\"histogram\"}],\"scattergl\":[{\"type\":\"scattergl\",\"marker\":{\"colorbar\":{\"outlinewidth\":0,\"ticks\":\"\"}}}],\"scatter3d\":[{\"type\":\"scatter3d\",\"line\":{\"colorbar\":{\"outlinewidth\":0,\"ticks\":\"\"}},\"marker\":{\"colorbar\":{\"outlinewidth\":0,\"ticks\":\"\"}}}],\"scattermapbox\":[{\"type\":\"scattermapbox\",\"marker\":{\"colorbar\":{\"outlinewidth\":0,\"ticks\":\"\"}}}],\"scatterternary\":[{\"type\":\"scatterternary\",\"marker\":{\"colorbar\":{\"outlinewidth\":0,\"ticks\":\"\"}}}],\"scattercarpet\":[{\"type\":\"scattercarpet\",\"marker\":{\"colorbar\":{\"outlinewidth\":0,\"ticks\":\"\"}}}],\"carpet\":[{\"aaxis\":{\"endlinecolor\":\"#2a3f5f\",\"gridcolor\":\"white\",\"linecolor\":\"white\",\"minorgridcolor\":\"white\",\"startlinecolor\":\"#2a3f5f\"},\"baxis\":{\"endlinecolor\":\"#2a3f5f\",\"gridcolor\":\"white\",\"linecolor\":\"white\",\"minorgridcolor\":\"white\",\"startlinecolor\":\"#2a3f5f\"},\"type\":\"carpet\"}],\"table\":[{\"cells\":{\"fill\":{\"color\":\"#EBF0F8\"},\"line\":{\"color\":\"white\"}},\"header\":{\"fill\":{\"color\":\"#C8D4E3\"},\"line\":{\"color\":\"white\"}},\"type\":\"table\"}],\"barpolar\":[{\"marker\":{\"line\":{\"color\":\"#E5ECF6\",\"width\":0.5},\"pattern\":{\"fillmode\":\"overlay\",\"size\":10,\"solidity\":0.2}},\"type\":\"barpolar\"}],\"pie\":[{\"automargin\":true,\"type\":\"pie\"}]},\"layout\":{\"autotypenumbers\":\"strict\",\"colorway\":[\"#636efa\",\"#EF553B\",\"#00cc96\",\"#ab63fa\",\"#FFA15A\",\"#19d3f3\",\"#FF6692\",\"#B6E880\",\"#FF97FF\",\"#FECB52\"],\"font\":{\"color\":\"#2a3f5f\"},\"hovermode\":\"closest\",\"hoverlabel\":{\"align\":\"left\"},\"paper_bgcolor\":\"white\",\"plot_bgcolor\":\"#E5ECF6\",\"polar\":{\"bgcolor\":\"#E5ECF6\",\"angularaxis\":{\"gridcolor\":\"white\",\"linecolor\":\"white\",\"ticks\":\"\"},\"radialaxis\":{\"gridcolor\":\"white\",\"linecolor\":\"white\",\"ticks\":\"\"}},\"ternary\":{\"bgcolor\":\"#E5ECF6\",\"aaxis\":{\"gridcolor\":\"white\",\"linecolor\":\"white\",\"ticks\":\"\"},\"baxis\":{\"gridcolor\":\"white\",\"linecolor\":\"white\",\"ticks\":\"\"},\"caxis\":{\"gridcolor\":\"white\",\"linecolor\":\"white\",\"ticks\":\"\"}},\"coloraxis\":{\"colorbar\":{\"outlinewidth\":0,\"ticks\":\"\"}},\"colorscale\":{\"sequential\":[[0.0,\"#0d0887\"],[0.1111111111111111,\"#46039f\"],[0.2222222222222222,\"#7201a8\"],[0.3333333333333333,\"#9c179e\"],[0.4444444444444444,\"#bd3786\"],[0.5555555555555556,\"#d8576b\"],[0.6666666666666666,\"#ed7953\"],[0.7777777777777778,\"#fb9f3a\"],[0.8888888888888888,\"#fdca26\"],[1.0,\"#f0f921\"]],\"sequentialminus\":[[0.0,\"#0d0887\"],[0.1111111111111111,\"#46039f\"],[0.2222222222222222,\"#7201a8\"],[0.3333333333333333,\"#9c179e\"],[0.4444444444444444,\"#bd3786\"],[0.5555555555555556,\"#d8576b\"],[0.6666666666666666,\"#ed7953\"],[0.7777777777777778,\"#fb9f3a\"],[0.8888888888888888,\"#fdca26\"],[1.0,\"#f0f921\"]],\"diverging\":[[0,\"#8e0152\"],[0.1,\"#c51b7d\"],[0.2,\"#de77ae\"],[0.3,\"#f1b6da\"],[0.4,\"#fde0ef\"],[0.5,\"#f7f7f7\"],[0.6,\"#e6f5d0\"],[0.7,\"#b8e186\"],[0.8,\"#7fbc41\"],[0.9,\"#4d9221\"],[1,\"#276419\"]]},\"xaxis\":{\"gridcolor\":\"white\",\"linecolor\":\"white\",\"ticks\":\"\",\"title\":{\"standoff\":15},\"zerolinecolor\":\"white\",\"automargin\":true,\"zerolinewidth\":2},\"yaxis\":{\"gridcolor\":\"white\",\"linecolor\":\"white\",\"ticks\":\"\",\"title\":{\"standoff\":15},\"zerolinecolor\":\"white\",\"automargin\":true,\"zerolinewidth\":2},\"scene\":{\"xaxis\":{\"backgroundcolor\":\"#E5ECF6\",\"gridcolor\":\"white\",\"linecolor\":\"white\",\"showbackground\":true,\"ticks\":\"\",\"zerolinecolor\":\"white\",\"gridwidth\":2},\"yaxis\":{\"backgroundcolor\":\"#E5ECF6\",\"gridcolor\":\"white\",\"linecolor\":\"white\",\"showbackground\":true,\"ticks\":\"\",\"zerolinecolor\":\"white\",\"gridwidth\":2},\"zaxis\":{\"backgroundcolor\":\"#E5ECF6\",\"gridcolor\":\"white\",\"linecolor\":\"white\",\"showbackground\":true,\"ticks\":\"\",\"zerolinecolor\":\"white\",\"gridwidth\":2}},\"shapedefaults\":{\"line\":{\"color\":\"#2a3f5f\"}},\"annotationdefaults\":{\"arrowcolor\":\"#2a3f5f\",\"arrowhead\":0,\"arrowwidth\":1},\"geo\":{\"bgcolor\":\"white\",\"landcolor\":\"#E5ECF6\",\"subunitcolor\":\"white\",\"showland\":true,\"showlakes\":true,\"lakecolor\":\"white\"},\"title\":{\"x\":0.05},\"mapbox\":{\"style\":\"light\"}}},\"xaxis\":{\"anchor\":\"y\",\"domain\":[0.0,1.0],\"title\":{\"text\":\"Feature1\"}},\"yaxis\":{\"anchor\":\"x\",\"domain\":[0.0,1.0],\"title\":{\"text\":\"Feature2\"}},\"legend\":{\"title\":{\"text\":\"playlist\"},\"tracegroupgap\":0},\"margin\":{\"t\":60}},                        {\"responsive\": true}                    ).then(function(){\n",
       "                            \n",
       "var gd = document.getElementById('d58d71c3-c86f-4eb2-a228-f1f65bf6f12f');\n",
       "var x = new MutationObserver(function (mutations, observer) {{\n",
       "        var display = window.getComputedStyle(gd).display;\n",
       "        if (!display || display === 'none') {{\n",
       "            console.log([gd, 'removed!']);\n",
       "            Plotly.purge(gd);\n",
       "            observer.disconnect();\n",
       "        }}\n",
       "}});\n",
       "\n",
       "// Listen for the removal of the full notebook cells\n",
       "var notebookContainer = gd.closest('#notebook-container');\n",
       "if (notebookContainer) {{\n",
       "    x.observe(notebookContainer, {childList: true});\n",
       "}}\n",
       "\n",
       "// Listen for the clearing of the current output cell\n",
       "var outputEl = gd.closest('.output');\n",
       "if (outputEl) {{\n",
       "    x.observe(outputEl, {childList: true});\n",
       "}}\n",
       "\n",
       "                        })                };                });            </script>        </div>"
      ]
     },
     "metadata": {},
     "output_type": "display_data"
    }
   ],
   "source": [
    "fig = px.scatter(data_frame=df, x='Feature1', y='Feature2', color='playlist', custom_data=['name'])\n",
    "fig.update_traces(hovertemplate=\"%{customdata[0]}\")"
   ]
  },
  {
   "cell_type": "code",
   "execution_count": 561,
   "id": "c5d42894",
   "metadata": {},
   "outputs": [
    {
     "data": {
      "text/plain": [
       "array([0.32675063, 0.13788587])"
      ]
     },
     "execution_count": 561,
     "metadata": {},
     "output_type": "execute_result"
    }
   ],
   "source": [
    "pca.explained_variance_ratio_"
   ]
  },
  {
   "cell_type": "code",
   "execution_count": 567,
   "id": "d93a449a",
   "metadata": {
    "scrolled": false
   },
   "outputs": [
    {
     "data": {
      "application/vnd.plotly.v1+json": {
       "config": {
        "plotlyServerURL": "https://plot.ly"
       },
       "data": [
        {
         "name": "danceability",
         "type": "box",
         "x": [
          "Peligrosa",
          "Peligrosa",
          "Peligrosa",
          "Peligrosa",
          "Peligrosa",
          "Peligrosa",
          "Peligrosa",
          "Peligrosa",
          "Peligrosa",
          "Peligrosa",
          "Peligrosa",
          "Peligrosa",
          "Peligrosa",
          "Peligrosa",
          "Peligrosa",
          "Peligrosa",
          "Peligrosa",
          "Peligrosa",
          "Peligrosa",
          "Peligrosa",
          "Peligrosa",
          "Peligrosa",
          "Peligrosa",
          "Peligrosa",
          "Peligrosa",
          "Peligrosa",
          "Peligrosa",
          "Peligrosa",
          "Peligrosa",
          "Peligrosa",
          "Peligrosa",
          "Peligrosa",
          "Peligrosa",
          "Peligrosa",
          "Peligrosa",
          "Peligrosa",
          "Peligrosa",
          "Peligrosa",
          "Peligrosa",
          "Peligrosa",
          "Peligrosa",
          "Peligrosa",
          "Peligrosa",
          "Peligrosa",
          "Peligrosa",
          "Peligrosa",
          "Peligrosa",
          "Peligrosa",
          "Peligrosa",
          "Peligrosa",
          "popsicle",
          "popsicle",
          "popsicle",
          "popsicle",
          "popsicle",
          "popsicle",
          "popsicle",
          "popsicle",
          "popsicle",
          "popsicle",
          "popsicle",
          "popsicle",
          "popsicle",
          "popsicle",
          "popsicle",
          "popsicle",
          "popsicle",
          "popsicle",
          "popsicle",
          "popsicle",
          "popsicle",
          "popsicle",
          "popsicle",
          "popsicle",
          "popsicle",
          "popsicle",
          "popsicle",
          "popsicle",
          "popsicle",
          "popsicle",
          "popsicle",
          "popsicle",
          "popsicle",
          "popsicle",
          "popsicle",
          "popsicle",
          "popsicle",
          "popsicle",
          "popsicle",
          "popsicle",
          "popsicle",
          "popsicle",
          "popsicle",
          "popsicle",
          "popsicle",
          "popsicle",
          "popsicle",
          "pv2",
          "pv2",
          "pv2",
          "pv2",
          "pv2",
          "pv2",
          "pv2",
          "pv2",
          "pv2",
          "pv2",
          "pv2",
          "pv2",
          "pv2",
          "pv2",
          "pv2",
          "pv2",
          "pv2",
          "pv2",
          "pv2",
          "pv2",
          "pv2",
          "pv2",
          "pv2",
          "pv2",
          "pv2",
          "pv2",
          "pv2",
          "pv2",
          "pv2",
          "pv2",
          "pv2",
          "pv2",
          "pv2",
          "pv2",
          "pv2",
          "pv2",
          "pv2",
          "pv2",
          "pv2",
          "pv2",
          "pv2",
          "pv2",
          "pv2",
          "pv2",
          "pv2",
          "pv2",
          "pv2",
          "pv2",
          "pv2",
          "pv2",
          "forest walk",
          "forest walk",
          "forest walk",
          "forest walk",
          "forest walk",
          "forest walk",
          "forest walk",
          "forest walk",
          "forest walk",
          "forest walk",
          "forest walk",
          "forest walk",
          "forest walk",
          "forest walk",
          "forest walk",
          "forest walk",
          "forest walk",
          "forest walk",
          "forest walk",
          "forest walk",
          "forest walk",
          "forest walk",
          "forest walk",
          "forest walk",
          "forest walk",
          "forest walk",
          "forest walk",
          "forest walk",
          "forest walk",
          "forest walk",
          "forest walk",
          "forest walk",
          "forest walk",
          "forest walk",
          "forest walk",
          "forest walk",
          "forest walk",
          "forest walk",
          "forest walk",
          "forest walk",
          "forest walk",
          "forest walk",
          "forest walk",
          "forest walk",
          "forest walk",
          "forest walk",
          "forest walk",
          "forest walk",
          "forest walk",
          "forest walk",
          "Muy Tranquilo",
          "Muy Tranquilo",
          "Muy Tranquilo",
          "Muy Tranquilo",
          "Muy Tranquilo",
          "Muy Tranquilo",
          "Muy Tranquilo",
          "Muy Tranquilo",
          "Muy Tranquilo",
          "Muy Tranquilo",
          "Muy Tranquilo",
          "Muy Tranquilo",
          "Muy Tranquilo",
          "Muy Tranquilo",
          "Muy Tranquilo",
          "Muy Tranquilo",
          "Muy Tranquilo",
          "Muy Tranquilo",
          "Muy Tranquilo",
          "Muy Tranquilo",
          "Muy Tranquilo",
          "Muy Tranquilo",
          "Muy Tranquilo",
          "Muy Tranquilo",
          "Muy Tranquilo",
          "Muy Tranquilo",
          "Muy Tranquilo",
          "Muy Tranquilo",
          "Muy Tranquilo",
          "Muy Tranquilo",
          "Muy Tranquilo",
          "Muy Tranquilo",
          "Muy Tranquilo",
          "Muy Tranquilo",
          "Muy Tranquilo",
          "Muy Tranquilo",
          "Muy Tranquilo",
          "Muy Tranquilo",
          "Muy Tranquilo",
          "Muy Tranquilo",
          "Muy Tranquilo",
          "Muy Tranquilo",
          "Muy Tranquilo",
          "Muy Tranquilo",
          "Muy Tranquilo",
          "Muy Tranquilo",
          "Muy Tranquilo",
          "Muy Tranquilo",
          "Muy Tranquilo",
          "Muy Tranquilo"
         ],
         "xaxis": "x",
         "y": [
          0.859,
          0.902,
          0.83,
          0.834,
          0.826,
          0.754,
          0.761,
          0.762,
          0.773,
          0.867,
          0.568,
          0.83,
          0.803,
          0.834,
          0.685,
          0.789,
          0.776,
          0.793,
          0.813,
          0.852,
          0.801,
          0.842,
          0.695,
          0.456,
          0.776,
          0.911,
          0.739,
          0.957,
          0.795,
          0.801,
          0.616,
          0.809,
          0.739,
          0.7,
          0.747,
          0.763,
          0.847,
          0.838,
          0.798,
          0.812,
          0.929,
          0.9,
          0.801,
          0.827,
          0.795,
          0.812,
          0.785,
          0.701,
          0.822,
          0.82,
          0.549,
          0.549,
          0.804,
          0.669,
          0.724,
          0.759,
          0.637,
          0.765,
          0.726,
          0.494,
          0.425,
          0.756,
          0.551,
          0.601,
          0.613,
          0.652,
          0.659,
          0.906,
          0.868,
          0.73,
          0.793,
          0.702,
          0.781,
          0.647,
          0.722,
          0.875,
          0.836,
          0.762,
          0.627,
          0.336,
          0.563,
          0.674,
          0.691,
          0.617,
          0.858,
          0.683,
          0.629,
          0.608,
          0.719,
          0.649,
          0.791,
          0.638,
          0.714,
          0.715,
          0.757,
          0.74,
          0.573,
          0.749,
          0.761,
          0.588,
          0.797,
          0.604,
          0.823,
          0.917,
          0.632,
          0.789,
          0.453,
          0.705,
          0.761,
          0.715,
          0.831,
          0.721,
          0.874,
          0.814,
          0.763,
          0.654,
          0.921,
          0.317,
          0.524,
          0.763,
          0.725,
          0.838,
          0.704,
          0.739,
          0.786,
          0.612,
          0.737,
          0.884,
          0.205,
          0.891,
          0.582,
          0.66,
          0.622,
          0.788,
          0.582,
          0.741,
          0.687,
          0.775,
          0.756,
          0.786,
          0.658,
          0.835,
          0.844,
          0.761,
          0.774,
          0.682,
          0.699,
          0.577,
          0.574,
          0.643,
          0.429,
          0.67,
          0.475,
          0.561,
          0.552,
          0.611,
          0.603,
          0.568,
          0.488,
          0.67,
          0.674,
          0.705,
          0.732,
          0.767,
          0.401,
          0.436,
          0.616,
          0.264,
          0.675,
          0.587,
          0.823,
          0.567,
          0.72,
          0.589,
          0.755,
          0.725,
          0.479,
          0.659,
          0.598,
          0.359,
          0.473,
          0.689,
          0.892,
          0.448,
          0.636,
          0.852,
          0.76,
          0.777,
          0.564,
          0.596,
          0.52,
          0.644,
          0.381,
          0.676,
          0.65,
          0.446,
          0.547,
          0.59,
          0.665,
          0.74,
          0.629,
          0.807,
          0.639,
          0.78,
          0.774,
          0.724,
          0.881,
          0.505,
          0.447,
          0.501,
          0.514,
          0.56,
          0.411,
          0.603,
          0.677,
          0.863,
          0.815,
          0.659,
          0.803,
          0.746,
          0.913,
          0.784,
          0.893,
          0.645,
          0.646,
          0.637,
          0.599,
          0.62,
          0.638,
          0.771,
          0.612,
          0.734,
          0.763,
          0.625,
          0.746,
          0.784,
          0.787,
          0.672,
          0.831,
          0.844,
          0.654,
          0.892,
          0.646,
          0.663,
          0.712,
          0.751,
          0.785
         ],
         "yaxis": "y"
        },
        {
         "name": "energy",
         "type": "box",
         "x": [
          "Peligrosa",
          "Peligrosa",
          "Peligrosa",
          "Peligrosa",
          "Peligrosa",
          "Peligrosa",
          "Peligrosa",
          "Peligrosa",
          "Peligrosa",
          "Peligrosa",
          "Peligrosa",
          "Peligrosa",
          "Peligrosa",
          "Peligrosa",
          "Peligrosa",
          "Peligrosa",
          "Peligrosa",
          "Peligrosa",
          "Peligrosa",
          "Peligrosa",
          "Peligrosa",
          "Peligrosa",
          "Peligrosa",
          "Peligrosa",
          "Peligrosa",
          "Peligrosa",
          "Peligrosa",
          "Peligrosa",
          "Peligrosa",
          "Peligrosa",
          "Peligrosa",
          "Peligrosa",
          "Peligrosa",
          "Peligrosa",
          "Peligrosa",
          "Peligrosa",
          "Peligrosa",
          "Peligrosa",
          "Peligrosa",
          "Peligrosa",
          "Peligrosa",
          "Peligrosa",
          "Peligrosa",
          "Peligrosa",
          "Peligrosa",
          "Peligrosa",
          "Peligrosa",
          "Peligrosa",
          "Peligrosa",
          "Peligrosa",
          "popsicle",
          "popsicle",
          "popsicle",
          "popsicle",
          "popsicle",
          "popsicle",
          "popsicle",
          "popsicle",
          "popsicle",
          "popsicle",
          "popsicle",
          "popsicle",
          "popsicle",
          "popsicle",
          "popsicle",
          "popsicle",
          "popsicle",
          "popsicle",
          "popsicle",
          "popsicle",
          "popsicle",
          "popsicle",
          "popsicle",
          "popsicle",
          "popsicle",
          "popsicle",
          "popsicle",
          "popsicle",
          "popsicle",
          "popsicle",
          "popsicle",
          "popsicle",
          "popsicle",
          "popsicle",
          "popsicle",
          "popsicle",
          "popsicle",
          "popsicle",
          "popsicle",
          "popsicle",
          "popsicle",
          "popsicle",
          "popsicle",
          "popsicle",
          "popsicle",
          "popsicle",
          "popsicle",
          "pv2",
          "pv2",
          "pv2",
          "pv2",
          "pv2",
          "pv2",
          "pv2",
          "pv2",
          "pv2",
          "pv2",
          "pv2",
          "pv2",
          "pv2",
          "pv2",
          "pv2",
          "pv2",
          "pv2",
          "pv2",
          "pv2",
          "pv2",
          "pv2",
          "pv2",
          "pv2",
          "pv2",
          "pv2",
          "pv2",
          "pv2",
          "pv2",
          "pv2",
          "pv2",
          "pv2",
          "pv2",
          "pv2",
          "pv2",
          "pv2",
          "pv2",
          "pv2",
          "pv2",
          "pv2",
          "pv2",
          "pv2",
          "pv2",
          "pv2",
          "pv2",
          "pv2",
          "pv2",
          "pv2",
          "pv2",
          "pv2",
          "pv2",
          "forest walk",
          "forest walk",
          "forest walk",
          "forest walk",
          "forest walk",
          "forest walk",
          "forest walk",
          "forest walk",
          "forest walk",
          "forest walk",
          "forest walk",
          "forest walk",
          "forest walk",
          "forest walk",
          "forest walk",
          "forest walk",
          "forest walk",
          "forest walk",
          "forest walk",
          "forest walk",
          "forest walk",
          "forest walk",
          "forest walk",
          "forest walk",
          "forest walk",
          "forest walk",
          "forest walk",
          "forest walk",
          "forest walk",
          "forest walk",
          "forest walk",
          "forest walk",
          "forest walk",
          "forest walk",
          "forest walk",
          "forest walk",
          "forest walk",
          "forest walk",
          "forest walk",
          "forest walk",
          "forest walk",
          "forest walk",
          "forest walk",
          "forest walk",
          "forest walk",
          "forest walk",
          "forest walk",
          "forest walk",
          "forest walk",
          "forest walk",
          "Muy Tranquilo",
          "Muy Tranquilo",
          "Muy Tranquilo",
          "Muy Tranquilo",
          "Muy Tranquilo",
          "Muy Tranquilo",
          "Muy Tranquilo",
          "Muy Tranquilo",
          "Muy Tranquilo",
          "Muy Tranquilo",
          "Muy Tranquilo",
          "Muy Tranquilo",
          "Muy Tranquilo",
          "Muy Tranquilo",
          "Muy Tranquilo",
          "Muy Tranquilo",
          "Muy Tranquilo",
          "Muy Tranquilo",
          "Muy Tranquilo",
          "Muy Tranquilo",
          "Muy Tranquilo",
          "Muy Tranquilo",
          "Muy Tranquilo",
          "Muy Tranquilo",
          "Muy Tranquilo",
          "Muy Tranquilo",
          "Muy Tranquilo",
          "Muy Tranquilo",
          "Muy Tranquilo",
          "Muy Tranquilo",
          "Muy Tranquilo",
          "Muy Tranquilo",
          "Muy Tranquilo",
          "Muy Tranquilo",
          "Muy Tranquilo",
          "Muy Tranquilo",
          "Muy Tranquilo",
          "Muy Tranquilo",
          "Muy Tranquilo",
          "Muy Tranquilo",
          "Muy Tranquilo",
          "Muy Tranquilo",
          "Muy Tranquilo",
          "Muy Tranquilo",
          "Muy Tranquilo",
          "Muy Tranquilo",
          "Muy Tranquilo",
          "Muy Tranquilo",
          "Muy Tranquilo",
          "Muy Tranquilo"
         ],
         "xaxis": "x2",
         "y": [
          0.407,
          0.556,
          0.739,
          0.67,
          0.618,
          0.543,
          0.696,
          0.614,
          0.767,
          0.766,
          0.656,
          0.501,
          0.838,
          0.68,
          0.909,
          0.837,
          0.588,
          0.745,
          0.627,
          0.617,
          0.563,
          0.729,
          0.636,
          0.91,
          0.703,
          0.712,
          0.751,
          0.766,
          0.684,
          0.633,
          0.654,
          0.784,
          0.672,
          0.545,
          0.509,
          0.664,
          0.843,
          0.722,
          0.629,
          0.741,
          0.642,
          0.587,
          0.718,
          0.819,
          0.845,
          0.925,
          0.533,
          0.568,
          0.719,
          0.752,
          0.702,
          0.729,
          0.665,
          0.558,
          0.491,
          0.539,
          0.713,
          0.523,
          0.304,
          0.502,
          0.548,
          0.697,
          0.756,
          0.794,
          0.622,
          0.698,
          0.667,
          0.474,
          0.693,
          0.729,
          0.793,
          0.825,
          0.67,
          0.844,
          0.588,
          0.813,
          0.544,
          0.7,
          0.69,
          0.602,
          0.664,
          0.628,
          0.795,
          0.792,
          0.678,
          0.926,
          0.802,
          0.907,
          0.804,
          0.815,
          0.754,
          0.826,
          0.434,
          0.872,
          0.825,
          0.415,
          0.441,
          0.61,
          0.564,
          0.275,
          0.261,
          0.885,
          0.761,
          0.593,
          0.439,
          0.781,
          0.673,
          0.583,
          0.608,
          0.7,
          0.697,
          0.566,
          0.707,
          0.535,
          0.693,
          0.354,
          0.559,
          0.305,
          0.829,
          0.518,
          0.641,
          0.608,
          0.74,
          0.846,
          0.764,
          0.44,
          0.553,
          0.447,
          0.331,
          0.664,
          0.804,
          0.524,
          0.432,
          0.623,
          0.382,
          0.654,
          0.352,
          0.576,
          0.509,
          0.772,
          0.449,
          0.679,
          0.438,
          0.482,
          0.575,
          0.708,
          0.585,
          0.488,
          0.326,
          0.734,
          0.42,
          0.496,
          0.448,
          0.55,
          0.375,
          0.33,
          0.562,
          0.558,
          0.625,
          0.471,
          0.204,
          0.442,
          0.328,
          0.404,
          0.58,
          0.4,
          0.482,
          0.122,
          0.356,
          0.353,
          0.338,
          0.434,
          0.31,
          0.634,
          0.289,
          0.199,
          0.725,
          0.308,
          0.343,
          0.649,
          0.712,
          0.614,
          0.436,
          0.649,
          0.383,
          0.437,
          0.317,
          0.204,
          0.343,
          0.528,
          0.239,
          0.502,
          0.288,
          0.41,
          0.253,
          0.316,
          0.223,
          0.803,
          0.331,
          0.682,
          0.555,
          0.493,
          0.549,
          0.585,
          0.244,
          0.606,
          0.661,
          0.652,
          0.542,
          0.303,
          0.562,
          0.83,
          0.626,
          0.396,
          0.683,
          0.533,
          0.819,
          0.757,
          0.662,
          0.765,
          0.533,
          0.587,
          0.44,
          0.574,
          0.425,
          0.827,
          0.449,
          0.504,
          0.51,
          0.564,
          0.606,
          0.451,
          0.327,
          0.398,
          0.451,
          0.593,
          0.461,
          0.725,
          0.55,
          0.667,
          0.563,
          0.821,
          0.455,
          0.465,
          0.685,
          0.67,
          0.52
         ],
         "yaxis": "y2"
        },
        {
         "name": "loudness",
         "type": "box",
         "x": [
          "Peligrosa",
          "Peligrosa",
          "Peligrosa",
          "Peligrosa",
          "Peligrosa",
          "Peligrosa",
          "Peligrosa",
          "Peligrosa",
          "Peligrosa",
          "Peligrosa",
          "Peligrosa",
          "Peligrosa",
          "Peligrosa",
          "Peligrosa",
          "Peligrosa",
          "Peligrosa",
          "Peligrosa",
          "Peligrosa",
          "Peligrosa",
          "Peligrosa",
          "Peligrosa",
          "Peligrosa",
          "Peligrosa",
          "Peligrosa",
          "Peligrosa",
          "Peligrosa",
          "Peligrosa",
          "Peligrosa",
          "Peligrosa",
          "Peligrosa",
          "Peligrosa",
          "Peligrosa",
          "Peligrosa",
          "Peligrosa",
          "Peligrosa",
          "Peligrosa",
          "Peligrosa",
          "Peligrosa",
          "Peligrosa",
          "Peligrosa",
          "Peligrosa",
          "Peligrosa",
          "Peligrosa",
          "Peligrosa",
          "Peligrosa",
          "Peligrosa",
          "Peligrosa",
          "Peligrosa",
          "Peligrosa",
          "Peligrosa",
          "popsicle",
          "popsicle",
          "popsicle",
          "popsicle",
          "popsicle",
          "popsicle",
          "popsicle",
          "popsicle",
          "popsicle",
          "popsicle",
          "popsicle",
          "popsicle",
          "popsicle",
          "popsicle",
          "popsicle",
          "popsicle",
          "popsicle",
          "popsicle",
          "popsicle",
          "popsicle",
          "popsicle",
          "popsicle",
          "popsicle",
          "popsicle",
          "popsicle",
          "popsicle",
          "popsicle",
          "popsicle",
          "popsicle",
          "popsicle",
          "popsicle",
          "popsicle",
          "popsicle",
          "popsicle",
          "popsicle",
          "popsicle",
          "popsicle",
          "popsicle",
          "popsicle",
          "popsicle",
          "popsicle",
          "popsicle",
          "popsicle",
          "popsicle",
          "popsicle",
          "popsicle",
          "popsicle",
          "pv2",
          "pv2",
          "pv2",
          "pv2",
          "pv2",
          "pv2",
          "pv2",
          "pv2",
          "pv2",
          "pv2",
          "pv2",
          "pv2",
          "pv2",
          "pv2",
          "pv2",
          "pv2",
          "pv2",
          "pv2",
          "pv2",
          "pv2",
          "pv2",
          "pv2",
          "pv2",
          "pv2",
          "pv2",
          "pv2",
          "pv2",
          "pv2",
          "pv2",
          "pv2",
          "pv2",
          "pv2",
          "pv2",
          "pv2",
          "pv2",
          "pv2",
          "pv2",
          "pv2",
          "pv2",
          "pv2",
          "pv2",
          "pv2",
          "pv2",
          "pv2",
          "pv2",
          "pv2",
          "pv2",
          "pv2",
          "pv2",
          "pv2",
          "forest walk",
          "forest walk",
          "forest walk",
          "forest walk",
          "forest walk",
          "forest walk",
          "forest walk",
          "forest walk",
          "forest walk",
          "forest walk",
          "forest walk",
          "forest walk",
          "forest walk",
          "forest walk",
          "forest walk",
          "forest walk",
          "forest walk",
          "forest walk",
          "forest walk",
          "forest walk",
          "forest walk",
          "forest walk",
          "forest walk",
          "forest walk",
          "forest walk",
          "forest walk",
          "forest walk",
          "forest walk",
          "forest walk",
          "forest walk",
          "forest walk",
          "forest walk",
          "forest walk",
          "forest walk",
          "forest walk",
          "forest walk",
          "forest walk",
          "forest walk",
          "forest walk",
          "forest walk",
          "forest walk",
          "forest walk",
          "forest walk",
          "forest walk",
          "forest walk",
          "forest walk",
          "forest walk",
          "forest walk",
          "forest walk",
          "forest walk",
          "Muy Tranquilo",
          "Muy Tranquilo",
          "Muy Tranquilo",
          "Muy Tranquilo",
          "Muy Tranquilo",
          "Muy Tranquilo",
          "Muy Tranquilo",
          "Muy Tranquilo",
          "Muy Tranquilo",
          "Muy Tranquilo",
          "Muy Tranquilo",
          "Muy Tranquilo",
          "Muy Tranquilo",
          "Muy Tranquilo",
          "Muy Tranquilo",
          "Muy Tranquilo",
          "Muy Tranquilo",
          "Muy Tranquilo",
          "Muy Tranquilo",
          "Muy Tranquilo",
          "Muy Tranquilo",
          "Muy Tranquilo",
          "Muy Tranquilo",
          "Muy Tranquilo",
          "Muy Tranquilo",
          "Muy Tranquilo",
          "Muy Tranquilo",
          "Muy Tranquilo",
          "Muy Tranquilo",
          "Muy Tranquilo",
          "Muy Tranquilo",
          "Muy Tranquilo",
          "Muy Tranquilo",
          "Muy Tranquilo",
          "Muy Tranquilo",
          "Muy Tranquilo",
          "Muy Tranquilo",
          "Muy Tranquilo",
          "Muy Tranquilo",
          "Muy Tranquilo",
          "Muy Tranquilo",
          "Muy Tranquilo",
          "Muy Tranquilo",
          "Muy Tranquilo",
          "Muy Tranquilo",
          "Muy Tranquilo",
          "Muy Tranquilo",
          "Muy Tranquilo",
          "Muy Tranquilo",
          "Muy Tranquilo"
         ],
         "xaxis": "x3",
         "y": [
          -6.317,
          -4.109,
          -5.395,
          -4.324,
          -4.848,
          -6.319,
          -3.817,
          -5.965,
          -4.019,
          -3.542,
          -4.774,
          -7.316,
          -3.23,
          -4.082,
          -4.034,
          -3.247,
          -5.592,
          -4.579,
          -7.725,
          -5.251,
          -7.302,
          -4.404,
          -4.654,
          -2.659,
          -4.862,
          -5.105,
          -3.057,
          -4.567,
          -3.971,
          -2.785,
          -5.718,
          -5.254,
          -4.127,
          -5.563,
          -6.176,
          -2.92,
          -3.771,
          -6.245,
          -4.393,
          -1.974,
          -3.179,
          -6.117,
          -5.213,
          -3.701,
          -3.809,
          -3.092,
          -7.417,
          -3.389,
          -3.633,
          -7.635,
          -4.202,
          -4.997,
          -4.068,
          -6.156,
          -6.024,
          -6.039,
          -4.333,
          -4.333,
          -8.677,
          -5.75,
          -6.762,
          -6.377,
          -4.948,
          -5.844,
          -5.794,
          -4.667,
          -4.668,
          -6.124,
          -7.052,
          -3.434,
          -4.521,
          -3.787,
          -3.912,
          -3.756,
          -5.932,
          -4.502,
          -5.975,
          -6.021,
          -5.396,
          -6.354,
          -5.044,
          -7.079,
          -4.021,
          -4.873,
          -3.87,
          -2.914,
          -5.26,
          -5.396,
          -4.581,
          -3.796,
          -3.729,
          -4.968,
          -11.542,
          -3.835,
          -4.062,
          -8.914,
          -5.799,
          -7.16,
          -7.57,
          -9.722,
          -8.48,
          -2.857,
          -5.197,
          -5.744,
          -6.027,
          -5.938,
          -5.649,
          -8.352,
          -5.272,
          -4.694,
          -5.298,
          -5.11,
          -5.512,
          -6.305,
          -7.71,
          -7.358,
          -5.106,
          -10.215,
          -4.44,
          -9.339,
          -5.06,
          -4.526,
          -5.149,
          -3.754,
          -4.173,
          -5.894,
          -5.882,
          -5.949,
          -9.225,
          -5.008,
          -4.155,
          -6.692,
          -6.203,
          -5.497,
          -8.014,
          -5.342,
          -5.548,
          -6.343,
          -8.092,
          -4.014,
          -5.231,
          -5.329,
          -7.787,
          -8.382,
          -7.347,
          -5.597,
          -8.225,
          -8.599,
          -11.284,
          -6.004,
          -12.409,
          -11.23,
          -14.74,
          -17.419,
          -16.464,
          -11.475,
          -7.66,
          -8.553,
          -8.3,
          -10.972,
          -13.535,
          -10.765,
          -8.13,
          -10.06,
          -6.86,
          -11.485,
          -10.257,
          -15.399,
          -12.36,
          -12.719,
          -15.899,
          -12.755,
          -11.048,
          -7.653,
          -9.658,
          -12.478,
          -4.671,
          -10.292,
          -11.04,
          -7.06,
          -10.779,
          -6.137,
          -9.323,
          -5.925,
          -9.381,
          -9.425,
          -11.445,
          -16.849,
          -13.433,
          -11.061,
          -11.371,
          -9.374,
          -12.323,
          -7.559,
          -11.855,
          -9.636,
          -10.913,
          -6.108,
          -7.565,
          -10.42,
          -11.258,
          -7.087,
          -6.754,
          -8.766,
          -9.748,
          -7.863,
          -7.681,
          -11.864,
          -10.759,
          -16.657,
          -10.968,
          -8.398,
          -9.263,
          -12.765,
          -7.39,
          -7.986,
          -9.494,
          -5.275,
          -8.073,
          -5.487,
          -9.211,
          -6.361,
          -8.373,
          -8.96,
          -11.249,
          -7.131,
          -8.947,
          -8.672,
          -9.369,
          -8.906,
          -5.89,
          -8.259,
          -7.563,
          -10.218,
          -9.065,
          -6.078,
          -12.981,
          -4.359,
          -4.809,
          -8.817,
          -5.176,
          -5.274,
          -9.563,
          -11.532,
          -8.431,
          -7.883,
          -10.747
         ],
         "yaxis": "y3"
        },
        {
         "name": "speechiness",
         "type": "box",
         "x": [
          "Peligrosa",
          "Peligrosa",
          "Peligrosa",
          "Peligrosa",
          "Peligrosa",
          "Peligrosa",
          "Peligrosa",
          "Peligrosa",
          "Peligrosa",
          "Peligrosa",
          "Peligrosa",
          "Peligrosa",
          "Peligrosa",
          "Peligrosa",
          "Peligrosa",
          "Peligrosa",
          "Peligrosa",
          "Peligrosa",
          "Peligrosa",
          "Peligrosa",
          "Peligrosa",
          "Peligrosa",
          "Peligrosa",
          "Peligrosa",
          "Peligrosa",
          "Peligrosa",
          "Peligrosa",
          "Peligrosa",
          "Peligrosa",
          "Peligrosa",
          "Peligrosa",
          "Peligrosa",
          "Peligrosa",
          "Peligrosa",
          "Peligrosa",
          "Peligrosa",
          "Peligrosa",
          "Peligrosa",
          "Peligrosa",
          "Peligrosa",
          "Peligrosa",
          "Peligrosa",
          "Peligrosa",
          "Peligrosa",
          "Peligrosa",
          "Peligrosa",
          "Peligrosa",
          "Peligrosa",
          "Peligrosa",
          "Peligrosa",
          "popsicle",
          "popsicle",
          "popsicle",
          "popsicle",
          "popsicle",
          "popsicle",
          "popsicle",
          "popsicle",
          "popsicle",
          "popsicle",
          "popsicle",
          "popsicle",
          "popsicle",
          "popsicle",
          "popsicle",
          "popsicle",
          "popsicle",
          "popsicle",
          "popsicle",
          "popsicle",
          "popsicle",
          "popsicle",
          "popsicle",
          "popsicle",
          "popsicle",
          "popsicle",
          "popsicle",
          "popsicle",
          "popsicle",
          "popsicle",
          "popsicle",
          "popsicle",
          "popsicle",
          "popsicle",
          "popsicle",
          "popsicle",
          "popsicle",
          "popsicle",
          "popsicle",
          "popsicle",
          "popsicle",
          "popsicle",
          "popsicle",
          "popsicle",
          "popsicle",
          "popsicle",
          "popsicle",
          "pv2",
          "pv2",
          "pv2",
          "pv2",
          "pv2",
          "pv2",
          "pv2",
          "pv2",
          "pv2",
          "pv2",
          "pv2",
          "pv2",
          "pv2",
          "pv2",
          "pv2",
          "pv2",
          "pv2",
          "pv2",
          "pv2",
          "pv2",
          "pv2",
          "pv2",
          "pv2",
          "pv2",
          "pv2",
          "pv2",
          "pv2",
          "pv2",
          "pv2",
          "pv2",
          "pv2",
          "pv2",
          "pv2",
          "pv2",
          "pv2",
          "pv2",
          "pv2",
          "pv2",
          "pv2",
          "pv2",
          "pv2",
          "pv2",
          "pv2",
          "pv2",
          "pv2",
          "pv2",
          "pv2",
          "pv2",
          "pv2",
          "pv2",
          "forest walk",
          "forest walk",
          "forest walk",
          "forest walk",
          "forest walk",
          "forest walk",
          "forest walk",
          "forest walk",
          "forest walk",
          "forest walk",
          "forest walk",
          "forest walk",
          "forest walk",
          "forest walk",
          "forest walk",
          "forest walk",
          "forest walk",
          "forest walk",
          "forest walk",
          "forest walk",
          "forest walk",
          "forest walk",
          "forest walk",
          "forest walk",
          "forest walk",
          "forest walk",
          "forest walk",
          "forest walk",
          "forest walk",
          "forest walk",
          "forest walk",
          "forest walk",
          "forest walk",
          "forest walk",
          "forest walk",
          "forest walk",
          "forest walk",
          "forest walk",
          "forest walk",
          "forest walk",
          "forest walk",
          "forest walk",
          "forest walk",
          "forest walk",
          "forest walk",
          "forest walk",
          "forest walk",
          "forest walk",
          "forest walk",
          "forest walk",
          "Muy Tranquilo",
          "Muy Tranquilo",
          "Muy Tranquilo",
          "Muy Tranquilo",
          "Muy Tranquilo",
          "Muy Tranquilo",
          "Muy Tranquilo",
          "Muy Tranquilo",
          "Muy Tranquilo",
          "Muy Tranquilo",
          "Muy Tranquilo",
          "Muy Tranquilo",
          "Muy Tranquilo",
          "Muy Tranquilo",
          "Muy Tranquilo",
          "Muy Tranquilo",
          "Muy Tranquilo",
          "Muy Tranquilo",
          "Muy Tranquilo",
          "Muy Tranquilo",
          "Muy Tranquilo",
          "Muy Tranquilo",
          "Muy Tranquilo",
          "Muy Tranquilo",
          "Muy Tranquilo",
          "Muy Tranquilo",
          "Muy Tranquilo",
          "Muy Tranquilo",
          "Muy Tranquilo",
          "Muy Tranquilo",
          "Muy Tranquilo",
          "Muy Tranquilo",
          "Muy Tranquilo",
          "Muy Tranquilo",
          "Muy Tranquilo",
          "Muy Tranquilo",
          "Muy Tranquilo",
          "Muy Tranquilo",
          "Muy Tranquilo",
          "Muy Tranquilo",
          "Muy Tranquilo",
          "Muy Tranquilo",
          "Muy Tranquilo",
          "Muy Tranquilo",
          "Muy Tranquilo",
          "Muy Tranquilo",
          "Muy Tranquilo",
          "Muy Tranquilo",
          "Muy Tranquilo",
          "Muy Tranquilo"
         ],
         "xaxis": "x4",
         "y": [
          0.046,
          0.172,
          0.0627,
          0.148,
          0.106,
          0.038,
          0.0505,
          0.101,
          0.0819,
          0.124,
          0.303,
          0.108,
          0.0858,
          0.0421,
          0.0396,
          0.23,
          0.382,
          0.0571,
          0.139,
          0.0834,
          0.223,
          0.0753,
          0.317,
          0.136,
          0.0949,
          0.0817,
          0.0612,
          0.223,
          0.0419,
          0.0777,
          0.0468,
          0.057,
          0.174,
          0.349,
          0.0715,
          0.0375,
          0.117,
          0.234,
          0.0729,
          0.0441,
          0.0375,
          0.07,
          0.0585,
          0.052,
          0.135,
          0.113,
          0.107,
          0.067,
          0.0576,
          0.0648,
          0.307,
          0.0318,
          0.203,
          0.0319,
          0.0296,
          0.0287,
          0.0747,
          0.03,
          0.131,
          0.0329,
          0.114,
          0.0401,
          0.0652,
          0.0671,
          0.0334,
          0.042,
          0.0339,
          0.194,
          0.181,
          0.0884,
          0.083,
          0.0601,
          0.0452,
          0.0457,
          0.0544,
          0.0579,
          0.0943,
          0.0694,
          0.139,
          0.0325,
          0.154,
          0.03,
          0.0355,
          0.0379,
          0.0469,
          0.046,
          0.0465,
          0.0513,
          0.0355,
          0.0415,
          0.0569,
          0.0479,
          0.0396,
          0.0509,
          0.0701,
          0.0707,
          0.0758,
          0.0344,
          0.0467,
          0.0263,
          0.0337,
          0.237,
          0.0516,
          0.168,
          0.0601,
          0.0413,
          0.144,
          0.213,
          0.0332,
          0.269,
          0.0483,
          0.0316,
          0.0654,
          0.041,
          0.0558,
          0.0738,
          0.0375,
          0.0644,
          0.0525,
          0.121,
          0.269,
          0.177,
          0.08,
          0.0531,
          0.043,
          0.034,
          0.029,
          0.125,
          0.0351,
          0.19,
          0.0389,
          0.0368,
          0.0575,
          0.0814,
          0.0471,
          0.0275,
          0.0619,
          0.0693,
          0.0388,
          0.0959,
          0.0325,
          0.0364,
          0.0328,
          0.071,
          0.0368,
          0.165,
          0.0796,
          0.0497,
          0.0301,
          0.0295,
          0.0391,
          0.0277,
          0.0497,
          0.037,
          0.0372,
          0.0504,
          0.0381,
          0.0278,
          0.0362,
          0.0343,
          0.0384,
          0.0727,
          0.0327,
          0.0287,
          0.0541,
          0.0272,
          0.0345,
          0.0349,
          0.0403,
          0.031,
          0.0413,
          0.0349,
          0.0352,
          0.0276,
          0.0614,
          0.0357,
          0.0335,
          0.0405,
          0.025,
          0.0349,
          0.0339,
          0.0306,
          0.0385,
          0.0434,
          0.0434,
          0.0478,
          0.0605,
          0.0988,
          0.0353,
          0.0307,
          0.0534,
          0.0302,
          0.0337,
          0.0299,
          0.0434,
          0.0353,
          0.0316,
          0.0408,
          0.0324,
          0.0504,
          0.0384,
          0.139,
          0.156,
          0.0389,
          0.0299,
          0.198,
          0.0343,
          0.0459,
          0.0716,
          0.379,
          0.0459,
          0.0376,
          0.0656,
          0.034,
          0.0355,
          0.0484,
          0.0521,
          0.038,
          0.0308,
          0.054,
          0.0389,
          0.0422,
          0.0436,
          0.0268,
          0.0313,
          0.0372,
          0.0291,
          0.0264,
          0.0682,
          0.042,
          0.0967,
          0.102,
          0.031,
          0.0338,
          0.146,
          0.0725,
          0.416,
          0.0504,
          0.126,
          0.0774,
          0.195,
          0.32,
          0.0309,
          0.03,
          0.034,
          0.0633,
          0.046
         ],
         "yaxis": "y4"
        },
        {
         "name": "acousticness",
         "type": "box",
         "x": [
          "Peligrosa",
          "Peligrosa",
          "Peligrosa",
          "Peligrosa",
          "Peligrosa",
          "Peligrosa",
          "Peligrosa",
          "Peligrosa",
          "Peligrosa",
          "Peligrosa",
          "Peligrosa",
          "Peligrosa",
          "Peligrosa",
          "Peligrosa",
          "Peligrosa",
          "Peligrosa",
          "Peligrosa",
          "Peligrosa",
          "Peligrosa",
          "Peligrosa",
          "Peligrosa",
          "Peligrosa",
          "Peligrosa",
          "Peligrosa",
          "Peligrosa",
          "Peligrosa",
          "Peligrosa",
          "Peligrosa",
          "Peligrosa",
          "Peligrosa",
          "Peligrosa",
          "Peligrosa",
          "Peligrosa",
          "Peligrosa",
          "Peligrosa",
          "Peligrosa",
          "Peligrosa",
          "Peligrosa",
          "Peligrosa",
          "Peligrosa",
          "Peligrosa",
          "Peligrosa",
          "Peligrosa",
          "Peligrosa",
          "Peligrosa",
          "Peligrosa",
          "Peligrosa",
          "Peligrosa",
          "Peligrosa",
          "Peligrosa",
          "popsicle",
          "popsicle",
          "popsicle",
          "popsicle",
          "popsicle",
          "popsicle",
          "popsicle",
          "popsicle",
          "popsicle",
          "popsicle",
          "popsicle",
          "popsicle",
          "popsicle",
          "popsicle",
          "popsicle",
          "popsicle",
          "popsicle",
          "popsicle",
          "popsicle",
          "popsicle",
          "popsicle",
          "popsicle",
          "popsicle",
          "popsicle",
          "popsicle",
          "popsicle",
          "popsicle",
          "popsicle",
          "popsicle",
          "popsicle",
          "popsicle",
          "popsicle",
          "popsicle",
          "popsicle",
          "popsicle",
          "popsicle",
          "popsicle",
          "popsicle",
          "popsicle",
          "popsicle",
          "popsicle",
          "popsicle",
          "popsicle",
          "popsicle",
          "popsicle",
          "popsicle",
          "popsicle",
          "pv2",
          "pv2",
          "pv2",
          "pv2",
          "pv2",
          "pv2",
          "pv2",
          "pv2",
          "pv2",
          "pv2",
          "pv2",
          "pv2",
          "pv2",
          "pv2",
          "pv2",
          "pv2",
          "pv2",
          "pv2",
          "pv2",
          "pv2",
          "pv2",
          "pv2",
          "pv2",
          "pv2",
          "pv2",
          "pv2",
          "pv2",
          "pv2",
          "pv2",
          "pv2",
          "pv2",
          "pv2",
          "pv2",
          "pv2",
          "pv2",
          "pv2",
          "pv2",
          "pv2",
          "pv2",
          "pv2",
          "pv2",
          "pv2",
          "pv2",
          "pv2",
          "pv2",
          "pv2",
          "pv2",
          "pv2",
          "pv2",
          "pv2",
          "forest walk",
          "forest walk",
          "forest walk",
          "forest walk",
          "forest walk",
          "forest walk",
          "forest walk",
          "forest walk",
          "forest walk",
          "forest walk",
          "forest walk",
          "forest walk",
          "forest walk",
          "forest walk",
          "forest walk",
          "forest walk",
          "forest walk",
          "forest walk",
          "forest walk",
          "forest walk",
          "forest walk",
          "forest walk",
          "forest walk",
          "forest walk",
          "forest walk",
          "forest walk",
          "forest walk",
          "forest walk",
          "forest walk",
          "forest walk",
          "forest walk",
          "forest walk",
          "forest walk",
          "forest walk",
          "forest walk",
          "forest walk",
          "forest walk",
          "forest walk",
          "forest walk",
          "forest walk",
          "forest walk",
          "forest walk",
          "forest walk",
          "forest walk",
          "forest walk",
          "forest walk",
          "forest walk",
          "forest walk",
          "forest walk",
          "forest walk",
          "Muy Tranquilo",
          "Muy Tranquilo",
          "Muy Tranquilo",
          "Muy Tranquilo",
          "Muy Tranquilo",
          "Muy Tranquilo",
          "Muy Tranquilo",
          "Muy Tranquilo",
          "Muy Tranquilo",
          "Muy Tranquilo",
          "Muy Tranquilo",
          "Muy Tranquilo",
          "Muy Tranquilo",
          "Muy Tranquilo",
          "Muy Tranquilo",
          "Muy Tranquilo",
          "Muy Tranquilo",
          "Muy Tranquilo",
          "Muy Tranquilo",
          "Muy Tranquilo",
          "Muy Tranquilo",
          "Muy Tranquilo",
          "Muy Tranquilo",
          "Muy Tranquilo",
          "Muy Tranquilo",
          "Muy Tranquilo",
          "Muy Tranquilo",
          "Muy Tranquilo",
          "Muy Tranquilo",
          "Muy Tranquilo",
          "Muy Tranquilo",
          "Muy Tranquilo",
          "Muy Tranquilo",
          "Muy Tranquilo",
          "Muy Tranquilo",
          "Muy Tranquilo",
          "Muy Tranquilo",
          "Muy Tranquilo",
          "Muy Tranquilo",
          "Muy Tranquilo",
          "Muy Tranquilo",
          "Muy Tranquilo",
          "Muy Tranquilo",
          "Muy Tranquilo",
          "Muy Tranquilo",
          "Muy Tranquilo",
          "Muy Tranquilo",
          "Muy Tranquilo",
          "Muy Tranquilo",
          "Muy Tranquilo"
         ],
         "xaxis": "x5",
         "y": [
          0.099,
          0.247,
          0.136,
          0.106,
          0.167,
          0.117,
          0.0811,
          0.141,
          0.0352,
          0.527,
          0.2,
          0.257,
          0.0905,
          0.0495,
          0.0471,
          0.125,
          0.148,
          0.182,
          0.618,
          0.104,
          0.264,
          0.0991,
          0.234,
          0.256,
          0.0216,
          0.0901,
          0.0391,
          0.108,
          0.0225,
          0.414,
          0.0601,
          0.00431,
          0.0897,
          0.723,
          0.0303,
          0.152,
          0.0932,
          0.0656,
          0.133,
          0.172,
          0.205,
          0.504,
          0.283,
          0.1,
          0.105,
          0.487,
          0.00744,
          0.252,
          0.165,
          0.0584,
          0.0803,
          0.0618,
          0.374,
          0.0307,
          0.018,
          0.0376,
          0.181,
          0.184,
          0.839,
          0.253,
          0.21,
          0.182,
          0.0511,
          0.00987,
          0.00882,
          0.00112,
          0.00173,
          0.0311,
          0.0597,
          0.167,
          0.0123,
          0.00883,
          0.0103,
          0.0137,
          0.0319,
          0.00618,
          0.0403,
          0.00261,
          0.033,
          0.0635,
          0.335,
          0.00144,
          0.000812,
          0.0536,
          0.075,
          0.0691,
          0.0129,
          0.0165,
          0.0132,
          0.00125,
          0.00446,
          0.139,
          0.697,
          0.00351,
          0.0398,
          0.242,
          0.186,
          0.076,
          0.738,
          0.949,
          0.517,
          0.547,
          0.0825,
          0.0868,
          0.215,
          0.0564,
          0.32,
          0.249,
          0.0103,
          0.53,
          0.175,
          0.155,
          0.226,
          0.27,
          0.0631,
          0.724,
          0.00553,
          0.936,
          0.00146,
          0.217,
          0.459,
          0.206,
          0.247,
          0.00638,
          0.165,
          0.762,
          0.555,
          0.223,
          0.843,
          0.159,
          0.0493,
          0.859,
          0.544,
          0.166,
          0.71,
          0.00639,
          0.0727,
          0.528,
          0.433,
          0.00708,
          0.188,
          0.583,
          0.0466,
          0.528,
          0.0653,
          0.611,
          0.432,
          0.653,
          0.709,
          0.16,
          0.657,
          0.627,
          0.738,
          0.77,
          0.641,
          0.862,
          0.549,
          0.724,
          0.306,
          0.56,
          0.887,
          0.571,
          0.487,
          0.62,
          0.906,
          0.904,
          0.358,
          0.885,
          0.65,
          0.781,
          0.139,
          0.86,
          0.83,
          0.57,
          0.535,
          0.982,
          0.026,
          0.775,
          0.853,
          0.107,
          0.0561,
          0.252,
          0.664,
          0.418,
          0.585,
          0.757,
          0.843,
          0.751,
          0.8,
          0.619,
          0.844,
          0.665,
          0.843,
          0.886,
          0.961,
          0.927,
          0.881,
          0.0133,
          0.206,
          0.0692,
          0.0396,
          0.393,
          0.0879,
          0.11,
          0.72,
          0.588,
          0.098,
          0.293,
          0.812,
          0.683,
          0.0412,
          0.0134,
          0.341,
          0.759,
          0.185,
          0.291,
          0.364,
          0.128,
          0.642,
          0.366,
          0.268,
          0.273,
          0.596,
          0.557,
          0.265,
          0.00746,
          0.0668,
          0.048,
          0.0943,
          0.0192,
          0.557,
          0.475,
          0.364,
          0.279,
          0.181,
          0.452,
          0.338,
          0.00717,
          0.25,
          0.0924,
          0.586,
          0.0897,
          0.0589,
          0.0542,
          0.44,
          0.239,
          0.125
         ],
         "yaxis": "y5"
        },
        {
         "name": "instrumentalness",
         "type": "box",
         "x": [
          "Peligrosa",
          "Peligrosa",
          "Peligrosa",
          "Peligrosa",
          "Peligrosa",
          "Peligrosa",
          "Peligrosa",
          "Peligrosa",
          "Peligrosa",
          "Peligrosa",
          "Peligrosa",
          "Peligrosa",
          "Peligrosa",
          "Peligrosa",
          "Peligrosa",
          "Peligrosa",
          "Peligrosa",
          "Peligrosa",
          "Peligrosa",
          "Peligrosa",
          "Peligrosa",
          "Peligrosa",
          "Peligrosa",
          "Peligrosa",
          "Peligrosa",
          "Peligrosa",
          "Peligrosa",
          "Peligrosa",
          "Peligrosa",
          "Peligrosa",
          "Peligrosa",
          "Peligrosa",
          "Peligrosa",
          "Peligrosa",
          "Peligrosa",
          "Peligrosa",
          "Peligrosa",
          "Peligrosa",
          "Peligrosa",
          "Peligrosa",
          "Peligrosa",
          "Peligrosa",
          "Peligrosa",
          "Peligrosa",
          "Peligrosa",
          "Peligrosa",
          "Peligrosa",
          "Peligrosa",
          "Peligrosa",
          "Peligrosa",
          "popsicle",
          "popsicle",
          "popsicle",
          "popsicle",
          "popsicle",
          "popsicle",
          "popsicle",
          "popsicle",
          "popsicle",
          "popsicle",
          "popsicle",
          "popsicle",
          "popsicle",
          "popsicle",
          "popsicle",
          "popsicle",
          "popsicle",
          "popsicle",
          "popsicle",
          "popsicle",
          "popsicle",
          "popsicle",
          "popsicle",
          "popsicle",
          "popsicle",
          "popsicle",
          "popsicle",
          "popsicle",
          "popsicle",
          "popsicle",
          "popsicle",
          "popsicle",
          "popsicle",
          "popsicle",
          "popsicle",
          "popsicle",
          "popsicle",
          "popsicle",
          "popsicle",
          "popsicle",
          "popsicle",
          "popsicle",
          "popsicle",
          "popsicle",
          "popsicle",
          "popsicle",
          "popsicle",
          "pv2",
          "pv2",
          "pv2",
          "pv2",
          "pv2",
          "pv2",
          "pv2",
          "pv2",
          "pv2",
          "pv2",
          "pv2",
          "pv2",
          "pv2",
          "pv2",
          "pv2",
          "pv2",
          "pv2",
          "pv2",
          "pv2",
          "pv2",
          "pv2",
          "pv2",
          "pv2",
          "pv2",
          "pv2",
          "pv2",
          "pv2",
          "pv2",
          "pv2",
          "pv2",
          "pv2",
          "pv2",
          "pv2",
          "pv2",
          "pv2",
          "pv2",
          "pv2",
          "pv2",
          "pv2",
          "pv2",
          "pv2",
          "pv2",
          "pv2",
          "pv2",
          "pv2",
          "pv2",
          "pv2",
          "pv2",
          "pv2",
          "pv2",
          "forest walk",
          "forest walk",
          "forest walk",
          "forest walk",
          "forest walk",
          "forest walk",
          "forest walk",
          "forest walk",
          "forest walk",
          "forest walk",
          "forest walk",
          "forest walk",
          "forest walk",
          "forest walk",
          "forest walk",
          "forest walk",
          "forest walk",
          "forest walk",
          "forest walk",
          "forest walk",
          "forest walk",
          "forest walk",
          "forest walk",
          "forest walk",
          "forest walk",
          "forest walk",
          "forest walk",
          "forest walk",
          "forest walk",
          "forest walk",
          "forest walk",
          "forest walk",
          "forest walk",
          "forest walk",
          "forest walk",
          "forest walk",
          "forest walk",
          "forest walk",
          "forest walk",
          "forest walk",
          "forest walk",
          "forest walk",
          "forest walk",
          "forest walk",
          "forest walk",
          "forest walk",
          "forest walk",
          "forest walk",
          "forest walk",
          "forest walk",
          "Muy Tranquilo",
          "Muy Tranquilo",
          "Muy Tranquilo",
          "Muy Tranquilo",
          "Muy Tranquilo",
          "Muy Tranquilo",
          "Muy Tranquilo",
          "Muy Tranquilo",
          "Muy Tranquilo",
          "Muy Tranquilo",
          "Muy Tranquilo",
          "Muy Tranquilo",
          "Muy Tranquilo",
          "Muy Tranquilo",
          "Muy Tranquilo",
          "Muy Tranquilo",
          "Muy Tranquilo",
          "Muy Tranquilo",
          "Muy Tranquilo",
          "Muy Tranquilo",
          "Muy Tranquilo",
          "Muy Tranquilo",
          "Muy Tranquilo",
          "Muy Tranquilo",
          "Muy Tranquilo",
          "Muy Tranquilo",
          "Muy Tranquilo",
          "Muy Tranquilo",
          "Muy Tranquilo",
          "Muy Tranquilo",
          "Muy Tranquilo",
          "Muy Tranquilo",
          "Muy Tranquilo",
          "Muy Tranquilo",
          "Muy Tranquilo",
          "Muy Tranquilo",
          "Muy Tranquilo",
          "Muy Tranquilo",
          "Muy Tranquilo",
          "Muy Tranquilo",
          "Muy Tranquilo",
          "Muy Tranquilo",
          "Muy Tranquilo",
          "Muy Tranquilo",
          "Muy Tranquilo",
          "Muy Tranquilo",
          "Muy Tranquilo",
          "Muy Tranquilo",
          "Muy Tranquilo",
          "Muy Tranquilo"
         ],
         "xaxis": "x6",
         "y": [
          0,
          0,
          2.11e-06,
          3.47e-05,
          0,
          0,
          6.25e-05,
          2.48e-06,
          0,
          8.5e-05,
          0,
          0.000295,
          0.011,
          2.61e-05,
          0,
          0,
          0.00427,
          0.000189,
          0.000135,
          0.00208,
          0.00115,
          6.71e-06,
          0,
          0,
          0,
          2.68e-05,
          0,
          0.00186,
          0,
          0,
          0,
          0.000382,
          0,
          0,
          0,
          0,
          0,
          0,
          5.06e-06,
          5.83e-06,
          0,
          0,
          0,
          0,
          1.14e-05,
          0,
          3e-06,
          0,
          2.48e-05,
          0.00417,
          0,
          0,
          0,
          0.00143,
          1.29e-05,
          0,
          0.000637,
          3.56e-05,
          0,
          4.37e-06,
          0,
          0,
          0,
          1.36e-06,
          0,
          0.000115,
          2.85e-05,
          5.5e-06,
          0.00399,
          1.39e-06,
          0,
          0,
          0,
          0.000658,
          0,
          0,
          0,
          1.56e-05,
          0,
          0,
          0,
          0,
          1.02e-06,
          0,
          0,
          0,
          2.66e-05,
          1.28e-06,
          3.02e-06,
          4.31e-05,
          0,
          0,
          0,
          3.84e-05,
          2.63e-06,
          0.000156,
          0,
          0.00422,
          0.00371,
          0,
          7.26e-05,
          0,
          0,
          1.09e-06,
          2.1e-05,
          0.00113,
          0,
          0,
          0.000118,
          7.84e-06,
          0,
          4.4e-06,
          0,
          0,
          0,
          0,
          0,
          0.00289,
          0.000562,
          0,
          0,
          0,
          0,
          0,
          0.0034,
          2.56e-06,
          0.000738,
          0.00153,
          0.403,
          1.45e-05,
          0,
          3.83e-06,
          0.0754,
          0,
          0,
          0,
          0,
          0,
          5.11e-05,
          0,
          0,
          1.98e-06,
          6.92e-05,
          0,
          0,
          0.0328,
          8.78e-06,
          6.62e-05,
          9.96e-05,
          0,
          2.87e-05,
          0.00325,
          0.00463,
          0.476,
          0.0277,
          0,
          0,
          0.000331,
          1.86e-05,
          2.78e-05,
          0.000209,
          0.000116,
          0,
          6.52e-05,
          0.217,
          0.00105,
          2.24e-05,
          0.349,
          0.00681,
          0.000108,
          0.00129,
          0.257,
          4.95e-05,
          0.000844,
          0.000529,
          0.00395,
          0.000129,
          4e-05,
          0.0219,
          0.0124,
          0.000617,
          1.95e-05,
          0.00601,
          0,
          2.24e-06,
          0.000298,
          1.08e-05,
          4.83e-05,
          0.116,
          0.00217,
          0.00137,
          0.165,
          0.00226,
          7.06e-05,
          4.8e-05,
          0,
          0,
          0.559,
          0.0204,
          0.53,
          0.761,
          0,
          2.74e-06,
          0.314,
          0.915,
          0.0565,
          0.0187,
          0.807,
          0.00317,
          0.000344,
          0.34,
          0.762,
          0.27,
          0.856,
          0.906,
          0.00126,
          0.0555,
          0.485,
          0.901,
          0.00156,
          0.0069,
          0.0107,
          0.126,
          0.855,
          0.188,
          0.214,
          0.944,
          0.0883,
          0.732,
          0.777,
          0.825,
          0.82,
          0.866,
          0.747,
          0.892,
          0.485,
          1.65e-05,
          0.764,
          0.0643,
          0.84,
          0.00111,
          0.00102,
          0.747,
          0.945,
          0.865,
          0.0515,
          0.105
         ],
         "yaxis": "y6"
        },
        {
         "name": "liveness",
         "type": "box",
         "x": [
          "Peligrosa",
          "Peligrosa",
          "Peligrosa",
          "Peligrosa",
          "Peligrosa",
          "Peligrosa",
          "Peligrosa",
          "Peligrosa",
          "Peligrosa",
          "Peligrosa",
          "Peligrosa",
          "Peligrosa",
          "Peligrosa",
          "Peligrosa",
          "Peligrosa",
          "Peligrosa",
          "Peligrosa",
          "Peligrosa",
          "Peligrosa",
          "Peligrosa",
          "Peligrosa",
          "Peligrosa",
          "Peligrosa",
          "Peligrosa",
          "Peligrosa",
          "Peligrosa",
          "Peligrosa",
          "Peligrosa",
          "Peligrosa",
          "Peligrosa",
          "Peligrosa",
          "Peligrosa",
          "Peligrosa",
          "Peligrosa",
          "Peligrosa",
          "Peligrosa",
          "Peligrosa",
          "Peligrosa",
          "Peligrosa",
          "Peligrosa",
          "Peligrosa",
          "Peligrosa",
          "Peligrosa",
          "Peligrosa",
          "Peligrosa",
          "Peligrosa",
          "Peligrosa",
          "Peligrosa",
          "Peligrosa",
          "Peligrosa",
          "popsicle",
          "popsicle",
          "popsicle",
          "popsicle",
          "popsicle",
          "popsicle",
          "popsicle",
          "popsicle",
          "popsicle",
          "popsicle",
          "popsicle",
          "popsicle",
          "popsicle",
          "popsicle",
          "popsicle",
          "popsicle",
          "popsicle",
          "popsicle",
          "popsicle",
          "popsicle",
          "popsicle",
          "popsicle",
          "popsicle",
          "popsicle",
          "popsicle",
          "popsicle",
          "popsicle",
          "popsicle",
          "popsicle",
          "popsicle",
          "popsicle",
          "popsicle",
          "popsicle",
          "popsicle",
          "popsicle",
          "popsicle",
          "popsicle",
          "popsicle",
          "popsicle",
          "popsicle",
          "popsicle",
          "popsicle",
          "popsicle",
          "popsicle",
          "popsicle",
          "popsicle",
          "popsicle",
          "pv2",
          "pv2",
          "pv2",
          "pv2",
          "pv2",
          "pv2",
          "pv2",
          "pv2",
          "pv2",
          "pv2",
          "pv2",
          "pv2",
          "pv2",
          "pv2",
          "pv2",
          "pv2",
          "pv2",
          "pv2",
          "pv2",
          "pv2",
          "pv2",
          "pv2",
          "pv2",
          "pv2",
          "pv2",
          "pv2",
          "pv2",
          "pv2",
          "pv2",
          "pv2",
          "pv2",
          "pv2",
          "pv2",
          "pv2",
          "pv2",
          "pv2",
          "pv2",
          "pv2",
          "pv2",
          "pv2",
          "pv2",
          "pv2",
          "pv2",
          "pv2",
          "pv2",
          "pv2",
          "pv2",
          "pv2",
          "pv2",
          "pv2",
          "forest walk",
          "forest walk",
          "forest walk",
          "forest walk",
          "forest walk",
          "forest walk",
          "forest walk",
          "forest walk",
          "forest walk",
          "forest walk",
          "forest walk",
          "forest walk",
          "forest walk",
          "forest walk",
          "forest walk",
          "forest walk",
          "forest walk",
          "forest walk",
          "forest walk",
          "forest walk",
          "forest walk",
          "forest walk",
          "forest walk",
          "forest walk",
          "forest walk",
          "forest walk",
          "forest walk",
          "forest walk",
          "forest walk",
          "forest walk",
          "forest walk",
          "forest walk",
          "forest walk",
          "forest walk",
          "forest walk",
          "forest walk",
          "forest walk",
          "forest walk",
          "forest walk",
          "forest walk",
          "forest walk",
          "forest walk",
          "forest walk",
          "forest walk",
          "forest walk",
          "forest walk",
          "forest walk",
          "forest walk",
          "forest walk",
          "forest walk",
          "Muy Tranquilo",
          "Muy Tranquilo",
          "Muy Tranquilo",
          "Muy Tranquilo",
          "Muy Tranquilo",
          "Muy Tranquilo",
          "Muy Tranquilo",
          "Muy Tranquilo",
          "Muy Tranquilo",
          "Muy Tranquilo",
          "Muy Tranquilo",
          "Muy Tranquilo",
          "Muy Tranquilo",
          "Muy Tranquilo",
          "Muy Tranquilo",
          "Muy Tranquilo",
          "Muy Tranquilo",
          "Muy Tranquilo",
          "Muy Tranquilo",
          "Muy Tranquilo",
          "Muy Tranquilo",
          "Muy Tranquilo",
          "Muy Tranquilo",
          "Muy Tranquilo",
          "Muy Tranquilo",
          "Muy Tranquilo",
          "Muy Tranquilo",
          "Muy Tranquilo",
          "Muy Tranquilo",
          "Muy Tranquilo",
          "Muy Tranquilo",
          "Muy Tranquilo",
          "Muy Tranquilo",
          "Muy Tranquilo",
          "Muy Tranquilo",
          "Muy Tranquilo",
          "Muy Tranquilo",
          "Muy Tranquilo",
          "Muy Tranquilo",
          "Muy Tranquilo",
          "Muy Tranquilo",
          "Muy Tranquilo",
          "Muy Tranquilo",
          "Muy Tranquilo",
          "Muy Tranquilo",
          "Muy Tranquilo",
          "Muy Tranquilo",
          "Muy Tranquilo",
          "Muy Tranquilo",
          "Muy Tranquilo"
         ],
         "xaxis": "x7",
         "y": [
          0.175,
          0.0951,
          0.162,
          0.0836,
          0.114,
          0.129,
          0.101,
          0.06,
          0.299,
          0.111,
          0.0833,
          0.113,
          0.0861,
          0.0751,
          0.35,
          0.209,
          0.136,
          0.293,
          0.0807,
          0.0862,
          0.192,
          0.0695,
          0.081,
          0.0921,
          0.0823,
          0.0933,
          0.128,
          0.116,
          0.658,
          0.27,
          0.179,
          0.0627,
          0.104,
          0.111,
          0.399,
          0.381,
          0.111,
          0.0712,
          0.103,
          0.0943,
          0.0599,
          0.13,
          0.0863,
          0.089,
          0.172,
          0.115,
          0.0842,
          0.153,
          0.174,
          0.628,
          0.154,
          0.193,
          0.118,
          0.0993,
          0.0887,
          0.0906,
          0.137,
          0.132,
          0.0853,
          0.105,
          0.115,
          0.333,
          0.0765,
          0.418,
          0.37,
          0.0886,
          0.1,
          0.286,
          0.106,
          0.349,
          0.0951,
          0.0674,
          0.0761,
          0.102,
          0.183,
          0.321,
          0.0824,
          0.153,
          0.0742,
          0.141,
          0.0849,
          0.0944,
          0.156,
          0.142,
          0.0741,
          0.201,
          0.0893,
          0.0546,
          0.139,
          0.671,
          0.163,
          0.0803,
          0.0919,
          0.107,
          0.0798,
          0.319,
          0.61,
          0.285,
          0.178,
          0.153,
          0.188,
          0.0878,
          0.105,
          0.0934,
          0.0977,
          0.131,
          0.131,
          0.0794,
          0.136,
          0.108,
          0.0757,
          0.102,
          0.126,
          0.189,
          0.102,
          0.134,
          0.0699,
          0.847,
          0.0528,
          0.15,
          0.215,
          0.125,
          0.171,
          0.0799,
          0.0652,
          0.0858,
          0.0958,
          0.105,
          0.105,
          0.068,
          0.0624,
          0.414,
          0.29,
          0.239,
          0.303,
          0.0704,
          0.0784,
          0.115,
          0.0961,
          0.0781,
          0.0873,
          0.218,
          0.0795,
          0.109,
          0.103,
          0.0955,
          0.0954,
          0.104,
          0.111,
          0.109,
          0.0727,
          0.0584,
          0.123,
          0.0921,
          0.358,
          0.18,
          0.225,
          0.116,
          0.104,
          0.117,
          0.0916,
          0.109,
          0.0677,
          0.112,
          0.134,
          0.125,
          0.0794,
          0.094,
          0.0974,
          0.0901,
          0.5,
          0.115,
          0.106,
          0.154,
          0.109,
          0.1,
          0.209,
          0.114,
          0.123,
          0.0555,
          0.0642,
          0.178,
          0.108,
          0.0976,
          0.122,
          0.106,
          0.652,
          0.145,
          0.101,
          0.351,
          0.205,
          0.124,
          0.12,
          0.0841,
          0.121,
          0.221,
          0.162,
          0.13,
          0.403,
          0.381,
          0.132,
          0.138,
          0.168,
          0.083,
          0.379,
          0.132,
          0.101,
          0.078,
          0.112,
          0.093,
          0.468,
          0.128,
          0.0746,
          0.275,
          0.105,
          0.0794,
          0.115,
          0.0859,
          0.151,
          0.0799,
          0.118,
          0.356,
          0.322,
          0.0977,
          0.103,
          0.152,
          0.0782,
          0.0824,
          0.148,
          0.117,
          0.06,
          0.372,
          0.124,
          0.0893,
          0.0751,
          0.117,
          0.116,
          0.112,
          0.513,
          0.356,
          0.263,
          0.318,
          0.366,
          0.111,
          0.0975,
          0.427,
          0.11
         ],
         "yaxis": "y7"
        },
        {
         "name": "valence",
         "type": "box",
         "x": [
          "Peligrosa",
          "Peligrosa",
          "Peligrosa",
          "Peligrosa",
          "Peligrosa",
          "Peligrosa",
          "Peligrosa",
          "Peligrosa",
          "Peligrosa",
          "Peligrosa",
          "Peligrosa",
          "Peligrosa",
          "Peligrosa",
          "Peligrosa",
          "Peligrosa",
          "Peligrosa",
          "Peligrosa",
          "Peligrosa",
          "Peligrosa",
          "Peligrosa",
          "Peligrosa",
          "Peligrosa",
          "Peligrosa",
          "Peligrosa",
          "Peligrosa",
          "Peligrosa",
          "Peligrosa",
          "Peligrosa",
          "Peligrosa",
          "Peligrosa",
          "Peligrosa",
          "Peligrosa",
          "Peligrosa",
          "Peligrosa",
          "Peligrosa",
          "Peligrosa",
          "Peligrosa",
          "Peligrosa",
          "Peligrosa",
          "Peligrosa",
          "Peligrosa",
          "Peligrosa",
          "Peligrosa",
          "Peligrosa",
          "Peligrosa",
          "Peligrosa",
          "Peligrosa",
          "Peligrosa",
          "Peligrosa",
          "Peligrosa",
          "popsicle",
          "popsicle",
          "popsicle",
          "popsicle",
          "popsicle",
          "popsicle",
          "popsicle",
          "popsicle",
          "popsicle",
          "popsicle",
          "popsicle",
          "popsicle",
          "popsicle",
          "popsicle",
          "popsicle",
          "popsicle",
          "popsicle",
          "popsicle",
          "popsicle",
          "popsicle",
          "popsicle",
          "popsicle",
          "popsicle",
          "popsicle",
          "popsicle",
          "popsicle",
          "popsicle",
          "popsicle",
          "popsicle",
          "popsicle",
          "popsicle",
          "popsicle",
          "popsicle",
          "popsicle",
          "popsicle",
          "popsicle",
          "popsicle",
          "popsicle",
          "popsicle",
          "popsicle",
          "popsicle",
          "popsicle",
          "popsicle",
          "popsicle",
          "popsicle",
          "popsicle",
          "popsicle",
          "pv2",
          "pv2",
          "pv2",
          "pv2",
          "pv2",
          "pv2",
          "pv2",
          "pv2",
          "pv2",
          "pv2",
          "pv2",
          "pv2",
          "pv2",
          "pv2",
          "pv2",
          "pv2",
          "pv2",
          "pv2",
          "pv2",
          "pv2",
          "pv2",
          "pv2",
          "pv2",
          "pv2",
          "pv2",
          "pv2",
          "pv2",
          "pv2",
          "pv2",
          "pv2",
          "pv2",
          "pv2",
          "pv2",
          "pv2",
          "pv2",
          "pv2",
          "pv2",
          "pv2",
          "pv2",
          "pv2",
          "pv2",
          "pv2",
          "pv2",
          "pv2",
          "pv2",
          "pv2",
          "pv2",
          "pv2",
          "pv2",
          "pv2",
          "forest walk",
          "forest walk",
          "forest walk",
          "forest walk",
          "forest walk",
          "forest walk",
          "forest walk",
          "forest walk",
          "forest walk",
          "forest walk",
          "forest walk",
          "forest walk",
          "forest walk",
          "forest walk",
          "forest walk",
          "forest walk",
          "forest walk",
          "forest walk",
          "forest walk",
          "forest walk",
          "forest walk",
          "forest walk",
          "forest walk",
          "forest walk",
          "forest walk",
          "forest walk",
          "forest walk",
          "forest walk",
          "forest walk",
          "forest walk",
          "forest walk",
          "forest walk",
          "forest walk",
          "forest walk",
          "forest walk",
          "forest walk",
          "forest walk",
          "forest walk",
          "forest walk",
          "forest walk",
          "forest walk",
          "forest walk",
          "forest walk",
          "forest walk",
          "forest walk",
          "forest walk",
          "forest walk",
          "forest walk",
          "forest walk",
          "forest walk",
          "Muy Tranquilo",
          "Muy Tranquilo",
          "Muy Tranquilo",
          "Muy Tranquilo",
          "Muy Tranquilo",
          "Muy Tranquilo",
          "Muy Tranquilo",
          "Muy Tranquilo",
          "Muy Tranquilo",
          "Muy Tranquilo",
          "Muy Tranquilo",
          "Muy Tranquilo",
          "Muy Tranquilo",
          "Muy Tranquilo",
          "Muy Tranquilo",
          "Muy Tranquilo",
          "Muy Tranquilo",
          "Muy Tranquilo",
          "Muy Tranquilo",
          "Muy Tranquilo",
          "Muy Tranquilo",
          "Muy Tranquilo",
          "Muy Tranquilo",
          "Muy Tranquilo",
          "Muy Tranquilo",
          "Muy Tranquilo",
          "Muy Tranquilo",
          "Muy Tranquilo",
          "Muy Tranquilo",
          "Muy Tranquilo",
          "Muy Tranquilo",
          "Muy Tranquilo",
          "Muy Tranquilo",
          "Muy Tranquilo",
          "Muy Tranquilo",
          "Muy Tranquilo",
          "Muy Tranquilo",
          "Muy Tranquilo",
          "Muy Tranquilo",
          "Muy Tranquilo",
          "Muy Tranquilo",
          "Muy Tranquilo",
          "Muy Tranquilo",
          "Muy Tranquilo",
          "Muy Tranquilo",
          "Muy Tranquilo",
          "Muy Tranquilo",
          "Muy Tranquilo",
          "Muy Tranquilo",
          "Muy Tranquilo"
         ],
         "xaxis": "x8",
         "y": [
          0.808,
          0.712,
          0.631,
          0.612,
          0.537,
          0.749,
          0.501,
          0.678,
          0.49,
          0.607,
          0.627,
          0.373,
          0.637,
          0.32,
          0.922,
          0.476,
          0.521,
          0.716,
          0.206,
          0.793,
          0.967,
          0.96,
          0.575,
          0.329,
          0.437,
          0.425,
          0.587,
          0.515,
          0.419,
          0.676,
          0.412,
          0.51,
          0.739,
          0.643,
          0.602,
          0.653,
          0.724,
          0.749,
          0.362,
          0.902,
          0.847,
          0.815,
          0.555,
          0.562,
          0.769,
          0.614,
          0.51,
          0.577,
          0.659,
          0.423,
          0.872,
          0.241,
          0.651,
          0.465,
          0.383,
          0.74,
          0.243,
          0.394,
          0.813,
          0.162,
          0.282,
          0.956,
          0.618,
          0.244,
          0.484,
          0.47,
          0.468,
          0.656,
          0.396,
          0.467,
          0.679,
          0.915,
          0.595,
          0.746,
          0.59,
          0.859,
          0.51,
          0.608,
          0.627,
          0.299,
          0.688,
          0.552,
          0.876,
          0.631,
          0.926,
          0.769,
          0.407,
          0.879,
          0.605,
          0.765,
          0.425,
          0.649,
          0.352,
          0.748,
          0.446,
          0.156,
          0.389,
          0.83,
          0.57,
          0.277,
          0.579,
          0.817,
          0.618,
          0.51,
          0.49,
          0.665,
          0.266,
          0.443,
          0.722,
          0.647,
          0.964,
          0.331,
          0.899,
          0.706,
          0.356,
          0.262,
          0.799,
          0.137,
          0.693,
          0.496,
          0.577,
          0.886,
          0.793,
          0.805,
          0.895,
          0.683,
          0.357,
          0.34,
          0.235,
          0.678,
          0.732,
          0.881,
          0.362,
          0.371,
          0.28,
          0.5,
          0.585,
          0.637,
          0.283,
          0.741,
          0.47,
          0.85,
          0.566,
          0.577,
          0.889,
          0.594,
          0.449,
          0.207,
          0.563,
          0.218,
          0.471,
          0.427,
          0.576,
          0.446,
          0.366,
          0.418,
          0.592,
          0.287,
          0.132,
          0.078,
          0.131,
          0.306,
          0.385,
          0.443,
          0.526,
          0.351,
          0.138,
          0.0735,
          0.273,
          0.263,
          0.785,
          0.254,
          0.354,
          0.385,
          0.646,
          0.264,
          0.43,
          0.413,
          0.419,
          0.133,
          0.446,
          0.411,
          0.481,
          0.575,
          0.213,
          0.657,
          0.813,
          0.562,
          0.225,
          0.448,
          0.204,
          0.159,
          0.198,
          0.346,
          0.51,
          0.345,
          0.267,
          0.226,
          0.39,
          0.41,
          0.332,
          0.262,
          0.694,
          0.707,
          0.421,
          0.451,
          0.965,
          0.0365,
          0.378,
          0.624,
          0.0748,
          0.171,
          0.28,
          0.198,
          0.125,
          0.738,
          0.864,
          0.553,
          0.814,
          0.972,
          0.811,
          0.855,
          0.347,
          0.477,
          0.397,
          0.802,
          0.109,
          0.807,
          0.495,
          0.177,
          0.538,
          0.506,
          0.556,
          0.265,
          0.186,
          0.524,
          0.811,
          0.0938,
          0.265,
          0.414,
          0.35,
          0.753,
          0.423,
          0.271,
          0.059,
          0.203,
          0.128
         ],
         "yaxis": "y8"
        },
        {
         "name": "tempo",
         "type": "box",
         "x": [
          "Peligrosa",
          "Peligrosa",
          "Peligrosa",
          "Peligrosa",
          "Peligrosa",
          "Peligrosa",
          "Peligrosa",
          "Peligrosa",
          "Peligrosa",
          "Peligrosa",
          "Peligrosa",
          "Peligrosa",
          "Peligrosa",
          "Peligrosa",
          "Peligrosa",
          "Peligrosa",
          "Peligrosa",
          "Peligrosa",
          "Peligrosa",
          "Peligrosa",
          "Peligrosa",
          "Peligrosa",
          "Peligrosa",
          "Peligrosa",
          "Peligrosa",
          "Peligrosa",
          "Peligrosa",
          "Peligrosa",
          "Peligrosa",
          "Peligrosa",
          "Peligrosa",
          "Peligrosa",
          "Peligrosa",
          "Peligrosa",
          "Peligrosa",
          "Peligrosa",
          "Peligrosa",
          "Peligrosa",
          "Peligrosa",
          "Peligrosa",
          "Peligrosa",
          "Peligrosa",
          "Peligrosa",
          "Peligrosa",
          "Peligrosa",
          "Peligrosa",
          "Peligrosa",
          "Peligrosa",
          "Peligrosa",
          "Peligrosa",
          "popsicle",
          "popsicle",
          "popsicle",
          "popsicle",
          "popsicle",
          "popsicle",
          "popsicle",
          "popsicle",
          "popsicle",
          "popsicle",
          "popsicle",
          "popsicle",
          "popsicle",
          "popsicle",
          "popsicle",
          "popsicle",
          "popsicle",
          "popsicle",
          "popsicle",
          "popsicle",
          "popsicle",
          "popsicle",
          "popsicle",
          "popsicle",
          "popsicle",
          "popsicle",
          "popsicle",
          "popsicle",
          "popsicle",
          "popsicle",
          "popsicle",
          "popsicle",
          "popsicle",
          "popsicle",
          "popsicle",
          "popsicle",
          "popsicle",
          "popsicle",
          "popsicle",
          "popsicle",
          "popsicle",
          "popsicle",
          "popsicle",
          "popsicle",
          "popsicle",
          "popsicle",
          "popsicle",
          "pv2",
          "pv2",
          "pv2",
          "pv2",
          "pv2",
          "pv2",
          "pv2",
          "pv2",
          "pv2",
          "pv2",
          "pv2",
          "pv2",
          "pv2",
          "pv2",
          "pv2",
          "pv2",
          "pv2",
          "pv2",
          "pv2",
          "pv2",
          "pv2",
          "pv2",
          "pv2",
          "pv2",
          "pv2",
          "pv2",
          "pv2",
          "pv2",
          "pv2",
          "pv2",
          "pv2",
          "pv2",
          "pv2",
          "pv2",
          "pv2",
          "pv2",
          "pv2",
          "pv2",
          "pv2",
          "pv2",
          "pv2",
          "pv2",
          "pv2",
          "pv2",
          "pv2",
          "pv2",
          "pv2",
          "pv2",
          "pv2",
          "pv2",
          "forest walk",
          "forest walk",
          "forest walk",
          "forest walk",
          "forest walk",
          "forest walk",
          "forest walk",
          "forest walk",
          "forest walk",
          "forest walk",
          "forest walk",
          "forest walk",
          "forest walk",
          "forest walk",
          "forest walk",
          "forest walk",
          "forest walk",
          "forest walk",
          "forest walk",
          "forest walk",
          "forest walk",
          "forest walk",
          "forest walk",
          "forest walk",
          "forest walk",
          "forest walk",
          "forest walk",
          "forest walk",
          "forest walk",
          "forest walk",
          "forest walk",
          "forest walk",
          "forest walk",
          "forest walk",
          "forest walk",
          "forest walk",
          "forest walk",
          "forest walk",
          "forest walk",
          "forest walk",
          "forest walk",
          "forest walk",
          "forest walk",
          "forest walk",
          "forest walk",
          "forest walk",
          "forest walk",
          "forest walk",
          "forest walk",
          "forest walk",
          "Muy Tranquilo",
          "Muy Tranquilo",
          "Muy Tranquilo",
          "Muy Tranquilo",
          "Muy Tranquilo",
          "Muy Tranquilo",
          "Muy Tranquilo",
          "Muy Tranquilo",
          "Muy Tranquilo",
          "Muy Tranquilo",
          "Muy Tranquilo",
          "Muy Tranquilo",
          "Muy Tranquilo",
          "Muy Tranquilo",
          "Muy Tranquilo",
          "Muy Tranquilo",
          "Muy Tranquilo",
          "Muy Tranquilo",
          "Muy Tranquilo",
          "Muy Tranquilo",
          "Muy Tranquilo",
          "Muy Tranquilo",
          "Muy Tranquilo",
          "Muy Tranquilo",
          "Muy Tranquilo",
          "Muy Tranquilo",
          "Muy Tranquilo",
          "Muy Tranquilo",
          "Muy Tranquilo",
          "Muy Tranquilo",
          "Muy Tranquilo",
          "Muy Tranquilo",
          "Muy Tranquilo",
          "Muy Tranquilo",
          "Muy Tranquilo",
          "Muy Tranquilo",
          "Muy Tranquilo",
          "Muy Tranquilo",
          "Muy Tranquilo",
          "Muy Tranquilo",
          "Muy Tranquilo",
          "Muy Tranquilo",
          "Muy Tranquilo",
          "Muy Tranquilo",
          "Muy Tranquilo",
          "Muy Tranquilo",
          "Muy Tranquilo",
          "Muy Tranquilo",
          "Muy Tranquilo",
          "Muy Tranquilo"
         ],
         "xaxis": "x9",
         "y": [
          88.039,
          90.037,
          97.993,
          97.964,
          87.958,
          93.914,
          95.066,
          163.918,
          94.99,
          91.023,
          99.018,
          87.934,
          91.986,
          118.03,
          95.004,
          81.536,
          179.975,
          94.979,
          123.963,
          91.005,
          179.968,
          89.978,
          174.14,
          95.927,
          91.978,
          92.005,
          91.006,
          128.019,
          114.011,
          92.025,
          174.095,
          107.01,
          179.78,
          91.05,
          176.01,
          91.934,
          94.983,
          80.987,
          92.018,
          95,
          94.039,
          99.981,
          92.023,
          92.017,
          170.023,
          110.031,
          88.965,
          164.062,
          82.01,
          127.999,
          78.911,
          98.933,
          132.95,
          101.005,
          105.046,
          116.959,
          129.923,
          104.988,
          91.97,
          179.643,
          175.756,
          94.996,
          175.984,
          114.066,
          80.003,
          96.021,
          115.982,
          106.976,
          114.999,
          113.011,
          123.95,
          102.977,
          127.99,
          146.967,
          134.01,
          114.993,
          97.028,
          116.073,
          122.053,
          161.01,
          166.928,
          103.998,
          133.971,
          83.067,
          117.009,
          101.013,
          119.977,
          132.626,
          119.999,
          126.03,
          125.014,
          124.072,
          123.942,
          93.043,
          95.01,
          136.029,
          61.657,
          100.008,
          77.5,
          81.118,
          102.034,
          82.014,
          131.94,
          94.985,
          89.911,
          115.004,
          92.06,
          170,
          104.029,
          191.951,
          120.047,
          94.1,
          117.977,
          109.945,
          112.69,
          81.956,
          123.971,
          86.91,
          75.028,
          123.848,
          95.01,
          89.988,
          167.987,
          92.059,
          120.019,
          133.872,
          115.014,
          95.019,
          60.774,
          96.995,
          138.014,
          89.969,
          126.79,
          109.936,
          142.093,
          109.946,
          84.033,
          89.99,
          127.965,
          110.496,
          120,
          124.98,
          116.974,
          140.01,
          113.03,
          122.053,
          93.933,
          173.116,
          147.921,
          128.094,
          114.032,
          100.17,
          132.778,
          147.01,
          86.507,
          150.075,
          116.02,
          104.991,
          86.509,
          110.048,
          120.294,
          151.75,
          141.789,
          96.024,
          173.277,
          100.734,
          120.023,
          148.658,
          76.02,
          95.379,
          120.473,
          82.459,
          118.411,
          94.998,
          177.98,
          120.031,
          101.938,
          124.169,
          103.984,
          111.709,
          115.246,
          141.97,
          105.17,
          195.925,
          72.871,
          103.969,
          151.046,
          103.846,
          93.39,
          161.985,
          82.448,
          103.987,
          59.343,
          112.988,
          105.673,
          107.577,
          134.915,
          169.977,
          90.094,
          113.201,
          98.984,
          75.589,
          80.001,
          90.024,
          103.464,
          82.995,
          124.023,
          128.004,
          141.577,
          88.736,
          98.923,
          117.99,
          84.766,
          95,
          114.997,
          102.025,
          119.986,
          104.997,
          105.012,
          154.971,
          112.951,
          107.999,
          122.991,
          93.989,
          95.024,
          103.993,
          99.995,
          173.991,
          76.988,
          112.033,
          73.942,
          79.905,
          114.014,
          86.992,
          127.958,
          95.991,
          89.98,
          81.006,
          85.04,
          104.002,
          89.721,
          87.995,
          139.944,
          125.516,
          104.98,
          119.998,
          120.015
         ],
         "yaxis": "y9"
        }
       ],
       "layout": {
        "height": 2000,
        "template": {
         "data": {
          "bar": [
           {
            "error_x": {
             "color": "#2a3f5f"
            },
            "error_y": {
             "color": "#2a3f5f"
            },
            "marker": {
             "line": {
              "color": "#E5ECF6",
              "width": 0.5
             },
             "pattern": {
              "fillmode": "overlay",
              "size": 10,
              "solidity": 0.2
             }
            },
            "type": "bar"
           }
          ],
          "barpolar": [
           {
            "marker": {
             "line": {
              "color": "#E5ECF6",
              "width": 0.5
             },
             "pattern": {
              "fillmode": "overlay",
              "size": 10,
              "solidity": 0.2
             }
            },
            "type": "barpolar"
           }
          ],
          "carpet": [
           {
            "aaxis": {
             "endlinecolor": "#2a3f5f",
             "gridcolor": "white",
             "linecolor": "white",
             "minorgridcolor": "white",
             "startlinecolor": "#2a3f5f"
            },
            "baxis": {
             "endlinecolor": "#2a3f5f",
             "gridcolor": "white",
             "linecolor": "white",
             "minorgridcolor": "white",
             "startlinecolor": "#2a3f5f"
            },
            "type": "carpet"
           }
          ],
          "choropleth": [
           {
            "colorbar": {
             "outlinewidth": 0,
             "ticks": ""
            },
            "type": "choropleth"
           }
          ],
          "contour": [
           {
            "colorbar": {
             "outlinewidth": 0,
             "ticks": ""
            },
            "colorscale": [
             [
              0,
              "#0d0887"
             ],
             [
              0.1111111111111111,
              "#46039f"
             ],
             [
              0.2222222222222222,
              "#7201a8"
             ],
             [
              0.3333333333333333,
              "#9c179e"
             ],
             [
              0.4444444444444444,
              "#bd3786"
             ],
             [
              0.5555555555555556,
              "#d8576b"
             ],
             [
              0.6666666666666666,
              "#ed7953"
             ],
             [
              0.7777777777777778,
              "#fb9f3a"
             ],
             [
              0.8888888888888888,
              "#fdca26"
             ],
             [
              1,
              "#f0f921"
             ]
            ],
            "type": "contour"
           }
          ],
          "contourcarpet": [
           {
            "colorbar": {
             "outlinewidth": 0,
             "ticks": ""
            },
            "type": "contourcarpet"
           }
          ],
          "heatmap": [
           {
            "colorbar": {
             "outlinewidth": 0,
             "ticks": ""
            },
            "colorscale": [
             [
              0,
              "#0d0887"
             ],
             [
              0.1111111111111111,
              "#46039f"
             ],
             [
              0.2222222222222222,
              "#7201a8"
             ],
             [
              0.3333333333333333,
              "#9c179e"
             ],
             [
              0.4444444444444444,
              "#bd3786"
             ],
             [
              0.5555555555555556,
              "#d8576b"
             ],
             [
              0.6666666666666666,
              "#ed7953"
             ],
             [
              0.7777777777777778,
              "#fb9f3a"
             ],
             [
              0.8888888888888888,
              "#fdca26"
             ],
             [
              1,
              "#f0f921"
             ]
            ],
            "type": "heatmap"
           }
          ],
          "heatmapgl": [
           {
            "colorbar": {
             "outlinewidth": 0,
             "ticks": ""
            },
            "colorscale": [
             [
              0,
              "#0d0887"
             ],
             [
              0.1111111111111111,
              "#46039f"
             ],
             [
              0.2222222222222222,
              "#7201a8"
             ],
             [
              0.3333333333333333,
              "#9c179e"
             ],
             [
              0.4444444444444444,
              "#bd3786"
             ],
             [
              0.5555555555555556,
              "#d8576b"
             ],
             [
              0.6666666666666666,
              "#ed7953"
             ],
             [
              0.7777777777777778,
              "#fb9f3a"
             ],
             [
              0.8888888888888888,
              "#fdca26"
             ],
             [
              1,
              "#f0f921"
             ]
            ],
            "type": "heatmapgl"
           }
          ],
          "histogram": [
           {
            "marker": {
             "pattern": {
              "fillmode": "overlay",
              "size": 10,
              "solidity": 0.2
             }
            },
            "type": "histogram"
           }
          ],
          "histogram2d": [
           {
            "colorbar": {
             "outlinewidth": 0,
             "ticks": ""
            },
            "colorscale": [
             [
              0,
              "#0d0887"
             ],
             [
              0.1111111111111111,
              "#46039f"
             ],
             [
              0.2222222222222222,
              "#7201a8"
             ],
             [
              0.3333333333333333,
              "#9c179e"
             ],
             [
              0.4444444444444444,
              "#bd3786"
             ],
             [
              0.5555555555555556,
              "#d8576b"
             ],
             [
              0.6666666666666666,
              "#ed7953"
             ],
             [
              0.7777777777777778,
              "#fb9f3a"
             ],
             [
              0.8888888888888888,
              "#fdca26"
             ],
             [
              1,
              "#f0f921"
             ]
            ],
            "type": "histogram2d"
           }
          ],
          "histogram2dcontour": [
           {
            "colorbar": {
             "outlinewidth": 0,
             "ticks": ""
            },
            "colorscale": [
             [
              0,
              "#0d0887"
             ],
             [
              0.1111111111111111,
              "#46039f"
             ],
             [
              0.2222222222222222,
              "#7201a8"
             ],
             [
              0.3333333333333333,
              "#9c179e"
             ],
             [
              0.4444444444444444,
              "#bd3786"
             ],
             [
              0.5555555555555556,
              "#d8576b"
             ],
             [
              0.6666666666666666,
              "#ed7953"
             ],
             [
              0.7777777777777778,
              "#fb9f3a"
             ],
             [
              0.8888888888888888,
              "#fdca26"
             ],
             [
              1,
              "#f0f921"
             ]
            ],
            "type": "histogram2dcontour"
           }
          ],
          "mesh3d": [
           {
            "colorbar": {
             "outlinewidth": 0,
             "ticks": ""
            },
            "type": "mesh3d"
           }
          ],
          "parcoords": [
           {
            "line": {
             "colorbar": {
              "outlinewidth": 0,
              "ticks": ""
             }
            },
            "type": "parcoords"
           }
          ],
          "pie": [
           {
            "automargin": true,
            "type": "pie"
           }
          ],
          "scatter": [
           {
            "fillpattern": {
             "fillmode": "overlay",
             "size": 10,
             "solidity": 0.2
            },
            "type": "scatter"
           }
          ],
          "scatter3d": [
           {
            "line": {
             "colorbar": {
              "outlinewidth": 0,
              "ticks": ""
             }
            },
            "marker": {
             "colorbar": {
              "outlinewidth": 0,
              "ticks": ""
             }
            },
            "type": "scatter3d"
           }
          ],
          "scattercarpet": [
           {
            "marker": {
             "colorbar": {
              "outlinewidth": 0,
              "ticks": ""
             }
            },
            "type": "scattercarpet"
           }
          ],
          "scattergeo": [
           {
            "marker": {
             "colorbar": {
              "outlinewidth": 0,
              "ticks": ""
             }
            },
            "type": "scattergeo"
           }
          ],
          "scattergl": [
           {
            "marker": {
             "colorbar": {
              "outlinewidth": 0,
              "ticks": ""
             }
            },
            "type": "scattergl"
           }
          ],
          "scattermapbox": [
           {
            "marker": {
             "colorbar": {
              "outlinewidth": 0,
              "ticks": ""
             }
            },
            "type": "scattermapbox"
           }
          ],
          "scatterpolar": [
           {
            "marker": {
             "colorbar": {
              "outlinewidth": 0,
              "ticks": ""
             }
            },
            "type": "scatterpolar"
           }
          ],
          "scatterpolargl": [
           {
            "marker": {
             "colorbar": {
              "outlinewidth": 0,
              "ticks": ""
             }
            },
            "type": "scatterpolargl"
           }
          ],
          "scatterternary": [
           {
            "marker": {
             "colorbar": {
              "outlinewidth": 0,
              "ticks": ""
             }
            },
            "type": "scatterternary"
           }
          ],
          "surface": [
           {
            "colorbar": {
             "outlinewidth": 0,
             "ticks": ""
            },
            "colorscale": [
             [
              0,
              "#0d0887"
             ],
             [
              0.1111111111111111,
              "#46039f"
             ],
             [
              0.2222222222222222,
              "#7201a8"
             ],
             [
              0.3333333333333333,
              "#9c179e"
             ],
             [
              0.4444444444444444,
              "#bd3786"
             ],
             [
              0.5555555555555556,
              "#d8576b"
             ],
             [
              0.6666666666666666,
              "#ed7953"
             ],
             [
              0.7777777777777778,
              "#fb9f3a"
             ],
             [
              0.8888888888888888,
              "#fdca26"
             ],
             [
              1,
              "#f0f921"
             ]
            ],
            "type": "surface"
           }
          ],
          "table": [
           {
            "cells": {
             "fill": {
              "color": "#EBF0F8"
             },
             "line": {
              "color": "white"
             }
            },
            "header": {
             "fill": {
              "color": "#C8D4E3"
             },
             "line": {
              "color": "white"
             }
            },
            "type": "table"
           }
          ]
         },
         "layout": {
          "annotationdefaults": {
           "arrowcolor": "#2a3f5f",
           "arrowhead": 0,
           "arrowwidth": 1
          },
          "autotypenumbers": "strict",
          "coloraxis": {
           "colorbar": {
            "outlinewidth": 0,
            "ticks": ""
           }
          },
          "colorscale": {
           "diverging": [
            [
             0,
             "#8e0152"
            ],
            [
             0.1,
             "#c51b7d"
            ],
            [
             0.2,
             "#de77ae"
            ],
            [
             0.3,
             "#f1b6da"
            ],
            [
             0.4,
             "#fde0ef"
            ],
            [
             0.5,
             "#f7f7f7"
            ],
            [
             0.6,
             "#e6f5d0"
            ],
            [
             0.7,
             "#b8e186"
            ],
            [
             0.8,
             "#7fbc41"
            ],
            [
             0.9,
             "#4d9221"
            ],
            [
             1,
             "#276419"
            ]
           ],
           "sequential": [
            [
             0,
             "#0d0887"
            ],
            [
             0.1111111111111111,
             "#46039f"
            ],
            [
             0.2222222222222222,
             "#7201a8"
            ],
            [
             0.3333333333333333,
             "#9c179e"
            ],
            [
             0.4444444444444444,
             "#bd3786"
            ],
            [
             0.5555555555555556,
             "#d8576b"
            ],
            [
             0.6666666666666666,
             "#ed7953"
            ],
            [
             0.7777777777777778,
             "#fb9f3a"
            ],
            [
             0.8888888888888888,
             "#fdca26"
            ],
            [
             1,
             "#f0f921"
            ]
           ],
           "sequentialminus": [
            [
             0,
             "#0d0887"
            ],
            [
             0.1111111111111111,
             "#46039f"
            ],
            [
             0.2222222222222222,
             "#7201a8"
            ],
            [
             0.3333333333333333,
             "#9c179e"
            ],
            [
             0.4444444444444444,
             "#bd3786"
            ],
            [
             0.5555555555555556,
             "#d8576b"
            ],
            [
             0.6666666666666666,
             "#ed7953"
            ],
            [
             0.7777777777777778,
             "#fb9f3a"
            ],
            [
             0.8888888888888888,
             "#fdca26"
            ],
            [
             1,
             "#f0f921"
            ]
           ]
          },
          "colorway": [
           "#636efa",
           "#EF553B",
           "#00cc96",
           "#ab63fa",
           "#FFA15A",
           "#19d3f3",
           "#FF6692",
           "#B6E880",
           "#FF97FF",
           "#FECB52"
          ],
          "font": {
           "color": "#2a3f5f"
          },
          "geo": {
           "bgcolor": "white",
           "lakecolor": "white",
           "landcolor": "#E5ECF6",
           "showlakes": true,
           "showland": true,
           "subunitcolor": "white"
          },
          "hoverlabel": {
           "align": "left"
          },
          "hovermode": "closest",
          "mapbox": {
           "style": "light"
          },
          "paper_bgcolor": "white",
          "plot_bgcolor": "#E5ECF6",
          "polar": {
           "angularaxis": {
            "gridcolor": "white",
            "linecolor": "white",
            "ticks": ""
           },
           "bgcolor": "#E5ECF6",
           "radialaxis": {
            "gridcolor": "white",
            "linecolor": "white",
            "ticks": ""
           }
          },
          "scene": {
           "xaxis": {
            "backgroundcolor": "#E5ECF6",
            "gridcolor": "white",
            "gridwidth": 2,
            "linecolor": "white",
            "showbackground": true,
            "ticks": "",
            "zerolinecolor": "white"
           },
           "yaxis": {
            "backgroundcolor": "#E5ECF6",
            "gridcolor": "white",
            "gridwidth": 2,
            "linecolor": "white",
            "showbackground": true,
            "ticks": "",
            "zerolinecolor": "white"
           },
           "zaxis": {
            "backgroundcolor": "#E5ECF6",
            "gridcolor": "white",
            "gridwidth": 2,
            "linecolor": "white",
            "showbackground": true,
            "ticks": "",
            "zerolinecolor": "white"
           }
          },
          "shapedefaults": {
           "line": {
            "color": "#2a3f5f"
           }
          },
          "ternary": {
           "aaxis": {
            "gridcolor": "white",
            "linecolor": "white",
            "ticks": ""
           },
           "baxis": {
            "gridcolor": "white",
            "linecolor": "white",
            "ticks": ""
           },
           "bgcolor": "#E5ECF6",
           "caxis": {
            "gridcolor": "white",
            "linecolor": "white",
            "ticks": ""
           }
          },
          "title": {
           "x": 0.05
          },
          "xaxis": {
           "automargin": true,
           "gridcolor": "white",
           "linecolor": "white",
           "ticks": "",
           "title": {
            "standoff": 15
           },
           "zerolinecolor": "white",
           "zerolinewidth": 2
          },
          "yaxis": {
           "automargin": true,
           "gridcolor": "white",
           "linecolor": "white",
           "ticks": "",
           "title": {
            "standoff": 15
           },
           "zerolinecolor": "white",
           "zerolinewidth": 2
          }
         }
        },
        "title": {
         "text": "Features for different playlists"
        },
        "width": 800,
        "xaxis": {
         "anchor": "y",
         "domain": [
          0,
          1
         ]
        },
        "xaxis2": {
         "anchor": "y2",
         "domain": [
          0,
          1
         ]
        },
        "xaxis3": {
         "anchor": "y3",
         "domain": [
          0,
          1
         ]
        },
        "xaxis4": {
         "anchor": "y4",
         "domain": [
          0,
          1
         ]
        },
        "xaxis5": {
         "anchor": "y5",
         "domain": [
          0,
          1
         ]
        },
        "xaxis6": {
         "anchor": "y6",
         "domain": [
          0,
          1
         ]
        },
        "xaxis7": {
         "anchor": "y7",
         "domain": [
          0,
          1
         ]
        },
        "xaxis8": {
         "anchor": "y8",
         "domain": [
          0,
          1
         ]
        },
        "xaxis9": {
         "anchor": "y9",
         "domain": [
          0,
          1
         ]
        },
        "yaxis": {
         "anchor": "x",
         "domain": [
          0.9185185185185185,
          1
         ]
        },
        "yaxis2": {
         "anchor": "x2",
         "domain": [
          0.8037037037037038,
          0.8851851851851853
         ]
        },
        "yaxis3": {
         "anchor": "x3",
         "domain": [
          0.6888888888888889,
          0.7703703703703704
         ]
        },
        "yaxis4": {
         "anchor": "x4",
         "domain": [
          0.5740740740740741,
          0.6555555555555556
         ]
        },
        "yaxis5": {
         "anchor": "x5",
         "domain": [
          0.45925925925925926,
          0.5407407407407407
         ]
        },
        "yaxis6": {
         "anchor": "x6",
         "domain": [
          0.34444444444444444,
          0.42592592592592593
         ]
        },
        "yaxis7": {
         "anchor": "x7",
         "domain": [
          0.22962962962962963,
          0.3111111111111111
         ]
        },
        "yaxis8": {
         "anchor": "x8",
         "domain": [
          0.11481481481481481,
          0.1962962962962963
         ]
        },
        "yaxis9": {
         "anchor": "x9",
         "domain": [
          0,
          0.08148148148148149
         ]
        }
       }
      },
      "text/html": [
       "<div>                            <div id=\"3c2f8eb6-9e31-458c-b487-16a6fc092c25\" class=\"plotly-graph-div\" style=\"height:2000px; width:800px;\"></div>            <script type=\"text/javascript\">                require([\"plotly\"], function(Plotly) {                    window.PLOTLYENV=window.PLOTLYENV || {};                                    if (document.getElementById(\"3c2f8eb6-9e31-458c-b487-16a6fc092c25\")) {                    Plotly.newPlot(                        \"3c2f8eb6-9e31-458c-b487-16a6fc092c25\",                        [{\"name\":\"danceability\",\"x\":[\"Peligrosa\",\"Peligrosa\",\"Peligrosa\",\"Peligrosa\",\"Peligrosa\",\"Peligrosa\",\"Peligrosa\",\"Peligrosa\",\"Peligrosa\",\"Peligrosa\",\"Peligrosa\",\"Peligrosa\",\"Peligrosa\",\"Peligrosa\",\"Peligrosa\",\"Peligrosa\",\"Peligrosa\",\"Peligrosa\",\"Peligrosa\",\"Peligrosa\",\"Peligrosa\",\"Peligrosa\",\"Peligrosa\",\"Peligrosa\",\"Peligrosa\",\"Peligrosa\",\"Peligrosa\",\"Peligrosa\",\"Peligrosa\",\"Peligrosa\",\"Peligrosa\",\"Peligrosa\",\"Peligrosa\",\"Peligrosa\",\"Peligrosa\",\"Peligrosa\",\"Peligrosa\",\"Peligrosa\",\"Peligrosa\",\"Peligrosa\",\"Peligrosa\",\"Peligrosa\",\"Peligrosa\",\"Peligrosa\",\"Peligrosa\",\"Peligrosa\",\"Peligrosa\",\"Peligrosa\",\"Peligrosa\",\"Peligrosa\",\"popsicle\",\"popsicle\",\"popsicle\",\"popsicle\",\"popsicle\",\"popsicle\",\"popsicle\",\"popsicle\",\"popsicle\",\"popsicle\",\"popsicle\",\"popsicle\",\"popsicle\",\"popsicle\",\"popsicle\",\"popsicle\",\"popsicle\",\"popsicle\",\"popsicle\",\"popsicle\",\"popsicle\",\"popsicle\",\"popsicle\",\"popsicle\",\"popsicle\",\"popsicle\",\"popsicle\",\"popsicle\",\"popsicle\",\"popsicle\",\"popsicle\",\"popsicle\",\"popsicle\",\"popsicle\",\"popsicle\",\"popsicle\",\"popsicle\",\"popsicle\",\"popsicle\",\"popsicle\",\"popsicle\",\"popsicle\",\"popsicle\",\"popsicle\",\"popsicle\",\"popsicle\",\"popsicle\",\"pv2\",\"pv2\",\"pv2\",\"pv2\",\"pv2\",\"pv2\",\"pv2\",\"pv2\",\"pv2\",\"pv2\",\"pv2\",\"pv2\",\"pv2\",\"pv2\",\"pv2\",\"pv2\",\"pv2\",\"pv2\",\"pv2\",\"pv2\",\"pv2\",\"pv2\",\"pv2\",\"pv2\",\"pv2\",\"pv2\",\"pv2\",\"pv2\",\"pv2\",\"pv2\",\"pv2\",\"pv2\",\"pv2\",\"pv2\",\"pv2\",\"pv2\",\"pv2\",\"pv2\",\"pv2\",\"pv2\",\"pv2\",\"pv2\",\"pv2\",\"pv2\",\"pv2\",\"pv2\",\"pv2\",\"pv2\",\"pv2\",\"pv2\",\"forest walk\",\"forest walk\",\"forest walk\",\"forest walk\",\"forest walk\",\"forest walk\",\"forest walk\",\"forest walk\",\"forest walk\",\"forest walk\",\"forest walk\",\"forest walk\",\"forest walk\",\"forest walk\",\"forest walk\",\"forest walk\",\"forest walk\",\"forest walk\",\"forest walk\",\"forest walk\",\"forest walk\",\"forest walk\",\"forest walk\",\"forest walk\",\"forest walk\",\"forest walk\",\"forest walk\",\"forest walk\",\"forest walk\",\"forest walk\",\"forest walk\",\"forest walk\",\"forest walk\",\"forest walk\",\"forest walk\",\"forest walk\",\"forest walk\",\"forest walk\",\"forest walk\",\"forest walk\",\"forest walk\",\"forest walk\",\"forest walk\",\"forest walk\",\"forest walk\",\"forest walk\",\"forest walk\",\"forest walk\",\"forest walk\",\"forest walk\",\"Muy Tranquilo\",\"Muy Tranquilo\",\"Muy Tranquilo\",\"Muy Tranquilo\",\"Muy Tranquilo\",\"Muy Tranquilo\",\"Muy Tranquilo\",\"Muy Tranquilo\",\"Muy Tranquilo\",\"Muy Tranquilo\",\"Muy Tranquilo\",\"Muy Tranquilo\",\"Muy Tranquilo\",\"Muy Tranquilo\",\"Muy Tranquilo\",\"Muy Tranquilo\",\"Muy Tranquilo\",\"Muy Tranquilo\",\"Muy Tranquilo\",\"Muy Tranquilo\",\"Muy Tranquilo\",\"Muy Tranquilo\",\"Muy Tranquilo\",\"Muy Tranquilo\",\"Muy Tranquilo\",\"Muy Tranquilo\",\"Muy Tranquilo\",\"Muy Tranquilo\",\"Muy Tranquilo\",\"Muy Tranquilo\",\"Muy Tranquilo\",\"Muy Tranquilo\",\"Muy Tranquilo\",\"Muy Tranquilo\",\"Muy Tranquilo\",\"Muy Tranquilo\",\"Muy Tranquilo\",\"Muy Tranquilo\",\"Muy Tranquilo\",\"Muy Tranquilo\",\"Muy Tranquilo\",\"Muy Tranquilo\",\"Muy Tranquilo\",\"Muy Tranquilo\",\"Muy Tranquilo\",\"Muy Tranquilo\",\"Muy Tranquilo\",\"Muy Tranquilo\",\"Muy Tranquilo\",\"Muy Tranquilo\"],\"y\":[0.859,0.902,0.83,0.834,0.826,0.754,0.761,0.762,0.773,0.867,0.568,0.83,0.803,0.834,0.685,0.789,0.776,0.793,0.813,0.852,0.801,0.842,0.695,0.456,0.776,0.911,0.739,0.957,0.795,0.801,0.616,0.809,0.739,0.7,0.747,0.763,0.847,0.838,0.798,0.812,0.929,0.9,0.801,0.827,0.795,0.812,0.785,0.701,0.822,0.82,0.549,0.549,0.804,0.669,0.724,0.759,0.637,0.765,0.726,0.494,0.425,0.756,0.551,0.601,0.613,0.652,0.659,0.906,0.868,0.73,0.793,0.702,0.781,0.647,0.722,0.875,0.836,0.762,0.627,0.336,0.563,0.674,0.691,0.617,0.858,0.683,0.629,0.608,0.719,0.649,0.791,0.638,0.714,0.715,0.757,0.74,0.573,0.749,0.761,0.588,0.797,0.604,0.823,0.917,0.632,0.789,0.453,0.705,0.761,0.715,0.831,0.721,0.874,0.814,0.763,0.654,0.921,0.317,0.524,0.763,0.725,0.838,0.704,0.739,0.786,0.612,0.737,0.884,0.205,0.891,0.582,0.66,0.622,0.788,0.582,0.741,0.687,0.775,0.756,0.786,0.658,0.835,0.844,0.761,0.774,0.682,0.699,0.577,0.574,0.643,0.429,0.67,0.475,0.561,0.552,0.611,0.603,0.568,0.488,0.67,0.674,0.705,0.732,0.767,0.401,0.436,0.616,0.264,0.675,0.587,0.823,0.567,0.72,0.589,0.755,0.725,0.479,0.659,0.598,0.359,0.473,0.689,0.892,0.448,0.636,0.852,0.76,0.777,0.564,0.596,0.52,0.644,0.381,0.676,0.65,0.446,0.547,0.59,0.665,0.74,0.629,0.807,0.639,0.78,0.774,0.724,0.881,0.505,0.447,0.501,0.514,0.56,0.411,0.603,0.677,0.863,0.815,0.659,0.803,0.746,0.913,0.784,0.893,0.645,0.646,0.637,0.599,0.62,0.638,0.771,0.612,0.734,0.763,0.625,0.746,0.784,0.787,0.672,0.831,0.844,0.654,0.892,0.646,0.663,0.712,0.751,0.785],\"type\":\"box\",\"xaxis\":\"x\",\"yaxis\":\"y\"},{\"name\":\"energy\",\"x\":[\"Peligrosa\",\"Peligrosa\",\"Peligrosa\",\"Peligrosa\",\"Peligrosa\",\"Peligrosa\",\"Peligrosa\",\"Peligrosa\",\"Peligrosa\",\"Peligrosa\",\"Peligrosa\",\"Peligrosa\",\"Peligrosa\",\"Peligrosa\",\"Peligrosa\",\"Peligrosa\",\"Peligrosa\",\"Peligrosa\",\"Peligrosa\",\"Peligrosa\",\"Peligrosa\",\"Peligrosa\",\"Peligrosa\",\"Peligrosa\",\"Peligrosa\",\"Peligrosa\",\"Peligrosa\",\"Peligrosa\",\"Peligrosa\",\"Peligrosa\",\"Peligrosa\",\"Peligrosa\",\"Peligrosa\",\"Peligrosa\",\"Peligrosa\",\"Peligrosa\",\"Peligrosa\",\"Peligrosa\",\"Peligrosa\",\"Peligrosa\",\"Peligrosa\",\"Peligrosa\",\"Peligrosa\",\"Peligrosa\",\"Peligrosa\",\"Peligrosa\",\"Peligrosa\",\"Peligrosa\",\"Peligrosa\",\"Peligrosa\",\"popsicle\",\"popsicle\",\"popsicle\",\"popsicle\",\"popsicle\",\"popsicle\",\"popsicle\",\"popsicle\",\"popsicle\",\"popsicle\",\"popsicle\",\"popsicle\",\"popsicle\",\"popsicle\",\"popsicle\",\"popsicle\",\"popsicle\",\"popsicle\",\"popsicle\",\"popsicle\",\"popsicle\",\"popsicle\",\"popsicle\",\"popsicle\",\"popsicle\",\"popsicle\",\"popsicle\",\"popsicle\",\"popsicle\",\"popsicle\",\"popsicle\",\"popsicle\",\"popsicle\",\"popsicle\",\"popsicle\",\"popsicle\",\"popsicle\",\"popsicle\",\"popsicle\",\"popsicle\",\"popsicle\",\"popsicle\",\"popsicle\",\"popsicle\",\"popsicle\",\"popsicle\",\"popsicle\",\"pv2\",\"pv2\",\"pv2\",\"pv2\",\"pv2\",\"pv2\",\"pv2\",\"pv2\",\"pv2\",\"pv2\",\"pv2\",\"pv2\",\"pv2\",\"pv2\",\"pv2\",\"pv2\",\"pv2\",\"pv2\",\"pv2\",\"pv2\",\"pv2\",\"pv2\",\"pv2\",\"pv2\",\"pv2\",\"pv2\",\"pv2\",\"pv2\",\"pv2\",\"pv2\",\"pv2\",\"pv2\",\"pv2\",\"pv2\",\"pv2\",\"pv2\",\"pv2\",\"pv2\",\"pv2\",\"pv2\",\"pv2\",\"pv2\",\"pv2\",\"pv2\",\"pv2\",\"pv2\",\"pv2\",\"pv2\",\"pv2\",\"pv2\",\"forest walk\",\"forest walk\",\"forest walk\",\"forest walk\",\"forest walk\",\"forest walk\",\"forest walk\",\"forest walk\",\"forest walk\",\"forest walk\",\"forest walk\",\"forest walk\",\"forest walk\",\"forest walk\",\"forest walk\",\"forest walk\",\"forest walk\",\"forest walk\",\"forest walk\",\"forest walk\",\"forest walk\",\"forest walk\",\"forest walk\",\"forest walk\",\"forest walk\",\"forest walk\",\"forest walk\",\"forest walk\",\"forest walk\",\"forest walk\",\"forest walk\",\"forest walk\",\"forest walk\",\"forest walk\",\"forest walk\",\"forest walk\",\"forest walk\",\"forest walk\",\"forest walk\",\"forest walk\",\"forest walk\",\"forest walk\",\"forest walk\",\"forest walk\",\"forest walk\",\"forest walk\",\"forest walk\",\"forest walk\",\"forest walk\",\"forest walk\",\"Muy Tranquilo\",\"Muy Tranquilo\",\"Muy Tranquilo\",\"Muy Tranquilo\",\"Muy Tranquilo\",\"Muy Tranquilo\",\"Muy Tranquilo\",\"Muy Tranquilo\",\"Muy Tranquilo\",\"Muy Tranquilo\",\"Muy Tranquilo\",\"Muy Tranquilo\",\"Muy Tranquilo\",\"Muy Tranquilo\",\"Muy Tranquilo\",\"Muy Tranquilo\",\"Muy Tranquilo\",\"Muy Tranquilo\",\"Muy Tranquilo\",\"Muy Tranquilo\",\"Muy Tranquilo\",\"Muy Tranquilo\",\"Muy Tranquilo\",\"Muy Tranquilo\",\"Muy Tranquilo\",\"Muy Tranquilo\",\"Muy Tranquilo\",\"Muy Tranquilo\",\"Muy Tranquilo\",\"Muy Tranquilo\",\"Muy Tranquilo\",\"Muy Tranquilo\",\"Muy Tranquilo\",\"Muy Tranquilo\",\"Muy Tranquilo\",\"Muy Tranquilo\",\"Muy Tranquilo\",\"Muy Tranquilo\",\"Muy Tranquilo\",\"Muy Tranquilo\",\"Muy Tranquilo\",\"Muy Tranquilo\",\"Muy Tranquilo\",\"Muy Tranquilo\",\"Muy Tranquilo\",\"Muy Tranquilo\",\"Muy Tranquilo\",\"Muy Tranquilo\",\"Muy Tranquilo\",\"Muy Tranquilo\"],\"y\":[0.407,0.556,0.739,0.67,0.618,0.543,0.696,0.614,0.767,0.766,0.656,0.501,0.838,0.68,0.909,0.837,0.588,0.745,0.627,0.617,0.563,0.729,0.636,0.91,0.703,0.712,0.751,0.766,0.684,0.633,0.654,0.784,0.672,0.545,0.509,0.664,0.843,0.722,0.629,0.741,0.642,0.587,0.718,0.819,0.845,0.925,0.533,0.568,0.719,0.752,0.702,0.729,0.665,0.558,0.491,0.539,0.713,0.523,0.304,0.502,0.548,0.697,0.756,0.794,0.622,0.698,0.667,0.474,0.693,0.729,0.793,0.825,0.67,0.844,0.588,0.813,0.544,0.7,0.69,0.602,0.664,0.628,0.795,0.792,0.678,0.926,0.802,0.907,0.804,0.815,0.754,0.826,0.434,0.872,0.825,0.415,0.441,0.61,0.564,0.275,0.261,0.885,0.761,0.593,0.439,0.781,0.673,0.583,0.608,0.7,0.697,0.566,0.707,0.535,0.693,0.354,0.559,0.305,0.829,0.518,0.641,0.608,0.74,0.846,0.764,0.44,0.553,0.447,0.331,0.664,0.804,0.524,0.432,0.623,0.382,0.654,0.352,0.576,0.509,0.772,0.449,0.679,0.438,0.482,0.575,0.708,0.585,0.488,0.326,0.734,0.42,0.496,0.448,0.55,0.375,0.33,0.562,0.558,0.625,0.471,0.204,0.442,0.328,0.404,0.58,0.4,0.482,0.122,0.356,0.353,0.338,0.434,0.31,0.634,0.289,0.199,0.725,0.308,0.343,0.649,0.712,0.614,0.436,0.649,0.383,0.437,0.317,0.204,0.343,0.528,0.239,0.502,0.288,0.41,0.253,0.316,0.223,0.803,0.331,0.682,0.555,0.493,0.549,0.585,0.244,0.606,0.661,0.652,0.542,0.303,0.562,0.83,0.626,0.396,0.683,0.533,0.819,0.757,0.662,0.765,0.533,0.587,0.44,0.574,0.425,0.827,0.449,0.504,0.51,0.564,0.606,0.451,0.327,0.398,0.451,0.593,0.461,0.725,0.55,0.667,0.563,0.821,0.455,0.465,0.685,0.67,0.52],\"type\":\"box\",\"xaxis\":\"x2\",\"yaxis\":\"y2\"},{\"name\":\"loudness\",\"x\":[\"Peligrosa\",\"Peligrosa\",\"Peligrosa\",\"Peligrosa\",\"Peligrosa\",\"Peligrosa\",\"Peligrosa\",\"Peligrosa\",\"Peligrosa\",\"Peligrosa\",\"Peligrosa\",\"Peligrosa\",\"Peligrosa\",\"Peligrosa\",\"Peligrosa\",\"Peligrosa\",\"Peligrosa\",\"Peligrosa\",\"Peligrosa\",\"Peligrosa\",\"Peligrosa\",\"Peligrosa\",\"Peligrosa\",\"Peligrosa\",\"Peligrosa\",\"Peligrosa\",\"Peligrosa\",\"Peligrosa\",\"Peligrosa\",\"Peligrosa\",\"Peligrosa\",\"Peligrosa\",\"Peligrosa\",\"Peligrosa\",\"Peligrosa\",\"Peligrosa\",\"Peligrosa\",\"Peligrosa\",\"Peligrosa\",\"Peligrosa\",\"Peligrosa\",\"Peligrosa\",\"Peligrosa\",\"Peligrosa\",\"Peligrosa\",\"Peligrosa\",\"Peligrosa\",\"Peligrosa\",\"Peligrosa\",\"Peligrosa\",\"popsicle\",\"popsicle\",\"popsicle\",\"popsicle\",\"popsicle\",\"popsicle\",\"popsicle\",\"popsicle\",\"popsicle\",\"popsicle\",\"popsicle\",\"popsicle\",\"popsicle\",\"popsicle\",\"popsicle\",\"popsicle\",\"popsicle\",\"popsicle\",\"popsicle\",\"popsicle\",\"popsicle\",\"popsicle\",\"popsicle\",\"popsicle\",\"popsicle\",\"popsicle\",\"popsicle\",\"popsicle\",\"popsicle\",\"popsicle\",\"popsicle\",\"popsicle\",\"popsicle\",\"popsicle\",\"popsicle\",\"popsicle\",\"popsicle\",\"popsicle\",\"popsicle\",\"popsicle\",\"popsicle\",\"popsicle\",\"popsicle\",\"popsicle\",\"popsicle\",\"popsicle\",\"popsicle\",\"pv2\",\"pv2\",\"pv2\",\"pv2\",\"pv2\",\"pv2\",\"pv2\",\"pv2\",\"pv2\",\"pv2\",\"pv2\",\"pv2\",\"pv2\",\"pv2\",\"pv2\",\"pv2\",\"pv2\",\"pv2\",\"pv2\",\"pv2\",\"pv2\",\"pv2\",\"pv2\",\"pv2\",\"pv2\",\"pv2\",\"pv2\",\"pv2\",\"pv2\",\"pv2\",\"pv2\",\"pv2\",\"pv2\",\"pv2\",\"pv2\",\"pv2\",\"pv2\",\"pv2\",\"pv2\",\"pv2\",\"pv2\",\"pv2\",\"pv2\",\"pv2\",\"pv2\",\"pv2\",\"pv2\",\"pv2\",\"pv2\",\"pv2\",\"forest walk\",\"forest walk\",\"forest walk\",\"forest walk\",\"forest walk\",\"forest walk\",\"forest walk\",\"forest walk\",\"forest walk\",\"forest walk\",\"forest walk\",\"forest walk\",\"forest walk\",\"forest walk\",\"forest walk\",\"forest walk\",\"forest walk\",\"forest walk\",\"forest walk\",\"forest walk\",\"forest walk\",\"forest walk\",\"forest walk\",\"forest walk\",\"forest walk\",\"forest walk\",\"forest walk\",\"forest walk\",\"forest walk\",\"forest walk\",\"forest walk\",\"forest walk\",\"forest walk\",\"forest walk\",\"forest walk\",\"forest walk\",\"forest walk\",\"forest walk\",\"forest walk\",\"forest walk\",\"forest walk\",\"forest walk\",\"forest walk\",\"forest walk\",\"forest walk\",\"forest walk\",\"forest walk\",\"forest walk\",\"forest walk\",\"forest walk\",\"Muy Tranquilo\",\"Muy Tranquilo\",\"Muy Tranquilo\",\"Muy Tranquilo\",\"Muy Tranquilo\",\"Muy Tranquilo\",\"Muy Tranquilo\",\"Muy Tranquilo\",\"Muy Tranquilo\",\"Muy Tranquilo\",\"Muy Tranquilo\",\"Muy Tranquilo\",\"Muy Tranquilo\",\"Muy Tranquilo\",\"Muy Tranquilo\",\"Muy Tranquilo\",\"Muy Tranquilo\",\"Muy Tranquilo\",\"Muy Tranquilo\",\"Muy Tranquilo\",\"Muy Tranquilo\",\"Muy Tranquilo\",\"Muy Tranquilo\",\"Muy Tranquilo\",\"Muy Tranquilo\",\"Muy Tranquilo\",\"Muy Tranquilo\",\"Muy Tranquilo\",\"Muy Tranquilo\",\"Muy Tranquilo\",\"Muy Tranquilo\",\"Muy Tranquilo\",\"Muy Tranquilo\",\"Muy Tranquilo\",\"Muy Tranquilo\",\"Muy Tranquilo\",\"Muy Tranquilo\",\"Muy Tranquilo\",\"Muy Tranquilo\",\"Muy Tranquilo\",\"Muy Tranquilo\",\"Muy Tranquilo\",\"Muy Tranquilo\",\"Muy Tranquilo\",\"Muy Tranquilo\",\"Muy Tranquilo\",\"Muy Tranquilo\",\"Muy Tranquilo\",\"Muy Tranquilo\",\"Muy Tranquilo\"],\"y\":[-6.317,-4.109,-5.395,-4.324,-4.848,-6.319,-3.817,-5.965,-4.019,-3.542,-4.774,-7.316,-3.23,-4.082,-4.034,-3.247,-5.592,-4.579,-7.725,-5.251,-7.302,-4.404,-4.654,-2.659,-4.862,-5.105,-3.057,-4.567,-3.971,-2.785,-5.718,-5.254,-4.127,-5.563,-6.176,-2.92,-3.771,-6.245,-4.393,-1.974,-3.179,-6.117,-5.213,-3.701,-3.809,-3.092,-7.417,-3.389,-3.633,-7.635,-4.202,-4.997,-4.068,-6.156,-6.024,-6.039,-4.333,-4.333,-8.677,-5.75,-6.762,-6.377,-4.948,-5.844,-5.794,-4.667,-4.668,-6.124,-7.052,-3.434,-4.521,-3.787,-3.912,-3.756,-5.932,-4.502,-5.975,-6.021,-5.396,-6.354,-5.044,-7.079,-4.021,-4.873,-3.87,-2.914,-5.26,-5.396,-4.581,-3.796,-3.729,-4.968,-11.542,-3.835,-4.062,-8.914,-5.799,-7.16,-7.57,-9.722,-8.48,-2.857,-5.197,-5.744,-6.027,-5.938,-5.649,-8.352,-5.272,-4.694,-5.298,-5.11,-5.512,-6.305,-7.71,-7.358,-5.106,-10.215,-4.44,-9.339,-5.06,-4.526,-5.149,-3.754,-4.173,-5.894,-5.882,-5.949,-9.225,-5.008,-4.155,-6.692,-6.203,-5.497,-8.014,-5.342,-5.548,-6.343,-8.092,-4.014,-5.231,-5.329,-7.787,-8.382,-7.347,-5.597,-8.225,-8.599,-11.284,-6.004,-12.409,-11.23,-14.74,-17.419,-16.464,-11.475,-7.66,-8.553,-8.3,-10.972,-13.535,-10.765,-8.13,-10.06,-6.86,-11.485,-10.257,-15.399,-12.36,-12.719,-15.899,-12.755,-11.048,-7.653,-9.658,-12.478,-4.671,-10.292,-11.04,-7.06,-10.779,-6.137,-9.323,-5.925,-9.381,-9.425,-11.445,-16.849,-13.433,-11.061,-11.371,-9.374,-12.323,-7.559,-11.855,-9.636,-10.913,-6.108,-7.565,-10.42,-11.258,-7.087,-6.754,-8.766,-9.748,-7.863,-7.681,-11.864,-10.759,-16.657,-10.968,-8.398,-9.263,-12.765,-7.39,-7.986,-9.494,-5.275,-8.073,-5.487,-9.211,-6.361,-8.373,-8.96,-11.249,-7.131,-8.947,-8.672,-9.369,-8.906,-5.89,-8.259,-7.563,-10.218,-9.065,-6.078,-12.981,-4.359,-4.809,-8.817,-5.176,-5.274,-9.563,-11.532,-8.431,-7.883,-10.747],\"type\":\"box\",\"xaxis\":\"x3\",\"yaxis\":\"y3\"},{\"name\":\"speechiness\",\"x\":[\"Peligrosa\",\"Peligrosa\",\"Peligrosa\",\"Peligrosa\",\"Peligrosa\",\"Peligrosa\",\"Peligrosa\",\"Peligrosa\",\"Peligrosa\",\"Peligrosa\",\"Peligrosa\",\"Peligrosa\",\"Peligrosa\",\"Peligrosa\",\"Peligrosa\",\"Peligrosa\",\"Peligrosa\",\"Peligrosa\",\"Peligrosa\",\"Peligrosa\",\"Peligrosa\",\"Peligrosa\",\"Peligrosa\",\"Peligrosa\",\"Peligrosa\",\"Peligrosa\",\"Peligrosa\",\"Peligrosa\",\"Peligrosa\",\"Peligrosa\",\"Peligrosa\",\"Peligrosa\",\"Peligrosa\",\"Peligrosa\",\"Peligrosa\",\"Peligrosa\",\"Peligrosa\",\"Peligrosa\",\"Peligrosa\",\"Peligrosa\",\"Peligrosa\",\"Peligrosa\",\"Peligrosa\",\"Peligrosa\",\"Peligrosa\",\"Peligrosa\",\"Peligrosa\",\"Peligrosa\",\"Peligrosa\",\"Peligrosa\",\"popsicle\",\"popsicle\",\"popsicle\",\"popsicle\",\"popsicle\",\"popsicle\",\"popsicle\",\"popsicle\",\"popsicle\",\"popsicle\",\"popsicle\",\"popsicle\",\"popsicle\",\"popsicle\",\"popsicle\",\"popsicle\",\"popsicle\",\"popsicle\",\"popsicle\",\"popsicle\",\"popsicle\",\"popsicle\",\"popsicle\",\"popsicle\",\"popsicle\",\"popsicle\",\"popsicle\",\"popsicle\",\"popsicle\",\"popsicle\",\"popsicle\",\"popsicle\",\"popsicle\",\"popsicle\",\"popsicle\",\"popsicle\",\"popsicle\",\"popsicle\",\"popsicle\",\"popsicle\",\"popsicle\",\"popsicle\",\"popsicle\",\"popsicle\",\"popsicle\",\"popsicle\",\"popsicle\",\"pv2\",\"pv2\",\"pv2\",\"pv2\",\"pv2\",\"pv2\",\"pv2\",\"pv2\",\"pv2\",\"pv2\",\"pv2\",\"pv2\",\"pv2\",\"pv2\",\"pv2\",\"pv2\",\"pv2\",\"pv2\",\"pv2\",\"pv2\",\"pv2\",\"pv2\",\"pv2\",\"pv2\",\"pv2\",\"pv2\",\"pv2\",\"pv2\",\"pv2\",\"pv2\",\"pv2\",\"pv2\",\"pv2\",\"pv2\",\"pv2\",\"pv2\",\"pv2\",\"pv2\",\"pv2\",\"pv2\",\"pv2\",\"pv2\",\"pv2\",\"pv2\",\"pv2\",\"pv2\",\"pv2\",\"pv2\",\"pv2\",\"pv2\",\"forest walk\",\"forest walk\",\"forest walk\",\"forest walk\",\"forest walk\",\"forest walk\",\"forest walk\",\"forest walk\",\"forest walk\",\"forest walk\",\"forest walk\",\"forest walk\",\"forest walk\",\"forest walk\",\"forest walk\",\"forest walk\",\"forest walk\",\"forest walk\",\"forest walk\",\"forest walk\",\"forest walk\",\"forest walk\",\"forest walk\",\"forest walk\",\"forest walk\",\"forest walk\",\"forest walk\",\"forest walk\",\"forest walk\",\"forest walk\",\"forest walk\",\"forest walk\",\"forest walk\",\"forest walk\",\"forest walk\",\"forest walk\",\"forest walk\",\"forest walk\",\"forest walk\",\"forest walk\",\"forest walk\",\"forest walk\",\"forest walk\",\"forest walk\",\"forest walk\",\"forest walk\",\"forest walk\",\"forest walk\",\"forest walk\",\"forest walk\",\"Muy Tranquilo\",\"Muy Tranquilo\",\"Muy Tranquilo\",\"Muy Tranquilo\",\"Muy Tranquilo\",\"Muy Tranquilo\",\"Muy Tranquilo\",\"Muy Tranquilo\",\"Muy Tranquilo\",\"Muy Tranquilo\",\"Muy Tranquilo\",\"Muy Tranquilo\",\"Muy Tranquilo\",\"Muy Tranquilo\",\"Muy Tranquilo\",\"Muy Tranquilo\",\"Muy Tranquilo\",\"Muy Tranquilo\",\"Muy Tranquilo\",\"Muy Tranquilo\",\"Muy Tranquilo\",\"Muy Tranquilo\",\"Muy Tranquilo\",\"Muy Tranquilo\",\"Muy Tranquilo\",\"Muy Tranquilo\",\"Muy Tranquilo\",\"Muy Tranquilo\",\"Muy Tranquilo\",\"Muy Tranquilo\",\"Muy Tranquilo\",\"Muy Tranquilo\",\"Muy Tranquilo\",\"Muy Tranquilo\",\"Muy Tranquilo\",\"Muy Tranquilo\",\"Muy Tranquilo\",\"Muy Tranquilo\",\"Muy Tranquilo\",\"Muy Tranquilo\",\"Muy Tranquilo\",\"Muy Tranquilo\",\"Muy Tranquilo\",\"Muy Tranquilo\",\"Muy Tranquilo\",\"Muy Tranquilo\",\"Muy Tranquilo\",\"Muy Tranquilo\",\"Muy Tranquilo\",\"Muy Tranquilo\"],\"y\":[0.046,0.172,0.0627,0.148,0.106,0.038,0.0505,0.101,0.0819,0.124,0.303,0.108,0.0858,0.0421,0.0396,0.23,0.382,0.0571,0.139,0.0834,0.223,0.0753,0.317,0.136,0.0949,0.0817,0.0612,0.223,0.0419,0.0777,0.0468,0.057,0.174,0.349,0.0715,0.0375,0.117,0.234,0.0729,0.0441,0.0375,0.07,0.0585,0.052,0.135,0.113,0.107,0.067,0.0576,0.0648,0.307,0.0318,0.203,0.0319,0.0296,0.0287,0.0747,0.03,0.131,0.0329,0.114,0.0401,0.0652,0.0671,0.0334,0.042,0.0339,0.194,0.181,0.0884,0.083,0.0601,0.0452,0.0457,0.0544,0.0579,0.0943,0.0694,0.139,0.0325,0.154,0.03,0.0355,0.0379,0.0469,0.046,0.0465,0.0513,0.0355,0.0415,0.0569,0.0479,0.0396,0.0509,0.0701,0.0707,0.0758,0.0344,0.0467,0.0263,0.0337,0.237,0.0516,0.168,0.0601,0.0413,0.144,0.213,0.0332,0.269,0.0483,0.0316,0.0654,0.041,0.0558,0.0738,0.0375,0.0644,0.0525,0.121,0.269,0.177,0.08,0.0531,0.043,0.034,0.029,0.125,0.0351,0.19,0.0389,0.0368,0.0575,0.0814,0.0471,0.0275,0.0619,0.0693,0.0388,0.0959,0.0325,0.0364,0.0328,0.071,0.0368,0.165,0.0796,0.0497,0.0301,0.0295,0.0391,0.0277,0.0497,0.037,0.0372,0.0504,0.0381,0.0278,0.0362,0.0343,0.0384,0.0727,0.0327,0.0287,0.0541,0.0272,0.0345,0.0349,0.0403,0.031,0.0413,0.0349,0.0352,0.0276,0.0614,0.0357,0.0335,0.0405,0.025,0.0349,0.0339,0.0306,0.0385,0.0434,0.0434,0.0478,0.0605,0.0988,0.0353,0.0307,0.0534,0.0302,0.0337,0.0299,0.0434,0.0353,0.0316,0.0408,0.0324,0.0504,0.0384,0.139,0.156,0.0389,0.0299,0.198,0.0343,0.0459,0.0716,0.379,0.0459,0.0376,0.0656,0.034,0.0355,0.0484,0.0521,0.038,0.0308,0.054,0.0389,0.0422,0.0436,0.0268,0.0313,0.0372,0.0291,0.0264,0.0682,0.042,0.0967,0.102,0.031,0.0338,0.146,0.0725,0.416,0.0504,0.126,0.0774,0.195,0.32,0.0309,0.03,0.034,0.0633,0.046],\"type\":\"box\",\"xaxis\":\"x4\",\"yaxis\":\"y4\"},{\"name\":\"acousticness\",\"x\":[\"Peligrosa\",\"Peligrosa\",\"Peligrosa\",\"Peligrosa\",\"Peligrosa\",\"Peligrosa\",\"Peligrosa\",\"Peligrosa\",\"Peligrosa\",\"Peligrosa\",\"Peligrosa\",\"Peligrosa\",\"Peligrosa\",\"Peligrosa\",\"Peligrosa\",\"Peligrosa\",\"Peligrosa\",\"Peligrosa\",\"Peligrosa\",\"Peligrosa\",\"Peligrosa\",\"Peligrosa\",\"Peligrosa\",\"Peligrosa\",\"Peligrosa\",\"Peligrosa\",\"Peligrosa\",\"Peligrosa\",\"Peligrosa\",\"Peligrosa\",\"Peligrosa\",\"Peligrosa\",\"Peligrosa\",\"Peligrosa\",\"Peligrosa\",\"Peligrosa\",\"Peligrosa\",\"Peligrosa\",\"Peligrosa\",\"Peligrosa\",\"Peligrosa\",\"Peligrosa\",\"Peligrosa\",\"Peligrosa\",\"Peligrosa\",\"Peligrosa\",\"Peligrosa\",\"Peligrosa\",\"Peligrosa\",\"Peligrosa\",\"popsicle\",\"popsicle\",\"popsicle\",\"popsicle\",\"popsicle\",\"popsicle\",\"popsicle\",\"popsicle\",\"popsicle\",\"popsicle\",\"popsicle\",\"popsicle\",\"popsicle\",\"popsicle\",\"popsicle\",\"popsicle\",\"popsicle\",\"popsicle\",\"popsicle\",\"popsicle\",\"popsicle\",\"popsicle\",\"popsicle\",\"popsicle\",\"popsicle\",\"popsicle\",\"popsicle\",\"popsicle\",\"popsicle\",\"popsicle\",\"popsicle\",\"popsicle\",\"popsicle\",\"popsicle\",\"popsicle\",\"popsicle\",\"popsicle\",\"popsicle\",\"popsicle\",\"popsicle\",\"popsicle\",\"popsicle\",\"popsicle\",\"popsicle\",\"popsicle\",\"popsicle\",\"popsicle\",\"pv2\",\"pv2\",\"pv2\",\"pv2\",\"pv2\",\"pv2\",\"pv2\",\"pv2\",\"pv2\",\"pv2\",\"pv2\",\"pv2\",\"pv2\",\"pv2\",\"pv2\",\"pv2\",\"pv2\",\"pv2\",\"pv2\",\"pv2\",\"pv2\",\"pv2\",\"pv2\",\"pv2\",\"pv2\",\"pv2\",\"pv2\",\"pv2\",\"pv2\",\"pv2\",\"pv2\",\"pv2\",\"pv2\",\"pv2\",\"pv2\",\"pv2\",\"pv2\",\"pv2\",\"pv2\",\"pv2\",\"pv2\",\"pv2\",\"pv2\",\"pv2\",\"pv2\",\"pv2\",\"pv2\",\"pv2\",\"pv2\",\"pv2\",\"forest walk\",\"forest walk\",\"forest walk\",\"forest walk\",\"forest walk\",\"forest walk\",\"forest walk\",\"forest walk\",\"forest walk\",\"forest walk\",\"forest walk\",\"forest walk\",\"forest walk\",\"forest walk\",\"forest walk\",\"forest walk\",\"forest walk\",\"forest walk\",\"forest walk\",\"forest walk\",\"forest walk\",\"forest walk\",\"forest walk\",\"forest walk\",\"forest walk\",\"forest walk\",\"forest walk\",\"forest walk\",\"forest walk\",\"forest walk\",\"forest walk\",\"forest walk\",\"forest walk\",\"forest walk\",\"forest walk\",\"forest walk\",\"forest walk\",\"forest walk\",\"forest walk\",\"forest walk\",\"forest walk\",\"forest walk\",\"forest walk\",\"forest walk\",\"forest walk\",\"forest walk\",\"forest walk\",\"forest walk\",\"forest walk\",\"forest walk\",\"Muy Tranquilo\",\"Muy Tranquilo\",\"Muy Tranquilo\",\"Muy Tranquilo\",\"Muy Tranquilo\",\"Muy Tranquilo\",\"Muy Tranquilo\",\"Muy Tranquilo\",\"Muy Tranquilo\",\"Muy Tranquilo\",\"Muy Tranquilo\",\"Muy Tranquilo\",\"Muy Tranquilo\",\"Muy Tranquilo\",\"Muy Tranquilo\",\"Muy Tranquilo\",\"Muy Tranquilo\",\"Muy Tranquilo\",\"Muy Tranquilo\",\"Muy Tranquilo\",\"Muy Tranquilo\",\"Muy Tranquilo\",\"Muy Tranquilo\",\"Muy Tranquilo\",\"Muy Tranquilo\",\"Muy Tranquilo\",\"Muy Tranquilo\",\"Muy Tranquilo\",\"Muy Tranquilo\",\"Muy Tranquilo\",\"Muy Tranquilo\",\"Muy Tranquilo\",\"Muy Tranquilo\",\"Muy Tranquilo\",\"Muy Tranquilo\",\"Muy Tranquilo\",\"Muy Tranquilo\",\"Muy Tranquilo\",\"Muy Tranquilo\",\"Muy Tranquilo\",\"Muy Tranquilo\",\"Muy Tranquilo\",\"Muy Tranquilo\",\"Muy Tranquilo\",\"Muy Tranquilo\",\"Muy Tranquilo\",\"Muy Tranquilo\",\"Muy Tranquilo\",\"Muy Tranquilo\",\"Muy Tranquilo\"],\"y\":[0.099,0.247,0.136,0.106,0.167,0.117,0.0811,0.141,0.0352,0.527,0.2,0.257,0.0905,0.0495,0.0471,0.125,0.148,0.182,0.618,0.104,0.264,0.0991,0.234,0.256,0.0216,0.0901,0.0391,0.108,0.0225,0.414,0.0601,0.00431,0.0897,0.723,0.0303,0.152,0.0932,0.0656,0.133,0.172,0.205,0.504,0.283,0.1,0.105,0.487,0.00744,0.252,0.165,0.0584,0.0803,0.0618,0.374,0.0307,0.018,0.0376,0.181,0.184,0.839,0.253,0.21,0.182,0.0511,0.00987,0.00882,0.00112,0.00173,0.0311,0.0597,0.167,0.0123,0.00883,0.0103,0.0137,0.0319,0.00618,0.0403,0.00261,0.033,0.0635,0.335,0.00144,0.000812,0.0536,0.075,0.0691,0.0129,0.0165,0.0132,0.00125,0.00446,0.139,0.697,0.00351,0.0398,0.242,0.186,0.076,0.738,0.949,0.517,0.547,0.0825,0.0868,0.215,0.0564,0.32,0.249,0.0103,0.53,0.175,0.155,0.226,0.27,0.0631,0.724,0.00553,0.936,0.00146,0.217,0.459,0.206,0.247,0.00638,0.165,0.762,0.555,0.223,0.843,0.159,0.0493,0.859,0.544,0.166,0.71,0.00639,0.0727,0.528,0.433,0.00708,0.188,0.583,0.0466,0.528,0.0653,0.611,0.432,0.653,0.709,0.16,0.657,0.627,0.738,0.77,0.641,0.862,0.549,0.724,0.306,0.56,0.887,0.571,0.487,0.62,0.906,0.904,0.358,0.885,0.65,0.781,0.139,0.86,0.83,0.57,0.535,0.982,0.026,0.775,0.853,0.107,0.0561,0.252,0.664,0.418,0.585,0.757,0.843,0.751,0.8,0.619,0.844,0.665,0.843,0.886,0.961,0.927,0.881,0.0133,0.206,0.0692,0.0396,0.393,0.0879,0.11,0.72,0.588,0.098,0.293,0.812,0.683,0.0412,0.0134,0.341,0.759,0.185,0.291,0.364,0.128,0.642,0.366,0.268,0.273,0.596,0.557,0.265,0.00746,0.0668,0.048,0.0943,0.0192,0.557,0.475,0.364,0.279,0.181,0.452,0.338,0.00717,0.25,0.0924,0.586,0.0897,0.0589,0.0542,0.44,0.239,0.125],\"type\":\"box\",\"xaxis\":\"x5\",\"yaxis\":\"y5\"},{\"name\":\"instrumentalness\",\"x\":[\"Peligrosa\",\"Peligrosa\",\"Peligrosa\",\"Peligrosa\",\"Peligrosa\",\"Peligrosa\",\"Peligrosa\",\"Peligrosa\",\"Peligrosa\",\"Peligrosa\",\"Peligrosa\",\"Peligrosa\",\"Peligrosa\",\"Peligrosa\",\"Peligrosa\",\"Peligrosa\",\"Peligrosa\",\"Peligrosa\",\"Peligrosa\",\"Peligrosa\",\"Peligrosa\",\"Peligrosa\",\"Peligrosa\",\"Peligrosa\",\"Peligrosa\",\"Peligrosa\",\"Peligrosa\",\"Peligrosa\",\"Peligrosa\",\"Peligrosa\",\"Peligrosa\",\"Peligrosa\",\"Peligrosa\",\"Peligrosa\",\"Peligrosa\",\"Peligrosa\",\"Peligrosa\",\"Peligrosa\",\"Peligrosa\",\"Peligrosa\",\"Peligrosa\",\"Peligrosa\",\"Peligrosa\",\"Peligrosa\",\"Peligrosa\",\"Peligrosa\",\"Peligrosa\",\"Peligrosa\",\"Peligrosa\",\"Peligrosa\",\"popsicle\",\"popsicle\",\"popsicle\",\"popsicle\",\"popsicle\",\"popsicle\",\"popsicle\",\"popsicle\",\"popsicle\",\"popsicle\",\"popsicle\",\"popsicle\",\"popsicle\",\"popsicle\",\"popsicle\",\"popsicle\",\"popsicle\",\"popsicle\",\"popsicle\",\"popsicle\",\"popsicle\",\"popsicle\",\"popsicle\",\"popsicle\",\"popsicle\",\"popsicle\",\"popsicle\",\"popsicle\",\"popsicle\",\"popsicle\",\"popsicle\",\"popsicle\",\"popsicle\",\"popsicle\",\"popsicle\",\"popsicle\",\"popsicle\",\"popsicle\",\"popsicle\",\"popsicle\",\"popsicle\",\"popsicle\",\"popsicle\",\"popsicle\",\"popsicle\",\"popsicle\",\"popsicle\",\"pv2\",\"pv2\",\"pv2\",\"pv2\",\"pv2\",\"pv2\",\"pv2\",\"pv2\",\"pv2\",\"pv2\",\"pv2\",\"pv2\",\"pv2\",\"pv2\",\"pv2\",\"pv2\",\"pv2\",\"pv2\",\"pv2\",\"pv2\",\"pv2\",\"pv2\",\"pv2\",\"pv2\",\"pv2\",\"pv2\",\"pv2\",\"pv2\",\"pv2\",\"pv2\",\"pv2\",\"pv2\",\"pv2\",\"pv2\",\"pv2\",\"pv2\",\"pv2\",\"pv2\",\"pv2\",\"pv2\",\"pv2\",\"pv2\",\"pv2\",\"pv2\",\"pv2\",\"pv2\",\"pv2\",\"pv2\",\"pv2\",\"pv2\",\"forest walk\",\"forest walk\",\"forest walk\",\"forest walk\",\"forest walk\",\"forest walk\",\"forest walk\",\"forest walk\",\"forest walk\",\"forest walk\",\"forest walk\",\"forest walk\",\"forest walk\",\"forest walk\",\"forest walk\",\"forest walk\",\"forest walk\",\"forest walk\",\"forest walk\",\"forest walk\",\"forest walk\",\"forest walk\",\"forest walk\",\"forest walk\",\"forest walk\",\"forest walk\",\"forest walk\",\"forest walk\",\"forest walk\",\"forest walk\",\"forest walk\",\"forest walk\",\"forest walk\",\"forest walk\",\"forest walk\",\"forest walk\",\"forest walk\",\"forest walk\",\"forest walk\",\"forest walk\",\"forest walk\",\"forest walk\",\"forest walk\",\"forest walk\",\"forest walk\",\"forest walk\",\"forest walk\",\"forest walk\",\"forest walk\",\"forest walk\",\"Muy Tranquilo\",\"Muy Tranquilo\",\"Muy Tranquilo\",\"Muy Tranquilo\",\"Muy Tranquilo\",\"Muy Tranquilo\",\"Muy Tranquilo\",\"Muy Tranquilo\",\"Muy Tranquilo\",\"Muy Tranquilo\",\"Muy Tranquilo\",\"Muy Tranquilo\",\"Muy Tranquilo\",\"Muy Tranquilo\",\"Muy Tranquilo\",\"Muy Tranquilo\",\"Muy Tranquilo\",\"Muy Tranquilo\",\"Muy Tranquilo\",\"Muy Tranquilo\",\"Muy Tranquilo\",\"Muy Tranquilo\",\"Muy Tranquilo\",\"Muy Tranquilo\",\"Muy Tranquilo\",\"Muy Tranquilo\",\"Muy Tranquilo\",\"Muy Tranquilo\",\"Muy Tranquilo\",\"Muy Tranquilo\",\"Muy Tranquilo\",\"Muy Tranquilo\",\"Muy Tranquilo\",\"Muy Tranquilo\",\"Muy Tranquilo\",\"Muy Tranquilo\",\"Muy Tranquilo\",\"Muy Tranquilo\",\"Muy Tranquilo\",\"Muy Tranquilo\",\"Muy Tranquilo\",\"Muy Tranquilo\",\"Muy Tranquilo\",\"Muy Tranquilo\",\"Muy Tranquilo\",\"Muy Tranquilo\",\"Muy Tranquilo\",\"Muy Tranquilo\",\"Muy Tranquilo\",\"Muy Tranquilo\"],\"y\":[0,0,2.11e-06,3.47e-05,0,0,6.25e-05,2.48e-06,0,8.5e-05,0,0.000295,0.011,2.61e-05,0,0,0.00427,0.000189,0.000135,0.00208,0.00115,6.71e-06,0,0,0,2.68e-05,0,0.00186,0,0,0,0.000382,0,0,0,0,0,0,5.06e-06,5.83e-06,0,0,0,0,1.14e-05,0,3e-06,0,2.48e-05,0.00417,0,0,0,0.00143,1.29e-05,0,0.000637,3.56e-05,0,4.37e-06,0,0,0,1.36e-06,0,0.000115,2.85e-05,5.5e-06,0.00399,1.39e-06,0,0,0,0.000658,0,0,0,1.56e-05,0,0,0,0,1.02e-06,0,0,0,2.66e-05,1.28e-06,3.02e-06,4.31e-05,0,0,0,3.84e-05,2.63e-06,0.000156,0,0.00422,0.00371,0,7.26e-05,0,0,1.09e-06,2.1e-05,0.00113,0,0,0.000118,7.84e-06,0,4.4e-06,0,0,0,0,0,0.00289,0.000562,0,0,0,0,0,0.0034,2.56e-06,0.000738,0.00153,0.403,1.45e-05,0,3.83e-06,0.0754,0,0,0,0,0,5.11e-05,0,0,1.98e-06,6.92e-05,0,0,0.0328,8.78e-06,6.62e-05,9.96e-05,0,2.87e-05,0.00325,0.00463,0.476,0.0277,0,0,0.000331,1.86e-05,2.78e-05,0.000209,0.000116,0,6.52e-05,0.217,0.00105,2.24e-05,0.349,0.00681,0.000108,0.00129,0.257,4.95e-05,0.000844,0.000529,0.00395,0.000129,4e-05,0.0219,0.0124,0.000617,1.95e-05,0.00601,0,2.24e-06,0.000298,1.08e-05,4.83e-05,0.116,0.00217,0.00137,0.165,0.00226,7.06e-05,4.8e-05,0,0,0.559,0.0204,0.53,0.761,0,2.74e-06,0.314,0.915,0.0565,0.0187,0.807,0.00317,0.000344,0.34,0.762,0.27,0.856,0.906,0.00126,0.0555,0.485,0.901,0.00156,0.0069,0.0107,0.126,0.855,0.188,0.214,0.944,0.0883,0.732,0.777,0.825,0.82,0.866,0.747,0.892,0.485,1.65e-05,0.764,0.0643,0.84,0.00111,0.00102,0.747,0.945,0.865,0.0515,0.105],\"type\":\"box\",\"xaxis\":\"x6\",\"yaxis\":\"y6\"},{\"name\":\"liveness\",\"x\":[\"Peligrosa\",\"Peligrosa\",\"Peligrosa\",\"Peligrosa\",\"Peligrosa\",\"Peligrosa\",\"Peligrosa\",\"Peligrosa\",\"Peligrosa\",\"Peligrosa\",\"Peligrosa\",\"Peligrosa\",\"Peligrosa\",\"Peligrosa\",\"Peligrosa\",\"Peligrosa\",\"Peligrosa\",\"Peligrosa\",\"Peligrosa\",\"Peligrosa\",\"Peligrosa\",\"Peligrosa\",\"Peligrosa\",\"Peligrosa\",\"Peligrosa\",\"Peligrosa\",\"Peligrosa\",\"Peligrosa\",\"Peligrosa\",\"Peligrosa\",\"Peligrosa\",\"Peligrosa\",\"Peligrosa\",\"Peligrosa\",\"Peligrosa\",\"Peligrosa\",\"Peligrosa\",\"Peligrosa\",\"Peligrosa\",\"Peligrosa\",\"Peligrosa\",\"Peligrosa\",\"Peligrosa\",\"Peligrosa\",\"Peligrosa\",\"Peligrosa\",\"Peligrosa\",\"Peligrosa\",\"Peligrosa\",\"Peligrosa\",\"popsicle\",\"popsicle\",\"popsicle\",\"popsicle\",\"popsicle\",\"popsicle\",\"popsicle\",\"popsicle\",\"popsicle\",\"popsicle\",\"popsicle\",\"popsicle\",\"popsicle\",\"popsicle\",\"popsicle\",\"popsicle\",\"popsicle\",\"popsicle\",\"popsicle\",\"popsicle\",\"popsicle\",\"popsicle\",\"popsicle\",\"popsicle\",\"popsicle\",\"popsicle\",\"popsicle\",\"popsicle\",\"popsicle\",\"popsicle\",\"popsicle\",\"popsicle\",\"popsicle\",\"popsicle\",\"popsicle\",\"popsicle\",\"popsicle\",\"popsicle\",\"popsicle\",\"popsicle\",\"popsicle\",\"popsicle\",\"popsicle\",\"popsicle\",\"popsicle\",\"popsicle\",\"popsicle\",\"pv2\",\"pv2\",\"pv2\",\"pv2\",\"pv2\",\"pv2\",\"pv2\",\"pv2\",\"pv2\",\"pv2\",\"pv2\",\"pv2\",\"pv2\",\"pv2\",\"pv2\",\"pv2\",\"pv2\",\"pv2\",\"pv2\",\"pv2\",\"pv2\",\"pv2\",\"pv2\",\"pv2\",\"pv2\",\"pv2\",\"pv2\",\"pv2\",\"pv2\",\"pv2\",\"pv2\",\"pv2\",\"pv2\",\"pv2\",\"pv2\",\"pv2\",\"pv2\",\"pv2\",\"pv2\",\"pv2\",\"pv2\",\"pv2\",\"pv2\",\"pv2\",\"pv2\",\"pv2\",\"pv2\",\"pv2\",\"pv2\",\"pv2\",\"forest walk\",\"forest walk\",\"forest walk\",\"forest walk\",\"forest walk\",\"forest walk\",\"forest walk\",\"forest walk\",\"forest walk\",\"forest walk\",\"forest walk\",\"forest walk\",\"forest walk\",\"forest walk\",\"forest walk\",\"forest walk\",\"forest walk\",\"forest walk\",\"forest walk\",\"forest walk\",\"forest walk\",\"forest walk\",\"forest walk\",\"forest walk\",\"forest walk\",\"forest walk\",\"forest walk\",\"forest walk\",\"forest walk\",\"forest walk\",\"forest walk\",\"forest walk\",\"forest walk\",\"forest walk\",\"forest walk\",\"forest walk\",\"forest walk\",\"forest walk\",\"forest walk\",\"forest walk\",\"forest walk\",\"forest walk\",\"forest walk\",\"forest walk\",\"forest walk\",\"forest walk\",\"forest walk\",\"forest walk\",\"forest walk\",\"forest walk\",\"Muy Tranquilo\",\"Muy Tranquilo\",\"Muy Tranquilo\",\"Muy Tranquilo\",\"Muy Tranquilo\",\"Muy Tranquilo\",\"Muy Tranquilo\",\"Muy Tranquilo\",\"Muy Tranquilo\",\"Muy Tranquilo\",\"Muy Tranquilo\",\"Muy Tranquilo\",\"Muy Tranquilo\",\"Muy Tranquilo\",\"Muy Tranquilo\",\"Muy Tranquilo\",\"Muy Tranquilo\",\"Muy Tranquilo\",\"Muy Tranquilo\",\"Muy Tranquilo\",\"Muy Tranquilo\",\"Muy Tranquilo\",\"Muy Tranquilo\",\"Muy Tranquilo\",\"Muy Tranquilo\",\"Muy Tranquilo\",\"Muy Tranquilo\",\"Muy Tranquilo\",\"Muy Tranquilo\",\"Muy Tranquilo\",\"Muy Tranquilo\",\"Muy Tranquilo\",\"Muy Tranquilo\",\"Muy Tranquilo\",\"Muy Tranquilo\",\"Muy Tranquilo\",\"Muy Tranquilo\",\"Muy Tranquilo\",\"Muy Tranquilo\",\"Muy Tranquilo\",\"Muy Tranquilo\",\"Muy Tranquilo\",\"Muy Tranquilo\",\"Muy Tranquilo\",\"Muy Tranquilo\",\"Muy Tranquilo\",\"Muy Tranquilo\",\"Muy Tranquilo\",\"Muy Tranquilo\",\"Muy Tranquilo\"],\"y\":[0.175,0.0951,0.162,0.0836,0.114,0.129,0.101,0.06,0.299,0.111,0.0833,0.113,0.0861,0.0751,0.35,0.209,0.136,0.293,0.0807,0.0862,0.192,0.0695,0.081,0.0921,0.0823,0.0933,0.128,0.116,0.658,0.27,0.179,0.0627,0.104,0.111,0.399,0.381,0.111,0.0712,0.103,0.0943,0.0599,0.13,0.0863,0.089,0.172,0.115,0.0842,0.153,0.174,0.628,0.154,0.193,0.118,0.0993,0.0887,0.0906,0.137,0.132,0.0853,0.105,0.115,0.333,0.0765,0.418,0.37,0.0886,0.1,0.286,0.106,0.349,0.0951,0.0674,0.0761,0.102,0.183,0.321,0.0824,0.153,0.0742,0.141,0.0849,0.0944,0.156,0.142,0.0741,0.201,0.0893,0.0546,0.139,0.671,0.163,0.0803,0.0919,0.107,0.0798,0.319,0.61,0.285,0.178,0.153,0.188,0.0878,0.105,0.0934,0.0977,0.131,0.131,0.0794,0.136,0.108,0.0757,0.102,0.126,0.189,0.102,0.134,0.0699,0.847,0.0528,0.15,0.215,0.125,0.171,0.0799,0.0652,0.0858,0.0958,0.105,0.105,0.068,0.0624,0.414,0.29,0.239,0.303,0.0704,0.0784,0.115,0.0961,0.0781,0.0873,0.218,0.0795,0.109,0.103,0.0955,0.0954,0.104,0.111,0.109,0.0727,0.0584,0.123,0.0921,0.358,0.18,0.225,0.116,0.104,0.117,0.0916,0.109,0.0677,0.112,0.134,0.125,0.0794,0.094,0.0974,0.0901,0.5,0.115,0.106,0.154,0.109,0.1,0.209,0.114,0.123,0.0555,0.0642,0.178,0.108,0.0976,0.122,0.106,0.652,0.145,0.101,0.351,0.205,0.124,0.12,0.0841,0.121,0.221,0.162,0.13,0.403,0.381,0.132,0.138,0.168,0.083,0.379,0.132,0.101,0.078,0.112,0.093,0.468,0.128,0.0746,0.275,0.105,0.0794,0.115,0.0859,0.151,0.0799,0.118,0.356,0.322,0.0977,0.103,0.152,0.0782,0.0824,0.148,0.117,0.06,0.372,0.124,0.0893,0.0751,0.117,0.116,0.112,0.513,0.356,0.263,0.318,0.366,0.111,0.0975,0.427,0.11],\"type\":\"box\",\"xaxis\":\"x7\",\"yaxis\":\"y7\"},{\"name\":\"valence\",\"x\":[\"Peligrosa\",\"Peligrosa\",\"Peligrosa\",\"Peligrosa\",\"Peligrosa\",\"Peligrosa\",\"Peligrosa\",\"Peligrosa\",\"Peligrosa\",\"Peligrosa\",\"Peligrosa\",\"Peligrosa\",\"Peligrosa\",\"Peligrosa\",\"Peligrosa\",\"Peligrosa\",\"Peligrosa\",\"Peligrosa\",\"Peligrosa\",\"Peligrosa\",\"Peligrosa\",\"Peligrosa\",\"Peligrosa\",\"Peligrosa\",\"Peligrosa\",\"Peligrosa\",\"Peligrosa\",\"Peligrosa\",\"Peligrosa\",\"Peligrosa\",\"Peligrosa\",\"Peligrosa\",\"Peligrosa\",\"Peligrosa\",\"Peligrosa\",\"Peligrosa\",\"Peligrosa\",\"Peligrosa\",\"Peligrosa\",\"Peligrosa\",\"Peligrosa\",\"Peligrosa\",\"Peligrosa\",\"Peligrosa\",\"Peligrosa\",\"Peligrosa\",\"Peligrosa\",\"Peligrosa\",\"Peligrosa\",\"Peligrosa\",\"popsicle\",\"popsicle\",\"popsicle\",\"popsicle\",\"popsicle\",\"popsicle\",\"popsicle\",\"popsicle\",\"popsicle\",\"popsicle\",\"popsicle\",\"popsicle\",\"popsicle\",\"popsicle\",\"popsicle\",\"popsicle\",\"popsicle\",\"popsicle\",\"popsicle\",\"popsicle\",\"popsicle\",\"popsicle\",\"popsicle\",\"popsicle\",\"popsicle\",\"popsicle\",\"popsicle\",\"popsicle\",\"popsicle\",\"popsicle\",\"popsicle\",\"popsicle\",\"popsicle\",\"popsicle\",\"popsicle\",\"popsicle\",\"popsicle\",\"popsicle\",\"popsicle\",\"popsicle\",\"popsicle\",\"popsicle\",\"popsicle\",\"popsicle\",\"popsicle\",\"popsicle\",\"popsicle\",\"pv2\",\"pv2\",\"pv2\",\"pv2\",\"pv2\",\"pv2\",\"pv2\",\"pv2\",\"pv2\",\"pv2\",\"pv2\",\"pv2\",\"pv2\",\"pv2\",\"pv2\",\"pv2\",\"pv2\",\"pv2\",\"pv2\",\"pv2\",\"pv2\",\"pv2\",\"pv2\",\"pv2\",\"pv2\",\"pv2\",\"pv2\",\"pv2\",\"pv2\",\"pv2\",\"pv2\",\"pv2\",\"pv2\",\"pv2\",\"pv2\",\"pv2\",\"pv2\",\"pv2\",\"pv2\",\"pv2\",\"pv2\",\"pv2\",\"pv2\",\"pv2\",\"pv2\",\"pv2\",\"pv2\",\"pv2\",\"pv2\",\"pv2\",\"forest walk\",\"forest walk\",\"forest walk\",\"forest walk\",\"forest walk\",\"forest walk\",\"forest walk\",\"forest walk\",\"forest walk\",\"forest walk\",\"forest walk\",\"forest walk\",\"forest walk\",\"forest walk\",\"forest walk\",\"forest walk\",\"forest walk\",\"forest walk\",\"forest walk\",\"forest walk\",\"forest walk\",\"forest walk\",\"forest walk\",\"forest walk\",\"forest walk\",\"forest walk\",\"forest walk\",\"forest walk\",\"forest walk\",\"forest walk\",\"forest walk\",\"forest walk\",\"forest walk\",\"forest walk\",\"forest walk\",\"forest walk\",\"forest walk\",\"forest walk\",\"forest walk\",\"forest walk\",\"forest walk\",\"forest walk\",\"forest walk\",\"forest walk\",\"forest walk\",\"forest walk\",\"forest walk\",\"forest walk\",\"forest walk\",\"forest walk\",\"Muy Tranquilo\",\"Muy Tranquilo\",\"Muy Tranquilo\",\"Muy Tranquilo\",\"Muy Tranquilo\",\"Muy Tranquilo\",\"Muy Tranquilo\",\"Muy Tranquilo\",\"Muy Tranquilo\",\"Muy Tranquilo\",\"Muy Tranquilo\",\"Muy Tranquilo\",\"Muy Tranquilo\",\"Muy Tranquilo\",\"Muy Tranquilo\",\"Muy Tranquilo\",\"Muy Tranquilo\",\"Muy Tranquilo\",\"Muy Tranquilo\",\"Muy Tranquilo\",\"Muy Tranquilo\",\"Muy Tranquilo\",\"Muy Tranquilo\",\"Muy Tranquilo\",\"Muy Tranquilo\",\"Muy Tranquilo\",\"Muy Tranquilo\",\"Muy Tranquilo\",\"Muy Tranquilo\",\"Muy Tranquilo\",\"Muy Tranquilo\",\"Muy Tranquilo\",\"Muy Tranquilo\",\"Muy Tranquilo\",\"Muy Tranquilo\",\"Muy Tranquilo\",\"Muy Tranquilo\",\"Muy Tranquilo\",\"Muy Tranquilo\",\"Muy Tranquilo\",\"Muy Tranquilo\",\"Muy Tranquilo\",\"Muy Tranquilo\",\"Muy Tranquilo\",\"Muy Tranquilo\",\"Muy Tranquilo\",\"Muy Tranquilo\",\"Muy Tranquilo\",\"Muy Tranquilo\",\"Muy Tranquilo\"],\"y\":[0.808,0.712,0.631,0.612,0.537,0.749,0.501,0.678,0.49,0.607,0.627,0.373,0.637,0.32,0.922,0.476,0.521,0.716,0.206,0.793,0.967,0.96,0.575,0.329,0.437,0.425,0.587,0.515,0.419,0.676,0.412,0.51,0.739,0.643,0.602,0.653,0.724,0.749,0.362,0.902,0.847,0.815,0.555,0.562,0.769,0.614,0.51,0.577,0.659,0.423,0.872,0.241,0.651,0.465,0.383,0.74,0.243,0.394,0.813,0.162,0.282,0.956,0.618,0.244,0.484,0.47,0.468,0.656,0.396,0.467,0.679,0.915,0.595,0.746,0.59,0.859,0.51,0.608,0.627,0.299,0.688,0.552,0.876,0.631,0.926,0.769,0.407,0.879,0.605,0.765,0.425,0.649,0.352,0.748,0.446,0.156,0.389,0.83,0.57,0.277,0.579,0.817,0.618,0.51,0.49,0.665,0.266,0.443,0.722,0.647,0.964,0.331,0.899,0.706,0.356,0.262,0.799,0.137,0.693,0.496,0.577,0.886,0.793,0.805,0.895,0.683,0.357,0.34,0.235,0.678,0.732,0.881,0.362,0.371,0.28,0.5,0.585,0.637,0.283,0.741,0.47,0.85,0.566,0.577,0.889,0.594,0.449,0.207,0.563,0.218,0.471,0.427,0.576,0.446,0.366,0.418,0.592,0.287,0.132,0.078,0.131,0.306,0.385,0.443,0.526,0.351,0.138,0.0735,0.273,0.263,0.785,0.254,0.354,0.385,0.646,0.264,0.43,0.413,0.419,0.133,0.446,0.411,0.481,0.575,0.213,0.657,0.813,0.562,0.225,0.448,0.204,0.159,0.198,0.346,0.51,0.345,0.267,0.226,0.39,0.41,0.332,0.262,0.694,0.707,0.421,0.451,0.965,0.0365,0.378,0.624,0.0748,0.171,0.28,0.198,0.125,0.738,0.864,0.553,0.814,0.972,0.811,0.855,0.347,0.477,0.397,0.802,0.109,0.807,0.495,0.177,0.538,0.506,0.556,0.265,0.186,0.524,0.811,0.0938,0.265,0.414,0.35,0.753,0.423,0.271,0.059,0.203,0.128],\"type\":\"box\",\"xaxis\":\"x8\",\"yaxis\":\"y8\"},{\"name\":\"tempo\",\"x\":[\"Peligrosa\",\"Peligrosa\",\"Peligrosa\",\"Peligrosa\",\"Peligrosa\",\"Peligrosa\",\"Peligrosa\",\"Peligrosa\",\"Peligrosa\",\"Peligrosa\",\"Peligrosa\",\"Peligrosa\",\"Peligrosa\",\"Peligrosa\",\"Peligrosa\",\"Peligrosa\",\"Peligrosa\",\"Peligrosa\",\"Peligrosa\",\"Peligrosa\",\"Peligrosa\",\"Peligrosa\",\"Peligrosa\",\"Peligrosa\",\"Peligrosa\",\"Peligrosa\",\"Peligrosa\",\"Peligrosa\",\"Peligrosa\",\"Peligrosa\",\"Peligrosa\",\"Peligrosa\",\"Peligrosa\",\"Peligrosa\",\"Peligrosa\",\"Peligrosa\",\"Peligrosa\",\"Peligrosa\",\"Peligrosa\",\"Peligrosa\",\"Peligrosa\",\"Peligrosa\",\"Peligrosa\",\"Peligrosa\",\"Peligrosa\",\"Peligrosa\",\"Peligrosa\",\"Peligrosa\",\"Peligrosa\",\"Peligrosa\",\"popsicle\",\"popsicle\",\"popsicle\",\"popsicle\",\"popsicle\",\"popsicle\",\"popsicle\",\"popsicle\",\"popsicle\",\"popsicle\",\"popsicle\",\"popsicle\",\"popsicle\",\"popsicle\",\"popsicle\",\"popsicle\",\"popsicle\",\"popsicle\",\"popsicle\",\"popsicle\",\"popsicle\",\"popsicle\",\"popsicle\",\"popsicle\",\"popsicle\",\"popsicle\",\"popsicle\",\"popsicle\",\"popsicle\",\"popsicle\",\"popsicle\",\"popsicle\",\"popsicle\",\"popsicle\",\"popsicle\",\"popsicle\",\"popsicle\",\"popsicle\",\"popsicle\",\"popsicle\",\"popsicle\",\"popsicle\",\"popsicle\",\"popsicle\",\"popsicle\",\"popsicle\",\"popsicle\",\"pv2\",\"pv2\",\"pv2\",\"pv2\",\"pv2\",\"pv2\",\"pv2\",\"pv2\",\"pv2\",\"pv2\",\"pv2\",\"pv2\",\"pv2\",\"pv2\",\"pv2\",\"pv2\",\"pv2\",\"pv2\",\"pv2\",\"pv2\",\"pv2\",\"pv2\",\"pv2\",\"pv2\",\"pv2\",\"pv2\",\"pv2\",\"pv2\",\"pv2\",\"pv2\",\"pv2\",\"pv2\",\"pv2\",\"pv2\",\"pv2\",\"pv2\",\"pv2\",\"pv2\",\"pv2\",\"pv2\",\"pv2\",\"pv2\",\"pv2\",\"pv2\",\"pv2\",\"pv2\",\"pv2\",\"pv2\",\"pv2\",\"pv2\",\"forest walk\",\"forest walk\",\"forest walk\",\"forest walk\",\"forest walk\",\"forest walk\",\"forest walk\",\"forest walk\",\"forest walk\",\"forest walk\",\"forest walk\",\"forest walk\",\"forest walk\",\"forest walk\",\"forest walk\",\"forest walk\",\"forest walk\",\"forest walk\",\"forest walk\",\"forest walk\",\"forest walk\",\"forest walk\",\"forest walk\",\"forest walk\",\"forest walk\",\"forest walk\",\"forest walk\",\"forest walk\",\"forest walk\",\"forest walk\",\"forest walk\",\"forest walk\",\"forest walk\",\"forest walk\",\"forest walk\",\"forest walk\",\"forest walk\",\"forest walk\",\"forest walk\",\"forest walk\",\"forest walk\",\"forest walk\",\"forest walk\",\"forest walk\",\"forest walk\",\"forest walk\",\"forest walk\",\"forest walk\",\"forest walk\",\"forest walk\",\"Muy Tranquilo\",\"Muy Tranquilo\",\"Muy Tranquilo\",\"Muy Tranquilo\",\"Muy Tranquilo\",\"Muy Tranquilo\",\"Muy Tranquilo\",\"Muy Tranquilo\",\"Muy Tranquilo\",\"Muy Tranquilo\",\"Muy Tranquilo\",\"Muy Tranquilo\",\"Muy Tranquilo\",\"Muy Tranquilo\",\"Muy Tranquilo\",\"Muy Tranquilo\",\"Muy Tranquilo\",\"Muy Tranquilo\",\"Muy Tranquilo\",\"Muy Tranquilo\",\"Muy Tranquilo\",\"Muy Tranquilo\",\"Muy Tranquilo\",\"Muy Tranquilo\",\"Muy Tranquilo\",\"Muy Tranquilo\",\"Muy Tranquilo\",\"Muy Tranquilo\",\"Muy Tranquilo\",\"Muy Tranquilo\",\"Muy Tranquilo\",\"Muy Tranquilo\",\"Muy Tranquilo\",\"Muy Tranquilo\",\"Muy Tranquilo\",\"Muy Tranquilo\",\"Muy Tranquilo\",\"Muy Tranquilo\",\"Muy Tranquilo\",\"Muy Tranquilo\",\"Muy Tranquilo\",\"Muy Tranquilo\",\"Muy Tranquilo\",\"Muy Tranquilo\",\"Muy Tranquilo\",\"Muy Tranquilo\",\"Muy Tranquilo\",\"Muy Tranquilo\",\"Muy Tranquilo\",\"Muy Tranquilo\"],\"y\":[88.039,90.037,97.993,97.964,87.958,93.914,95.066,163.918,94.99,91.023,99.018,87.934,91.986,118.03,95.004,81.536,179.975,94.979,123.963,91.005,179.968,89.978,174.14,95.927,91.978,92.005,91.006,128.019,114.011,92.025,174.095,107.01,179.78,91.05,176.01,91.934,94.983,80.987,92.018,95.0,94.039,99.981,92.023,92.017,170.023,110.031,88.965,164.062,82.01,127.999,78.911,98.933,132.95,101.005,105.046,116.959,129.923,104.988,91.97,179.643,175.756,94.996,175.984,114.066,80.003,96.021,115.982,106.976,114.999,113.011,123.95,102.977,127.99,146.967,134.01,114.993,97.028,116.073,122.053,161.01,166.928,103.998,133.971,83.067,117.009,101.013,119.977,132.626,119.999,126.03,125.014,124.072,123.942,93.043,95.01,136.029,61.657,100.008,77.5,81.118,102.034,82.014,131.94,94.985,89.911,115.004,92.06,170.0,104.029,191.951,120.047,94.1,117.977,109.945,112.69,81.956,123.971,86.91,75.028,123.848,95.01,89.988,167.987,92.059,120.019,133.872,115.014,95.019,60.774,96.995,138.014,89.969,126.79,109.936,142.093,109.946,84.033,89.99,127.965,110.496,120.0,124.98,116.974,140.01,113.03,122.053,93.933,173.116,147.921,128.094,114.032,100.17,132.778,147.01,86.507,150.075,116.02,104.991,86.509,110.048,120.294,151.75,141.789,96.024,173.277,100.734,120.023,148.658,76.02,95.379,120.473,82.459,118.411,94.998,177.98,120.031,101.938,124.169,103.984,111.709,115.246,141.97,105.17,195.925,72.871,103.969,151.046,103.846,93.39,161.985,82.448,103.987,59.343,112.988,105.673,107.577,134.915,169.977,90.094,113.201,98.984,75.589,80.001,90.024,103.464,82.995,124.023,128.004,141.577,88.736,98.923,117.99,84.766,95.0,114.997,102.025,119.986,104.997,105.012,154.971,112.951,107.999,122.991,93.989,95.024,103.993,99.995,173.991,76.988,112.033,73.942,79.905,114.014,86.992,127.958,95.991,89.98,81.006,85.04,104.002,89.721,87.995,139.944,125.516,104.98,119.998,120.015],\"type\":\"box\",\"xaxis\":\"x9\",\"yaxis\":\"y9\"}],                        {\"template\":{\"data\":{\"histogram2dcontour\":[{\"type\":\"histogram2dcontour\",\"colorbar\":{\"outlinewidth\":0,\"ticks\":\"\"},\"colorscale\":[[0.0,\"#0d0887\"],[0.1111111111111111,\"#46039f\"],[0.2222222222222222,\"#7201a8\"],[0.3333333333333333,\"#9c179e\"],[0.4444444444444444,\"#bd3786\"],[0.5555555555555556,\"#d8576b\"],[0.6666666666666666,\"#ed7953\"],[0.7777777777777778,\"#fb9f3a\"],[0.8888888888888888,\"#fdca26\"],[1.0,\"#f0f921\"]]}],\"choropleth\":[{\"type\":\"choropleth\",\"colorbar\":{\"outlinewidth\":0,\"ticks\":\"\"}}],\"histogram2d\":[{\"type\":\"histogram2d\",\"colorbar\":{\"outlinewidth\":0,\"ticks\":\"\"},\"colorscale\":[[0.0,\"#0d0887\"],[0.1111111111111111,\"#46039f\"],[0.2222222222222222,\"#7201a8\"],[0.3333333333333333,\"#9c179e\"],[0.4444444444444444,\"#bd3786\"],[0.5555555555555556,\"#d8576b\"],[0.6666666666666666,\"#ed7953\"],[0.7777777777777778,\"#fb9f3a\"],[0.8888888888888888,\"#fdca26\"],[1.0,\"#f0f921\"]]}],\"heatmap\":[{\"type\":\"heatmap\",\"colorbar\":{\"outlinewidth\":0,\"ticks\":\"\"},\"colorscale\":[[0.0,\"#0d0887\"],[0.1111111111111111,\"#46039f\"],[0.2222222222222222,\"#7201a8\"],[0.3333333333333333,\"#9c179e\"],[0.4444444444444444,\"#bd3786\"],[0.5555555555555556,\"#d8576b\"],[0.6666666666666666,\"#ed7953\"],[0.7777777777777778,\"#fb9f3a\"],[0.8888888888888888,\"#fdca26\"],[1.0,\"#f0f921\"]]}],\"heatmapgl\":[{\"type\":\"heatmapgl\",\"colorbar\":{\"outlinewidth\":0,\"ticks\":\"\"},\"colorscale\":[[0.0,\"#0d0887\"],[0.1111111111111111,\"#46039f\"],[0.2222222222222222,\"#7201a8\"],[0.3333333333333333,\"#9c179e\"],[0.4444444444444444,\"#bd3786\"],[0.5555555555555556,\"#d8576b\"],[0.6666666666666666,\"#ed7953\"],[0.7777777777777778,\"#fb9f3a\"],[0.8888888888888888,\"#fdca26\"],[1.0,\"#f0f921\"]]}],\"contourcarpet\":[{\"type\":\"contourcarpet\",\"colorbar\":{\"outlinewidth\":0,\"ticks\":\"\"}}],\"contour\":[{\"type\":\"contour\",\"colorbar\":{\"outlinewidth\":0,\"ticks\":\"\"},\"colorscale\":[[0.0,\"#0d0887\"],[0.1111111111111111,\"#46039f\"],[0.2222222222222222,\"#7201a8\"],[0.3333333333333333,\"#9c179e\"],[0.4444444444444444,\"#bd3786\"],[0.5555555555555556,\"#d8576b\"],[0.6666666666666666,\"#ed7953\"],[0.7777777777777778,\"#fb9f3a\"],[0.8888888888888888,\"#fdca26\"],[1.0,\"#f0f921\"]]}],\"surface\":[{\"type\":\"surface\",\"colorbar\":{\"outlinewidth\":0,\"ticks\":\"\"},\"colorscale\":[[0.0,\"#0d0887\"],[0.1111111111111111,\"#46039f\"],[0.2222222222222222,\"#7201a8\"],[0.3333333333333333,\"#9c179e\"],[0.4444444444444444,\"#bd3786\"],[0.5555555555555556,\"#d8576b\"],[0.6666666666666666,\"#ed7953\"],[0.7777777777777778,\"#fb9f3a\"],[0.8888888888888888,\"#fdca26\"],[1.0,\"#f0f921\"]]}],\"mesh3d\":[{\"type\":\"mesh3d\",\"colorbar\":{\"outlinewidth\":0,\"ticks\":\"\"}}],\"scatter\":[{\"fillpattern\":{\"fillmode\":\"overlay\",\"size\":10,\"solidity\":0.2},\"type\":\"scatter\"}],\"parcoords\":[{\"type\":\"parcoords\",\"line\":{\"colorbar\":{\"outlinewidth\":0,\"ticks\":\"\"}}}],\"scatterpolargl\":[{\"type\":\"scatterpolargl\",\"marker\":{\"colorbar\":{\"outlinewidth\":0,\"ticks\":\"\"}}}],\"bar\":[{\"error_x\":{\"color\":\"#2a3f5f\"},\"error_y\":{\"color\":\"#2a3f5f\"},\"marker\":{\"line\":{\"color\":\"#E5ECF6\",\"width\":0.5},\"pattern\":{\"fillmode\":\"overlay\",\"size\":10,\"solidity\":0.2}},\"type\":\"bar\"}],\"scattergeo\":[{\"type\":\"scattergeo\",\"marker\":{\"colorbar\":{\"outlinewidth\":0,\"ticks\":\"\"}}}],\"scatterpolar\":[{\"type\":\"scatterpolar\",\"marker\":{\"colorbar\":{\"outlinewidth\":0,\"ticks\":\"\"}}}],\"histogram\":[{\"marker\":{\"pattern\":{\"fillmode\":\"overlay\",\"size\":10,\"solidity\":0.2}},\"type\":\"histogram\"}],\"scattergl\":[{\"type\":\"scattergl\",\"marker\":{\"colorbar\":{\"outlinewidth\":0,\"ticks\":\"\"}}}],\"scatter3d\":[{\"type\":\"scatter3d\",\"line\":{\"colorbar\":{\"outlinewidth\":0,\"ticks\":\"\"}},\"marker\":{\"colorbar\":{\"outlinewidth\":0,\"ticks\":\"\"}}}],\"scattermapbox\":[{\"type\":\"scattermapbox\",\"marker\":{\"colorbar\":{\"outlinewidth\":0,\"ticks\":\"\"}}}],\"scatterternary\":[{\"type\":\"scatterternary\",\"marker\":{\"colorbar\":{\"outlinewidth\":0,\"ticks\":\"\"}}}],\"scattercarpet\":[{\"type\":\"scattercarpet\",\"marker\":{\"colorbar\":{\"outlinewidth\":0,\"ticks\":\"\"}}}],\"carpet\":[{\"aaxis\":{\"endlinecolor\":\"#2a3f5f\",\"gridcolor\":\"white\",\"linecolor\":\"white\",\"minorgridcolor\":\"white\",\"startlinecolor\":\"#2a3f5f\"},\"baxis\":{\"endlinecolor\":\"#2a3f5f\",\"gridcolor\":\"white\",\"linecolor\":\"white\",\"minorgridcolor\":\"white\",\"startlinecolor\":\"#2a3f5f\"},\"type\":\"carpet\"}],\"table\":[{\"cells\":{\"fill\":{\"color\":\"#EBF0F8\"},\"line\":{\"color\":\"white\"}},\"header\":{\"fill\":{\"color\":\"#C8D4E3\"},\"line\":{\"color\":\"white\"}},\"type\":\"table\"}],\"barpolar\":[{\"marker\":{\"line\":{\"color\":\"#E5ECF6\",\"width\":0.5},\"pattern\":{\"fillmode\":\"overlay\",\"size\":10,\"solidity\":0.2}},\"type\":\"barpolar\"}],\"pie\":[{\"automargin\":true,\"type\":\"pie\"}]},\"layout\":{\"autotypenumbers\":\"strict\",\"colorway\":[\"#636efa\",\"#EF553B\",\"#00cc96\",\"#ab63fa\",\"#FFA15A\",\"#19d3f3\",\"#FF6692\",\"#B6E880\",\"#FF97FF\",\"#FECB52\"],\"font\":{\"color\":\"#2a3f5f\"},\"hovermode\":\"closest\",\"hoverlabel\":{\"align\":\"left\"},\"paper_bgcolor\":\"white\",\"plot_bgcolor\":\"#E5ECF6\",\"polar\":{\"bgcolor\":\"#E5ECF6\",\"angularaxis\":{\"gridcolor\":\"white\",\"linecolor\":\"white\",\"ticks\":\"\"},\"radialaxis\":{\"gridcolor\":\"white\",\"linecolor\":\"white\",\"ticks\":\"\"}},\"ternary\":{\"bgcolor\":\"#E5ECF6\",\"aaxis\":{\"gridcolor\":\"white\",\"linecolor\":\"white\",\"ticks\":\"\"},\"baxis\":{\"gridcolor\":\"white\",\"linecolor\":\"white\",\"ticks\":\"\"},\"caxis\":{\"gridcolor\":\"white\",\"linecolor\":\"white\",\"ticks\":\"\"}},\"coloraxis\":{\"colorbar\":{\"outlinewidth\":0,\"ticks\":\"\"}},\"colorscale\":{\"sequential\":[[0.0,\"#0d0887\"],[0.1111111111111111,\"#46039f\"],[0.2222222222222222,\"#7201a8\"],[0.3333333333333333,\"#9c179e\"],[0.4444444444444444,\"#bd3786\"],[0.5555555555555556,\"#d8576b\"],[0.6666666666666666,\"#ed7953\"],[0.7777777777777778,\"#fb9f3a\"],[0.8888888888888888,\"#fdca26\"],[1.0,\"#f0f921\"]],\"sequentialminus\":[[0.0,\"#0d0887\"],[0.1111111111111111,\"#46039f\"],[0.2222222222222222,\"#7201a8\"],[0.3333333333333333,\"#9c179e\"],[0.4444444444444444,\"#bd3786\"],[0.5555555555555556,\"#d8576b\"],[0.6666666666666666,\"#ed7953\"],[0.7777777777777778,\"#fb9f3a\"],[0.8888888888888888,\"#fdca26\"],[1.0,\"#f0f921\"]],\"diverging\":[[0,\"#8e0152\"],[0.1,\"#c51b7d\"],[0.2,\"#de77ae\"],[0.3,\"#f1b6da\"],[0.4,\"#fde0ef\"],[0.5,\"#f7f7f7\"],[0.6,\"#e6f5d0\"],[0.7,\"#b8e186\"],[0.8,\"#7fbc41\"],[0.9,\"#4d9221\"],[1,\"#276419\"]]},\"xaxis\":{\"gridcolor\":\"white\",\"linecolor\":\"white\",\"ticks\":\"\",\"title\":{\"standoff\":15},\"zerolinecolor\":\"white\",\"automargin\":true,\"zerolinewidth\":2},\"yaxis\":{\"gridcolor\":\"white\",\"linecolor\":\"white\",\"ticks\":\"\",\"title\":{\"standoff\":15},\"zerolinecolor\":\"white\",\"automargin\":true,\"zerolinewidth\":2},\"scene\":{\"xaxis\":{\"backgroundcolor\":\"#E5ECF6\",\"gridcolor\":\"white\",\"linecolor\":\"white\",\"showbackground\":true,\"ticks\":\"\",\"zerolinecolor\":\"white\",\"gridwidth\":2},\"yaxis\":{\"backgroundcolor\":\"#E5ECF6\",\"gridcolor\":\"white\",\"linecolor\":\"white\",\"showbackground\":true,\"ticks\":\"\",\"zerolinecolor\":\"white\",\"gridwidth\":2},\"zaxis\":{\"backgroundcolor\":\"#E5ECF6\",\"gridcolor\":\"white\",\"linecolor\":\"white\",\"showbackground\":true,\"ticks\":\"\",\"zerolinecolor\":\"white\",\"gridwidth\":2}},\"shapedefaults\":{\"line\":{\"color\":\"#2a3f5f\"}},\"annotationdefaults\":{\"arrowcolor\":\"#2a3f5f\",\"arrowhead\":0,\"arrowwidth\":1},\"geo\":{\"bgcolor\":\"white\",\"landcolor\":\"#E5ECF6\",\"subunitcolor\":\"white\",\"showland\":true,\"showlakes\":true,\"lakecolor\":\"white\"},\"title\":{\"x\":0.05},\"mapbox\":{\"style\":\"light\"}}},\"xaxis\":{\"anchor\":\"y\",\"domain\":[0.0,1.0]},\"yaxis\":{\"anchor\":\"x\",\"domain\":[0.9185185185185185,1.0]},\"xaxis2\":{\"anchor\":\"y2\",\"domain\":[0.0,1.0]},\"yaxis2\":{\"anchor\":\"x2\",\"domain\":[0.8037037037037038,0.8851851851851853]},\"xaxis3\":{\"anchor\":\"y3\",\"domain\":[0.0,1.0]},\"yaxis3\":{\"anchor\":\"x3\",\"domain\":[0.6888888888888889,0.7703703703703704]},\"xaxis4\":{\"anchor\":\"y4\",\"domain\":[0.0,1.0]},\"yaxis4\":{\"anchor\":\"x4\",\"domain\":[0.5740740740740741,0.6555555555555556]},\"xaxis5\":{\"anchor\":\"y5\",\"domain\":[0.0,1.0]},\"yaxis5\":{\"anchor\":\"x5\",\"domain\":[0.45925925925925926,0.5407407407407407]},\"xaxis6\":{\"anchor\":\"y6\",\"domain\":[0.0,1.0]},\"yaxis6\":{\"anchor\":\"x6\",\"domain\":[0.34444444444444444,0.42592592592592593]},\"xaxis7\":{\"anchor\":\"y7\",\"domain\":[0.0,1.0]},\"yaxis7\":{\"anchor\":\"x7\",\"domain\":[0.22962962962962963,0.3111111111111111]},\"xaxis8\":{\"anchor\":\"y8\",\"domain\":[0.0,1.0]},\"yaxis8\":{\"anchor\":\"x8\",\"domain\":[0.11481481481481481,0.1962962962962963]},\"xaxis9\":{\"anchor\":\"y9\",\"domain\":[0.0,1.0]},\"yaxis9\":{\"anchor\":\"x9\",\"domain\":[0.0,0.08148148148148149]},\"title\":{\"text\":\"Features for different playlists\"},\"height\":2000,\"width\":800},                        {\"responsive\": true}                    ).then(function(){\n",
       "                            \n",
       "var gd = document.getElementById('3c2f8eb6-9e31-458c-b487-16a6fc092c25');\n",
       "var x = new MutationObserver(function (mutations, observer) {{\n",
       "        var display = window.getComputedStyle(gd).display;\n",
       "        if (!display || display === 'none') {{\n",
       "            console.log([gd, 'removed!']);\n",
       "            Plotly.purge(gd);\n",
       "            observer.disconnect();\n",
       "        }}\n",
       "}});\n",
       "\n",
       "// Listen for the removal of the full notebook cells\n",
       "var notebookContainer = gd.closest('#notebook-container');\n",
       "if (notebookContainer) {{\n",
       "    x.observe(notebookContainer, {childList: true});\n",
       "}}\n",
       "\n",
       "// Listen for the clearing of the current output cell\n",
       "var outputEl = gd.closest('.output');\n",
       "if (outputEl) {{\n",
       "    x.observe(outputEl, {childList: true});\n",
       "}}\n",
       "\n",
       "                        })                };                });            </script>        </div>"
      ]
     },
     "metadata": {},
     "output_type": "display_data"
    }
   ],
   "source": [
    "fig = make_subplots(rows=len(cols), cols=1)\n",
    "for i, col in enumerate(cols):\n",
    "    fig.add_trace(go.Box(x=df['playlist'], y=df[col], name=col), row=i+1, col=1)\n",
    "\n",
    "fig.update_layout(height=2000, width=800, title_text=\"Features for different playlists\")\n",
    "fig.show()"
   ]
  },
  {
   "cell_type": "markdown",
   "id": "0e6faa95",
   "metadata": {},
   "source": [
    "#### Clustering"
   ]
  },
  {
   "cell_type": "code",
   "execution_count": 445,
   "id": "7d84f374",
   "metadata": {},
   "outputs": [],
   "source": [
    "clusters = 4\n",
    "km = KMeans(n_clusters=clusters)\n",
    "df['cluster'] = km.fit_predict(df[cols])"
   ]
  },
  {
   "cell_type": "code",
   "execution_count": 446,
   "id": "60ce371a",
   "metadata": {},
   "outputs": [
    {
     "data": {
      "application/vnd.plotly.v1+json": {
       "config": {
        "plotlyServerURL": "https://plot.ly"
       },
       "data": [
        {
         "customdata": [
          [
           "Dime"
          ],
          [
           "Pantysito"
          ],
          [
           "Gatas"
          ],
          [
           "Nadie"
          ],
          [
           "Sin Ropa (with Ingratax)"
          ],
          [
           "cuatro veinte"
          ],
          [
           "Cucando"
          ],
          [
           "Mojando Asientos (feat. Feid)"
          ],
          [
           "Tendencia Global"
          ],
          [
           "No Son Horas"
          ],
          [
           "ZONA DEL PERREO"
          ],
          [
           "AGUA"
          ],
          [
           "RUMBATÓN"
          ],
          [
           "ALMAS GEMELAS"
          ],
          [
           "BORRAXXA"
          ],
          [
           "Numero 1"
          ],
          [
           "Paulo Londra: Bzrp Music Sessions, Vol. 23"
          ],
          [
           "3 Deseos Remix (with Dalex & Eix, feat. Alejo)"
          ],
          [
           "Me Porto Bonito"
          ],
          [
           "Te Mentiría Remix"
          ],
          [
           "Tarot"
          ],
          [
           "La Triple T"
          ],
          [
           "Sonrisa Falsa (with Sael)"
          ],
          [
           "Hermosa (feat. Daddy Yankee)"
          ],
          [
           "Un Momento (with Moffa)"
          ],
          [
           "10 PM"
          ],
          [
           "Maléfica"
          ],
          [
           "OJALÁ"
          ],
          [
           "BORRACHA"
          ],
          [
           "intoxicao"
          ],
          [
           "latin girl"
          ],
          [
           "cielo en la mente"
          ],
          [
           "Nos Comemos (feat. Ozuna)"
          ],
          [
           "Antes de Perderte"
          ],
          [
           "Dile a Tus Amigas"
          ],
          [
           "Ferxxo 100"
          ],
          [
           "Nos Comemos Vivos"
          ],
          [
           "Villano Antillano: Bzrp Music Sessions, Vol. 51"
          ],
          [
           "yes girl"
          ],
          [
           "repercussions"
          ],
          [
           "My Oh My (feat. DaBaby)"
          ],
          [
           "Señorita"
          ],
          [
           "Never Be the Same"
          ],
          [
           "Havana (feat. Young Thug)"
          ],
          [
           "Bam Bam (feat. Ed Sheeran)"
          ],
          [
           "Plastic Hearts"
          ],
          [
           "Nothing Breaks Like a Heart (feat. Miley Cyrus)"
          ],
          [
           "We Can't Stop"
          ],
          [
           "Party In The U.S.A."
          ],
          [
           "Love Again"
          ],
          [
           "Break My Heart"
          ],
          [
           "Don't Start Now"
          ],
          [
           "Levitating (feat. DaBaby)"
          ],
          [
           "Prisoner (feat. Dua Lipa)"
          ],
          [
           "Physical"
          ],
          [
           "We're Good"
          ],
          [
           "Future Nostalgia"
          ],
          [
           "IDGAF"
          ],
          [
           "New Rules"
          ],
          [
           "Hallucinate"
          ],
          [
           "Try"
          ],
          [
           "The One That Got Away"
          ],
          [
           "The Heart Wants What It Wants"
          ],
          [
           "Love You Like A Love Song"
          ],
          [
           "Who Says"
          ],
          [
           "A Year Without Rain"
          ],
          [
           "Naturally"
          ],
          [
           "Teenage Dream"
          ],
          [
           "Last Friday Night (T.G.I.F.)"
          ],
          [
           "California Gurls"
          ],
          [
           "Firework"
          ],
          [
           "Ready or Not"
          ],
          [
           "Hurricane"
          ],
          [
           "like that"
          ],
          [
           "Jugando a los Sims"
          ],
          [
           "Antónimos"
          ],
          [
           "Deseo"
          ],
          [
           "Superman"
          ],
          [
           "Fuera del mercado"
          ],
          [
           "LA DESPEDIDA - Live - Spotify Singles"
          ],
          [
           "Hasta Los Dientes"
          ],
          [
           "No Te Bastó, Mi Corazón"
          ],
          [
           "Nubes"
          ],
          [
           "Nosotros"
          ],
          [
           "828"
          ],
          [
           "Robot"
          ],
          [
           "De Chill (feat. David Otero)"
          ],
          [
           "Bonita"
          ],
          [
           "Paralizante"
          ],
          [
           "FBI"
          ],
          [
           "besitos, cuídate (Remix)"
          ],
          [
           "Pantalones de pana"
          ],
          [
           "París"
          ],
          [
           "Angelito"
          ],
          [
           "No dejes que pase el tiempo"
          ],
          [
           "la balada"
          ],
          [
           "BANDIDO"
          ],
          [
           "El Cielo Se Me Cayó"
          ],
          [
           "Perdido"
          ],
          [
           "La Bachata"
          ],
          [
           "Muchas Cosas"
          ],
          [
           "TV"
          ],
          [
           "Holding On"
          ],
          [
           "My Silver Lining"
          ],
          [
           "Moments"
          ],
          [
           "Butterflies"
          ]
         ],
         "hovertemplate": "%{customdata[0]}",
         "legendgroup": "1",
         "marker": {
          "color": "#636efa",
          "symbol": "circle"
         },
         "mode": "markers",
         "name": "1",
         "orientation": "v",
         "showlegend": true,
         "type": "scatter",
         "x": [
          -0.7635788482914683,
          -1.3817270421620815,
          -1.672139105922048,
          -1.0894309491141154,
          -0.7117153400999017,
          -1.188201464978423,
          -0.979098884706876,
          -1.4494230616471997,
          -1.417895274862895,
          -0.004297882138838632,
          -2.0304403497528725,
          -0.993730851502215,
          -2.1723911888764373,
          -1.4520685453625937,
          -1.5494169065695642,
          -2.2297769630490403,
          -0.8653192242228033,
          -1.1997779979817442,
          -1.3572249598087576,
          -1.6289322270374365,
          -0.9488677374210981,
          -1.123795277555116,
          -0.21480208944394258,
          -1.4621029180367662,
          -0.4672939045013984,
          -1.2798090875252965,
          -2.3482012689976877,
          -0.771967860980568,
          -2.2539437119995585,
          -1.9517250295540962,
          -0.8540280604763707,
          -0.9521240305461979,
          -1.7751469871748309,
          -1.7862470261044543,
          -0.5683521595718131,
          -0.6422603879552407,
          -1.5810470616648065,
          -0.6185420268711539,
          -0.05677818506331884,
          -0.1855881348208506,
          -0.04971652625391929,
          -0.8293302330716875,
          -0.28956601530488135,
          -0.2594161043479198,
          -1.3032480035374805,
          -0.8878845543460138,
          -0.3276612768934374,
          -0.27003302506589416,
          -0.8315894755744888,
          -0.7246141725996509,
          -1.0935681940656459,
          -1.8952954855960267,
          -2.2277317755051445,
          -1.3931328331103252,
          -1.7632759978644632,
          -0.6683814209806089,
          -2.3297767033424424,
          -0.8580073590041998,
          -1.1827760827048215,
          -1.1345366272822215,
          -0.4272738420612163,
          -1.9102338448731737,
          -1.131835355546946,
          -2.0956280237088016,
          -2.1548012505351144,
          -0.8233103521948111,
          -1.8399275025908548,
          -1.4484663788506114,
          -1.5596897481614178,
          -1.3901840159705248,
          -1.1855466466016384,
          -2.0621244869164723,
          -1.5052014696237064,
          0.6599455494877743,
          -0.8556799443691971,
          -1.4723080269340647,
          0.32450605439164887,
          -1.4087122424442404,
          0.40815237605217497,
          -1.1479553100255098,
          -1.7736509933067348,
          -0.09577993362764743,
          -1.7231743740899708,
          -0.5232690192270937,
          -0.3614411317721614,
          -1.6073303225991018,
          -1.3203031901566247,
          0.15952680109539402,
          -1.2261342280435812,
          -2.176856119357834,
          -1.8780964295551599,
          -0.2498022717594301,
          -1.360304632227731,
          -0.4966105796980079,
          -0.8326840199404925,
          -0.0508899483806332,
          -0.14772104053894286,
          -2.0689176519159793,
          0.20196588536954535,
          -0.8511031027354716,
          -0.21284710911526428,
          -0.9921762787232125,
          0.035552982735055715,
          -0.2961752844212636,
          0.6853764692745545,
          0.08438316614895253
         ],
         "xaxis": "x",
         "y": [
          -1.3094383996610897,
          -0.6453040583569568,
          0.22886573650111927,
          -0.42418646066960963,
          -0.8005060019456869,
          -0.4451045173846062,
          1.5028748907915814,
          -1.0319861053374317,
          -0.1465834123576457,
          -0.4947829916993512,
          -0.12217974939398481,
          -0.0007972458269807068,
          -1.3440843746716307,
          -1.228648636783242,
          -0.4504673937723227,
          -0.38676652522138405,
          0.8156474785843395,
          -0.15979795849539602,
          -0.48257465291684243,
          -0.5069624906411094,
          -2.4619152597539427,
          -1.0978671188448348,
          1.109268996626521,
          -0.014013303998073039,
          0.10533393397484696,
          -1.784714012928136,
          -0.07589139471828103,
          -0.4559656453000601,
          -0.5061887695461413,
          -0.6696304336915696,
          -0.6057498750477337,
          -0.44304115081758005,
          -0.4716082944584355,
          0.36012761536052523,
          -0.3054312227907287,
          0.9893339641247838,
          -1.0622306270227562,
          -1.8815920098541812,
          -0.5409754847520737,
          -0.4096518362611412,
          -0.4166925939896957,
          -0.21076894649352704,
          0.5510103836204299,
          -0.6026801075132039,
          -1.5245560172193184,
          1.8572339053467397,
          -0.9490511534682776,
          -1.8712195841901675,
          -0.28521184454529924,
          0.02047589109017016,
          -0.7415689427756068,
          0.42778834299559126,
          0.06954992198148079,
          0.28718906020919194,
          0.9006891771807256,
          0.05191245385808858,
          -0.9993378841110241,
          -0.25644370652908727,
          -0.10638816032133191,
          1.0299617610983811,
          -0.3255631108173366,
          0.20957715715486017,
          -0.7189462464578659,
          -0.05637977967794958,
          -0.5107696014537831,
          0.36646211029284115,
          0.8872796813627027,
          -0.050005046019462006,
          -1.9811334015917599,
          -0.008094059500124111,
          0.503650914053691,
          -0.35622147370781876,
          -0.13899095705339548,
          -3.016022111013706,
          -1.285673010343765,
          0.28434281655233945,
          -0.46671355987033913,
          -0.21238848006335095,
          0.45447976280826063,
          -0.6040233519432541,
          0.054347606762817476,
          -0.6225081132859019,
          -0.13283268913670324,
          -0.7536933002129906,
          -0.06634864510000357,
          -0.12867830590131288,
          -0.26618460855338755,
          0.30328520324648656,
          1.1605900734241983,
          -0.3040221619258195,
          0.20291599928487028,
          -0.280001803295755,
          0.8866785461935425,
          -0.5684046962221425,
          -0.1699964281906737,
          -0.650534808513028,
          -0.58241803247223,
          0.2897120319824355,
          0.024467232934163623,
          -0.48767581646249797,
          -0.3307848517505398,
          -0.31390954815587785,
          0.29825157015889514,
          -0.44108800801556364,
          0.3922371553634179,
          0.17534560796288962
         ],
         "yaxis": "y"
        },
        {
         "customdata": [
          [
           "Pal Perreo"
          ],
          [
           "Si Te Interesa"
          ],
          [
           "Si Quieren Frontear"
          ],
          [
           "TBT"
          ],
          [
           "Instagram"
          ],
          [
           "Te Felicito"
          ],
          [
           "NO MIENTEN"
          ],
          [
           "Castigo"
          ],
          [
           "Nota"
          ],
          [
           "Barranquilla Bajo Cero"
          ],
          [
           "La Llevo Al Cielo (Ft. Ñengo Flow)"
          ],
          [
           "outside"
          ],
          [
           "girlfriend"
          ],
          [
           "Pretty Please"
          ],
          [
           "Fever"
          ],
          [
           "good 4 u"
          ],
          [
           "TE FUISTE (feat. Myke Towers)"
          ],
          [
           "Flaca"
          ],
          [
           "Mereces Menos"
          ],
          [
           "Angelito"
          ],
          [
           "Funeral"
          ],
          [
           "Amor Con Odio"
          ],
          [
           "Toy Story"
          ],
          [
           "Sigue"
          ]
         ],
         "hovertemplate": "%{customdata[0]}",
         "legendgroup": "2",
         "marker": {
          "color": "#EF553B",
          "symbol": "circle"
         },
         "mode": "markers",
         "name": "2",
         "orientation": "v",
         "showlegend": true,
         "type": "scatter",
         "x": [
          -1.6173463712229257,
          -1.2513164465643392,
          -2.1131382988256258,
          -1.5106700095417136,
          -1.3554274677206397,
          -1.391334320668086,
          -2.205875825717899,
          -1.7318700810057677,
          -0.5602226854833561,
          -2.0820059882674724,
          -2.2640536238634144,
          -2.0094390541895435,
          -1.4267293585946716,
          -1.318298300459992,
          -1.151784080211639,
          -0.6343417169864322,
          -1.8558684921811655,
          -1.3716226341429067,
          -0.14756250237511673,
          -1.1231405377946055,
          -0.9508924844060136,
          -1.890196826600545,
          -1.8578757602088543,
          -0.2948051619283321
         ],
         "xaxis": "x",
         "y": [
          0.008617449896160674,
          1.6996906086469648,
          0.10379657998212227,
          3.475409009222771,
          2.0409072601442966,
          3.267555903760703,
          1.1665133958774196,
          2.2538914249427213,
          1.496948988888509,
          0.49250410038334824,
          1.5189103964762896,
          1.0289592420841496,
          1.2962685929291684,
          -0.3552599169868694,
          0.7030489064364407,
          2.176718509668305,
          0.9826202756553862,
          0.07991440439303218,
          2.3872877470035263,
          3.2469112814475753,
          0.61343067678623,
          0.024411130766464197,
          0.46729542973062016,
          1.2739427288956615
         ],
         "yaxis": "y"
        },
        {
         "customdata": [
          [
           "Vdp"
          ],
          [
           "Real Friends"
          ],
          [
           "This Love"
          ],
          [
           "In the Dark"
          ],
          [
           "The Climb"
          ],
          [
           "The One That Got Away - Acoustic"
          ],
          [
           "feel something"
          ],
          [
           "Tu cepillo de dientes"
          ],
          [
           "Tierra Firme"
          ],
          [
           "Cosas De La Vida"
          ],
          [
           "ARRANCARMELO"
          ],
          [
           "SAKURA"
          ],
          [
           "Ya acabó - Con Becky G"
          ],
          [
           "3 AMIGAS TUYAS"
          ],
          [
           "HOOD"
          ],
          [
           "Flores"
          ],
          [
           "Carne y Hueso"
          ],
          [
           "Entre Tejados"
          ],
          [
           "mi otra mitad"
          ],
          [
           "Que Dirá?"
          ],
          [
           "Sleep By Rivers"
          ],
          [
           "Sorry I'm Gone (Feat. Emily Reid)"
          ],
          [
           "Blue Eyes"
          ],
          [
           "Coastline"
          ],
          [
           "Simple Things"
          ],
          [
           "Bite"
          ],
          [
           "Lights Off"
          ],
          [
           "Budding Trees"
          ],
          [
           "The Woods - Acoustic"
          ],
          [
           "Emma"
          ],
          [
           "Northern Rivers"
          ],
          [
           "Heart Attack"
          ],
          [
           "Speak Too Soon"
          ],
          [
           "Thinking 'Bout Love"
          ],
          [
           "California"
          ],
          [
           "Guaranteed"
          ],
          [
           "Monsters"
          ],
          [
           "On My Way"
          ],
          [
           "Already Gone"
          ],
          [
           "Dreams"
          ],
          [
           "letting go"
          ],
          [
           "Clouds (with Sabrina Carpenter)"
          ],
          [
           "Trick To Happy"
          ],
          [
           "Home"
          ],
          [
           "chocolate"
          ],
          [
           "Where's My Love"
          ],
          [
           "Dirty Paws"
          ],
          [
           "Wonderful Life"
          ],
          [
           "Follow Your Arrow"
          ],
          [
           "Morning Breeze"
          ],
          [
           "Until The Morning Light"
          ],
          [
           "I BELIEVE"
          ],
          [
           "Everything To Me"
          ],
          [
           "I'm On Fire"
          ],
          [
           "It Must Have Been Love"
          ],
          [
           "In My Arms"
          ],
          [
           "Feeling You"
          ],
          [
           "3 Rounds and a Sound"
          ],
          [
           "Neon Stars"
          ],
          [
           "Blue (Da Ba Dee)"
          ],
          [
           "gracias a la vida"
          ],
          [
           "Amsterdam - Acoustic"
          ]
         ],
         "hovertemplate": "%{customdata[0]}",
         "legendgroup": "0",
         "marker": {
          "color": "#00cc96",
          "symbol": "circle"
         },
         "mode": "markers",
         "name": "0",
         "orientation": "v",
         "showlegend": true,
         "type": "scatter",
         "x": [
          0.5144700310664121,
          1.0057589072055406,
          1.2201748945247657,
          0.9215402996831846,
          0.937650585576015,
          2.021209213511998,
          1.2471875096765066,
          0.6311425399043912,
          2.994147866061121,
          1.1636569264624461,
          1.8032108873701242,
          4.015419990649941,
          0.9300943615472764,
          0.5865576647026345,
          0.5916378220992171,
          1.544277793308462,
          2.1331990740364875,
          0.9196743460752161,
          0.5748887211576472,
          0.45759803991773357,
          1.9527421858832588,
          2.3157360790248105,
          2.6303248603309757,
          1.715839523672094,
          2.7647309415322945,
          3.4368822218666706,
          2.6790490389471584,
          0.7756377873136254,
          1.7829239894691402,
          1.3763636925040508,
          2.228225801750937,
          3.6856160400869693,
          1.7192847988918003,
          1.3751744167835454,
          1.4875525527125202,
          3.1386927849399253,
          1.815955722853721,
          2.5142822109941156,
          3.0143360970797417,
          1.2417536228319261,
          2.456245905909017,
          1.0080842031823356,
          1.2340893967540016,
          3.3472129821412673,
          2.30392184503535,
          2.7259707165034075,
          1.2096089328743524,
          0.9811647695124258,
          0.4969086382384421,
          2.0487242675999697,
          0.8747220154026526,
          1.7540656205655474,
          2.833486366324961,
          3.8329958487720113,
          1.8624204867163072,
          3.426740733688363,
          2.762050930591445,
          3.8256570887012153,
          1.8656755999232837,
          2.802634412637237,
          3.092093614096313,
          3.354083927579752
         ],
         "xaxis": "x",
         "y": [
          0.7839038285395584,
          -0.10304525974468871,
          1.5558634363282184,
          2.093992690053703,
          1.2555421659671104,
          0.028231898705194748,
          -0.48007630966453785,
          -1.2343345111887472,
          -1.1303612958076907,
          -1.1177209533116823,
          -0.7428568785173962,
          -3.1952228995965757,
          0.43304881517241123,
          -0.16004184593000567,
          -1.90771030789504,
          -0.02762156974861512,
          -0.19436172927760384,
          0.1018440941298462,
          0.49597306853455697,
          -0.24414703625209574,
          1.4008344852547687,
          0.536963805512329,
          0.27169194387719653,
          -0.32365637951410636,
          0.496885208056685,
          -1.63215802879259,
          0.405011529034847,
          -0.4512598859521363,
          -0.23779367395164144,
          -0.4009517083570172,
          -0.31800409836955534,
          -0.13769079117146832,
          0.816559259803174,
          0.3997479759019339,
          -0.835239648603775,
          -0.2992398985615945,
          0.13213060150264788,
          -1.0076280786042584,
          -0.5181600199000137,
          -2.06688015961748,
          -0.25272169059686245,
          -0.6053693061268632,
          1.1363459966641893,
          -0.24313048110046315,
          -0.03529763521567336,
          -0.3981931439203323,
          0.6121416263531549,
          -0.6703441103164323,
          2.1617337292257606,
          -1.08847382315537,
          -0.6008843044942536,
          -1.7172829314785802,
          -0.5316951329222139,
          0.06422961603913162,
          -0.03838573206359532,
          -1.069707052084101,
          0.4509032985497033,
          -1.1326832572595713,
          -0.14601872975615796,
          -0.48121600907122997,
          -0.542237885063975,
          0.0600375788024964
         ],
         "yaxis": "y"
        },
        {
         "customdata": [
          [
           "A carta cabal"
          ],
          [
           "Permanent Way"
          ],
          [
           "Rise"
          ],
          [
           "To Build A Home"
          ],
          [
           "San Luis"
          ]
         ],
         "hovertemplate": "%{customdata[0]}",
         "legendgroup": "3",
         "marker": {
          "color": "#ab63fa",
          "symbol": "circle"
         },
         "mode": "markers",
         "name": "3",
         "orientation": "v",
         "showlegend": true,
         "type": "scatter",
         "x": [
          5.472321519907961,
          5.214744623831499,
          2.721699930835368,
          6.9655593809536125,
          4.181821125525247
         ],
         "xaxis": "x",
         "y": [
          1.4257039542338603,
          3.287688286638775,
          2.801898130478911,
          2.8408096943676275,
          0.5794687281000831
         ],
         "yaxis": "y"
        }
       ],
       "layout": {
        "legend": {
         "title": {
          "text": "color"
         },
         "tracegroupgap": 0
        },
        "margin": {
         "t": 60
        },
        "template": {
         "data": {
          "bar": [
           {
            "error_x": {
             "color": "#2a3f5f"
            },
            "error_y": {
             "color": "#2a3f5f"
            },
            "marker": {
             "line": {
              "color": "#E5ECF6",
              "width": 0.5
             },
             "pattern": {
              "fillmode": "overlay",
              "size": 10,
              "solidity": 0.2
             }
            },
            "type": "bar"
           }
          ],
          "barpolar": [
           {
            "marker": {
             "line": {
              "color": "#E5ECF6",
              "width": 0.5
             },
             "pattern": {
              "fillmode": "overlay",
              "size": 10,
              "solidity": 0.2
             }
            },
            "type": "barpolar"
           }
          ],
          "carpet": [
           {
            "aaxis": {
             "endlinecolor": "#2a3f5f",
             "gridcolor": "white",
             "linecolor": "white",
             "minorgridcolor": "white",
             "startlinecolor": "#2a3f5f"
            },
            "baxis": {
             "endlinecolor": "#2a3f5f",
             "gridcolor": "white",
             "linecolor": "white",
             "minorgridcolor": "white",
             "startlinecolor": "#2a3f5f"
            },
            "type": "carpet"
           }
          ],
          "choropleth": [
           {
            "colorbar": {
             "outlinewidth": 0,
             "ticks": ""
            },
            "type": "choropleth"
           }
          ],
          "contour": [
           {
            "colorbar": {
             "outlinewidth": 0,
             "ticks": ""
            },
            "colorscale": [
             [
              0,
              "#0d0887"
             ],
             [
              0.1111111111111111,
              "#46039f"
             ],
             [
              0.2222222222222222,
              "#7201a8"
             ],
             [
              0.3333333333333333,
              "#9c179e"
             ],
             [
              0.4444444444444444,
              "#bd3786"
             ],
             [
              0.5555555555555556,
              "#d8576b"
             ],
             [
              0.6666666666666666,
              "#ed7953"
             ],
             [
              0.7777777777777778,
              "#fb9f3a"
             ],
             [
              0.8888888888888888,
              "#fdca26"
             ],
             [
              1,
              "#f0f921"
             ]
            ],
            "type": "contour"
           }
          ],
          "contourcarpet": [
           {
            "colorbar": {
             "outlinewidth": 0,
             "ticks": ""
            },
            "type": "contourcarpet"
           }
          ],
          "heatmap": [
           {
            "colorbar": {
             "outlinewidth": 0,
             "ticks": ""
            },
            "colorscale": [
             [
              0,
              "#0d0887"
             ],
             [
              0.1111111111111111,
              "#46039f"
             ],
             [
              0.2222222222222222,
              "#7201a8"
             ],
             [
              0.3333333333333333,
              "#9c179e"
             ],
             [
              0.4444444444444444,
              "#bd3786"
             ],
             [
              0.5555555555555556,
              "#d8576b"
             ],
             [
              0.6666666666666666,
              "#ed7953"
             ],
             [
              0.7777777777777778,
              "#fb9f3a"
             ],
             [
              0.8888888888888888,
              "#fdca26"
             ],
             [
              1,
              "#f0f921"
             ]
            ],
            "type": "heatmap"
           }
          ],
          "heatmapgl": [
           {
            "colorbar": {
             "outlinewidth": 0,
             "ticks": ""
            },
            "colorscale": [
             [
              0,
              "#0d0887"
             ],
             [
              0.1111111111111111,
              "#46039f"
             ],
             [
              0.2222222222222222,
              "#7201a8"
             ],
             [
              0.3333333333333333,
              "#9c179e"
             ],
             [
              0.4444444444444444,
              "#bd3786"
             ],
             [
              0.5555555555555556,
              "#d8576b"
             ],
             [
              0.6666666666666666,
              "#ed7953"
             ],
             [
              0.7777777777777778,
              "#fb9f3a"
             ],
             [
              0.8888888888888888,
              "#fdca26"
             ],
             [
              1,
              "#f0f921"
             ]
            ],
            "type": "heatmapgl"
           }
          ],
          "histogram": [
           {
            "marker": {
             "pattern": {
              "fillmode": "overlay",
              "size": 10,
              "solidity": 0.2
             }
            },
            "type": "histogram"
           }
          ],
          "histogram2d": [
           {
            "colorbar": {
             "outlinewidth": 0,
             "ticks": ""
            },
            "colorscale": [
             [
              0,
              "#0d0887"
             ],
             [
              0.1111111111111111,
              "#46039f"
             ],
             [
              0.2222222222222222,
              "#7201a8"
             ],
             [
              0.3333333333333333,
              "#9c179e"
             ],
             [
              0.4444444444444444,
              "#bd3786"
             ],
             [
              0.5555555555555556,
              "#d8576b"
             ],
             [
              0.6666666666666666,
              "#ed7953"
             ],
             [
              0.7777777777777778,
              "#fb9f3a"
             ],
             [
              0.8888888888888888,
              "#fdca26"
             ],
             [
              1,
              "#f0f921"
             ]
            ],
            "type": "histogram2d"
           }
          ],
          "histogram2dcontour": [
           {
            "colorbar": {
             "outlinewidth": 0,
             "ticks": ""
            },
            "colorscale": [
             [
              0,
              "#0d0887"
             ],
             [
              0.1111111111111111,
              "#46039f"
             ],
             [
              0.2222222222222222,
              "#7201a8"
             ],
             [
              0.3333333333333333,
              "#9c179e"
             ],
             [
              0.4444444444444444,
              "#bd3786"
             ],
             [
              0.5555555555555556,
              "#d8576b"
             ],
             [
              0.6666666666666666,
              "#ed7953"
             ],
             [
              0.7777777777777778,
              "#fb9f3a"
             ],
             [
              0.8888888888888888,
              "#fdca26"
             ],
             [
              1,
              "#f0f921"
             ]
            ],
            "type": "histogram2dcontour"
           }
          ],
          "mesh3d": [
           {
            "colorbar": {
             "outlinewidth": 0,
             "ticks": ""
            },
            "type": "mesh3d"
           }
          ],
          "parcoords": [
           {
            "line": {
             "colorbar": {
              "outlinewidth": 0,
              "ticks": ""
             }
            },
            "type": "parcoords"
           }
          ],
          "pie": [
           {
            "automargin": true,
            "type": "pie"
           }
          ],
          "scatter": [
           {
            "fillpattern": {
             "fillmode": "overlay",
             "size": 10,
             "solidity": 0.2
            },
            "type": "scatter"
           }
          ],
          "scatter3d": [
           {
            "line": {
             "colorbar": {
              "outlinewidth": 0,
              "ticks": ""
             }
            },
            "marker": {
             "colorbar": {
              "outlinewidth": 0,
              "ticks": ""
             }
            },
            "type": "scatter3d"
           }
          ],
          "scattercarpet": [
           {
            "marker": {
             "colorbar": {
              "outlinewidth": 0,
              "ticks": ""
             }
            },
            "type": "scattercarpet"
           }
          ],
          "scattergeo": [
           {
            "marker": {
             "colorbar": {
              "outlinewidth": 0,
              "ticks": ""
             }
            },
            "type": "scattergeo"
           }
          ],
          "scattergl": [
           {
            "marker": {
             "colorbar": {
              "outlinewidth": 0,
              "ticks": ""
             }
            },
            "type": "scattergl"
           }
          ],
          "scattermapbox": [
           {
            "marker": {
             "colorbar": {
              "outlinewidth": 0,
              "ticks": ""
             }
            },
            "type": "scattermapbox"
           }
          ],
          "scatterpolar": [
           {
            "marker": {
             "colorbar": {
              "outlinewidth": 0,
              "ticks": ""
             }
            },
            "type": "scatterpolar"
           }
          ],
          "scatterpolargl": [
           {
            "marker": {
             "colorbar": {
              "outlinewidth": 0,
              "ticks": ""
             }
            },
            "type": "scatterpolargl"
           }
          ],
          "scatterternary": [
           {
            "marker": {
             "colorbar": {
              "outlinewidth": 0,
              "ticks": ""
             }
            },
            "type": "scatterternary"
           }
          ],
          "surface": [
           {
            "colorbar": {
             "outlinewidth": 0,
             "ticks": ""
            },
            "colorscale": [
             [
              0,
              "#0d0887"
             ],
             [
              0.1111111111111111,
              "#46039f"
             ],
             [
              0.2222222222222222,
              "#7201a8"
             ],
             [
              0.3333333333333333,
              "#9c179e"
             ],
             [
              0.4444444444444444,
              "#bd3786"
             ],
             [
              0.5555555555555556,
              "#d8576b"
             ],
             [
              0.6666666666666666,
              "#ed7953"
             ],
             [
              0.7777777777777778,
              "#fb9f3a"
             ],
             [
              0.8888888888888888,
              "#fdca26"
             ],
             [
              1,
              "#f0f921"
             ]
            ],
            "type": "surface"
           }
          ],
          "table": [
           {
            "cells": {
             "fill": {
              "color": "#EBF0F8"
             },
             "line": {
              "color": "white"
             }
            },
            "header": {
             "fill": {
              "color": "#C8D4E3"
             },
             "line": {
              "color": "white"
             }
            },
            "type": "table"
           }
          ]
         },
         "layout": {
          "annotationdefaults": {
           "arrowcolor": "#2a3f5f",
           "arrowhead": 0,
           "arrowwidth": 1
          },
          "autotypenumbers": "strict",
          "coloraxis": {
           "colorbar": {
            "outlinewidth": 0,
            "ticks": ""
           }
          },
          "colorscale": {
           "diverging": [
            [
             0,
             "#8e0152"
            ],
            [
             0.1,
             "#c51b7d"
            ],
            [
             0.2,
             "#de77ae"
            ],
            [
             0.3,
             "#f1b6da"
            ],
            [
             0.4,
             "#fde0ef"
            ],
            [
             0.5,
             "#f7f7f7"
            ],
            [
             0.6,
             "#e6f5d0"
            ],
            [
             0.7,
             "#b8e186"
            ],
            [
             0.8,
             "#7fbc41"
            ],
            [
             0.9,
             "#4d9221"
            ],
            [
             1,
             "#276419"
            ]
           ],
           "sequential": [
            [
             0,
             "#0d0887"
            ],
            [
             0.1111111111111111,
             "#46039f"
            ],
            [
             0.2222222222222222,
             "#7201a8"
            ],
            [
             0.3333333333333333,
             "#9c179e"
            ],
            [
             0.4444444444444444,
             "#bd3786"
            ],
            [
             0.5555555555555556,
             "#d8576b"
            ],
            [
             0.6666666666666666,
             "#ed7953"
            ],
            [
             0.7777777777777778,
             "#fb9f3a"
            ],
            [
             0.8888888888888888,
             "#fdca26"
            ],
            [
             1,
             "#f0f921"
            ]
           ],
           "sequentialminus": [
            [
             0,
             "#0d0887"
            ],
            [
             0.1111111111111111,
             "#46039f"
            ],
            [
             0.2222222222222222,
             "#7201a8"
            ],
            [
             0.3333333333333333,
             "#9c179e"
            ],
            [
             0.4444444444444444,
             "#bd3786"
            ],
            [
             0.5555555555555556,
             "#d8576b"
            ],
            [
             0.6666666666666666,
             "#ed7953"
            ],
            [
             0.7777777777777778,
             "#fb9f3a"
            ],
            [
             0.8888888888888888,
             "#fdca26"
            ],
            [
             1,
             "#f0f921"
            ]
           ]
          },
          "colorway": [
           "#636efa",
           "#EF553B",
           "#00cc96",
           "#ab63fa",
           "#FFA15A",
           "#19d3f3",
           "#FF6692",
           "#B6E880",
           "#FF97FF",
           "#FECB52"
          ],
          "font": {
           "color": "#2a3f5f"
          },
          "geo": {
           "bgcolor": "white",
           "lakecolor": "white",
           "landcolor": "#E5ECF6",
           "showlakes": true,
           "showland": true,
           "subunitcolor": "white"
          },
          "hoverlabel": {
           "align": "left"
          },
          "hovermode": "closest",
          "mapbox": {
           "style": "light"
          },
          "paper_bgcolor": "white",
          "plot_bgcolor": "#E5ECF6",
          "polar": {
           "angularaxis": {
            "gridcolor": "white",
            "linecolor": "white",
            "ticks": ""
           },
           "bgcolor": "#E5ECF6",
           "radialaxis": {
            "gridcolor": "white",
            "linecolor": "white",
            "ticks": ""
           }
          },
          "scene": {
           "xaxis": {
            "backgroundcolor": "#E5ECF6",
            "gridcolor": "white",
            "gridwidth": 2,
            "linecolor": "white",
            "showbackground": true,
            "ticks": "",
            "zerolinecolor": "white"
           },
           "yaxis": {
            "backgroundcolor": "#E5ECF6",
            "gridcolor": "white",
            "gridwidth": 2,
            "linecolor": "white",
            "showbackground": true,
            "ticks": "",
            "zerolinecolor": "white"
           },
           "zaxis": {
            "backgroundcolor": "#E5ECF6",
            "gridcolor": "white",
            "gridwidth": 2,
            "linecolor": "white",
            "showbackground": true,
            "ticks": "",
            "zerolinecolor": "white"
           }
          },
          "shapedefaults": {
           "line": {
            "color": "#2a3f5f"
           }
          },
          "ternary": {
           "aaxis": {
            "gridcolor": "white",
            "linecolor": "white",
            "ticks": ""
           },
           "baxis": {
            "gridcolor": "white",
            "linecolor": "white",
            "ticks": ""
           },
           "bgcolor": "#E5ECF6",
           "caxis": {
            "gridcolor": "white",
            "linecolor": "white",
            "ticks": ""
           }
          },
          "title": {
           "x": 0.05
          },
          "xaxis": {
           "automargin": true,
           "gridcolor": "white",
           "linecolor": "white",
           "ticks": "",
           "title": {
            "standoff": 15
           },
           "zerolinecolor": "white",
           "zerolinewidth": 2
          },
          "yaxis": {
           "automargin": true,
           "gridcolor": "white",
           "linecolor": "white",
           "ticks": "",
           "title": {
            "standoff": 15
           },
           "zerolinecolor": "white",
           "zerolinewidth": 2
          }
         }
        },
        "xaxis": {
         "anchor": "y",
         "domain": [
          0,
          1
         ],
         "title": {
          "text": "Feature1"
         }
        },
        "yaxis": {
         "anchor": "x",
         "domain": [
          0,
          1
         ],
         "title": {
          "text": "Feature2"
         }
        }
       }
      },
      "text/html": [
       "<div>                            <div id=\"53eab05b-1326-4aec-a77f-516b71162e06\" class=\"plotly-graph-div\" style=\"height:525px; width:100%;\"></div>            <script type=\"text/javascript\">                require([\"plotly\"], function(Plotly) {                    window.PLOTLYENV=window.PLOTLYENV || {};                                    if (document.getElementById(\"53eab05b-1326-4aec-a77f-516b71162e06\")) {                    Plotly.newPlot(                        \"53eab05b-1326-4aec-a77f-516b71162e06\",                        [{\"customdata\":[[\"Dime\"],[\"Pantysito\"],[\"Gatas\"],[\"Nadie\"],[\"Sin Ropa (with Ingratax)\"],[\"cuatro veinte\"],[\"Cucando\"],[\"Mojando Asientos (feat. Feid)\"],[\"Tendencia Global\"],[\"No Son Horas\"],[\"ZONA DEL PERREO\"],[\"AGUA\"],[\"RUMBAT\\u00d3N\"],[\"ALMAS GEMELAS\"],[\"BORRAXXA\"],[\"Numero 1\"],[\"Paulo Londra: Bzrp Music Sessions, Vol. 23\"],[\"3 Deseos Remix (with Dalex & Eix, feat. Alejo)\"],[\"Me Porto Bonito\"],[\"Te Mentir\\u00eda Remix\"],[\"Tarot\"],[\"La Triple T\"],[\"Sonrisa Falsa (with Sael)\"],[\"Hermosa (feat. Daddy Yankee)\"],[\"Un Momento (with Moffa)\"],[\"10 PM\"],[\"Mal\\u00e9fica\"],[\"OJAL\\u00c1\"],[\"BORRACHA\"],[\"intoxicao\"],[\"latin girl\"],[\"cielo en la mente\"],[\"Nos Comemos (feat. Ozuna)\"],[\"Antes de Perderte\"],[\"Dile a Tus Amigas\"],[\"Ferxxo 100\"],[\"Nos Comemos Vivos\"],[\"Villano Antillano: Bzrp Music Sessions, Vol. 51\"],[\"yes girl\"],[\"repercussions\"],[\"My Oh My (feat. DaBaby)\"],[\"Se\\u00f1orita\"],[\"Never Be the Same\"],[\"Havana (feat. Young Thug)\"],[\"Bam Bam (feat. Ed Sheeran)\"],[\"Plastic Hearts\"],[\"Nothing Breaks Like a Heart (feat. Miley Cyrus)\"],[\"We Can't Stop\"],[\"Party In The U.S.A.\"],[\"Love Again\"],[\"Break My Heart\"],[\"Don't Start Now\"],[\"Levitating (feat. DaBaby)\"],[\"Prisoner (feat. Dua Lipa)\"],[\"Physical\"],[\"We're Good\"],[\"Future Nostalgia\"],[\"IDGAF\"],[\"New Rules\"],[\"Hallucinate\"],[\"Try\"],[\"The One That Got Away\"],[\"The Heart Wants What It Wants\"],[\"Love You Like A Love Song\"],[\"Who Says\"],[\"A Year Without Rain\"],[\"Naturally\"],[\"Teenage Dream\"],[\"Last Friday Night (T.G.I.F.)\"],[\"California Gurls\"],[\"Firework\"],[\"Ready or Not\"],[\"Hurricane\"],[\"like that\"],[\"Jugando a los Sims\"],[\"Ant\\u00f3nimos\"],[\"Deseo\"],[\"Superman\"],[\"Fuera del mercado\"],[\"LA DESPEDIDA - Live - Spotify Singles\"],[\"Hasta Los Dientes\"],[\"No Te Bast\\u00f3, Mi Coraz\\u00f3n\"],[\"Nubes\"],[\"Nosotros\"],[\"828\"],[\"Robot\"],[\"De Chill (feat. David Otero)\"],[\"Bonita\"],[\"Paralizante\"],[\"FBI\"],[\"besitos, cu\\u00eddate (Remix)\"],[\"Pantalones de pana\"],[\"Par\\u00eds\"],[\"Angelito\"],[\"No dejes que pase el tiempo\"],[\"la balada\"],[\"BANDIDO\"],[\"El Cielo Se Me Cay\\u00f3\"],[\"Perdido\"],[\"La Bachata\"],[\"Muchas Cosas\"],[\"TV\"],[\"Holding On\"],[\"My Silver Lining\"],[\"Moments\"],[\"Butterflies\"]],\"hovertemplate\":\"%{customdata[0]}\",\"legendgroup\":\"1\",\"marker\":{\"color\":\"#636efa\",\"symbol\":\"circle\"},\"mode\":\"markers\",\"name\":\"1\",\"orientation\":\"v\",\"showlegend\":true,\"x\":[-0.7635788482914683,-1.3817270421620815,-1.672139105922048,-1.0894309491141154,-0.7117153400999017,-1.188201464978423,-0.979098884706876,-1.4494230616471997,-1.417895274862895,-0.004297882138838632,-2.0304403497528725,-0.993730851502215,-2.1723911888764373,-1.4520685453625937,-1.5494169065695642,-2.2297769630490403,-0.8653192242228033,-1.1997779979817442,-1.3572249598087576,-1.6289322270374365,-0.9488677374210981,-1.123795277555116,-0.21480208944394258,-1.4621029180367662,-0.4672939045013984,-1.2798090875252965,-2.3482012689976877,-0.771967860980568,-2.2539437119995585,-1.9517250295540962,-0.8540280604763707,-0.9521240305461979,-1.7751469871748309,-1.7862470261044543,-0.5683521595718131,-0.6422603879552407,-1.5810470616648065,-0.6185420268711539,-0.05677818506331884,-0.1855881348208506,-0.04971652625391929,-0.8293302330716875,-0.28956601530488135,-0.2594161043479198,-1.3032480035374805,-0.8878845543460138,-0.3276612768934374,-0.27003302506589416,-0.8315894755744888,-0.7246141725996509,-1.0935681940656459,-1.8952954855960267,-2.2277317755051445,-1.3931328331103252,-1.7632759978644632,-0.6683814209806089,-2.3297767033424424,-0.8580073590041998,-1.1827760827048215,-1.1345366272822215,-0.4272738420612163,-1.9102338448731737,-1.131835355546946,-2.0956280237088016,-2.1548012505351144,-0.8233103521948111,-1.8399275025908548,-1.4484663788506114,-1.5596897481614178,-1.3901840159705248,-1.1855466466016384,-2.0621244869164723,-1.5052014696237064,0.6599455494877743,-0.8556799443691971,-1.4723080269340647,0.32450605439164887,-1.4087122424442404,0.40815237605217497,-1.1479553100255098,-1.7736509933067348,-0.09577993362764743,-1.7231743740899708,-0.5232690192270937,-0.3614411317721614,-1.6073303225991018,-1.3203031901566247,0.15952680109539402,-1.2261342280435812,-2.176856119357834,-1.8780964295551599,-0.2498022717594301,-1.360304632227731,-0.4966105796980079,-0.8326840199404925,-0.0508899483806332,-0.14772104053894286,-2.0689176519159793,0.20196588536954535,-0.8511031027354716,-0.21284710911526428,-0.9921762787232125,0.035552982735055715,-0.2961752844212636,0.6853764692745545,0.08438316614895253],\"xaxis\":\"x\",\"y\":[-1.3094383996610897,-0.6453040583569568,0.22886573650111927,-0.42418646066960963,-0.8005060019456869,-0.4451045173846062,1.5028748907915814,-1.0319861053374317,-0.1465834123576457,-0.4947829916993512,-0.12217974939398481,-0.0007972458269807068,-1.3440843746716307,-1.228648636783242,-0.4504673937723227,-0.38676652522138405,0.8156474785843395,-0.15979795849539602,-0.48257465291684243,-0.5069624906411094,-2.4619152597539427,-1.0978671188448348,1.109268996626521,-0.014013303998073039,0.10533393397484696,-1.784714012928136,-0.07589139471828103,-0.4559656453000601,-0.5061887695461413,-0.6696304336915696,-0.6057498750477337,-0.44304115081758005,-0.4716082944584355,0.36012761536052523,-0.3054312227907287,0.9893339641247838,-1.0622306270227562,-1.8815920098541812,-0.5409754847520737,-0.4096518362611412,-0.4166925939896957,-0.21076894649352704,0.5510103836204299,-0.6026801075132039,-1.5245560172193184,1.8572339053467397,-0.9490511534682776,-1.8712195841901675,-0.28521184454529924,0.02047589109017016,-0.7415689427756068,0.42778834299559126,0.06954992198148079,0.28718906020919194,0.9006891771807256,0.05191245385808858,-0.9993378841110241,-0.25644370652908727,-0.10638816032133191,1.0299617610983811,-0.3255631108173366,0.20957715715486017,-0.7189462464578659,-0.05637977967794958,-0.5107696014537831,0.36646211029284115,0.8872796813627027,-0.050005046019462006,-1.9811334015917599,-0.008094059500124111,0.503650914053691,-0.35622147370781876,-0.13899095705339548,-3.016022111013706,-1.285673010343765,0.28434281655233945,-0.46671355987033913,-0.21238848006335095,0.45447976280826063,-0.6040233519432541,0.054347606762817476,-0.6225081132859019,-0.13283268913670324,-0.7536933002129906,-0.06634864510000357,-0.12867830590131288,-0.26618460855338755,0.30328520324648656,1.1605900734241983,-0.3040221619258195,0.20291599928487028,-0.280001803295755,0.8866785461935425,-0.5684046962221425,-0.1699964281906737,-0.650534808513028,-0.58241803247223,0.2897120319824355,0.024467232934163623,-0.48767581646249797,-0.3307848517505398,-0.31390954815587785,0.29825157015889514,-0.44108800801556364,0.3922371553634179,0.17534560796288962],\"yaxis\":\"y\",\"type\":\"scatter\"},{\"customdata\":[[\"Pal Perreo\"],[\"Si Te Interesa\"],[\"Si Quieren Frontear\"],[\"TBT\"],[\"Instagram\"],[\"Te Felicito\"],[\"NO MIENTEN\"],[\"Castigo\"],[\"Nota\"],[\"Barranquilla Bajo Cero\"],[\"La Llevo Al Cielo (Ft. \\u00d1engo Flow)\"],[\"outside\"],[\"girlfriend\"],[\"Pretty Please\"],[\"Fever\"],[\"good 4 u\"],[\"TE FUISTE (feat. Myke Towers)\"],[\"Flaca\"],[\"Mereces Menos\"],[\"Angelito\"],[\"Funeral\"],[\"Amor Con Odio\"],[\"Toy Story\"],[\"Sigue\"]],\"hovertemplate\":\"%{customdata[0]}\",\"legendgroup\":\"2\",\"marker\":{\"color\":\"#EF553B\",\"symbol\":\"circle\"},\"mode\":\"markers\",\"name\":\"2\",\"orientation\":\"v\",\"showlegend\":true,\"x\":[-1.6173463712229257,-1.2513164465643392,-2.1131382988256258,-1.5106700095417136,-1.3554274677206397,-1.391334320668086,-2.205875825717899,-1.7318700810057677,-0.5602226854833561,-2.0820059882674724,-2.2640536238634144,-2.0094390541895435,-1.4267293585946716,-1.318298300459992,-1.151784080211639,-0.6343417169864322,-1.8558684921811655,-1.3716226341429067,-0.14756250237511673,-1.1231405377946055,-0.9508924844060136,-1.890196826600545,-1.8578757602088543,-0.2948051619283321],\"xaxis\":\"x\",\"y\":[0.008617449896160674,1.6996906086469648,0.10379657998212227,3.475409009222771,2.0409072601442966,3.267555903760703,1.1665133958774196,2.2538914249427213,1.496948988888509,0.49250410038334824,1.5189103964762896,1.0289592420841496,1.2962685929291684,-0.3552599169868694,0.7030489064364407,2.176718509668305,0.9826202756553862,0.07991440439303218,2.3872877470035263,3.2469112814475753,0.61343067678623,0.024411130766464197,0.46729542973062016,1.2739427288956615],\"yaxis\":\"y\",\"type\":\"scatter\"},{\"customdata\":[[\"Vdp\"],[\"Real Friends\"],[\"This Love\"],[\"In the Dark\"],[\"The Climb\"],[\"The One That Got Away - Acoustic\"],[\"feel something\"],[\"Tu cepillo de dientes\"],[\"Tierra Firme\"],[\"Cosas De La Vida\"],[\"ARRANCARMELO\"],[\"SAKURA\"],[\"Ya acab\\u00f3 - Con Becky G\"],[\"3 AMIGAS TUYAS\"],[\"HOOD\"],[\"Flores\"],[\"Carne y Hueso\"],[\"Entre Tejados\"],[\"mi otra mitad\"],[\"Que Dir\\u00e1?\"],[\"Sleep By Rivers\"],[\"Sorry I'm Gone (Feat. Emily Reid)\"],[\"Blue Eyes\"],[\"Coastline\"],[\"Simple Things\"],[\"Bite\"],[\"Lights Off\"],[\"Budding Trees\"],[\"The Woods - Acoustic\"],[\"Emma\"],[\"Northern Rivers\"],[\"Heart Attack\"],[\"Speak Too Soon\"],[\"Thinking 'Bout Love\"],[\"California\"],[\"Guaranteed\"],[\"Monsters\"],[\"On My Way\"],[\"Already Gone\"],[\"Dreams\"],[\"letting go\"],[\"Clouds (with Sabrina Carpenter)\"],[\"Trick To Happy\"],[\"Home\"],[\"chocolate\"],[\"Where's My Love\"],[\"Dirty Paws\"],[\"Wonderful Life\"],[\"Follow Your Arrow\"],[\"Morning Breeze\"],[\"Until The Morning Light\"],[\"I BELIEVE\"],[\"Everything To Me\"],[\"I'm On Fire\"],[\"It Must Have Been Love\"],[\"In My Arms\"],[\"Feeling You\"],[\"3 Rounds and a Sound\"],[\"Neon Stars\"],[\"Blue (Da Ba Dee)\"],[\"gracias a la vida\"],[\"Amsterdam - Acoustic\"]],\"hovertemplate\":\"%{customdata[0]}\",\"legendgroup\":\"0\",\"marker\":{\"color\":\"#00cc96\",\"symbol\":\"circle\"},\"mode\":\"markers\",\"name\":\"0\",\"orientation\":\"v\",\"showlegend\":true,\"x\":[0.5144700310664121,1.0057589072055406,1.2201748945247657,0.9215402996831846,0.937650585576015,2.021209213511998,1.2471875096765066,0.6311425399043912,2.994147866061121,1.1636569264624461,1.8032108873701242,4.015419990649941,0.9300943615472764,0.5865576647026345,0.5916378220992171,1.544277793308462,2.1331990740364875,0.9196743460752161,0.5748887211576472,0.45759803991773357,1.9527421858832588,2.3157360790248105,2.6303248603309757,1.715839523672094,2.7647309415322945,3.4368822218666706,2.6790490389471584,0.7756377873136254,1.7829239894691402,1.3763636925040508,2.228225801750937,3.6856160400869693,1.7192847988918003,1.3751744167835454,1.4875525527125202,3.1386927849399253,1.815955722853721,2.5142822109941156,3.0143360970797417,1.2417536228319261,2.456245905909017,1.0080842031823356,1.2340893967540016,3.3472129821412673,2.30392184503535,2.7259707165034075,1.2096089328743524,0.9811647695124258,0.4969086382384421,2.0487242675999697,0.8747220154026526,1.7540656205655474,2.833486366324961,3.8329958487720113,1.8624204867163072,3.426740733688363,2.762050930591445,3.8256570887012153,1.8656755999232837,2.802634412637237,3.092093614096313,3.354083927579752],\"xaxis\":\"x\",\"y\":[0.7839038285395584,-0.10304525974468871,1.5558634363282184,2.093992690053703,1.2555421659671104,0.028231898705194748,-0.48007630966453785,-1.2343345111887472,-1.1303612958076907,-1.1177209533116823,-0.7428568785173962,-3.1952228995965757,0.43304881517241123,-0.16004184593000567,-1.90771030789504,-0.02762156974861512,-0.19436172927760384,0.1018440941298462,0.49597306853455697,-0.24414703625209574,1.4008344852547687,0.536963805512329,0.27169194387719653,-0.32365637951410636,0.496885208056685,-1.63215802879259,0.405011529034847,-0.4512598859521363,-0.23779367395164144,-0.4009517083570172,-0.31800409836955534,-0.13769079117146832,0.816559259803174,0.3997479759019339,-0.835239648603775,-0.2992398985615945,0.13213060150264788,-1.0076280786042584,-0.5181600199000137,-2.06688015961748,-0.25272169059686245,-0.6053693061268632,1.1363459966641893,-0.24313048110046315,-0.03529763521567336,-0.3981931439203323,0.6121416263531549,-0.6703441103164323,2.1617337292257606,-1.08847382315537,-0.6008843044942536,-1.7172829314785802,-0.5316951329222139,0.06422961603913162,-0.03838573206359532,-1.069707052084101,0.4509032985497033,-1.1326832572595713,-0.14601872975615796,-0.48121600907122997,-0.542237885063975,0.0600375788024964],\"yaxis\":\"y\",\"type\":\"scatter\"},{\"customdata\":[[\"A carta cabal\"],[\"Permanent Way\"],[\"Rise\"],[\"To Build A Home\"],[\"San Luis\"]],\"hovertemplate\":\"%{customdata[0]}\",\"legendgroup\":\"3\",\"marker\":{\"color\":\"#ab63fa\",\"symbol\":\"circle\"},\"mode\":\"markers\",\"name\":\"3\",\"orientation\":\"v\",\"showlegend\":true,\"x\":[5.472321519907961,5.214744623831499,2.721699930835368,6.9655593809536125,4.181821125525247],\"xaxis\":\"x\",\"y\":[1.4257039542338603,3.287688286638775,2.801898130478911,2.8408096943676275,0.5794687281000831],\"yaxis\":\"y\",\"type\":\"scatter\"}],                        {\"template\":{\"data\":{\"histogram2dcontour\":[{\"type\":\"histogram2dcontour\",\"colorbar\":{\"outlinewidth\":0,\"ticks\":\"\"},\"colorscale\":[[0.0,\"#0d0887\"],[0.1111111111111111,\"#46039f\"],[0.2222222222222222,\"#7201a8\"],[0.3333333333333333,\"#9c179e\"],[0.4444444444444444,\"#bd3786\"],[0.5555555555555556,\"#d8576b\"],[0.6666666666666666,\"#ed7953\"],[0.7777777777777778,\"#fb9f3a\"],[0.8888888888888888,\"#fdca26\"],[1.0,\"#f0f921\"]]}],\"choropleth\":[{\"type\":\"choropleth\",\"colorbar\":{\"outlinewidth\":0,\"ticks\":\"\"}}],\"histogram2d\":[{\"type\":\"histogram2d\",\"colorbar\":{\"outlinewidth\":0,\"ticks\":\"\"},\"colorscale\":[[0.0,\"#0d0887\"],[0.1111111111111111,\"#46039f\"],[0.2222222222222222,\"#7201a8\"],[0.3333333333333333,\"#9c179e\"],[0.4444444444444444,\"#bd3786\"],[0.5555555555555556,\"#d8576b\"],[0.6666666666666666,\"#ed7953\"],[0.7777777777777778,\"#fb9f3a\"],[0.8888888888888888,\"#fdca26\"],[1.0,\"#f0f921\"]]}],\"heatmap\":[{\"type\":\"heatmap\",\"colorbar\":{\"outlinewidth\":0,\"ticks\":\"\"},\"colorscale\":[[0.0,\"#0d0887\"],[0.1111111111111111,\"#46039f\"],[0.2222222222222222,\"#7201a8\"],[0.3333333333333333,\"#9c179e\"],[0.4444444444444444,\"#bd3786\"],[0.5555555555555556,\"#d8576b\"],[0.6666666666666666,\"#ed7953\"],[0.7777777777777778,\"#fb9f3a\"],[0.8888888888888888,\"#fdca26\"],[1.0,\"#f0f921\"]]}],\"heatmapgl\":[{\"type\":\"heatmapgl\",\"colorbar\":{\"outlinewidth\":0,\"ticks\":\"\"},\"colorscale\":[[0.0,\"#0d0887\"],[0.1111111111111111,\"#46039f\"],[0.2222222222222222,\"#7201a8\"],[0.3333333333333333,\"#9c179e\"],[0.4444444444444444,\"#bd3786\"],[0.5555555555555556,\"#d8576b\"],[0.6666666666666666,\"#ed7953\"],[0.7777777777777778,\"#fb9f3a\"],[0.8888888888888888,\"#fdca26\"],[1.0,\"#f0f921\"]]}],\"contourcarpet\":[{\"type\":\"contourcarpet\",\"colorbar\":{\"outlinewidth\":0,\"ticks\":\"\"}}],\"contour\":[{\"type\":\"contour\",\"colorbar\":{\"outlinewidth\":0,\"ticks\":\"\"},\"colorscale\":[[0.0,\"#0d0887\"],[0.1111111111111111,\"#46039f\"],[0.2222222222222222,\"#7201a8\"],[0.3333333333333333,\"#9c179e\"],[0.4444444444444444,\"#bd3786\"],[0.5555555555555556,\"#d8576b\"],[0.6666666666666666,\"#ed7953\"],[0.7777777777777778,\"#fb9f3a\"],[0.8888888888888888,\"#fdca26\"],[1.0,\"#f0f921\"]]}],\"surface\":[{\"type\":\"surface\",\"colorbar\":{\"outlinewidth\":0,\"ticks\":\"\"},\"colorscale\":[[0.0,\"#0d0887\"],[0.1111111111111111,\"#46039f\"],[0.2222222222222222,\"#7201a8\"],[0.3333333333333333,\"#9c179e\"],[0.4444444444444444,\"#bd3786\"],[0.5555555555555556,\"#d8576b\"],[0.6666666666666666,\"#ed7953\"],[0.7777777777777778,\"#fb9f3a\"],[0.8888888888888888,\"#fdca26\"],[1.0,\"#f0f921\"]]}],\"mesh3d\":[{\"type\":\"mesh3d\",\"colorbar\":{\"outlinewidth\":0,\"ticks\":\"\"}}],\"scatter\":[{\"fillpattern\":{\"fillmode\":\"overlay\",\"size\":10,\"solidity\":0.2},\"type\":\"scatter\"}],\"parcoords\":[{\"type\":\"parcoords\",\"line\":{\"colorbar\":{\"outlinewidth\":0,\"ticks\":\"\"}}}],\"scatterpolargl\":[{\"type\":\"scatterpolargl\",\"marker\":{\"colorbar\":{\"outlinewidth\":0,\"ticks\":\"\"}}}],\"bar\":[{\"error_x\":{\"color\":\"#2a3f5f\"},\"error_y\":{\"color\":\"#2a3f5f\"},\"marker\":{\"line\":{\"color\":\"#E5ECF6\",\"width\":0.5},\"pattern\":{\"fillmode\":\"overlay\",\"size\":10,\"solidity\":0.2}},\"type\":\"bar\"}],\"scattergeo\":[{\"type\":\"scattergeo\",\"marker\":{\"colorbar\":{\"outlinewidth\":0,\"ticks\":\"\"}}}],\"scatterpolar\":[{\"type\":\"scatterpolar\",\"marker\":{\"colorbar\":{\"outlinewidth\":0,\"ticks\":\"\"}}}],\"histogram\":[{\"marker\":{\"pattern\":{\"fillmode\":\"overlay\",\"size\":10,\"solidity\":0.2}},\"type\":\"histogram\"}],\"scattergl\":[{\"type\":\"scattergl\",\"marker\":{\"colorbar\":{\"outlinewidth\":0,\"ticks\":\"\"}}}],\"scatter3d\":[{\"type\":\"scatter3d\",\"line\":{\"colorbar\":{\"outlinewidth\":0,\"ticks\":\"\"}},\"marker\":{\"colorbar\":{\"outlinewidth\":0,\"ticks\":\"\"}}}],\"scattermapbox\":[{\"type\":\"scattermapbox\",\"marker\":{\"colorbar\":{\"outlinewidth\":0,\"ticks\":\"\"}}}],\"scatterternary\":[{\"type\":\"scatterternary\",\"marker\":{\"colorbar\":{\"outlinewidth\":0,\"ticks\":\"\"}}}],\"scattercarpet\":[{\"type\":\"scattercarpet\",\"marker\":{\"colorbar\":{\"outlinewidth\":0,\"ticks\":\"\"}}}],\"carpet\":[{\"aaxis\":{\"endlinecolor\":\"#2a3f5f\",\"gridcolor\":\"white\",\"linecolor\":\"white\",\"minorgridcolor\":\"white\",\"startlinecolor\":\"#2a3f5f\"},\"baxis\":{\"endlinecolor\":\"#2a3f5f\",\"gridcolor\":\"white\",\"linecolor\":\"white\",\"minorgridcolor\":\"white\",\"startlinecolor\":\"#2a3f5f\"},\"type\":\"carpet\"}],\"table\":[{\"cells\":{\"fill\":{\"color\":\"#EBF0F8\"},\"line\":{\"color\":\"white\"}},\"header\":{\"fill\":{\"color\":\"#C8D4E3\"},\"line\":{\"color\":\"white\"}},\"type\":\"table\"}],\"barpolar\":[{\"marker\":{\"line\":{\"color\":\"#E5ECF6\",\"width\":0.5},\"pattern\":{\"fillmode\":\"overlay\",\"size\":10,\"solidity\":0.2}},\"type\":\"barpolar\"}],\"pie\":[{\"automargin\":true,\"type\":\"pie\"}]},\"layout\":{\"autotypenumbers\":\"strict\",\"colorway\":[\"#636efa\",\"#EF553B\",\"#00cc96\",\"#ab63fa\",\"#FFA15A\",\"#19d3f3\",\"#FF6692\",\"#B6E880\",\"#FF97FF\",\"#FECB52\"],\"font\":{\"color\":\"#2a3f5f\"},\"hovermode\":\"closest\",\"hoverlabel\":{\"align\":\"left\"},\"paper_bgcolor\":\"white\",\"plot_bgcolor\":\"#E5ECF6\",\"polar\":{\"bgcolor\":\"#E5ECF6\",\"angularaxis\":{\"gridcolor\":\"white\",\"linecolor\":\"white\",\"ticks\":\"\"},\"radialaxis\":{\"gridcolor\":\"white\",\"linecolor\":\"white\",\"ticks\":\"\"}},\"ternary\":{\"bgcolor\":\"#E5ECF6\",\"aaxis\":{\"gridcolor\":\"white\",\"linecolor\":\"white\",\"ticks\":\"\"},\"baxis\":{\"gridcolor\":\"white\",\"linecolor\":\"white\",\"ticks\":\"\"},\"caxis\":{\"gridcolor\":\"white\",\"linecolor\":\"white\",\"ticks\":\"\"}},\"coloraxis\":{\"colorbar\":{\"outlinewidth\":0,\"ticks\":\"\"}},\"colorscale\":{\"sequential\":[[0.0,\"#0d0887\"],[0.1111111111111111,\"#46039f\"],[0.2222222222222222,\"#7201a8\"],[0.3333333333333333,\"#9c179e\"],[0.4444444444444444,\"#bd3786\"],[0.5555555555555556,\"#d8576b\"],[0.6666666666666666,\"#ed7953\"],[0.7777777777777778,\"#fb9f3a\"],[0.8888888888888888,\"#fdca26\"],[1.0,\"#f0f921\"]],\"sequentialminus\":[[0.0,\"#0d0887\"],[0.1111111111111111,\"#46039f\"],[0.2222222222222222,\"#7201a8\"],[0.3333333333333333,\"#9c179e\"],[0.4444444444444444,\"#bd3786\"],[0.5555555555555556,\"#d8576b\"],[0.6666666666666666,\"#ed7953\"],[0.7777777777777778,\"#fb9f3a\"],[0.8888888888888888,\"#fdca26\"],[1.0,\"#f0f921\"]],\"diverging\":[[0,\"#8e0152\"],[0.1,\"#c51b7d\"],[0.2,\"#de77ae\"],[0.3,\"#f1b6da\"],[0.4,\"#fde0ef\"],[0.5,\"#f7f7f7\"],[0.6,\"#e6f5d0\"],[0.7,\"#b8e186\"],[0.8,\"#7fbc41\"],[0.9,\"#4d9221\"],[1,\"#276419\"]]},\"xaxis\":{\"gridcolor\":\"white\",\"linecolor\":\"white\",\"ticks\":\"\",\"title\":{\"standoff\":15},\"zerolinecolor\":\"white\",\"automargin\":true,\"zerolinewidth\":2},\"yaxis\":{\"gridcolor\":\"white\",\"linecolor\":\"white\",\"ticks\":\"\",\"title\":{\"standoff\":15},\"zerolinecolor\":\"white\",\"automargin\":true,\"zerolinewidth\":2},\"scene\":{\"xaxis\":{\"backgroundcolor\":\"#E5ECF6\",\"gridcolor\":\"white\",\"linecolor\":\"white\",\"showbackground\":true,\"ticks\":\"\",\"zerolinecolor\":\"white\",\"gridwidth\":2},\"yaxis\":{\"backgroundcolor\":\"#E5ECF6\",\"gridcolor\":\"white\",\"linecolor\":\"white\",\"showbackground\":true,\"ticks\":\"\",\"zerolinecolor\":\"white\",\"gridwidth\":2},\"zaxis\":{\"backgroundcolor\":\"#E5ECF6\",\"gridcolor\":\"white\",\"linecolor\":\"white\",\"showbackground\":true,\"ticks\":\"\",\"zerolinecolor\":\"white\",\"gridwidth\":2}},\"shapedefaults\":{\"line\":{\"color\":\"#2a3f5f\"}},\"annotationdefaults\":{\"arrowcolor\":\"#2a3f5f\",\"arrowhead\":0,\"arrowwidth\":1},\"geo\":{\"bgcolor\":\"white\",\"landcolor\":\"#E5ECF6\",\"subunitcolor\":\"white\",\"showland\":true,\"showlakes\":true,\"lakecolor\":\"white\"},\"title\":{\"x\":0.05},\"mapbox\":{\"style\":\"light\"}}},\"xaxis\":{\"anchor\":\"y\",\"domain\":[0.0,1.0],\"title\":{\"text\":\"Feature1\"}},\"yaxis\":{\"anchor\":\"x\",\"domain\":[0.0,1.0],\"title\":{\"text\":\"Feature2\"}},\"legend\":{\"title\":{\"text\":\"color\"},\"tracegroupgap\":0},\"margin\":{\"t\":60}},                        {\"responsive\": true}                    ).then(function(){\n",
       "                            \n",
       "var gd = document.getElementById('53eab05b-1326-4aec-a77f-516b71162e06');\n",
       "var x = new MutationObserver(function (mutations, observer) {{\n",
       "        var display = window.getComputedStyle(gd).display;\n",
       "        if (!display || display === 'none') {{\n",
       "            console.log([gd, 'removed!']);\n",
       "            Plotly.purge(gd);\n",
       "            observer.disconnect();\n",
       "        }}\n",
       "}});\n",
       "\n",
       "// Listen for the removal of the full notebook cells\n",
       "var notebookContainer = gd.closest('#notebook-container');\n",
       "if (notebookContainer) {{\n",
       "    x.observe(notebookContainer, {childList: true});\n",
       "}}\n",
       "\n",
       "// Listen for the clearing of the current output cell\n",
       "var outputEl = gd.closest('.output');\n",
       "if (outputEl) {{\n",
       "    x.observe(outputEl, {childList: true});\n",
       "}}\n",
       "\n",
       "                        })                };                });            </script>        </div>"
      ]
     },
     "metadata": {},
     "output_type": "display_data"
    }
   ],
   "source": [
    "fig = px.scatter(data_frame=df, x='Feature1', y='Feature2', color=df['cluster'].astype(str), custom_data=['name'])\n",
    "fig.update_traces(hovertemplate=\"%{customdata[0]}\")"
   ]
  },
  {
   "cell_type": "code",
   "execution_count": 447,
   "id": "bf358e97",
   "metadata": {},
   "outputs": [],
   "source": [
    "d = pd.DataFrame(columns=range(clusters), index=range(150))\n",
    "for i in range(clusters):\n",
    "    a = df.loc[df['cluster']==i, 'name'].values\n",
    "    d.loc[:len(a)-1, i] = a"
   ]
  },
  {
   "cell_type": "code",
   "execution_count": 448,
   "id": "3b77c834",
   "metadata": {},
   "outputs": [
    {
     "data": {
      "text/html": [
       "<div>\n",
       "<style scoped>\n",
       "    .dataframe tbody tr th:only-of-type {\n",
       "        vertical-align: middle;\n",
       "    }\n",
       "\n",
       "    .dataframe tbody tr th {\n",
       "        vertical-align: top;\n",
       "    }\n",
       "\n",
       "    .dataframe thead th {\n",
       "        text-align: right;\n",
       "    }\n",
       "</style>\n",
       "<table border=\"1\" class=\"dataframe\">\n",
       "  <thead>\n",
       "    <tr style=\"text-align: right;\">\n",
       "      <th></th>\n",
       "      <th>0</th>\n",
       "      <th>1</th>\n",
       "      <th>2</th>\n",
       "      <th>3</th>\n",
       "    </tr>\n",
       "  </thead>\n",
       "  <tbody>\n",
       "    <tr>\n",
       "      <th>0</th>\n",
       "      <td>Vdp</td>\n",
       "      <td>Dime</td>\n",
       "      <td>Pal Perreo</td>\n",
       "      <td>A carta cabal</td>\n",
       "    </tr>\n",
       "    <tr>\n",
       "      <th>1</th>\n",
       "      <td>Real Friends</td>\n",
       "      <td>Pantysito</td>\n",
       "      <td>Si Te Interesa</td>\n",
       "      <td>Permanent Way</td>\n",
       "    </tr>\n",
       "    <tr>\n",
       "      <th>2</th>\n",
       "      <td>This Love</td>\n",
       "      <td>Gatas</td>\n",
       "      <td>Si Quieren Frontear</td>\n",
       "      <td>Rise</td>\n",
       "    </tr>\n",
       "    <tr>\n",
       "      <th>3</th>\n",
       "      <td>In the Dark</td>\n",
       "      <td>Nadie</td>\n",
       "      <td>TBT</td>\n",
       "      <td>To Build A Home</td>\n",
       "    </tr>\n",
       "    <tr>\n",
       "      <th>4</th>\n",
       "      <td>The Climb</td>\n",
       "      <td>Sin Ropa (with Ingratax)</td>\n",
       "      <td>Instagram</td>\n",
       "      <td>San Luis</td>\n",
       "    </tr>\n",
       "    <tr>\n",
       "      <th>5</th>\n",
       "      <td>The One That Got Away - Acoustic</td>\n",
       "      <td>cuatro veinte</td>\n",
       "      <td>Te Felicito</td>\n",
       "      <td>NaN</td>\n",
       "    </tr>\n",
       "    <tr>\n",
       "      <th>6</th>\n",
       "      <td>feel something</td>\n",
       "      <td>Cucando</td>\n",
       "      <td>NO MIENTEN</td>\n",
       "      <td>NaN</td>\n",
       "    </tr>\n",
       "    <tr>\n",
       "      <th>7</th>\n",
       "      <td>Tu cepillo de dientes</td>\n",
       "      <td>Mojando Asientos (feat. Feid)</td>\n",
       "      <td>Castigo</td>\n",
       "      <td>NaN</td>\n",
       "    </tr>\n",
       "    <tr>\n",
       "      <th>8</th>\n",
       "      <td>Tierra Firme</td>\n",
       "      <td>Tendencia Global</td>\n",
       "      <td>Nota</td>\n",
       "      <td>NaN</td>\n",
       "    </tr>\n",
       "    <tr>\n",
       "      <th>9</th>\n",
       "      <td>Cosas De La Vida</td>\n",
       "      <td>No Son Horas</td>\n",
       "      <td>Barranquilla Bajo Cero</td>\n",
       "      <td>NaN</td>\n",
       "    </tr>\n",
       "    <tr>\n",
       "      <th>10</th>\n",
       "      <td>ARRANCARMELO</td>\n",
       "      <td>ZONA DEL PERREO</td>\n",
       "      <td>La Llevo Al Cielo (Ft. Ñengo Flow)</td>\n",
       "      <td>NaN</td>\n",
       "    </tr>\n",
       "    <tr>\n",
       "      <th>11</th>\n",
       "      <td>SAKURA</td>\n",
       "      <td>AGUA</td>\n",
       "      <td>outside</td>\n",
       "      <td>NaN</td>\n",
       "    </tr>\n",
       "    <tr>\n",
       "      <th>12</th>\n",
       "      <td>Ya acabó - Con Becky G</td>\n",
       "      <td>RUMBATÓN</td>\n",
       "      <td>girlfriend</td>\n",
       "      <td>NaN</td>\n",
       "    </tr>\n",
       "    <tr>\n",
       "      <th>13</th>\n",
       "      <td>3 AMIGAS TUYAS</td>\n",
       "      <td>ALMAS GEMELAS</td>\n",
       "      <td>Pretty Please</td>\n",
       "      <td>NaN</td>\n",
       "    </tr>\n",
       "    <tr>\n",
       "      <th>14</th>\n",
       "      <td>HOOD</td>\n",
       "      <td>BORRAXXA</td>\n",
       "      <td>Fever</td>\n",
       "      <td>NaN</td>\n",
       "    </tr>\n",
       "    <tr>\n",
       "      <th>15</th>\n",
       "      <td>Flores</td>\n",
       "      <td>Numero 1</td>\n",
       "      <td>good 4 u</td>\n",
       "      <td>NaN</td>\n",
       "    </tr>\n",
       "    <tr>\n",
       "      <th>16</th>\n",
       "      <td>Carne y Hueso</td>\n",
       "      <td>Paulo Londra: Bzrp Music Sessions, Vol. 23</td>\n",
       "      <td>TE FUISTE (feat. Myke Towers)</td>\n",
       "      <td>NaN</td>\n",
       "    </tr>\n",
       "    <tr>\n",
       "      <th>17</th>\n",
       "      <td>Entre Tejados</td>\n",
       "      <td>3 Deseos Remix (with Dalex &amp; Eix, feat. Alejo)</td>\n",
       "      <td>Flaca</td>\n",
       "      <td>NaN</td>\n",
       "    </tr>\n",
       "    <tr>\n",
       "      <th>18</th>\n",
       "      <td>mi otra mitad</td>\n",
       "      <td>Me Porto Bonito</td>\n",
       "      <td>Mereces Menos</td>\n",
       "      <td>NaN</td>\n",
       "    </tr>\n",
       "    <tr>\n",
       "      <th>19</th>\n",
       "      <td>Que Dirá?</td>\n",
       "      <td>Te Mentiría Remix</td>\n",
       "      <td>Angelito</td>\n",
       "      <td>NaN</td>\n",
       "    </tr>\n",
       "    <tr>\n",
       "      <th>20</th>\n",
       "      <td>Sleep By Rivers</td>\n",
       "      <td>Tarot</td>\n",
       "      <td>Funeral</td>\n",
       "      <td>NaN</td>\n",
       "    </tr>\n",
       "    <tr>\n",
       "      <th>21</th>\n",
       "      <td>Sorry I'm Gone (Feat. Emily Reid)</td>\n",
       "      <td>La Triple T</td>\n",
       "      <td>Amor Con Odio</td>\n",
       "      <td>NaN</td>\n",
       "    </tr>\n",
       "    <tr>\n",
       "      <th>22</th>\n",
       "      <td>Blue Eyes</td>\n",
       "      <td>Sonrisa Falsa (with Sael)</td>\n",
       "      <td>Toy Story</td>\n",
       "      <td>NaN</td>\n",
       "    </tr>\n",
       "    <tr>\n",
       "      <th>23</th>\n",
       "      <td>Coastline</td>\n",
       "      <td>Hermosa (feat. Daddy Yankee)</td>\n",
       "      <td>Sigue</td>\n",
       "      <td>NaN</td>\n",
       "    </tr>\n",
       "    <tr>\n",
       "      <th>24</th>\n",
       "      <td>Simple Things</td>\n",
       "      <td>Un Momento (with Moffa)</td>\n",
       "      <td>NaN</td>\n",
       "      <td>NaN</td>\n",
       "    </tr>\n",
       "    <tr>\n",
       "      <th>25</th>\n",
       "      <td>Bite</td>\n",
       "      <td>10 PM</td>\n",
       "      <td>NaN</td>\n",
       "      <td>NaN</td>\n",
       "    </tr>\n",
       "    <tr>\n",
       "      <th>26</th>\n",
       "      <td>Lights Off</td>\n",
       "      <td>Maléfica</td>\n",
       "      <td>NaN</td>\n",
       "      <td>NaN</td>\n",
       "    </tr>\n",
       "    <tr>\n",
       "      <th>27</th>\n",
       "      <td>Budding Trees</td>\n",
       "      <td>OJALÁ</td>\n",
       "      <td>NaN</td>\n",
       "      <td>NaN</td>\n",
       "    </tr>\n",
       "    <tr>\n",
       "      <th>28</th>\n",
       "      <td>The Woods - Acoustic</td>\n",
       "      <td>BORRACHA</td>\n",
       "      <td>NaN</td>\n",
       "      <td>NaN</td>\n",
       "    </tr>\n",
       "    <tr>\n",
       "      <th>29</th>\n",
       "      <td>Emma</td>\n",
       "      <td>intoxicao</td>\n",
       "      <td>NaN</td>\n",
       "      <td>NaN</td>\n",
       "    </tr>\n",
       "    <tr>\n",
       "      <th>30</th>\n",
       "      <td>Northern Rivers</td>\n",
       "      <td>latin girl</td>\n",
       "      <td>NaN</td>\n",
       "      <td>NaN</td>\n",
       "    </tr>\n",
       "    <tr>\n",
       "      <th>31</th>\n",
       "      <td>Heart Attack</td>\n",
       "      <td>cielo en la mente</td>\n",
       "      <td>NaN</td>\n",
       "      <td>NaN</td>\n",
       "    </tr>\n",
       "    <tr>\n",
       "      <th>32</th>\n",
       "      <td>Speak Too Soon</td>\n",
       "      <td>Nos Comemos (feat. Ozuna)</td>\n",
       "      <td>NaN</td>\n",
       "      <td>NaN</td>\n",
       "    </tr>\n",
       "    <tr>\n",
       "      <th>33</th>\n",
       "      <td>Thinking 'Bout Love</td>\n",
       "      <td>Antes de Perderte</td>\n",
       "      <td>NaN</td>\n",
       "      <td>NaN</td>\n",
       "    </tr>\n",
       "    <tr>\n",
       "      <th>34</th>\n",
       "      <td>California</td>\n",
       "      <td>Dile a Tus Amigas</td>\n",
       "      <td>NaN</td>\n",
       "      <td>NaN</td>\n",
       "    </tr>\n",
       "  </tbody>\n",
       "</table>\n",
       "</div>"
      ],
      "text/plain": [
       "                                    0  \\\n",
       "0                                 Vdp   \n",
       "1                        Real Friends   \n",
       "2                           This Love   \n",
       "3                         In the Dark   \n",
       "4                           The Climb   \n",
       "5    The One That Got Away - Acoustic   \n",
       "6                      feel something   \n",
       "7               Tu cepillo de dientes   \n",
       "8                        Tierra Firme   \n",
       "9                    Cosas De La Vida   \n",
       "10                       ARRANCARMELO   \n",
       "11                             SAKURA   \n",
       "12             Ya acabó - Con Becky G   \n",
       "13                     3 AMIGAS TUYAS   \n",
       "14                               HOOD   \n",
       "15                             Flores   \n",
       "16                      Carne y Hueso   \n",
       "17                      Entre Tejados   \n",
       "18                      mi otra mitad   \n",
       "19                          Que Dirá?   \n",
       "20                    Sleep By Rivers   \n",
       "21  Sorry I'm Gone (Feat. Emily Reid)   \n",
       "22                          Blue Eyes   \n",
       "23                          Coastline   \n",
       "24                      Simple Things   \n",
       "25                               Bite   \n",
       "26                         Lights Off   \n",
       "27                      Budding Trees   \n",
       "28               The Woods - Acoustic   \n",
       "29                               Emma   \n",
       "30                    Northern Rivers   \n",
       "31                       Heart Attack   \n",
       "32                     Speak Too Soon   \n",
       "33                Thinking 'Bout Love   \n",
       "34                         California   \n",
       "\n",
       "                                                 1  \\\n",
       "0                                             Dime   \n",
       "1                                        Pantysito   \n",
       "2                                            Gatas   \n",
       "3                                            Nadie   \n",
       "4                         Sin Ropa (with Ingratax)   \n",
       "5                                    cuatro veinte   \n",
       "6                                          Cucando   \n",
       "7                    Mojando Asientos (feat. Feid)   \n",
       "8                                 Tendencia Global   \n",
       "9                                     No Son Horas   \n",
       "10                                 ZONA DEL PERREO   \n",
       "11                                            AGUA   \n",
       "12                                        RUMBATÓN   \n",
       "13                                   ALMAS GEMELAS   \n",
       "14                                        BORRAXXA   \n",
       "15                                        Numero 1   \n",
       "16      Paulo Londra: Bzrp Music Sessions, Vol. 23   \n",
       "17  3 Deseos Remix (with Dalex & Eix, feat. Alejo)   \n",
       "18                                 Me Porto Bonito   \n",
       "19                               Te Mentiría Remix   \n",
       "20                                           Tarot   \n",
       "21                                     La Triple T   \n",
       "22                       Sonrisa Falsa (with Sael)   \n",
       "23                    Hermosa (feat. Daddy Yankee)   \n",
       "24                         Un Momento (with Moffa)   \n",
       "25                                           10 PM   \n",
       "26                                        Maléfica   \n",
       "27                                           OJALÁ   \n",
       "28                                        BORRACHA   \n",
       "29                                       intoxicao   \n",
       "30                                      latin girl   \n",
       "31                               cielo en la mente   \n",
       "32                       Nos Comemos (feat. Ozuna)   \n",
       "33                               Antes de Perderte   \n",
       "34                               Dile a Tus Amigas   \n",
       "\n",
       "                                     2                3  \n",
       "0                           Pal Perreo    A carta cabal  \n",
       "1                       Si Te Interesa    Permanent Way  \n",
       "2                  Si Quieren Frontear             Rise  \n",
       "3                                  TBT  To Build A Home  \n",
       "4                            Instagram         San Luis  \n",
       "5                          Te Felicito              NaN  \n",
       "6                           NO MIENTEN              NaN  \n",
       "7                              Castigo              NaN  \n",
       "8                                 Nota              NaN  \n",
       "9               Barranquilla Bajo Cero              NaN  \n",
       "10  La Llevo Al Cielo (Ft. Ñengo Flow)              NaN  \n",
       "11                             outside              NaN  \n",
       "12                          girlfriend              NaN  \n",
       "13                       Pretty Please              NaN  \n",
       "14                               Fever              NaN  \n",
       "15                            good 4 u              NaN  \n",
       "16       TE FUISTE (feat. Myke Towers)              NaN  \n",
       "17                               Flaca              NaN  \n",
       "18                       Mereces Menos              NaN  \n",
       "19                            Angelito              NaN  \n",
       "20                             Funeral              NaN  \n",
       "21                       Amor Con Odio              NaN  \n",
       "22                           Toy Story              NaN  \n",
       "23                               Sigue              NaN  \n",
       "24                                 NaN              NaN  \n",
       "25                                 NaN              NaN  \n",
       "26                                 NaN              NaN  \n",
       "27                                 NaN              NaN  \n",
       "28                                 NaN              NaN  \n",
       "29                                 NaN              NaN  \n",
       "30                                 NaN              NaN  \n",
       "31                                 NaN              NaN  \n",
       "32                                 NaN              NaN  \n",
       "33                                 NaN              NaN  \n",
       "34                                 NaN              NaN  "
      ]
     },
     "execution_count": 448,
     "metadata": {},
     "output_type": "execute_result"
    }
   ],
   "source": [
    "d.head(35)"
   ]
  },
  {
   "cell_type": "code",
   "execution_count": 453,
   "id": "29fe290e",
   "metadata": {
    "scrolled": false
   },
   "outputs": [
    {
     "data": {
      "application/vnd.plotly.v1+json": {
       "config": {
        "plotlyServerURL": "https://plot.ly"
       },
       "data": [
        {
         "name": "danceability",
         "type": "box",
         "x": [
          1,
          2,
          1,
          1,
          1,
          1,
          1,
          1,
          1,
          1,
          2,
          1,
          1,
          1,
          1,
          2,
          2,
          1,
          0,
          1,
          2,
          1,
          2,
          1,
          1,
          1,
          1,
          2,
          1,
          1,
          1,
          1,
          2,
          2,
          1,
          1,
          1,
          2,
          1,
          1,
          1,
          1,
          1,
          1,
          2,
          1,
          1,
          1,
          1,
          1,
          2,
          1,
          2,
          1,
          1,
          1,
          1,
          1,
          0,
          0,
          0,
          1,
          1,
          1,
          1,
          1,
          1,
          2,
          2,
          1,
          1,
          1,
          1,
          1,
          1,
          1,
          1,
          1,
          1,
          0,
          2,
          1,
          1,
          1,
          1,
          1,
          1,
          1,
          1,
          1,
          1,
          1,
          0,
          1,
          1,
          0,
          1,
          1,
          0,
          0,
          0,
          2,
          1,
          2,
          1,
          1,
          1,
          2,
          1,
          2,
          1,
          1,
          1,
          1,
          1,
          0,
          1,
          0,
          1,
          1,
          2,
          2,
          1,
          1,
          1,
          0,
          0,
          1,
          3,
          2,
          1,
          0,
          0,
          1,
          0,
          1,
          1,
          1,
          0,
          1,
          1,
          1,
          1,
          0,
          1,
          2,
          0,
          0,
          0,
          1,
          0,
          0,
          0,
          3,
          0,
          0,
          0,
          0,
          0,
          0,
          0,
          0,
          0,
          0,
          3,
          0,
          0,
          3,
          0,
          0,
          0,
          3,
          0,
          0,
          0,
          0,
          1,
          0,
          0,
          0,
          1,
          1,
          0,
          0,
          0,
          0,
          0,
          0,
          0,
          0,
          0,
          0,
          0,
          0,
          0,
          0,
          0
         ],
         "xaxis": "x",
         "y": [
          1.1769966881603169,
          1.4924239065286948,
          0.964266703679318,
          0.9936087705042833,
          0.9349246368543526,
          0.4067674340049766,
          0.45811605094866603,
          0.4654515676549074,
          0.5461422514235622,
          1.2356808218102477,
          -0.9576386733559126,
          0.964266703679318,
          0.7662077526108025,
          0.9936087705042833,
          -0.0993832187256753,
          0.6635105187234237,
          0.5681488015422862,
          0.692852585548389,
          0.8395629196732152,
          1.1256480712166275,
          0.7515367191983198,
          1.0522929041542142,
          -0.026028051663262674,
          -1.779216544454942,
          0.5681488015422862,
          1.558443556884867,
          0.29673468341135645,
          1.8958773253719678,
          0.7075236189608718,
          0.7515367191983198,
          -0.6055338714563281,
          0.8102208528482505,
          0.29673468341135645,
          0.010649531867944047,
          0.35541881706128725,
          0.47278708436114875,
          1.088970487685421,
          1.0229508373292486,
          0.7295301690795958,
          0.8322274029669746,
          1.690482857597211,
          1.4777528731162122,
          0.7515367191983198,
          0.942260153560594,
          0.7075236189608718,
          0.8322274029669746,
          0.6341684518984583,
          0.01798504857418539,
          0.9055825700293872,
          0.8909115366169046,
          -1.0970134907744973,
          -1.0970134907744973,
          0.7735432693170439,
          -0.21675148602553682,
          0.1867019328177363,
          0.4434450175361834,
          -0.45148802062525983,
          0.4874581177736314,
          0.201372966230219,
          -1.5004669096177712,
          -2.0066175623484237,
          0.42143846741745933,
          -1.0823424573620146,
          -0.7155666220499483,
          -0.6275404215750521,
          -0.34145527003163967,
          -0.29010665308795025,
          1.5217659733536602,
          1.243016338516489,
          0.23071503305518437,
          0.692852585548389,
          0.025320565280426734,
          0.604826385073493,
          -0.37813285356284637,
          0.17203089940525362,
          1.2943649554601784,
          1.008279803916766,
          0.4654515676549074,
          -0.5248431876876732,
          -2.6594785492039024,
          -0.9943162568871193,
          -0.18007390249433008,
          -0.05537011848822805,
          -0.5981983547500868,
          1.1696611714540757,
          -0.114054252138158,
          -0.5101721542751906,
          -0.6642180051062588,
          0.15002434928652958,
          -0.3634618201503637,
          0.6781815521359064,
          -0.4441525039190185,
          0.11334676575532286,
          0.1206822824615642,
          0.42877398412370066,
          0.30407020011759783,
          -0.9209610898247058,
          0.3700898504737699,
          0.45811605094866603,
          -0.8109283392310856,
          0.7221946523733545,
          -0.6935600719312242,
          0.9129180867356286,
          1.6024566571223149,
          -0.48816560415646654,
          0.6635105187234237,
          -1.801223094573666,
          0.04732711539915077,
          0.45811605094866603,
          0.1206822824615642,
          0.9716022203855593,
          0.16469538269901227,
          1.2870294387539372,
          0.8468984363794565,
          0.47278708436114875,
          -0.32678423661915695,
          1.6317987239472802,
          -2.7988533666224877,
          -1.2804014084305309,
          0.47278708436114875,
          0.19403744952397764,
          1.0229508373292486,
          0.03999159869290942,
          0.29673468341135645,
          0.6415039686046996,
          -0.6348759382812934,
          0.2820636499988738,
          1.3603846058163507,
          -3.620431237721518,
          1.4117332227600399,
          -0.8549414394685337,
          -0.2827711363817089,
          -0.56152077121888,
          0.6561750020171824,
          -0.8549414394685337,
          0.31140571682383916,
          -0.08471218531319262,
          0.5608132848360449,
          0.42143846741745933,
          0.6415039686046996,
          -0.2974421697941916,
          1.0009442872105248,
          1.0669639375666968,
          0.45811605094866603,
          0.5534777681298035,
          -0.12138976884439934,
          0.0033140151617027025,
          -0.8916190229997405,
          -0.9136255731184645,
          -0.40747492038781175,
          -1.9772754955234582,
          -0.20941596931929546,
          -1.6398417270363568,
          -1.008987290299601,
          -1.0750069406557732,
          -0.6422114549875347,
          -0.7008955886374655,
          -0.9576386733559126,
          -1.5444800098552194,
          -0.20941596931929546,
          -0.18007390249433008,
          0.04732711539915077,
          0.24538606646766706,
          0.5021291511861141,
          -2.1826699632982156,
          -1.9259268785797687,
          -0.6055338714563281,
          -3.187635752053279,
          -0.17273838578808876,
          -0.8182638559373271,
          0.9129180867356286,
          -0.9649741900621539,
          0.15735986599277094,
          -0.8035928225248443,
          0.414102950711218,
          0.19403744952397764,
          -1.6104996602113915,
          -0.29010665308795025,
          -0.7375731721686722,
          -2.490761664960352,
          -1.6545127604488394,
          -0.07004115190071074,
          1.4190687394662813,
          -1.8379006781048726,
          -0.45882353733150116,
          1.1256480712166275,
          0.4507805342424247,
          0.5754843182485275,
          -0.986980740180878,
          -0.7522442055811549,
          -1.3097434752554964,
          -0.4001394036815704,
          -2.329380297423042,
          -0.1654028690818474,
          -0.3561263034441223,
          -1.8525717115173554,
          -1.11168452418698
         ],
         "yaxis": "y"
        },
        {
         "name": "energy",
         "type": "box",
         "x": [
          1,
          2,
          1,
          1,
          1,
          1,
          1,
          1,
          1,
          1,
          2,
          1,
          1,
          1,
          1,
          2,
          2,
          1,
          0,
          1,
          2,
          1,
          2,
          1,
          1,
          1,
          1,
          2,
          1,
          1,
          1,
          1,
          2,
          2,
          1,
          1,
          1,
          2,
          1,
          1,
          1,
          1,
          1,
          1,
          2,
          1,
          1,
          1,
          1,
          1,
          2,
          1,
          2,
          1,
          1,
          1,
          1,
          1,
          0,
          0,
          0,
          1,
          1,
          1,
          1,
          1,
          1,
          2,
          2,
          1,
          1,
          1,
          1,
          1,
          1,
          1,
          1,
          1,
          1,
          0,
          2,
          1,
          1,
          1,
          1,
          1,
          1,
          1,
          1,
          1,
          1,
          1,
          0,
          1,
          1,
          0,
          1,
          1,
          0,
          0,
          0,
          2,
          1,
          2,
          1,
          1,
          1,
          2,
          1,
          2,
          1,
          1,
          1,
          1,
          1,
          0,
          1,
          0,
          1,
          1,
          2,
          2,
          1,
          1,
          1,
          0,
          0,
          1,
          3,
          2,
          1,
          0,
          0,
          1,
          0,
          1,
          1,
          1,
          0,
          1,
          1,
          1,
          1,
          0,
          1,
          2,
          0,
          0,
          0,
          1,
          0,
          0,
          0,
          3,
          0,
          0,
          0,
          0,
          0,
          0,
          0,
          0,
          0,
          0,
          3,
          0,
          0,
          3,
          0,
          0,
          0,
          3,
          0,
          0,
          0,
          0,
          1,
          0,
          0,
          0,
          1,
          1,
          0,
          0,
          0,
          0,
          0,
          0,
          0,
          0,
          0,
          0,
          0,
          0,
          0,
          0,
          0
         ],
         "xaxis": "x2",
         "y": [
          -1.0483599095093,
          -0.19864270879615636,
          0.844969692079717,
          0.4514764917494698,
          0.15493089150058742,
          -0.272779108858377,
          0.5997492918739104,
          0.13211969148144262,
          1.0046480922137306,
          0.9989452922089445,
          0.371637291682463,
          -0.5122967090593974,
          1.4095468925535501,
          0.5085044917973318,
          1.8144456928933703,
          1.403844092548764,
          -0.016153108642998595,
          0.8791864921084342,
          0.2062560915436632,
          0.1492280914958012,
          -0.1587231087626536,
          0.787941692031855,
          0.25758129158673904,
          1.8201484928981566,
          0.6396688919074138,
          0.6909940919504896,
          0.9134032921371514,
          0.9989452922089445,
          0.5313156918164766,
          0.24047289157238042,
          0.3602316916728906,
          1.101595692295096,
          0.4628820917590422,
          -0.26137350884880456,
          -0.4666743090211078,
          0.4172596917207526,
          1.4380608925774812,
          0.7480220919983516,
          0.21766169155323561,
          0.8563752920892894,
          0.2917980916154562,
          -0.021855908647784795,
          0.7252108919792069,
          1.3011936924626124,
          1.4494664925870535,
          1.9056904929699496,
          -0.329807108906239,
          -0.1302091087387226,
          0.730913691983993,
          0.9191060921419376,
          0.6339660919026276,
          0.787941692031855,
          0.42296249172553885,
          -0.18723710878658398,
          -0.5693247091072594,
          -0.29559030887752175,
          0.6966968919552758,
          -0.38683510895410095,
          -1.6357483100022778,
          -0.5065939090546112,
          -0.24426510883444597,
          0.6054520918786966,
          0.9419172921610824,
          1.158623692342958,
          0.17774209151973222,
          0.6111548918834828,
          0.4343680917351112,
          -0.6662723091886248,
          0.5826408918595518,
          0.787941692031855,
          1.1529208923381717,
          1.3354104924913295,
          0.4514764917494698,
          1.4437636925822674,
          -0.016153108642998595,
          1.266976892433895,
          -0.2670763088535908,
          0.6225604918930552,
          0.5655324918451932,
          0.0636860914240082,
          0.4172596917207526,
          0.2119588915484494,
          1.1643264923477443,
          1.1472180923333857,
          0.4970988917877594,
          1.9113932929747357,
          1.2042460923812477,
          1.803040092883798,
          1.21565169239082,
          1.2783824924434677,
          0.93051169215151,
          1.3411132924961158,
          -0.8943843093800725,
          1.603442092716281,
          1.3354104924913295,
          -1.0027375094710103,
          -0.854464709346569,
          0.1093084914622978,
          -0.1530203087578674,
          -1.8011295101410774,
          -1.880968710208084,
          1.6775784927785016,
          0.9704312921850134,
          0.012360891380932406,
          -0.8658703093561415,
          1.0844872922807374,
          0.46858489176382845,
          -0.0446671086669296,
          0.0979028914527254,
          0.6225604918930552,
          0.6054520918786966,
          -0.141614708748295,
          0.6624800919265585,
          -0.3184015088966666,
          0.5826408918595518,
          -1.3506083097629682,
          -0.18153430878179777,
          -1.6300455099974918,
          1.3582216925104744,
          -0.41534910897803196,
          0.28609529161067,
          0.0979028914527254,
          0.8506724920845032,
          1.4551692925918398,
          0.987539692199372,
          -0.8601675093513552,
          -0.21575110881051496,
          -0.8202479093178519,
          -1.4817727098730504,
          0.4172596917207526,
          1.21565169239082,
          -0.38113230894931477,
          -0.9057899093896449,
          0.1834448915245184,
          -1.1909299096289545,
          0.3602316916728906,
          -1.3620139097725406,
          -0.084586708700433,
          -0.4666743090211078,
          1.0331620922376616,
          -0.8088423093082795,
          0.5028016917925456,
          -0.8715731093609277,
          -0.6206499091503351,
          -0.09028950870521919,
          0.6681828919313448,
          -0.0332615086573572,
          -0.586433109121618,
          -1.5102867098969814,
          0.816455692055786,
          -0.9742235094470793,
          -0.5408107090833284,
          -0.8145451093130657,
          -0.23285950882487358,
          -1.2308495096624579,
          -1.4874755098778367,
          -0.16442590876743918,
          -0.18723710878658398,
          0.19485049153409081,
          -0.6833807092029834,
          -2.2060283104808978,
          -0.8487619093417829,
          -1.498881109887409,
          -1.0654683095236581,
          -0.0617755086812882,
          -1.088279509542803,
          -0.6206499091503351,
          -2.6736579108733656,
          -1.3392027097533958,
          -1.3563111097677545,
          -1.441853109839547,
          -0.8943843093800725,
          -1.6015315099735608,
          0.24617569157716662,
          -1.7212903100740709,
          -2.2345423105048283,
          0.7651304920127102,
          -1.612937109983133,
          -1.413339109815616,
          0.33171769164895964,
          0.6909940919504896,
          0.13211969148144262,
          -0.8829787093705,
          0.33171769164895964,
          -1.1852271096241684,
          -0.8772759093657139,
          -1.5616119099400572,
          -2.2060283104808978,
          -1.413339109815616,
          -0.35832110893017,
          -2.0064303103133807,
          -0.5065939090546112,
          -1.7269931100788571,
          -1.0312515094949413,
          -1.9265911102463738,
          -1.5673147099448435,
          -2.0976751103899596
         ],
         "yaxis": "y2"
        },
        {
         "name": "loudness",
         "type": "box",
         "x": [
          1,
          2,
          1,
          1,
          1,
          1,
          1,
          1,
          1,
          1,
          2,
          1,
          1,
          1,
          1,
          2,
          2,
          1,
          0,
          1,
          2,
          1,
          2,
          1,
          1,
          1,
          1,
          2,
          1,
          1,
          1,
          1,
          2,
          2,
          1,
          1,
          1,
          2,
          1,
          1,
          1,
          1,
          1,
          1,
          2,
          1,
          1,
          1,
          1,
          1,
          2,
          1,
          2,
          1,
          1,
          1,
          1,
          1,
          0,
          0,
          0,
          1,
          1,
          1,
          1,
          1,
          1,
          2,
          2,
          1,
          1,
          1,
          1,
          1,
          1,
          1,
          1,
          1,
          1,
          0,
          2,
          1,
          1,
          1,
          1,
          1,
          1,
          1,
          1,
          1,
          1,
          1,
          0,
          1,
          1,
          0,
          1,
          1,
          0,
          0,
          0,
          2,
          1,
          2,
          1,
          1,
          1,
          2,
          1,
          2,
          1,
          1,
          1,
          1,
          1,
          0,
          1,
          0,
          1,
          1,
          2,
          2,
          1,
          1,
          1,
          0,
          0,
          1,
          3,
          2,
          1,
          0,
          0,
          1,
          0,
          1,
          1,
          1,
          0,
          1,
          1,
          1,
          1,
          0,
          1,
          2,
          0,
          0,
          0,
          1,
          0,
          0,
          0,
          3,
          0,
          0,
          0,
          0,
          0,
          0,
          0,
          0,
          0,
          0,
          3,
          0,
          0,
          3,
          0,
          0,
          0,
          3,
          0,
          0,
          0,
          0,
          1,
          0,
          0,
          0,
          1,
          1,
          0,
          0,
          0,
          0,
          0,
          0,
          0,
          0,
          0,
          0,
          0,
          0,
          0,
          0,
          0
         ],
         "xaxis": "x3",
         "y": [
          0.14565566116753265,
          0.863082899812876,
          0.4452335207830249,
          0.7932247221368123,
          0.6229657216611965,
          0.14500581765426698,
          0.9579600527496696,
          0.2600281195022976,
          0.892325857909833,
          1.0473135358237047,
          0.6470099316520276,
          -0.17894117370868917,
          1.1486891238931554,
          0.8718557872419632,
          0.8874520315603402,
          1.1431654540303968,
          0.3812239347263525,
          0.7103696741954344,
          -0.3118341721715267,
          0.4920222537381558,
          -0.17439226911582914,
          0.7672309816061839,
          0.6860005424479703,
          1.3342194469305155,
          0.6184168170683364,
          0.5394608302065526,
          1.2049005877906394,
          0.7142687352750285,
          0.90792210222821,
          1.2932793055947758,
          0.3402837933906127,
          0.49104748846825746,
          0.8572343081934847,
          0.39064666566870526,
          0.19146962885276517,
          1.2494148684493405,
          0.972906453554781,
          0.1690500276450982,
          0.7708051209291453,
          1.5567908502240209,
          1.165260133481431,
          0.21064001249410363,
          0.5043692804902044,
          0.9956509765190807,
          0.9605594268027324,
          1.1935283263084893,
          -0.2117582711286075,
          1.0970265645885315,
          1.017745655970115,
          -0.28259121407456983,
          0.8328651764460205,
          0.5745523799229011,
          0.8764046918348232,
          0.1979680639854224,
          0.24085773586095913,
          0.23598390951146642,
          0.7903004263271165,
          0.7903004263271165,
          -0.6211596844860044,
          0.3298862971783614,
          0.001065479465912454,
          0.12616035576956147,
          0.5904735459979108,
          0.2993436520548729,
          0.3155897398865159,
          0.6817765596117431,
          0.6814516378551102,
          0.20836556019767377,
          -0.09316182995761545,
          1.0824050855400529,
          0.7292151360801399,
          0.9677077054486553,
          0.9270924858695485,
          0.9777802799042739,
          0.27075053747118166,
          0.7353886494561642,
          0.25677890193596914,
          0.24183250113085775,
          0.44490859902639196,
          0.13363355617211703,
          0.559281057361157,
          -0.10193471738670257,
          0.8916760143965673,
          0.6148426777453749,
          0.9407391996481284,
          1.2513643989891374,
          0.4890979579284603,
          0.44490859902639196,
          0.7097198306821685,
          0.9647834096389597,
          0.9865531673333608,
          0.5839751108652538,
          -1.5520605172391335,
          0.9521114611302782,
          0.8783542223746201,
          -0.6981661408079911,
          0.31396513110335134,
          -0.12825337967396394,
          -0.26147129989343443,
          -0.9607029201673377,
          -0.5571500984293324,
          1.2698849391172102,
          0.50956802859633,
          0.33183582771815856,
          0.23988297059106053,
          0.26880100693138476,
          0.36270339459827966,
          -0.5155601135803269,
          0.48519889684886586,
          0.673003672182656,
          0.4767509311764117,
          0.5378362214233883,
          0.40721767525698094,
          0.14955472224712704,
          -0.306960345822034,
          -0.19258788748726902,
          0.5391359084499199,
          -1.1208893461873353,
          0.755533798367401,
          -0.8362578873769546,
          0.5540823092550313,
          0.7275905272969757,
          0.525164272914707,
          0.9784301234175395,
          0.8422879073883733,
          0.28309756422323024,
          0.2869966253028246,
          0.2652268676084233,
          -0.7992168071208089,
          0.5709782405999396,
          0.8481364990077647,
          0.023810002430212092,
          0.18269674142367803,
          0.4120915016064736,
          -0.40573655983842166,
          0.4624543738845662,
          0.395520492018198,
          0.13720769549507847,
          -0.4310804568557847,
          0.8939504666929972,
          0.498520688870813,
          0.4666783567207933,
          -0.3319793210827638,
          -0.5253077662793123,
          -0.18901374816430788,
          0.379599325943188,
          -0.4742950504879541,
          -0.5958157874686419,
          -1.4682307040278573,
          0.24735617099361637,
          -1.8337676802398188,
          -1.450684929169683,
          -2.591160294951003,
          -3.4616256809704216,
          -3.1513254033860445,
          -1.5302907595447321,
          -0.2907142579903913,
          -0.5808693866635308,
          -0.4986641822354186,
          -1.3668551159584061,
          -2.199629578208413,
          -1.2995963123354055,
          -0.4434274836078333,
          -1.0705264739092428,
          -0.03077685268410756,
          -1.5335399771110607,
          -1.1345360599659151,
          -2.805283732572054,
          -1.8178465141648086,
          -1.9344934247960035,
          -2.9677446108884813,
          -1.9461906080347866,
          -1.3915491694625033,
          -0.28843980569396116,
          -0.9399079277428349,
          -1.8561872814474856,
          0.6804768725852116,
          -1.145908321448065,
          -1.38894979540944,
          -0.09576120401067828,
          -1.3041452169282652,
          0.2041415773614467,
          -0.8310591392708289,
          0.2730249897676118,
          -0.8499046011555345,
          -0.8642011584473802,
          -1.5205431068457467,
          -3.2764202796896944,
          -2.1664875590318617,
          -1.3957731522987304,
          -1.4964988968549156,
          -0.8476301488591046,
          -1.8058244091693934,
          -0.257897160570473,
          -1.6537610270652172,
          -0.9327596490969121,
          -1.347684732317068
         ],
         "yaxis": "y3"
        },
        {
         "name": "speechiness",
         "type": "box",
         "x": [
          1,
          2,
          1,
          1,
          1,
          1,
          1,
          1,
          1,
          1,
          2,
          1,
          1,
          1,
          1,
          2,
          2,
          1,
          0,
          1,
          2,
          1,
          2,
          1,
          1,
          1,
          1,
          2,
          1,
          1,
          1,
          1,
          2,
          2,
          1,
          1,
          1,
          2,
          1,
          1,
          1,
          1,
          1,
          1,
          2,
          1,
          1,
          1,
          1,
          1,
          2,
          1,
          2,
          1,
          1,
          1,
          1,
          1,
          0,
          0,
          0,
          1,
          1,
          1,
          1,
          1,
          1,
          2,
          2,
          1,
          1,
          1,
          1,
          1,
          1,
          1,
          1,
          1,
          1,
          0,
          2,
          1,
          1,
          1,
          1,
          1,
          1,
          1,
          1,
          1,
          1,
          1,
          0,
          1,
          1,
          0,
          1,
          1,
          0,
          0,
          0,
          2,
          1,
          2,
          1,
          1,
          1,
          2,
          1,
          2,
          1,
          1,
          1,
          1,
          1,
          0,
          1,
          0,
          1,
          1,
          2,
          2,
          1,
          1,
          1,
          0,
          0,
          1,
          3,
          2,
          1,
          0,
          0,
          1,
          0,
          1,
          1,
          1,
          0,
          1,
          1,
          1,
          1,
          0,
          1,
          2,
          0,
          0,
          0,
          1,
          0,
          0,
          0,
          3,
          0,
          0,
          0,
          0,
          0,
          0,
          0,
          0,
          0,
          0,
          3,
          0,
          0,
          3,
          0,
          0,
          0,
          3,
          0,
          0,
          0,
          0,
          1,
          0,
          0,
          0,
          1,
          1,
          0,
          0,
          0,
          0,
          0,
          0,
          0,
          0,
          0,
          0,
          0,
          0,
          0,
          0,
          0
         ],
         "xaxis": "x4",
         "y": [
          -0.4598133930043205,
          1.4488285644118972,
          -0.20684259388645662,
          1.0852777153802369,
          0.44906372957483087,
          -0.5809970093482074,
          -0.3916476088108841,
          0.37332396935990175,
          0.08399808533887176,
          0.7217268663485763,
          3.433210282043045,
          0.47935963366080264,
          0.14307509830651663,
          -0.5188904059719653,
          -0.55676028607943,
          2.3274097829050775,
          4.629898493438928,
          -0.29167112532717754,
          0.9489461469933644,
          0.10672001340335058,
          2.221374118604176,
          -0.01597839814483481,
          3.645281610644847,
          0.9035022908644068,
          0.28092146189768785,
          0.08096849493027451,
          -0.22956452195093552,
          2.221374118604176,
          -0.5219199963805625,
          0.02037668675833124,
          -0.44769503136993183,
          -0.2931859205314761,
          1.479124468497869,
          4.130016076020394,
          -0.07354061590818124,
          -0.5885709853697003,
          0.6156912020476755,
          2.3880015910770207,
          -0.05233348304800085,
          -0.4885945018859936,
          -0.5885709853697003,
          -0.09626254397265983,
          -0.27046399246699726,
          -0.3689256807464054,
          0.8883543388214209,
          0.5550993938757319,
          0.46421168161781673,
          -0.14170640010161745,
          -0.2840971493056846,
          -0.17503189459618645,
          3.493802090214988,
          -0.6749143120147196,
          1.9184150777444593,
          -0.6733995168104211,
          -0.7082398065092885,
          -0.7218729633479758,
          -0.025067169370626374,
          -0.7021806256920943,
          0.8277625306494775,
          -0.6582515647674353,
          0.5702473459187178,
          -0.5491863100579372,
          -0.16897271377899215,
          -0.14019160489731883,
          -0.6506775887459423,
          -0.5204052011762639,
          -0.6431036127244494,
          1.7820835093575864,
          1.58516013279877,
          0.18245977361827992,
          0.10066083258615627,
          -0.2462272691982199,
          -0.47193175463870923,
          -0.46435777861721633,
          -0.33257059584323934,
          -0.2795527636927888,
          0.2718326906718963,
          -0.10535131519845141,
          0.9489461469933644,
          -0.6643107455846295,
          1.1761654276381521,
          -0.7021806256920943,
          -0.618866889455672,
          -0.582511804552506,
          -0.4461802361656333,
          -0.4598133930043205,
          -0.4522394169828276,
          -0.3795292471764955,
          -0.618866889455672,
          -0.5279791771977569,
          -0.29470071573577467,
          -0.43103228412264744,
          -0.55676028607943,
          -0.3855884279936898,
          -0.09474774876836142,
          -0.08565897754256986,
          -0.008404422123341873,
          -0.6355296367029565,
          -0.4492098265742304,
          -0.7582280482511419,
          -0.6461332031330466,
          2.433445447205978,
          -0.3749848615635997,
          1.3882367562399542,
          -0.2462272691982199,
          -0.531008767606354,
          1.0246859072082932,
          2.0698945981743178,
          -0.6537071791545395,
          2.9181799125815258,
          -0.424973103305453,
          -0.6779439024233168,
          -0.16594312337039488,
          -0.5355531532192498,
          -0.31136346298305906,
          -0.038700326209313615,
          -0.5885709853697003,
          -0.18109107541338076,
          -0.36135170472491246,
          0.6762830102196187,
          2.9181799125815258,
          1.5245683246268267,
          0.055216976457198655,
          -0.3522629334991209,
          -0.5052572491332782,
          -0.6415888175201507,
          -0.7173285777350801,
          0.7368748183915622,
          -0.6249260702728664,
          1.721491701185643,
          -0.5673638525095202,
          -0.5991745517997904,
          -0.2856119445099831,
          0.07642410931737884,
          -0.443150645757036,
          -0.7400505057995589,
          -0.21896095552084544,
          -0.10686611040275003,
          -0.5688786477138187,
          0.29606941394067376,
          -0.6643107455846295,
          -0.6052337326169848,
          -0.6597663599717338,
          -0.08111459192967417,
          -0.5991745517997904,
          1.3427929001109966,
          0.04915779564000435,
          -0.40376597044527285,
          -0.7006658304877956,
          -0.7097546017135872,
          -0.5643342621009229,
          -0.7370209153909617,
          -0.40376597044527285,
          -0.5961449613911932,
          -0.5931153709825961,
          -0.3931624040151827,
          -0.5794822141439088,
          -0.7355061201866632,
          -0.6082633230255818,
          -0.6370444319072551,
          -0.574937828531013,
          -0.05536307345659811,
          -0.6612811551760324,
          -0.7218729633479758,
          -0.33711498145613505,
          -0.7445948914124546,
          -0.6340148414986578,
          -0.6279556606814635,
          -0.5461567196493399,
          -0.6870326736491084,
          -0.531008767606354,
          -0.6279556606814635,
          -0.6234112750685677,
          -0.7385357105952602,
          -0.22653493154233825,
          -0.6158372990470748,
          -0.6491627935416437,
          -0.5431271292407427,
          -0.7779203859070235,
          -0.6279556606814635,
          -0.6431036127244494,
          -0.6930918544663027,
          -0.5734230333267144,
          -0.4991980683160837,
          -0.4991980683160837,
          -0.4325470793269459,
          -0.2401680883810256,
          0.33999847486533274,
          -0.6218964798642692,
          -0.6915770592620041,
          -0.34771854788622514,
          -0.699151035283497,
          -0.6461332031330466,
          -0.7036954208963929,
          -0.4991980683160837,
          -0.6218964798642692,
          -0.6779439024233168
         ],
         "yaxis": "y4"
        },
        {
         "name": "acousticness",
         "type": "box",
         "x": [
          1,
          2,
          1,
          1,
          1,
          1,
          1,
          1,
          1,
          1,
          2,
          1,
          1,
          1,
          1,
          2,
          2,
          1,
          0,
          1,
          2,
          1,
          2,
          1,
          1,
          1,
          1,
          2,
          1,
          1,
          1,
          1,
          2,
          2,
          1,
          1,
          1,
          2,
          1,
          1,
          1,
          1,
          1,
          1,
          2,
          1,
          1,
          1,
          1,
          1,
          2,
          1,
          2,
          1,
          1,
          1,
          1,
          1,
          0,
          0,
          0,
          1,
          1,
          1,
          1,
          1,
          1,
          2,
          2,
          1,
          1,
          1,
          1,
          1,
          1,
          1,
          1,
          1,
          1,
          0,
          2,
          1,
          1,
          1,
          1,
          1,
          1,
          1,
          1,
          1,
          1,
          1,
          0,
          1,
          1,
          0,
          1,
          1,
          0,
          0,
          0,
          2,
          1,
          2,
          1,
          1,
          1,
          2,
          1,
          2,
          1,
          1,
          1,
          1,
          1,
          0,
          1,
          0,
          1,
          1,
          2,
          2,
          1,
          1,
          1,
          0,
          0,
          1,
          3,
          2,
          1,
          0,
          0,
          1,
          0,
          1,
          1,
          1,
          0,
          1,
          1,
          1,
          1,
          0,
          1,
          2,
          0,
          0,
          0,
          1,
          0,
          0,
          0,
          3,
          0,
          0,
          0,
          0,
          0,
          0,
          0,
          0,
          0,
          0,
          3,
          0,
          0,
          3,
          0,
          0,
          0,
          3,
          0,
          0,
          0,
          0,
          1,
          0,
          0,
          0,
          1,
          1,
          0,
          0,
          0,
          0,
          0,
          0,
          0,
          0,
          0,
          0,
          0,
          0,
          0,
          0,
          0
         ],
         "xaxis": "x5",
         "y": [
          -0.720548225910466,
          -0.23364552715212988,
          -0.5988225512208819,
          -0.6975190442124366,
          -0.4968361751296088,
          -0.6613303301155332,
          -0.7794371333954269,
          -0.5823731357222895,
          -0.9304427676725053,
          0.6875217407690465,
          -0.3882700328388987,
          -0.200746696154945,
          -0.7485122322580731,
          -0.883397439346531,
          -0.8912931587858554,
          -0.6350112653177853,
          -0.5593439540242601,
          -0.4474879286338315,
          0.9869011028434287,
          -0.7040988104118736,
          -0.17771751445691558,
          -0.7202192376004941,
          -0.27641400744847017,
          -0.20403657925466348,
          -0.9751851778286768,
          -0.7498281854979604,
          -0.9176122235836032,
          -0.6909392780129996,
          -0.9722242830389302,
          0.31576495050085734,
          -0.8485246784895151,
          -1.0320672566228095,
          -0.7511441387378479,
          1.3323388283138697,
          -0.9465631948611261,
          -0.5461844216253862,
          -0.7396295478888332,
          -0.8304303214410634,
          -0.6086922005200374,
          -0.48038675963101646,
          -0.37182061734030636,
          0.6118544294755213,
          -0.11520973556226445,
          -0.7172583428107474,
          -0.700808927312155,
          0.555926416780307,
          -1.0217699225206907,
          -0.21719611165353744,
          -0.5034159413290458,
          -0.8541174797590365,
          -0.7820690398752017,
          -0.8429318772199935,
          0.18416962651211793,
          -0.9452472416212385,
          -0.9870287569876633,
          -0.9225470482331809,
          -0.45077781173355,
          -0.44090816243439457,
          1.7139652678812143,
          -0.21390622855381897,
          -0.35537120184171395,
          -0.4474879286338315,
          -0.8781336263869816,
          -1.0137755065883747,
          -1.017229883843079,
          -1.0425619837109115,
          -1.0405551550200831,
          -0.9439312883813511,
          -0.8498406317294025,
          -0.4968361751296088,
          -1.005781090656059,
          -1.017196985012082,
          -1.0123608568554958,
          -1.001175254316453,
          -0.9412993819015765,
          -1.0259151752263358,
          -0.9136643638639411,
          -1.037660057892331,
          -0.9376805104918859,
          -0.8373390759504722,
          0.055864185623097015,
          -1.0415092211190016,
          -1.0435752677056247,
          -0.8699089186376853,
          -0.7995054203037096,
          -0.8189157305920487,
          -1.0038071607962276,
          -0.9919635816372411,
          -1.002820195866312,
          -1.042134298907948,
          -1.0315737741578517,
          -0.5889529019217264,
          1.246801867721189,
          -1.0346991631025841,
          -0.9153093054138004,
          -0.25009494265072235,
          -0.4343283962349576,
          -0.7962155372039911,
          1.381687074809647,
          2.0758524088502477,
          0.6546229097718615,
          0.7533194027634162,
          -0.7748312970558209,
          -0.7606847997270315,
          -0.3389217863431215,
          -0.8606972459584734,
          0.006515939127319672,
          -0.22706576095269293,
          -1.0123608568554958,
          0.6973913900682019,
          -0.470517110331861,
          -0.5363147723262307,
          -0.3027330722462181,
          -0.15797821585860464,
          -0.8386550291903596,
          1.3356287114135883,
          -1.028053599241153,
          2.0330839285539075,
          -1.0414434234570071,
          -0.3323420201436845,
          0.4638096899881894,
          -0.3685307342405879,
          -0.23364552715212988,
          -1.0252571986063923,
          -0.5034159413290458,
          1.460644269202891,
          0.7796384675611642,
          -0.31260272154537355,
          1.727124800280088,
          -0.5231552399273567,
          -0.8840554159664747,
          1.779762929875584,
          0.7434497534642608,
          -0.5001260582293273,
          1.2895703480175293,
          -1.025224299775395,
          -0.8070721514330622,
          0.6908116238687649,
          0.37827272939550866,
          -1.0229542804365894,
          -0.4277486300355206,
          0.8717551943532815,
          -0.8929381003357147,
          0.6908116238687649,
          -0.8314172863709789,
          0.9638719211453993,
          0.37498284629579015,
          1.1020470113335759,
          1.286280464917811,
          -0.5198653568276382,
          1.1152065437324499,
          1.016510050740895,
          1.381687074809647,
          1.4869633340006387,
          1.062568414136954,
          1.7896325791747394,
          0.7598991689628533,
          1.3356287114135883,
          -0.03954242426873918,
          0.7960878830597566,
          1.8718796566677016,
          0.8322765971566597,
          0.555926416780307,
          0.9934808690428657,
          1.934387435562353,
          1.927807669362916,
          0.1315314969166221,
          1.8652998904682647,
          1.0921773620344204,
          1.5231520480975422,
          -0.5889529019217264,
          1.7830528129753025,
          1.6843563199837477,
          0.8289867140569412,
          0.7138408055667944,
          2.1844185511409577,
          -0.9607096921899154,
          1.5034127494992313,
          1.760023631277273,
          -0.694229161112718,
          -0.8616842108883891,
          -0.21719611165353744,
          1.1382357254304791,
          0.3289244828997313,
          0.8783349605527185,
          1.4441948537042983,
          1.727124800280088,
          1.4244555551059874,
          1.5856598269921935,
          0.9901909859431471,
          1.7304146833798066,
          1.1415256085301977,
          1.727124800280088,
          1.8685897735679833,
          2.1153310060468695,
          2.003474980656441,
          1.8521403580693907
         ],
         "yaxis": "y5"
        },
        {
         "name": "instrumentalness",
         "type": "box",
         "x": [
          1,
          2,
          1,
          1,
          1,
          1,
          1,
          1,
          1,
          1,
          2,
          1,
          1,
          1,
          1,
          2,
          2,
          1,
          0,
          1,
          2,
          1,
          2,
          1,
          1,
          1,
          1,
          2,
          1,
          1,
          1,
          1,
          2,
          2,
          1,
          1,
          1,
          2,
          1,
          1,
          1,
          1,
          1,
          1,
          2,
          1,
          1,
          1,
          1,
          1,
          2,
          1,
          2,
          1,
          1,
          1,
          1,
          1,
          0,
          0,
          0,
          1,
          1,
          1,
          1,
          1,
          1,
          2,
          2,
          1,
          1,
          1,
          1,
          1,
          1,
          1,
          1,
          1,
          1,
          0,
          2,
          1,
          1,
          1,
          1,
          1,
          1,
          1,
          1,
          1,
          1,
          1,
          0,
          1,
          1,
          0,
          1,
          1,
          0,
          0,
          0,
          2,
          1,
          2,
          1,
          1,
          1,
          2,
          1,
          2,
          1,
          1,
          1,
          1,
          1,
          0,
          1,
          0,
          1,
          1,
          2,
          2,
          1,
          1,
          1,
          0,
          0,
          1,
          3,
          2,
          1,
          0,
          0,
          1,
          0,
          1,
          1,
          1,
          0,
          1,
          1,
          1,
          1,
          0,
          1,
          2,
          0,
          0,
          0,
          1,
          0,
          0,
          0,
          3,
          0,
          0,
          0,
          0,
          0,
          0,
          0,
          0,
          0,
          0,
          3,
          0,
          0,
          3,
          0,
          0,
          0,
          3,
          0,
          0,
          0,
          0,
          1,
          0,
          0,
          0,
          1,
          1,
          0,
          0,
          0,
          0,
          0,
          0,
          0,
          0,
          0,
          0,
          0,
          0,
          0,
          0,
          0
         ],
         "xaxis": "x6",
         "y": [
          -0.19843187084071567,
          -0.19843187084071567,
          -0.19839507111340107,
          -0.19782668101236667,
          -0.19843187084071567,
          -0.19843187084071567,
          -0.1973418315245251,
          -0.19838861808064923,
          -0.19843187084071567,
          -0.19694941737069652,
          -0.19843187084071567,
          -0.1932868852682963,
          -0.006584951191179577,
          -0.19797667042227451,
          -0.19843187084071567,
          -0.19843187084071567,
          -0.12396038475857755,
          -0.19513559194855545,
          -0.1960773859177441,
          -0.1621553623978943,
          -0.1783751474228096,
          -0.19831484421972945,
          -0.19843187084071567,
          -0.19843187084071567,
          -0.19843187084071567,
          -0.19796446198193315,
          -0.19843187084071567,
          -0.165992300790885,
          -0.19843187084071567,
          -0.19843187084071567,
          -0.19843187084071567,
          -0.19176955054015904,
          -0.19843187084071567,
          -0.19843187084071567,
          -0.19843187084071567,
          -0.19843187084071567,
          -0.19843187084071567,
          -0.19843187084071567,
          -0.19834362125767688,
          -0.1983301919733014,
          -0.19843187084071567,
          -0.19843187084071567,
          -0.19843187084071567,
          -0.19843187084071567,
          -0.1982330476694425,
          -0.19843187084071567,
          -0.19837954895353851,
          -0.19843187084071567,
          -0.19799934324005125,
          -0.12570444766448244,
          -0.19843187084071567,
          -0.19843187084071567,
          -0.19843187084071567,
          -0.17349177128627596,
          -0.19820688672585393,
          -0.19843187084071567,
          -0.18732219013010162,
          -0.19781098444621353,
          -0.19843187084071567,
          -0.19835565529172763,
          -0.19843187084071567,
          -0.19843187084071567,
          -0.19843187084071567,
          -0.19840815158519534,
          -0.19843187084071567,
          -0.19642619849892506,
          -0.19793481291253276,
          -0.1983359473808909,
          -0.1288437608951112,
          -0.19840762836632359,
          -0.19843187084071567,
          -0.19843187084071567,
          -0.19843187084071567,
          -0.1869559369198616,
          -0.19843187084071567,
          -0.19843187084071567,
          -0.19843187084071567,
          -0.19815979702739453,
          -0.19843187084071567,
          -0.19843187084071567,
          -0.19843187084071567,
          -0.19843187084071567,
          -0.19841408139907546,
          -0.19843187084071567,
          -0.19843187084071567,
          -0.19843187084071567,
          -0.19796795010774498,
          -0.1984095468355201,
          -0.19837920014095733,
          -0.19768017972827065,
          -0.19843187084071567,
          -0.19843187084071567,
          -0.19843187084071567,
          -0.1977621506848482,
          -0.19838600198629036,
          -0.19571113270750407,
          -0.19843187084071567,
          -0.12483241621153,
          -0.13372713703164485,
          -0.19843187084071567,
          -0.1971656811710287,
          -0.19843187084071567,
          -0.19843187084071567,
          -0.1984128605550413,
          -0.19806561763047564,
          -0.17872396000399057,
          -0.19843187084071567,
          -0.19843187084071567,
          -0.1963738766117479,
          -0.19829513630889273,
          -0.19843187084071567,
          -0.19835513207285585,
          -0.19843187084071567,
          -0.19843187084071567,
          -0.19843187084071567,
          -0.19843187084071567,
          -0.19843187084071567,
          -0.1480284528600648,
          -0.18863023730953027,
          -0.19843187084071567,
          -0.19843187084071567,
          -0.19843187084071567,
          -0.19843187084071567,
          -0.19843187084071567,
          -0.13913373203994997,
          -0.1983872228303245,
          -0.1855606865951377,
          -0.1717477083803711,
          6.830141639955925,
          -0.19817898171935944,
          -0.19843187084071567,
          -0.1983650732314195,
          1.116591560211559,
          -0.19843187084071567,
          -0.19843187084071567,
          -0.19843187084071567,
          -0.19843187084071567,
          -0.19843187084071567,
          -0.19754065469579826,
          -0.19843187084071567,
          -0.19843187084071567,
          -0.19839733839517873,
          -0.1972249793098295,
          -0.19843187084071567,
          -0.19843187084071567,
          0.373620762296083,
          -0.1982787421175772,
          -0.19727730119700662,
          -0.1966947841864344,
          -0.19843187084071567,
          -0.19793132478672099,
          -0.1417498263988073,
          -0.11768175829732003,
          8.103307561266481,
          0.2846735540949343,
          -0.19843187084071567,
          -0.19843187084071567,
          -0.19265902262217055,
          -0.19810747514021734,
          -0.19794702135287412,
          -0.19478677936737446,
          -0.196408757869866,
          -0.19843187084071567,
          -0.19729474182606568,
          3.58618463497286,
          -0.18011921032871447,
          -0.19804120074979295,
          5.888347670767293,
          -0.07966118694859377,
          -0.1965482829023384,
          -0.1759334593545428,
          4.2838097973348095,
          -0.19756855970229276,
          -0.18371197991487853,
          -0.18920577806847888,
          -0.12954138605747315,
          -0.19618202969209836,
          -0.1977342456783537,
          0.18351790555245165,
          0.01783192949148866,
          -0.1876710027112826,
          -0.1980917785740642,
          -0.09361369019583277,
          -0.19843187084071567,
          -0.1983928038316234,
          -0.19323456338111913,
          -0.19824351204687793,
          -0.19758948845716362,
          1.8246811000089378,
          -0.1605857057825799,
          -0.1745382090298189,
          2.6792719239023257,
          -0.15901604916726553,
          -0.19720056242914683,
          -0.19759472064588132,
          -0.19843187084071567,
          -0.19843187084071567
         ],
         "yaxis": "y6"
        },
        {
         "name": "liveness",
         "type": "box",
         "x": [
          1,
          2,
          1,
          1,
          1,
          1,
          1,
          1,
          1,
          1,
          2,
          1,
          1,
          1,
          1,
          2,
          2,
          1,
          0,
          1,
          2,
          1,
          2,
          1,
          1,
          1,
          1,
          2,
          1,
          1,
          1,
          1,
          2,
          2,
          1,
          1,
          1,
          2,
          1,
          1,
          1,
          1,
          1,
          1,
          2,
          1,
          1,
          1,
          1,
          1,
          2,
          1,
          2,
          1,
          1,
          1,
          1,
          1,
          0,
          0,
          0,
          1,
          1,
          1,
          1,
          1,
          1,
          2,
          2,
          1,
          1,
          1,
          1,
          1,
          1,
          1,
          1,
          1,
          1,
          0,
          2,
          1,
          1,
          1,
          1,
          1,
          1,
          1,
          1,
          1,
          1,
          1,
          0,
          1,
          1,
          0,
          1,
          1,
          0,
          0,
          0,
          2,
          1,
          2,
          1,
          1,
          1,
          2,
          1,
          2,
          1,
          1,
          1,
          1,
          1,
          0,
          1,
          0,
          1,
          1,
          2,
          2,
          1,
          1,
          1,
          0,
          0,
          1,
          3,
          2,
          1,
          0,
          0,
          1,
          0,
          1,
          1,
          1,
          0,
          1,
          1,
          1,
          1,
          0,
          1,
          2,
          0,
          0,
          0,
          1,
          0,
          0,
          0,
          3,
          0,
          0,
          0,
          0,
          0,
          0,
          0,
          0,
          0,
          0,
          3,
          0,
          0,
          3,
          0,
          0,
          0,
          3,
          0,
          0,
          0,
          0,
          1,
          0,
          0,
          0,
          1,
          1,
          0,
          0,
          0,
          0,
          0,
          0,
          0,
          0,
          0,
          0,
          0,
          0,
          0,
          0,
          0
         ],
         "xaxis": "x7",
         "y": [
          0.16639049056449728,
          -0.47928074643285484,
          0.06133759843726863,
          -0.5722121510069419,
          -0.3265500032632684,
          -0.2053351277318506,
          -0.4316028953904971,
          -0.7629235551763726,
          1.1684334616242178,
          -0.350792978369552,
          -0.5746364485175702,
          -0.3346309949653629,
          -0.5520096717517056,
          -0.6409005804747453,
          1.5805640384310384,
          0.441144208435711,
          -0.14876818581718887,
          1.1199475114116506,
          -0.595647026943016,
          -0.5512015725814962,
          0.30376734950010426,
          -0.6861541340064745,
          -0.5932227294323876,
          -0.5035237215391384,
          -0.5827174402196648,
          -0.49382653149662503,
          -0.21341611943394512,
          -0.3103880198590793,
          4.069509482676151,
          0.934084702263477,
          0.19871445737287538,
          -0.7411048775807173,
          -0.4073599202842137,
          -0.350792978369552,
          1.9765326318336702,
          1.8310747811959687,
          -0.350792978369552,
          -0.6724164481129139,
          -0.41544091198630817,
          -0.4857455397945305,
          -0.763731654346582,
          -0.19725413602975606,
          -0.5503934734112866,
          -0.5285747958156315,
          0.1421475154582137,
          -0.31846901156117385,
          -0.5673635559856852,
          -0.011391326881582125,
          0.15830949886240275,
          3.827079731613315,
          -0.0033103351794875964,
          0.3118483412021988,
          -0.29422603645489037,
          -0.4453405812840579,
          -0.5309990933262598,
          -0.5156452090922802,
          -0.14068719411509434,
          -0.181092152625567,
          -0.5584744651133812,
          -0.39927892858211916,
          -0.31846901156117385,
          1.4431871794954318,
          -0.629587192091813,
          2.130071474173466,
          1.7421838724729288,
          -0.5318071924964692,
          -0.43968388709259165,
          1.063380569496989,
          -0.39119793688002463,
          1.572483046728944,
          -0.47928074643285484,
          -0.7031242165808731,
          -0.6328195887726508,
          -0.4235219036884027,
          0.2310384241812535,
          1.3462152790702975,
          -0.5819093410494552,
          -0.011391326881582125,
          -0.6481734730066303,
          -0.10836322730671646,
          -0.5617068617942189,
          -0.48493744062432104,
          0.012851648224701459,
          -0.10028223560462193,
          -0.6489815721768398,
          0.376496274818955,
          -0.526150498305003,
          -0.8065609103676828,
          -0.12452521071090529,
          4.17456237480338,
          0.06941859013936316,
          -0.5988794236238538,
          -0.5051399198795574,
          -0.3831169451779301,
          -0.6029199194749011,
          1.3300532956661084,
          3.6816218809756136,
          1.0552995777948946,
          0.19063346567078085,
          -0.011391326881582125,
          0.27144338269172613,
          -0.5382719858581448,
          -0.39927892858211916,
          -0.49301843232641557,
          -0.45827016800740916,
          -0.18917314432766152,
          -0.18917314432766152,
          -0.6061523161557388,
          -0.14876818581718887,
          -0.37503595347583557,
          -0.6360519854534885,
          -0.4235219036884027,
          -0.22957810283813415,
          0.27952437439382066,
          -0.4235219036884027,
          -0.16493016922137793,
          -0.6829217373256368,
          5.596816914372015,
          -0.8211066954314531,
          -0.035634301987865706,
          0.4896301586482782,
          -0.23765909454022868,
          0.13406652375611938,
          -0.6021118203046916,
          -0.7209023983254811,
          -0.5544339692623339,
          -0.47362405224138876,
          -0.39927892858211916,
          -0.39927892858211916,
          -0.6982756215596163,
          -0.7435291750913458,
          2.0977475073650877,
          1.095704536305367,
          0.6835739594985466,
          1.200757428432596,
          -0.6788812414745895,
          -0.6142333078578334,
          -0.31846901156117385,
          -0.4711997547307603,
          -0.6166576053684617,
          -0.5423124817091921,
          0.5138731337545618,
          -0.6053442169855294,
          -0.36695496177374104,
          -0.41544091198630817,
          -0.47604834975201704,
          -0.4768564489222265,
          -0.4073599202842137,
          -0.350792978369552,
          -0.36695496177374104,
          -0.6602949605597721,
          -0.7758531418997238,
          -0.2538210779444178,
          -0.5035237215391384,
          1.6452119720477947,
          0.2067954490749699,
          0.5704400756692235,
          -0.3103880198590793,
          -0.4073599202842137,
          -0.3023070281569848,
          -0.5075642173901856,
          -0.36695496177374104,
          -0.7006999190702448,
          -0.34271198666745745,
          -0.16493016922137793,
          -0.23765909454022868,
          -0.6061523161557388,
          -0.48816983730515884,
          -0.46069446551803744,
          -0.5196857049433274,
          2.7927127937452165,
          -0.31846901156117385,
          -0.39119793688002463,
          -0.0033103351794875964,
          -0.36695496177374104,
          -0.43968388709259165,
          0.441144208435711,
          -0.3265500032632684,
          -0.2538210779444178,
          -0.799288017835798,
          -0.7289833900275756,
          0.19063346567078085,
          -0.37503595347583557,
          -0.4590782671776185,
          -0.26190206964651225,
          -0.39119793688002463,
          4.021023532463584,
          -0.07603926049833835,
          -0.4316028953904971,
          1.588645030133133,
          0.4088202416273329,
          -0.2457400862423232,
          -0.2780640530507013,
          -0.5681716551558946,
          -0.2699830613486068,
          0.5381161088608454,
          0.06133759843726863
         ],
         "yaxis": "y7"
        },
        {
         "name": "valence",
         "type": "box",
         "x": [
          1,
          2,
          1,
          1,
          1,
          1,
          1,
          1,
          1,
          1,
          2,
          1,
          1,
          1,
          1,
          2,
          2,
          1,
          0,
          1,
          2,
          1,
          2,
          1,
          1,
          1,
          1,
          2,
          1,
          1,
          1,
          1,
          2,
          2,
          1,
          1,
          1,
          2,
          1,
          1,
          1,
          1,
          1,
          1,
          2,
          1,
          1,
          1,
          1,
          1,
          2,
          1,
          2,
          1,
          1,
          1,
          1,
          1,
          0,
          0,
          0,
          1,
          1,
          1,
          1,
          1,
          1,
          2,
          2,
          1,
          1,
          1,
          1,
          1,
          1,
          1,
          1,
          1,
          1,
          0,
          2,
          1,
          1,
          1,
          1,
          1,
          1,
          1,
          1,
          1,
          1,
          1,
          0,
          1,
          1,
          0,
          1,
          1,
          0,
          0,
          0,
          2,
          1,
          2,
          1,
          1,
          1,
          2,
          1,
          2,
          1,
          1,
          1,
          1,
          1,
          0,
          1,
          0,
          1,
          1,
          2,
          2,
          1,
          1,
          1,
          0,
          0,
          1,
          3,
          2,
          1,
          0,
          0,
          1,
          0,
          1,
          1,
          1,
          0,
          1,
          1,
          1,
          1,
          0,
          1,
          2,
          0,
          0,
          0,
          1,
          0,
          0,
          0,
          3,
          0,
          0,
          0,
          0,
          0,
          0,
          0,
          0,
          0,
          0,
          3,
          0,
          0,
          3,
          0,
          0,
          0,
          3,
          0,
          0,
          0,
          0,
          1,
          0,
          0,
          0,
          1,
          1,
          0,
          0,
          0,
          0,
          0,
          0,
          0,
          0,
          0,
          0,
          0,
          0,
          0,
          0,
          0
         ],
         "xaxis": "x8",
         "y": [
          1.2814569024045883,
          0.8354743858970921,
          0.4591766375938928,
          0.3709092645351175,
          0.022485423513636714,
          1.007363480801023,
          -0.14475802017667433,
          0.6775222446340211,
          -0.1958601835264916,
          0.34768100846701877,
          0.44059403273941383,
          -0.739401375520002,
          0.48705054487561134,
          -0.9856208898418485,
          1.8110611407572395,
          -0.2608993005171681,
          -0.05184499590427931,
          0.8540569907515712,
          -1.5152251281945,
          1.211772134200292,
          2.0201154453701275,
          1.9875958868747894,
          0.19902016963118674,
          -0.9438100289192708,
          -0.44207969784833817,
          -0.49782751241177514,
          0.25476798419462376,
          -0.07971890318599781,
          -0.5257014196934937,
          0.6682309422067816,
          -0.558220978188832,
          -0.10294715925409657,
          0.9609069686648254,
          0.5149244521573298,
          0.32445275239892,
          0.5613809642935274,
          0.8912222004605291,
          1.007363480801023,
          -0.7905035388698193,
          1.7181481164848444,
          1.462637299735758,
          1.313976460899926,
          0.10610714535879223,
          0.1386267038541305,
          1.100276505073418,
          0.38020056696235704,
          -0.10294715925409657,
          0.20831147205842626,
          0.5892548715752458,
          -0.5071188148390147,
          1.578778580076252,
          -1.3526273357178087,
          0.5520896618662878,
          -0.31200146386698513,
          -0.6929448633838045,
          0.9655526198784452,
          -1.343336033290569,
          -0.6418427000339872,
          1.3046851584726864,
          -1.7196337815937686,
          -1.1621556359593992,
          1.9690132820203103,
          0.39878317181683604,
          -1.3386903820769493,
          -0.2237340908082101,
          -0.2887732077988866,
          -0.29806451022612585,
          0.5753179179343866,
          -0.6325513976067477,
          -0.3027101614397456,
          0.6821678958476409,
          1.778541582261901,
          0.29193319390358174,
          0.9934265271601637,
          0.268704937835483,
          1.518385114299195,
          -0.10294715925409657,
          0.35232665968063853,
          0.44059403273941383,
          -1.0831795653278633,
          0.7239787567702182,
          0.09217019171793298,
          1.5973611849307308,
          0.4591766375938928,
          1.8296437456117185,
          1.100276505073418,
          -0.5814492342569307,
          1.61129813857159,
          0.3383897060397793,
          1.081693900218939,
          -0.49782751241177514,
          0.5427983594390483,
          -0.8369600510060168,
          1.0027178295874033,
          -0.4002688369257604,
          -1.747507688875487,
          -0.665070956102086,
          1.3836612291042223,
          0.175791913563088,
          -1.1853838920274975,
          0.21760277448566576,
          1.3232677633271654,
          0.39878317181683604,
          -0.10294715925409657,
          -0.1958601835264916,
          0.6171287788569644,
          -1.236486055377315,
          -0.41420579056661966,
          0.8819308980332896,
          0.5335070570118088,
          2.0061784917292687,
          -0.9345187264920313,
          1.704211162843985,
          0.8076004786153737,
          -0.8183774461515377,
          -1.2550686602317938,
          1.2396460414820105,
          -1.8357750619342623,
          0.7472070128383169,
          -0.16798627624477308,
          0.20831147205842626,
          1.6438176970669283,
          1.211772134200292,
          1.267519948763729,
          1.685628557989506,
          0.7007505007021199,
          -0.813731794937918,
          -0.8927078655694535,
          -1.3805012429995271,
          0.6775222446340211,
          0.9283874101694872,
          1.6205894409988295,
          -0.7905035388698193,
          -0.7486926779472415,
          -1.1714469383866384,
          -0.1494036713902941,
          0.24547668176738427,
          0.48705054487561134,
          -1.1575099847457793,
          0.9701982710920649,
          -0.2887732077988866,
          1.4765742533766173,
          0.157209308708609,
          0.20831147205842626,
          1.6577546507077876,
          0.28728754268996204,
          -0.38633188328490115,
          -1.5105794769808802,
          0.14327235506774974,
          -1.4594773136310628,
          -0.2841275565852669,
          -0.4885362099845357,
          0.2036658208448065,
          -0.4002688369257604,
          -0.7719209340153402,
          -0.5303470709071134,
          0.2779962402627225,
          -1.1389273798913002,
          -1.859003318002361,
          -2.109868483537827,
          -1.8636489692159808,
          -1.0506600068325251,
          -0.6836535609565649,
          -0.41420579056661966,
          -0.02861673983618055,
          -0.8416057022196365,
          -1.8311294107206424,
          -2.130773913999116,
          -1.2039664968819765,
          -1.250423009018174,
          1.174606924491334,
          -1.2922338699407518,
          -0.8276687485787773,
          -0.6836535609565649,
          0.5288614057981891,
          -1.2457773578045543,
          -0.4745992563436764,
          -0.5535753269752122,
          -0.5257014196934937,
          -1.8543576667887411,
          -0.4002688369257604,
          -0.5628666294024517,
          -0.23767104444906936,
          0.19902016963118674,
          -1.4827055696991616,
          0.5799635691480064,
          1.3046851584726864,
          0.1386267038541305,
          -1.4269577551357246,
          -0.3909775344985209,
          -1.5245164306217394,
          -1.7335707352346277,
          -1.5523903379034576,
          -0.8648339582877352,
          -0.10294715925409657,
          -0.869479609501355,
          -1.231840404163695
         ],
         "yaxis": "y8"
        },
        {
         "name": "tempo",
         "type": "box",
         "x": [
          1,
          2,
          1,
          1,
          1,
          1,
          1,
          1,
          1,
          1,
          2,
          1,
          1,
          1,
          1,
          2,
          2,
          1,
          0,
          1,
          2,
          1,
          2,
          1,
          1,
          1,
          1,
          2,
          1,
          1,
          1,
          1,
          2,
          2,
          1,
          1,
          1,
          2,
          1,
          1,
          1,
          1,
          1,
          1,
          2,
          1,
          1,
          1,
          1,
          1,
          2,
          1,
          2,
          1,
          1,
          1,
          1,
          1,
          0,
          0,
          0,
          1,
          1,
          1,
          1,
          1,
          1,
          2,
          2,
          1,
          1,
          1,
          1,
          1,
          1,
          1,
          1,
          1,
          1,
          0,
          2,
          1,
          1,
          1,
          1,
          1,
          1,
          1,
          1,
          1,
          1,
          1,
          0,
          1,
          1,
          0,
          1,
          1,
          0,
          0,
          0,
          2,
          1,
          2,
          1,
          1,
          1,
          2,
          1,
          2,
          1,
          1,
          1,
          1,
          1,
          0,
          1,
          0,
          1,
          1,
          2,
          2,
          1,
          1,
          1,
          0,
          0,
          1,
          3,
          2,
          1,
          0,
          0,
          1,
          0,
          1,
          1,
          1,
          0,
          1,
          1,
          1,
          1,
          0,
          1,
          2,
          0,
          0,
          0,
          1,
          0,
          0,
          0,
          3,
          0,
          0,
          0,
          0,
          0,
          0,
          0,
          0,
          0,
          0,
          3,
          0,
          0,
          3,
          0,
          0,
          0,
          3,
          0,
          0,
          0,
          0,
          1,
          0,
          0,
          0,
          1,
          1,
          0,
          0,
          0,
          0,
          0,
          0,
          0,
          0,
          0,
          0,
          0,
          0,
          0,
          0,
          0
         ],
         "xaxis": "x9",
         "y": [
          -0.9301310349872757,
          -0.8590147057430829,
          -0.57583076406801,
          -0.5768629830610438,
          -0.9330141294160944,
          -0.7210177045019747,
          -0.6800136948476654,
          1.7706877571649218,
          -0.6827188204845819,
          -0.8239192599799332,
          -0.5393471617280212,
          -0.9338683796172259,
          -0.7896424706595337,
          0.13736137260160328,
          -0.6822205078672549,
          -1.1615972457355161,
          2.342216735480237,
          -0.6831103518267669,
          0.34853914107297174,
          -0.8245599476307818,
          2.3419675791715733,
          -0.8611147374875314,
          2.134527155330155,
          -0.6493674688820746,
          -0.789927220726578,
          -0.788966189250305,
          -0.8245243538724011,
          0.49290742506418594,
          -0.005689942329533074,
          -0.7882543140826951,
          2.1329254362030334,
          -0.25488184475125064,
          2.335275952596044,
          -0.8229582285036603,
          2.2010874835016465,
          -0.7914933460953187,
          -0.6829679767932448,
          -1.1811382190863982,
          -0.7885034703913586,
          -0.6823628829007768,
          -0.716568484704415,
          -0.5050703724076223,
          -0.7883255015994564,
          -0.7885390641497393,
          1.987987652077732,
          -0.14735310068383028,
          -0.897171214726954,
          1.7758132583717106,
          -1.14472580426317,
          0.49219554989657605,
          -1.2550308614842676,
          -0.5423726311903615,
          0.6684202476383163,
          -0.468622363826014,
          -0.324787986210507,
          0.09924045737611273,
          0.5606779410206136,
          -0.3268524241965749,
          -0.7902119707936216,
          2.330399607697919,
          2.1920466688730054,
          -0.682505257934299,
          2.2001620457837547,
          -0.003732285618606609,
          -1.216162477332787,
          -0.64602165559431,
          0.06446535543838677,
          -0.25609203253618706,
          0.029476690950377964,
          -0.04128370071000985,
          0.34807642221402585,
          -0.39843147229971354,
          0.4918752060711517,
          1.1673379588574602,
          0.7061496315216218,
          0.029263128400095095,
          -0.6101787409051698,
          0.06770438745100996,
          0.2805550625662612,
          1.6671811077944947,
          1.8778249698901566,
          -0.3620902449932467,
          0.7047614749447836,
          -1.1071032016550064,
          0.10102014529513646,
          -0.4683376137589699,
          0.20666242016839165,
          0.6568878699230424,
          0.20744548285276185,
          0.4221114396454175,
          0.3859481811308529,
          0.352418860736444,
          0.3477916721469817,
          -0.7520198680513697,
          -0.6820069453169719,
          0.7780134296918045,
          -1.869165568581014,
          -0.5041093409313494,
          -1.3052536545591205,
          -1.1764754367385557,
          -0.43199638645250305,
          -1.1445834292296484,
          0.6324705516740351,
          -0.682896789276484,
          -0.8634995192990231,
          0.02965465974228069,
          -0.7870085325393785,
          1.9871689956349812,
          -0.3609868384834522,
          2.768487585844827,
          0.2091539832550248,
          -0.7143972654432061,
          0.13547490340743812,
          -0.15041416390455173,
          -0.052709297150142824,
          -1.1466478672157159,
          0.3488238911400159,
          -0.9703163881988341,
          -1.3932414252756589,
          0.3444458588592171,
          -0.6820069453169719,
          -0.8607587999037265,
          1.9155187600150814,
          -0.7870441262977592,
          0.20815735802037175,
          0.7012376928651168,
          0.030010597326085135,
          -0.6816866014915476,
          -1.900594857230975,
          -0.6113533349317256,
          0.8486670400770515,
          -0.8614350813129558,
          0.44916269601458003,
          -0.15073450772997551,
          0.9938539805110155,
          -0.1503785701461711,
          -1.0727196310594656,
          -0.8606876123869657,
          0.4909853621116401,
          -0.13080200303690895,
          0.20748107661114248,
          0.38473799334591696,
          0.0997743637518199,
          0.9197121818044824,
          -0.040607419300780594,
          0.2805550625662612,
          -0.7203414230927454,
          2.0980791467485473,
          1.2012944043524343,
          0.4955769569427213,
          -0.004942473403543034,
          -0.4983431520737119,
          0.6622981211968744,
          1.16886849046782,
          -0.984660672826166,
          1.277963359903981,
          0.06581791825684478,
          -0.32674564292143343,
          -0.9845894853094052,
          -0.14674800679136232,
          0.21794564157500254,
          1.33758290519128,
          0.9830334779633505,
          -0.6459148743191686,
          2.1038097418478032,
          -0.47826827234712327,
          0.20829973305389332,
          1.2275270042788455,
          -1.3579324169622262,
          -0.6688728484745761,
          0.22431692432510797,
          -1.128744206750336,
          0.15092259454456494,
          -0.6824340704175377,
          2.2712071875111857,
          0.20858448312093747,
          -0.43541338725702894,
          0.35587145529935005,
          -0.36258855761057374,
          -0.08762677412139035,
          0.038268349270355724,
          0.9894759482302172,
          -0.32037436017132803,
          2.909937181648842,
          -1.4700171621023477,
          -0.3631224639862809,
          1.3125248992914242,
          -0.3675004962670792,
          -0.7396688338933445,
          1.7018850222154605,
          -1.1291357380925215,
          -0.36248177633543227,
          -1.951529525473437,
          -0.04210235715276068,
          -0.3024706997059482,
          -0.23470018374952056,
          0.7383619828559533
         ],
         "yaxis": "y9"
        }
       ],
       "layout": {
        "height": 2000,
        "template": {
         "data": {
          "bar": [
           {
            "error_x": {
             "color": "#2a3f5f"
            },
            "error_y": {
             "color": "#2a3f5f"
            },
            "marker": {
             "line": {
              "color": "#E5ECF6",
              "width": 0.5
             },
             "pattern": {
              "fillmode": "overlay",
              "size": 10,
              "solidity": 0.2
             }
            },
            "type": "bar"
           }
          ],
          "barpolar": [
           {
            "marker": {
             "line": {
              "color": "#E5ECF6",
              "width": 0.5
             },
             "pattern": {
              "fillmode": "overlay",
              "size": 10,
              "solidity": 0.2
             }
            },
            "type": "barpolar"
           }
          ],
          "carpet": [
           {
            "aaxis": {
             "endlinecolor": "#2a3f5f",
             "gridcolor": "white",
             "linecolor": "white",
             "minorgridcolor": "white",
             "startlinecolor": "#2a3f5f"
            },
            "baxis": {
             "endlinecolor": "#2a3f5f",
             "gridcolor": "white",
             "linecolor": "white",
             "minorgridcolor": "white",
             "startlinecolor": "#2a3f5f"
            },
            "type": "carpet"
           }
          ],
          "choropleth": [
           {
            "colorbar": {
             "outlinewidth": 0,
             "ticks": ""
            },
            "type": "choropleth"
           }
          ],
          "contour": [
           {
            "colorbar": {
             "outlinewidth": 0,
             "ticks": ""
            },
            "colorscale": [
             [
              0,
              "#0d0887"
             ],
             [
              0.1111111111111111,
              "#46039f"
             ],
             [
              0.2222222222222222,
              "#7201a8"
             ],
             [
              0.3333333333333333,
              "#9c179e"
             ],
             [
              0.4444444444444444,
              "#bd3786"
             ],
             [
              0.5555555555555556,
              "#d8576b"
             ],
             [
              0.6666666666666666,
              "#ed7953"
             ],
             [
              0.7777777777777778,
              "#fb9f3a"
             ],
             [
              0.8888888888888888,
              "#fdca26"
             ],
             [
              1,
              "#f0f921"
             ]
            ],
            "type": "contour"
           }
          ],
          "contourcarpet": [
           {
            "colorbar": {
             "outlinewidth": 0,
             "ticks": ""
            },
            "type": "contourcarpet"
           }
          ],
          "heatmap": [
           {
            "colorbar": {
             "outlinewidth": 0,
             "ticks": ""
            },
            "colorscale": [
             [
              0,
              "#0d0887"
             ],
             [
              0.1111111111111111,
              "#46039f"
             ],
             [
              0.2222222222222222,
              "#7201a8"
             ],
             [
              0.3333333333333333,
              "#9c179e"
             ],
             [
              0.4444444444444444,
              "#bd3786"
             ],
             [
              0.5555555555555556,
              "#d8576b"
             ],
             [
              0.6666666666666666,
              "#ed7953"
             ],
             [
              0.7777777777777778,
              "#fb9f3a"
             ],
             [
              0.8888888888888888,
              "#fdca26"
             ],
             [
              1,
              "#f0f921"
             ]
            ],
            "type": "heatmap"
           }
          ],
          "heatmapgl": [
           {
            "colorbar": {
             "outlinewidth": 0,
             "ticks": ""
            },
            "colorscale": [
             [
              0,
              "#0d0887"
             ],
             [
              0.1111111111111111,
              "#46039f"
             ],
             [
              0.2222222222222222,
              "#7201a8"
             ],
             [
              0.3333333333333333,
              "#9c179e"
             ],
             [
              0.4444444444444444,
              "#bd3786"
             ],
             [
              0.5555555555555556,
              "#d8576b"
             ],
             [
              0.6666666666666666,
              "#ed7953"
             ],
             [
              0.7777777777777778,
              "#fb9f3a"
             ],
             [
              0.8888888888888888,
              "#fdca26"
             ],
             [
              1,
              "#f0f921"
             ]
            ],
            "type": "heatmapgl"
           }
          ],
          "histogram": [
           {
            "marker": {
             "pattern": {
              "fillmode": "overlay",
              "size": 10,
              "solidity": 0.2
             }
            },
            "type": "histogram"
           }
          ],
          "histogram2d": [
           {
            "colorbar": {
             "outlinewidth": 0,
             "ticks": ""
            },
            "colorscale": [
             [
              0,
              "#0d0887"
             ],
             [
              0.1111111111111111,
              "#46039f"
             ],
             [
              0.2222222222222222,
              "#7201a8"
             ],
             [
              0.3333333333333333,
              "#9c179e"
             ],
             [
              0.4444444444444444,
              "#bd3786"
             ],
             [
              0.5555555555555556,
              "#d8576b"
             ],
             [
              0.6666666666666666,
              "#ed7953"
             ],
             [
              0.7777777777777778,
              "#fb9f3a"
             ],
             [
              0.8888888888888888,
              "#fdca26"
             ],
             [
              1,
              "#f0f921"
             ]
            ],
            "type": "histogram2d"
           }
          ],
          "histogram2dcontour": [
           {
            "colorbar": {
             "outlinewidth": 0,
             "ticks": ""
            },
            "colorscale": [
             [
              0,
              "#0d0887"
             ],
             [
              0.1111111111111111,
              "#46039f"
             ],
             [
              0.2222222222222222,
              "#7201a8"
             ],
             [
              0.3333333333333333,
              "#9c179e"
             ],
             [
              0.4444444444444444,
              "#bd3786"
             ],
             [
              0.5555555555555556,
              "#d8576b"
             ],
             [
              0.6666666666666666,
              "#ed7953"
             ],
             [
              0.7777777777777778,
              "#fb9f3a"
             ],
             [
              0.8888888888888888,
              "#fdca26"
             ],
             [
              1,
              "#f0f921"
             ]
            ],
            "type": "histogram2dcontour"
           }
          ],
          "mesh3d": [
           {
            "colorbar": {
             "outlinewidth": 0,
             "ticks": ""
            },
            "type": "mesh3d"
           }
          ],
          "parcoords": [
           {
            "line": {
             "colorbar": {
              "outlinewidth": 0,
              "ticks": ""
             }
            },
            "type": "parcoords"
           }
          ],
          "pie": [
           {
            "automargin": true,
            "type": "pie"
           }
          ],
          "scatter": [
           {
            "fillpattern": {
             "fillmode": "overlay",
             "size": 10,
             "solidity": 0.2
            },
            "type": "scatter"
           }
          ],
          "scatter3d": [
           {
            "line": {
             "colorbar": {
              "outlinewidth": 0,
              "ticks": ""
             }
            },
            "marker": {
             "colorbar": {
              "outlinewidth": 0,
              "ticks": ""
             }
            },
            "type": "scatter3d"
           }
          ],
          "scattercarpet": [
           {
            "marker": {
             "colorbar": {
              "outlinewidth": 0,
              "ticks": ""
             }
            },
            "type": "scattercarpet"
           }
          ],
          "scattergeo": [
           {
            "marker": {
             "colorbar": {
              "outlinewidth": 0,
              "ticks": ""
             }
            },
            "type": "scattergeo"
           }
          ],
          "scattergl": [
           {
            "marker": {
             "colorbar": {
              "outlinewidth": 0,
              "ticks": ""
             }
            },
            "type": "scattergl"
           }
          ],
          "scattermapbox": [
           {
            "marker": {
             "colorbar": {
              "outlinewidth": 0,
              "ticks": ""
             }
            },
            "type": "scattermapbox"
           }
          ],
          "scatterpolar": [
           {
            "marker": {
             "colorbar": {
              "outlinewidth": 0,
              "ticks": ""
             }
            },
            "type": "scatterpolar"
           }
          ],
          "scatterpolargl": [
           {
            "marker": {
             "colorbar": {
              "outlinewidth": 0,
              "ticks": ""
             }
            },
            "type": "scatterpolargl"
           }
          ],
          "scatterternary": [
           {
            "marker": {
             "colorbar": {
              "outlinewidth": 0,
              "ticks": ""
             }
            },
            "type": "scatterternary"
           }
          ],
          "surface": [
           {
            "colorbar": {
             "outlinewidth": 0,
             "ticks": ""
            },
            "colorscale": [
             [
              0,
              "#0d0887"
             ],
             [
              0.1111111111111111,
              "#46039f"
             ],
             [
              0.2222222222222222,
              "#7201a8"
             ],
             [
              0.3333333333333333,
              "#9c179e"
             ],
             [
              0.4444444444444444,
              "#bd3786"
             ],
             [
              0.5555555555555556,
              "#d8576b"
             ],
             [
              0.6666666666666666,
              "#ed7953"
             ],
             [
              0.7777777777777778,
              "#fb9f3a"
             ],
             [
              0.8888888888888888,
              "#fdca26"
             ],
             [
              1,
              "#f0f921"
             ]
            ],
            "type": "surface"
           }
          ],
          "table": [
           {
            "cells": {
             "fill": {
              "color": "#EBF0F8"
             },
             "line": {
              "color": "white"
             }
            },
            "header": {
             "fill": {
              "color": "#C8D4E3"
             },
             "line": {
              "color": "white"
             }
            },
            "type": "table"
           }
          ]
         },
         "layout": {
          "annotationdefaults": {
           "arrowcolor": "#2a3f5f",
           "arrowhead": 0,
           "arrowwidth": 1
          },
          "autotypenumbers": "strict",
          "coloraxis": {
           "colorbar": {
            "outlinewidth": 0,
            "ticks": ""
           }
          },
          "colorscale": {
           "diverging": [
            [
             0,
             "#8e0152"
            ],
            [
             0.1,
             "#c51b7d"
            ],
            [
             0.2,
             "#de77ae"
            ],
            [
             0.3,
             "#f1b6da"
            ],
            [
             0.4,
             "#fde0ef"
            ],
            [
             0.5,
             "#f7f7f7"
            ],
            [
             0.6,
             "#e6f5d0"
            ],
            [
             0.7,
             "#b8e186"
            ],
            [
             0.8,
             "#7fbc41"
            ],
            [
             0.9,
             "#4d9221"
            ],
            [
             1,
             "#276419"
            ]
           ],
           "sequential": [
            [
             0,
             "#0d0887"
            ],
            [
             0.1111111111111111,
             "#46039f"
            ],
            [
             0.2222222222222222,
             "#7201a8"
            ],
            [
             0.3333333333333333,
             "#9c179e"
            ],
            [
             0.4444444444444444,
             "#bd3786"
            ],
            [
             0.5555555555555556,
             "#d8576b"
            ],
            [
             0.6666666666666666,
             "#ed7953"
            ],
            [
             0.7777777777777778,
             "#fb9f3a"
            ],
            [
             0.8888888888888888,
             "#fdca26"
            ],
            [
             1,
             "#f0f921"
            ]
           ],
           "sequentialminus": [
            [
             0,
             "#0d0887"
            ],
            [
             0.1111111111111111,
             "#46039f"
            ],
            [
             0.2222222222222222,
             "#7201a8"
            ],
            [
             0.3333333333333333,
             "#9c179e"
            ],
            [
             0.4444444444444444,
             "#bd3786"
            ],
            [
             0.5555555555555556,
             "#d8576b"
            ],
            [
             0.6666666666666666,
             "#ed7953"
            ],
            [
             0.7777777777777778,
             "#fb9f3a"
            ],
            [
             0.8888888888888888,
             "#fdca26"
            ],
            [
             1,
             "#f0f921"
            ]
           ]
          },
          "colorway": [
           "#636efa",
           "#EF553B",
           "#00cc96",
           "#ab63fa",
           "#FFA15A",
           "#19d3f3",
           "#FF6692",
           "#B6E880",
           "#FF97FF",
           "#FECB52"
          ],
          "font": {
           "color": "#2a3f5f"
          },
          "geo": {
           "bgcolor": "white",
           "lakecolor": "white",
           "landcolor": "#E5ECF6",
           "showlakes": true,
           "showland": true,
           "subunitcolor": "white"
          },
          "hoverlabel": {
           "align": "left"
          },
          "hovermode": "closest",
          "mapbox": {
           "style": "light"
          },
          "paper_bgcolor": "white",
          "plot_bgcolor": "#E5ECF6",
          "polar": {
           "angularaxis": {
            "gridcolor": "white",
            "linecolor": "white",
            "ticks": ""
           },
           "bgcolor": "#E5ECF6",
           "radialaxis": {
            "gridcolor": "white",
            "linecolor": "white",
            "ticks": ""
           }
          },
          "scene": {
           "xaxis": {
            "backgroundcolor": "#E5ECF6",
            "gridcolor": "white",
            "gridwidth": 2,
            "linecolor": "white",
            "showbackground": true,
            "ticks": "",
            "zerolinecolor": "white"
           },
           "yaxis": {
            "backgroundcolor": "#E5ECF6",
            "gridcolor": "white",
            "gridwidth": 2,
            "linecolor": "white",
            "showbackground": true,
            "ticks": "",
            "zerolinecolor": "white"
           },
           "zaxis": {
            "backgroundcolor": "#E5ECF6",
            "gridcolor": "white",
            "gridwidth": 2,
            "linecolor": "white",
            "showbackground": true,
            "ticks": "",
            "zerolinecolor": "white"
           }
          },
          "shapedefaults": {
           "line": {
            "color": "#2a3f5f"
           }
          },
          "ternary": {
           "aaxis": {
            "gridcolor": "white",
            "linecolor": "white",
            "ticks": ""
           },
           "baxis": {
            "gridcolor": "white",
            "linecolor": "white",
            "ticks": ""
           },
           "bgcolor": "#E5ECF6",
           "caxis": {
            "gridcolor": "white",
            "linecolor": "white",
            "ticks": ""
           }
          },
          "title": {
           "x": 0.05
          },
          "xaxis": {
           "automargin": true,
           "gridcolor": "white",
           "linecolor": "white",
           "ticks": "",
           "title": {
            "standoff": 15
           },
           "zerolinecolor": "white",
           "zerolinewidth": 2
          },
          "yaxis": {
           "automargin": true,
           "gridcolor": "white",
           "linecolor": "white",
           "ticks": "",
           "title": {
            "standoff": 15
           },
           "zerolinecolor": "white",
           "zerolinewidth": 2
          }
         }
        },
        "title": {
         "text": "Side By Side Subplots"
        },
        "width": 800,
        "xaxis": {
         "anchor": "y",
         "domain": [
          0,
          1
         ]
        },
        "xaxis2": {
         "anchor": "y2",
         "domain": [
          0,
          1
         ]
        },
        "xaxis3": {
         "anchor": "y3",
         "domain": [
          0,
          1
         ]
        },
        "xaxis4": {
         "anchor": "y4",
         "domain": [
          0,
          1
         ]
        },
        "xaxis5": {
         "anchor": "y5",
         "domain": [
          0,
          1
         ]
        },
        "xaxis6": {
         "anchor": "y6",
         "domain": [
          0,
          1
         ]
        },
        "xaxis7": {
         "anchor": "y7",
         "domain": [
          0,
          1
         ]
        },
        "xaxis8": {
         "anchor": "y8",
         "domain": [
          0,
          1
         ]
        },
        "xaxis9": {
         "anchor": "y9",
         "domain": [
          0,
          1
         ]
        },
        "yaxis": {
         "anchor": "x",
         "domain": [
          0.9185185185185185,
          1
         ]
        },
        "yaxis2": {
         "anchor": "x2",
         "domain": [
          0.8037037037037038,
          0.8851851851851853
         ]
        },
        "yaxis3": {
         "anchor": "x3",
         "domain": [
          0.6888888888888889,
          0.7703703703703704
         ]
        },
        "yaxis4": {
         "anchor": "x4",
         "domain": [
          0.5740740740740741,
          0.6555555555555556
         ]
        },
        "yaxis5": {
         "anchor": "x5",
         "domain": [
          0.45925925925925926,
          0.5407407407407407
         ]
        },
        "yaxis6": {
         "anchor": "x6",
         "domain": [
          0.34444444444444444,
          0.42592592592592593
         ]
        },
        "yaxis7": {
         "anchor": "x7",
         "domain": [
          0.22962962962962963,
          0.3111111111111111
         ]
        },
        "yaxis8": {
         "anchor": "x8",
         "domain": [
          0.11481481481481481,
          0.1962962962962963
         ]
        },
        "yaxis9": {
         "anchor": "x9",
         "domain": [
          0,
          0.08148148148148149
         ]
        }
       }
      },
      "text/html": [
       "<div>                            <div id=\"b2e12e46-104d-44a5-af12-250ce8d6b8fe\" class=\"plotly-graph-div\" style=\"height:2000px; width:800px;\"></div>            <script type=\"text/javascript\">                require([\"plotly\"], function(Plotly) {                    window.PLOTLYENV=window.PLOTLYENV || {};                                    if (document.getElementById(\"b2e12e46-104d-44a5-af12-250ce8d6b8fe\")) {                    Plotly.newPlot(                        \"b2e12e46-104d-44a5-af12-250ce8d6b8fe\",                        [{\"name\":\"danceability\",\"x\":[1,2,1,1,1,1,1,1,1,1,2,1,1,1,1,2,2,1,0,1,2,1,2,1,1,1,1,2,1,1,1,1,2,2,1,1,1,2,1,1,1,1,1,1,2,1,1,1,1,1,2,1,2,1,1,1,1,1,0,0,0,1,1,1,1,1,1,2,2,1,1,1,1,1,1,1,1,1,1,0,2,1,1,1,1,1,1,1,1,1,1,1,0,1,1,0,1,1,0,0,0,2,1,2,1,1,1,2,1,2,1,1,1,1,1,0,1,0,1,1,2,2,1,1,1,0,0,1,3,2,1,0,0,1,0,1,1,1,0,1,1,1,1,0,1,2,0,0,0,1,0,0,0,3,0,0,0,0,0,0,0,0,0,0,3,0,0,3,0,0,0,3,0,0,0,0,1,0,0,0,1,1,0,0,0,0,0,0,0,0,0,0,0,0,0,0,0],\"y\":[1.1769966881603169,1.4924239065286948,0.964266703679318,0.9936087705042833,0.9349246368543526,0.4067674340049766,0.45811605094866603,0.4654515676549074,0.5461422514235622,1.2356808218102477,-0.9576386733559126,0.964266703679318,0.7662077526108025,0.9936087705042833,-0.0993832187256753,0.6635105187234237,0.5681488015422862,0.692852585548389,0.8395629196732152,1.1256480712166275,0.7515367191983198,1.0522929041542142,-0.026028051663262674,-1.779216544454942,0.5681488015422862,1.558443556884867,0.29673468341135645,1.8958773253719678,0.7075236189608718,0.7515367191983198,-0.6055338714563281,0.8102208528482505,0.29673468341135645,0.010649531867944047,0.35541881706128725,0.47278708436114875,1.088970487685421,1.0229508373292486,0.7295301690795958,0.8322274029669746,1.690482857597211,1.4777528731162122,0.7515367191983198,0.942260153560594,0.7075236189608718,0.8322274029669746,0.6341684518984583,0.01798504857418539,0.9055825700293872,0.8909115366169046,-1.0970134907744973,-1.0970134907744973,0.7735432693170439,-0.21675148602553682,0.1867019328177363,0.4434450175361834,-0.45148802062525983,0.4874581177736314,0.201372966230219,-1.5004669096177712,-2.0066175623484237,0.42143846741745933,-1.0823424573620146,-0.7155666220499483,-0.6275404215750521,-0.34145527003163967,-0.29010665308795025,1.5217659733536602,1.243016338516489,0.23071503305518437,0.692852585548389,0.025320565280426734,0.604826385073493,-0.37813285356284637,0.17203089940525362,1.2943649554601784,1.008279803916766,0.4654515676549074,-0.5248431876876732,-2.6594785492039024,-0.9943162568871193,-0.18007390249433008,-0.05537011848822805,-0.5981983547500868,1.1696611714540757,-0.114054252138158,-0.5101721542751906,-0.6642180051062588,0.15002434928652958,-0.3634618201503637,0.6781815521359064,-0.4441525039190185,0.11334676575532286,0.1206822824615642,0.42877398412370066,0.30407020011759783,-0.9209610898247058,0.3700898504737699,0.45811605094866603,-0.8109283392310856,0.7221946523733545,-0.6935600719312242,0.9129180867356286,1.6024566571223149,-0.48816560415646654,0.6635105187234237,-1.801223094573666,0.04732711539915077,0.45811605094866603,0.1206822824615642,0.9716022203855593,0.16469538269901227,1.2870294387539372,0.8468984363794565,0.47278708436114875,-0.32678423661915695,1.6317987239472802,-2.7988533666224877,-1.2804014084305309,0.47278708436114875,0.19403744952397764,1.0229508373292486,0.03999159869290942,0.29673468341135645,0.6415039686046996,-0.6348759382812934,0.2820636499988738,1.3603846058163507,-3.620431237721518,1.4117332227600399,-0.8549414394685337,-0.2827711363817089,-0.56152077121888,0.6561750020171824,-0.8549414394685337,0.31140571682383916,-0.08471218531319262,0.5608132848360449,0.42143846741745933,0.6415039686046996,-0.2974421697941916,1.0009442872105248,1.0669639375666968,0.45811605094866603,0.5534777681298035,-0.12138976884439934,0.0033140151617027025,-0.8916190229997405,-0.9136255731184645,-0.40747492038781175,-1.9772754955234582,-0.20941596931929546,-1.6398417270363568,-1.008987290299601,-1.0750069406557732,-0.6422114549875347,-0.7008955886374655,-0.9576386733559126,-1.5444800098552194,-0.20941596931929546,-0.18007390249433008,0.04732711539915077,0.24538606646766706,0.5021291511861141,-2.1826699632982156,-1.9259268785797687,-0.6055338714563281,-3.187635752053279,-0.17273838578808876,-0.8182638559373271,0.9129180867356286,-0.9649741900621539,0.15735986599277094,-0.8035928225248443,0.414102950711218,0.19403744952397764,-1.6104996602113915,-0.29010665308795025,-0.7375731721686722,-2.490761664960352,-1.6545127604488394,-0.07004115190071074,1.4190687394662813,-1.8379006781048726,-0.45882353733150116,1.1256480712166275,0.4507805342424247,0.5754843182485275,-0.986980740180878,-0.7522442055811549,-1.3097434752554964,-0.4001394036815704,-2.329380297423042,-0.1654028690818474,-0.3561263034441223,-1.8525717115173554,-1.11168452418698],\"type\":\"box\",\"xaxis\":\"x\",\"yaxis\":\"y\"},{\"name\":\"energy\",\"x\":[1,2,1,1,1,1,1,1,1,1,2,1,1,1,1,2,2,1,0,1,2,1,2,1,1,1,1,2,1,1,1,1,2,2,1,1,1,2,1,1,1,1,1,1,2,1,1,1,1,1,2,1,2,1,1,1,1,1,0,0,0,1,1,1,1,1,1,2,2,1,1,1,1,1,1,1,1,1,1,0,2,1,1,1,1,1,1,1,1,1,1,1,0,1,1,0,1,1,0,0,0,2,1,2,1,1,1,2,1,2,1,1,1,1,1,0,1,0,1,1,2,2,1,1,1,0,0,1,3,2,1,0,0,1,0,1,1,1,0,1,1,1,1,0,1,2,0,0,0,1,0,0,0,3,0,0,0,0,0,0,0,0,0,0,3,0,0,3,0,0,0,3,0,0,0,0,1,0,0,0,1,1,0,0,0,0,0,0,0,0,0,0,0,0,0,0,0],\"y\":[-1.0483599095093,-0.19864270879615636,0.844969692079717,0.4514764917494698,0.15493089150058742,-0.272779108858377,0.5997492918739104,0.13211969148144262,1.0046480922137306,0.9989452922089445,0.371637291682463,-0.5122967090593974,1.4095468925535501,0.5085044917973318,1.8144456928933703,1.403844092548764,-0.016153108642998595,0.8791864921084342,0.2062560915436632,0.1492280914958012,-0.1587231087626536,0.787941692031855,0.25758129158673904,1.8201484928981566,0.6396688919074138,0.6909940919504896,0.9134032921371514,0.9989452922089445,0.5313156918164766,0.24047289157238042,0.3602316916728906,1.101595692295096,0.4628820917590422,-0.26137350884880456,-0.4666743090211078,0.4172596917207526,1.4380608925774812,0.7480220919983516,0.21766169155323561,0.8563752920892894,0.2917980916154562,-0.021855908647784795,0.7252108919792069,1.3011936924626124,1.4494664925870535,1.9056904929699496,-0.329807108906239,-0.1302091087387226,0.730913691983993,0.9191060921419376,0.6339660919026276,0.787941692031855,0.42296249172553885,-0.18723710878658398,-0.5693247091072594,-0.29559030887752175,0.6966968919552758,-0.38683510895410095,-1.6357483100022778,-0.5065939090546112,-0.24426510883444597,0.6054520918786966,0.9419172921610824,1.158623692342958,0.17774209151973222,0.6111548918834828,0.4343680917351112,-0.6662723091886248,0.5826408918595518,0.787941692031855,1.1529208923381717,1.3354104924913295,0.4514764917494698,1.4437636925822674,-0.016153108642998595,1.266976892433895,-0.2670763088535908,0.6225604918930552,0.5655324918451932,0.0636860914240082,0.4172596917207526,0.2119588915484494,1.1643264923477443,1.1472180923333857,0.4970988917877594,1.9113932929747357,1.2042460923812477,1.803040092883798,1.21565169239082,1.2783824924434677,0.93051169215151,1.3411132924961158,-0.8943843093800725,1.603442092716281,1.3354104924913295,-1.0027375094710103,-0.854464709346569,0.1093084914622978,-0.1530203087578674,-1.8011295101410774,-1.880968710208084,1.6775784927785016,0.9704312921850134,0.012360891380932406,-0.8658703093561415,1.0844872922807374,0.46858489176382845,-0.0446671086669296,0.0979028914527254,0.6225604918930552,0.6054520918786966,-0.141614708748295,0.6624800919265585,-0.3184015088966666,0.5826408918595518,-1.3506083097629682,-0.18153430878179777,-1.6300455099974918,1.3582216925104744,-0.41534910897803196,0.28609529161067,0.0979028914527254,0.8506724920845032,1.4551692925918398,0.987539692199372,-0.8601675093513552,-0.21575110881051496,-0.8202479093178519,-1.4817727098730504,0.4172596917207526,1.21565169239082,-0.38113230894931477,-0.9057899093896449,0.1834448915245184,-1.1909299096289545,0.3602316916728906,-1.3620139097725406,-0.084586708700433,-0.4666743090211078,1.0331620922376616,-0.8088423093082795,0.5028016917925456,-0.8715731093609277,-0.6206499091503351,-0.09028950870521919,0.6681828919313448,-0.0332615086573572,-0.586433109121618,-1.5102867098969814,0.816455692055786,-0.9742235094470793,-0.5408107090833284,-0.8145451093130657,-0.23285950882487358,-1.2308495096624579,-1.4874755098778367,-0.16442590876743918,-0.18723710878658398,0.19485049153409081,-0.6833807092029834,-2.2060283104808978,-0.8487619093417829,-1.498881109887409,-1.0654683095236581,-0.0617755086812882,-1.088279509542803,-0.6206499091503351,-2.6736579108733656,-1.3392027097533958,-1.3563111097677545,-1.441853109839547,-0.8943843093800725,-1.6015315099735608,0.24617569157716662,-1.7212903100740709,-2.2345423105048283,0.7651304920127102,-1.612937109983133,-1.413339109815616,0.33171769164895964,0.6909940919504896,0.13211969148144262,-0.8829787093705,0.33171769164895964,-1.1852271096241684,-0.8772759093657139,-1.5616119099400572,-2.2060283104808978,-1.413339109815616,-0.35832110893017,-2.0064303103133807,-0.5065939090546112,-1.7269931100788571,-1.0312515094949413,-1.9265911102463738,-1.5673147099448435,-2.0976751103899596],\"type\":\"box\",\"xaxis\":\"x2\",\"yaxis\":\"y2\"},{\"name\":\"loudness\",\"x\":[1,2,1,1,1,1,1,1,1,1,2,1,1,1,1,2,2,1,0,1,2,1,2,1,1,1,1,2,1,1,1,1,2,2,1,1,1,2,1,1,1,1,1,1,2,1,1,1,1,1,2,1,2,1,1,1,1,1,0,0,0,1,1,1,1,1,1,2,2,1,1,1,1,1,1,1,1,1,1,0,2,1,1,1,1,1,1,1,1,1,1,1,0,1,1,0,1,1,0,0,0,2,1,2,1,1,1,2,1,2,1,1,1,1,1,0,1,0,1,1,2,2,1,1,1,0,0,1,3,2,1,0,0,1,0,1,1,1,0,1,1,1,1,0,1,2,0,0,0,1,0,0,0,3,0,0,0,0,0,0,0,0,0,0,3,0,0,3,0,0,0,3,0,0,0,0,1,0,0,0,1,1,0,0,0,0,0,0,0,0,0,0,0,0,0,0,0],\"y\":[0.14565566116753265,0.863082899812876,0.4452335207830249,0.7932247221368123,0.6229657216611965,0.14500581765426698,0.9579600527496696,0.2600281195022976,0.892325857909833,1.0473135358237047,0.6470099316520276,-0.17894117370868917,1.1486891238931554,0.8718557872419632,0.8874520315603402,1.1431654540303968,0.3812239347263525,0.7103696741954344,-0.3118341721715267,0.4920222537381558,-0.17439226911582914,0.7672309816061839,0.6860005424479703,1.3342194469305155,0.6184168170683364,0.5394608302065526,1.2049005877906394,0.7142687352750285,0.90792210222821,1.2932793055947758,0.3402837933906127,0.49104748846825746,0.8572343081934847,0.39064666566870526,0.19146962885276517,1.2494148684493405,0.972906453554781,0.1690500276450982,0.7708051209291453,1.5567908502240209,1.165260133481431,0.21064001249410363,0.5043692804902044,0.9956509765190807,0.9605594268027324,1.1935283263084893,-0.2117582711286075,1.0970265645885315,1.017745655970115,-0.28259121407456983,0.8328651764460205,0.5745523799229011,0.8764046918348232,0.1979680639854224,0.24085773586095913,0.23598390951146642,0.7903004263271165,0.7903004263271165,-0.6211596844860044,0.3298862971783614,0.001065479465912454,0.12616035576956147,0.5904735459979108,0.2993436520548729,0.3155897398865159,0.6817765596117431,0.6814516378551102,0.20836556019767377,-0.09316182995761545,1.0824050855400529,0.7292151360801399,0.9677077054486553,0.9270924858695485,0.9777802799042739,0.27075053747118166,0.7353886494561642,0.25677890193596914,0.24183250113085775,0.44490859902639196,0.13363355617211703,0.559281057361157,-0.10193471738670257,0.8916760143965673,0.6148426777453749,0.9407391996481284,1.2513643989891374,0.4890979579284603,0.44490859902639196,0.7097198306821685,0.9647834096389597,0.9865531673333608,0.5839751108652538,-1.5520605172391335,0.9521114611302782,0.8783542223746201,-0.6981661408079911,0.31396513110335134,-0.12825337967396394,-0.26147129989343443,-0.9607029201673377,-0.5571500984293324,1.2698849391172102,0.50956802859633,0.33183582771815856,0.23988297059106053,0.26880100693138476,0.36270339459827966,-0.5155601135803269,0.48519889684886586,0.673003672182656,0.4767509311764117,0.5378362214233883,0.40721767525698094,0.14955472224712704,-0.306960345822034,-0.19258788748726902,0.5391359084499199,-1.1208893461873353,0.755533798367401,-0.8362578873769546,0.5540823092550313,0.7275905272969757,0.525164272914707,0.9784301234175395,0.8422879073883733,0.28309756422323024,0.2869966253028246,0.2652268676084233,-0.7992168071208089,0.5709782405999396,0.8481364990077647,0.023810002430212092,0.18269674142367803,0.4120915016064736,-0.40573655983842166,0.4624543738845662,0.395520492018198,0.13720769549507847,-0.4310804568557847,0.8939504666929972,0.498520688870813,0.4666783567207933,-0.3319793210827638,-0.5253077662793123,-0.18901374816430788,0.379599325943188,-0.4742950504879541,-0.5958157874686419,-1.4682307040278573,0.24735617099361637,-1.8337676802398188,-1.450684929169683,-2.591160294951003,-3.4616256809704216,-3.1513254033860445,-1.5302907595447321,-0.2907142579903913,-0.5808693866635308,-0.4986641822354186,-1.3668551159584061,-2.199629578208413,-1.2995963123354055,-0.4434274836078333,-1.0705264739092428,-0.03077685268410756,-1.5335399771110607,-1.1345360599659151,-2.805283732572054,-1.8178465141648086,-1.9344934247960035,-2.9677446108884813,-1.9461906080347866,-1.3915491694625033,-0.28843980569396116,-0.9399079277428349,-1.8561872814474856,0.6804768725852116,-1.145908321448065,-1.38894979540944,-0.09576120401067828,-1.3041452169282652,0.2041415773614467,-0.8310591392708289,0.2730249897676118,-0.8499046011555345,-0.8642011584473802,-1.5205431068457467,-3.2764202796896944,-2.1664875590318617,-1.3957731522987304,-1.4964988968549156,-0.8476301488591046,-1.8058244091693934,-0.257897160570473,-1.6537610270652172,-0.9327596490969121,-1.347684732317068],\"type\":\"box\",\"xaxis\":\"x3\",\"yaxis\":\"y3\"},{\"name\":\"speechiness\",\"x\":[1,2,1,1,1,1,1,1,1,1,2,1,1,1,1,2,2,1,0,1,2,1,2,1,1,1,1,2,1,1,1,1,2,2,1,1,1,2,1,1,1,1,1,1,2,1,1,1,1,1,2,1,2,1,1,1,1,1,0,0,0,1,1,1,1,1,1,2,2,1,1,1,1,1,1,1,1,1,1,0,2,1,1,1,1,1,1,1,1,1,1,1,0,1,1,0,1,1,0,0,0,2,1,2,1,1,1,2,1,2,1,1,1,1,1,0,1,0,1,1,2,2,1,1,1,0,0,1,3,2,1,0,0,1,0,1,1,1,0,1,1,1,1,0,1,2,0,0,0,1,0,0,0,3,0,0,0,0,0,0,0,0,0,0,3,0,0,3,0,0,0,3,0,0,0,0,1,0,0,0,1,1,0,0,0,0,0,0,0,0,0,0,0,0,0,0,0],\"y\":[-0.4598133930043205,1.4488285644118972,-0.20684259388645662,1.0852777153802369,0.44906372957483087,-0.5809970093482074,-0.3916476088108841,0.37332396935990175,0.08399808533887176,0.7217268663485763,3.433210282043045,0.47935963366080264,0.14307509830651663,-0.5188904059719653,-0.55676028607943,2.3274097829050775,4.629898493438928,-0.29167112532717754,0.9489461469933644,0.10672001340335058,2.221374118604176,-0.01597839814483481,3.645281610644847,0.9035022908644068,0.28092146189768785,0.08096849493027451,-0.22956452195093552,2.221374118604176,-0.5219199963805625,0.02037668675833124,-0.44769503136993183,-0.2931859205314761,1.479124468497869,4.130016076020394,-0.07354061590818124,-0.5885709853697003,0.6156912020476755,2.3880015910770207,-0.05233348304800085,-0.4885945018859936,-0.5885709853697003,-0.09626254397265983,-0.27046399246699726,-0.3689256807464054,0.8883543388214209,0.5550993938757319,0.46421168161781673,-0.14170640010161745,-0.2840971493056846,-0.17503189459618645,3.493802090214988,-0.6749143120147196,1.9184150777444593,-0.6733995168104211,-0.7082398065092885,-0.7218729633479758,-0.025067169370626374,-0.7021806256920943,0.8277625306494775,-0.6582515647674353,0.5702473459187178,-0.5491863100579372,-0.16897271377899215,-0.14019160489731883,-0.6506775887459423,-0.5204052011762639,-0.6431036127244494,1.7820835093575864,1.58516013279877,0.18245977361827992,0.10066083258615627,-0.2462272691982199,-0.47193175463870923,-0.46435777861721633,-0.33257059584323934,-0.2795527636927888,0.2718326906718963,-0.10535131519845141,0.9489461469933644,-0.6643107455846295,1.1761654276381521,-0.7021806256920943,-0.618866889455672,-0.582511804552506,-0.4461802361656333,-0.4598133930043205,-0.4522394169828276,-0.3795292471764955,-0.618866889455672,-0.5279791771977569,-0.29470071573577467,-0.43103228412264744,-0.55676028607943,-0.3855884279936898,-0.09474774876836142,-0.08565897754256986,-0.008404422123341873,-0.6355296367029565,-0.4492098265742304,-0.7582280482511419,-0.6461332031330466,2.433445447205978,-0.3749848615635997,1.3882367562399542,-0.2462272691982199,-0.531008767606354,1.0246859072082932,2.0698945981743178,-0.6537071791545395,2.9181799125815258,-0.424973103305453,-0.6779439024233168,-0.16594312337039488,-0.5355531532192498,-0.31136346298305906,-0.038700326209313615,-0.5885709853697003,-0.18109107541338076,-0.36135170472491246,0.6762830102196187,2.9181799125815258,1.5245683246268267,0.055216976457198655,-0.3522629334991209,-0.5052572491332782,-0.6415888175201507,-0.7173285777350801,0.7368748183915622,-0.6249260702728664,1.721491701185643,-0.5673638525095202,-0.5991745517997904,-0.2856119445099831,0.07642410931737884,-0.443150645757036,-0.7400505057995589,-0.21896095552084544,-0.10686611040275003,-0.5688786477138187,0.29606941394067376,-0.6643107455846295,-0.6052337326169848,-0.6597663599717338,-0.08111459192967417,-0.5991745517997904,1.3427929001109966,0.04915779564000435,-0.40376597044527285,-0.7006658304877956,-0.7097546017135872,-0.5643342621009229,-0.7370209153909617,-0.40376597044527285,-0.5961449613911932,-0.5931153709825961,-0.3931624040151827,-0.5794822141439088,-0.7355061201866632,-0.6082633230255818,-0.6370444319072551,-0.574937828531013,-0.05536307345659811,-0.6612811551760324,-0.7218729633479758,-0.33711498145613505,-0.7445948914124546,-0.6340148414986578,-0.6279556606814635,-0.5461567196493399,-0.6870326736491084,-0.531008767606354,-0.6279556606814635,-0.6234112750685677,-0.7385357105952602,-0.22653493154233825,-0.6158372990470748,-0.6491627935416437,-0.5431271292407427,-0.7779203859070235,-0.6279556606814635,-0.6431036127244494,-0.6930918544663027,-0.5734230333267144,-0.4991980683160837,-0.4991980683160837,-0.4325470793269459,-0.2401680883810256,0.33999847486533274,-0.6218964798642692,-0.6915770592620041,-0.34771854788622514,-0.699151035283497,-0.6461332031330466,-0.7036954208963929,-0.4991980683160837,-0.6218964798642692,-0.6779439024233168],\"type\":\"box\",\"xaxis\":\"x4\",\"yaxis\":\"y4\"},{\"name\":\"acousticness\",\"x\":[1,2,1,1,1,1,1,1,1,1,2,1,1,1,1,2,2,1,0,1,2,1,2,1,1,1,1,2,1,1,1,1,2,2,1,1,1,2,1,1,1,1,1,1,2,1,1,1,1,1,2,1,2,1,1,1,1,1,0,0,0,1,1,1,1,1,1,2,2,1,1,1,1,1,1,1,1,1,1,0,2,1,1,1,1,1,1,1,1,1,1,1,0,1,1,0,1,1,0,0,0,2,1,2,1,1,1,2,1,2,1,1,1,1,1,0,1,0,1,1,2,2,1,1,1,0,0,1,3,2,1,0,0,1,0,1,1,1,0,1,1,1,1,0,1,2,0,0,0,1,0,0,0,3,0,0,0,0,0,0,0,0,0,0,3,0,0,3,0,0,0,3,0,0,0,0,1,0,0,0,1,1,0,0,0,0,0,0,0,0,0,0,0,0,0,0,0],\"y\":[-0.720548225910466,-0.23364552715212988,-0.5988225512208819,-0.6975190442124366,-0.4968361751296088,-0.6613303301155332,-0.7794371333954269,-0.5823731357222895,-0.9304427676725053,0.6875217407690465,-0.3882700328388987,-0.200746696154945,-0.7485122322580731,-0.883397439346531,-0.8912931587858554,-0.6350112653177853,-0.5593439540242601,-0.4474879286338315,0.9869011028434287,-0.7040988104118736,-0.17771751445691558,-0.7202192376004941,-0.27641400744847017,-0.20403657925466348,-0.9751851778286768,-0.7498281854979604,-0.9176122235836032,-0.6909392780129996,-0.9722242830389302,0.31576495050085734,-0.8485246784895151,-1.0320672566228095,-0.7511441387378479,1.3323388283138697,-0.9465631948611261,-0.5461844216253862,-0.7396295478888332,-0.8304303214410634,-0.6086922005200374,-0.48038675963101646,-0.37182061734030636,0.6118544294755213,-0.11520973556226445,-0.7172583428107474,-0.700808927312155,0.555926416780307,-1.0217699225206907,-0.21719611165353744,-0.5034159413290458,-0.8541174797590365,-0.7820690398752017,-0.8429318772199935,0.18416962651211793,-0.9452472416212385,-0.9870287569876633,-0.9225470482331809,-0.45077781173355,-0.44090816243439457,1.7139652678812143,-0.21390622855381897,-0.35537120184171395,-0.4474879286338315,-0.8781336263869816,-1.0137755065883747,-1.017229883843079,-1.0425619837109115,-1.0405551550200831,-0.9439312883813511,-0.8498406317294025,-0.4968361751296088,-1.005781090656059,-1.017196985012082,-1.0123608568554958,-1.001175254316453,-0.9412993819015765,-1.0259151752263358,-0.9136643638639411,-1.037660057892331,-0.9376805104918859,-0.8373390759504722,0.055864185623097015,-1.0415092211190016,-1.0435752677056247,-0.8699089186376853,-0.7995054203037096,-0.8189157305920487,-1.0038071607962276,-0.9919635816372411,-1.002820195866312,-1.042134298907948,-1.0315737741578517,-0.5889529019217264,1.246801867721189,-1.0346991631025841,-0.9153093054138004,-0.25009494265072235,-0.4343283962349576,-0.7962155372039911,1.381687074809647,2.0758524088502477,0.6546229097718615,0.7533194027634162,-0.7748312970558209,-0.7606847997270315,-0.3389217863431215,-0.8606972459584734,0.006515939127319672,-0.22706576095269293,-1.0123608568554958,0.6973913900682019,-0.470517110331861,-0.5363147723262307,-0.3027330722462181,-0.15797821585860464,-0.8386550291903596,1.3356287114135883,-1.028053599241153,2.0330839285539075,-1.0414434234570071,-0.3323420201436845,0.4638096899881894,-0.3685307342405879,-0.23364552715212988,-1.0252571986063923,-0.5034159413290458,1.460644269202891,0.7796384675611642,-0.31260272154537355,1.727124800280088,-0.5231552399273567,-0.8840554159664747,1.779762929875584,0.7434497534642608,-0.5001260582293273,1.2895703480175293,-1.025224299775395,-0.8070721514330622,0.6908116238687649,0.37827272939550866,-1.0229542804365894,-0.4277486300355206,0.8717551943532815,-0.8929381003357147,0.6908116238687649,-0.8314172863709789,0.9638719211453993,0.37498284629579015,1.1020470113335759,1.286280464917811,-0.5198653568276382,1.1152065437324499,1.016510050740895,1.381687074809647,1.4869633340006387,1.062568414136954,1.7896325791747394,0.7598991689628533,1.3356287114135883,-0.03954242426873918,0.7960878830597566,1.8718796566677016,0.8322765971566597,0.555926416780307,0.9934808690428657,1.934387435562353,1.927807669362916,0.1315314969166221,1.8652998904682647,1.0921773620344204,1.5231520480975422,-0.5889529019217264,1.7830528129753025,1.6843563199837477,0.8289867140569412,0.7138408055667944,2.1844185511409577,-0.9607096921899154,1.5034127494992313,1.760023631277273,-0.694229161112718,-0.8616842108883891,-0.21719611165353744,1.1382357254304791,0.3289244828997313,0.8783349605527185,1.4441948537042983,1.727124800280088,1.4244555551059874,1.5856598269921935,0.9901909859431471,1.7304146833798066,1.1415256085301977,1.727124800280088,1.8685897735679833,2.1153310060468695,2.003474980656441,1.8521403580693907],\"type\":\"box\",\"xaxis\":\"x5\",\"yaxis\":\"y5\"},{\"name\":\"instrumentalness\",\"x\":[1,2,1,1,1,1,1,1,1,1,2,1,1,1,1,2,2,1,0,1,2,1,2,1,1,1,1,2,1,1,1,1,2,2,1,1,1,2,1,1,1,1,1,1,2,1,1,1,1,1,2,1,2,1,1,1,1,1,0,0,0,1,1,1,1,1,1,2,2,1,1,1,1,1,1,1,1,1,1,0,2,1,1,1,1,1,1,1,1,1,1,1,0,1,1,0,1,1,0,0,0,2,1,2,1,1,1,2,1,2,1,1,1,1,1,0,1,0,1,1,2,2,1,1,1,0,0,1,3,2,1,0,0,1,0,1,1,1,0,1,1,1,1,0,1,2,0,0,0,1,0,0,0,3,0,0,0,0,0,0,0,0,0,0,3,0,0,3,0,0,0,3,0,0,0,0,1,0,0,0,1,1,0,0,0,0,0,0,0,0,0,0,0,0,0,0,0],\"y\":[-0.19843187084071567,-0.19843187084071567,-0.19839507111340107,-0.19782668101236667,-0.19843187084071567,-0.19843187084071567,-0.1973418315245251,-0.19838861808064923,-0.19843187084071567,-0.19694941737069652,-0.19843187084071567,-0.1932868852682963,-0.006584951191179577,-0.19797667042227451,-0.19843187084071567,-0.19843187084071567,-0.12396038475857755,-0.19513559194855545,-0.1960773859177441,-0.1621553623978943,-0.1783751474228096,-0.19831484421972945,-0.19843187084071567,-0.19843187084071567,-0.19843187084071567,-0.19796446198193315,-0.19843187084071567,-0.165992300790885,-0.19843187084071567,-0.19843187084071567,-0.19843187084071567,-0.19176955054015904,-0.19843187084071567,-0.19843187084071567,-0.19843187084071567,-0.19843187084071567,-0.19843187084071567,-0.19843187084071567,-0.19834362125767688,-0.1983301919733014,-0.19843187084071567,-0.19843187084071567,-0.19843187084071567,-0.19843187084071567,-0.1982330476694425,-0.19843187084071567,-0.19837954895353851,-0.19843187084071567,-0.19799934324005125,-0.12570444766448244,-0.19843187084071567,-0.19843187084071567,-0.19843187084071567,-0.17349177128627596,-0.19820688672585393,-0.19843187084071567,-0.18732219013010162,-0.19781098444621353,-0.19843187084071567,-0.19835565529172763,-0.19843187084071567,-0.19843187084071567,-0.19843187084071567,-0.19840815158519534,-0.19843187084071567,-0.19642619849892506,-0.19793481291253276,-0.1983359473808909,-0.1288437608951112,-0.19840762836632359,-0.19843187084071567,-0.19843187084071567,-0.19843187084071567,-0.1869559369198616,-0.19843187084071567,-0.19843187084071567,-0.19843187084071567,-0.19815979702739453,-0.19843187084071567,-0.19843187084071567,-0.19843187084071567,-0.19843187084071567,-0.19841408139907546,-0.19843187084071567,-0.19843187084071567,-0.19843187084071567,-0.19796795010774498,-0.1984095468355201,-0.19837920014095733,-0.19768017972827065,-0.19843187084071567,-0.19843187084071567,-0.19843187084071567,-0.1977621506848482,-0.19838600198629036,-0.19571113270750407,-0.19843187084071567,-0.12483241621153,-0.13372713703164485,-0.19843187084071567,-0.1971656811710287,-0.19843187084071567,-0.19843187084071567,-0.1984128605550413,-0.19806561763047564,-0.17872396000399057,-0.19843187084071567,-0.19843187084071567,-0.1963738766117479,-0.19829513630889273,-0.19843187084071567,-0.19835513207285585,-0.19843187084071567,-0.19843187084071567,-0.19843187084071567,-0.19843187084071567,-0.19843187084071567,-0.1480284528600648,-0.18863023730953027,-0.19843187084071567,-0.19843187084071567,-0.19843187084071567,-0.19843187084071567,-0.19843187084071567,-0.13913373203994997,-0.1983872228303245,-0.1855606865951377,-0.1717477083803711,6.830141639955925,-0.19817898171935944,-0.19843187084071567,-0.1983650732314195,1.116591560211559,-0.19843187084071567,-0.19843187084071567,-0.19843187084071567,-0.19843187084071567,-0.19843187084071567,-0.19754065469579826,-0.19843187084071567,-0.19843187084071567,-0.19839733839517873,-0.1972249793098295,-0.19843187084071567,-0.19843187084071567,0.373620762296083,-0.1982787421175772,-0.19727730119700662,-0.1966947841864344,-0.19843187084071567,-0.19793132478672099,-0.1417498263988073,-0.11768175829732003,8.103307561266481,0.2846735540949343,-0.19843187084071567,-0.19843187084071567,-0.19265902262217055,-0.19810747514021734,-0.19794702135287412,-0.19478677936737446,-0.196408757869866,-0.19843187084071567,-0.19729474182606568,3.58618463497286,-0.18011921032871447,-0.19804120074979295,5.888347670767293,-0.07966118694859377,-0.1965482829023384,-0.1759334593545428,4.2838097973348095,-0.19756855970229276,-0.18371197991487853,-0.18920577806847888,-0.12954138605747315,-0.19618202969209836,-0.1977342456783537,0.18351790555245165,0.01783192949148866,-0.1876710027112826,-0.1980917785740642,-0.09361369019583277,-0.19843187084071567,-0.1983928038316234,-0.19323456338111913,-0.19824351204687793,-0.19758948845716362,1.8246811000089378,-0.1605857057825799,-0.1745382090298189,2.6792719239023257,-0.15901604916726553,-0.19720056242914683,-0.19759472064588132,-0.19843187084071567,-0.19843187084071567],\"type\":\"box\",\"xaxis\":\"x6\",\"yaxis\":\"y6\"},{\"name\":\"liveness\",\"x\":[1,2,1,1,1,1,1,1,1,1,2,1,1,1,1,2,2,1,0,1,2,1,2,1,1,1,1,2,1,1,1,1,2,2,1,1,1,2,1,1,1,1,1,1,2,1,1,1,1,1,2,1,2,1,1,1,1,1,0,0,0,1,1,1,1,1,1,2,2,1,1,1,1,1,1,1,1,1,1,0,2,1,1,1,1,1,1,1,1,1,1,1,0,1,1,0,1,1,0,0,0,2,1,2,1,1,1,2,1,2,1,1,1,1,1,0,1,0,1,1,2,2,1,1,1,0,0,1,3,2,1,0,0,1,0,1,1,1,0,1,1,1,1,0,1,2,0,0,0,1,0,0,0,3,0,0,0,0,0,0,0,0,0,0,3,0,0,3,0,0,0,3,0,0,0,0,1,0,0,0,1,1,0,0,0,0,0,0,0,0,0,0,0,0,0,0,0],\"y\":[0.16639049056449728,-0.47928074643285484,0.06133759843726863,-0.5722121510069419,-0.3265500032632684,-0.2053351277318506,-0.4316028953904971,-0.7629235551763726,1.1684334616242178,-0.350792978369552,-0.5746364485175702,-0.3346309949653629,-0.5520096717517056,-0.6409005804747453,1.5805640384310384,0.441144208435711,-0.14876818581718887,1.1199475114116506,-0.595647026943016,-0.5512015725814962,0.30376734950010426,-0.6861541340064745,-0.5932227294323876,-0.5035237215391384,-0.5827174402196648,-0.49382653149662503,-0.21341611943394512,-0.3103880198590793,4.069509482676151,0.934084702263477,0.19871445737287538,-0.7411048775807173,-0.4073599202842137,-0.350792978369552,1.9765326318336702,1.8310747811959687,-0.350792978369552,-0.6724164481129139,-0.41544091198630817,-0.4857455397945305,-0.763731654346582,-0.19725413602975606,-0.5503934734112866,-0.5285747958156315,0.1421475154582137,-0.31846901156117385,-0.5673635559856852,-0.011391326881582125,0.15830949886240275,3.827079731613315,-0.0033103351794875964,0.3118483412021988,-0.29422603645489037,-0.4453405812840579,-0.5309990933262598,-0.5156452090922802,-0.14068719411509434,-0.181092152625567,-0.5584744651133812,-0.39927892858211916,-0.31846901156117385,1.4431871794954318,-0.629587192091813,2.130071474173466,1.7421838724729288,-0.5318071924964692,-0.43968388709259165,1.063380569496989,-0.39119793688002463,1.572483046728944,-0.47928074643285484,-0.7031242165808731,-0.6328195887726508,-0.4235219036884027,0.2310384241812535,1.3462152790702975,-0.5819093410494552,-0.011391326881582125,-0.6481734730066303,-0.10836322730671646,-0.5617068617942189,-0.48493744062432104,0.012851648224701459,-0.10028223560462193,-0.6489815721768398,0.376496274818955,-0.526150498305003,-0.8065609103676828,-0.12452521071090529,4.17456237480338,0.06941859013936316,-0.5988794236238538,-0.5051399198795574,-0.3831169451779301,-0.6029199194749011,1.3300532956661084,3.6816218809756136,1.0552995777948946,0.19063346567078085,-0.011391326881582125,0.27144338269172613,-0.5382719858581448,-0.39927892858211916,-0.49301843232641557,-0.45827016800740916,-0.18917314432766152,-0.18917314432766152,-0.6061523161557388,-0.14876818581718887,-0.37503595347583557,-0.6360519854534885,-0.4235219036884027,-0.22957810283813415,0.27952437439382066,-0.4235219036884027,-0.16493016922137793,-0.6829217373256368,5.596816914372015,-0.8211066954314531,-0.035634301987865706,0.4896301586482782,-0.23765909454022868,0.13406652375611938,-0.6021118203046916,-0.7209023983254811,-0.5544339692623339,-0.47362405224138876,-0.39927892858211916,-0.39927892858211916,-0.6982756215596163,-0.7435291750913458,2.0977475073650877,1.095704536305367,0.6835739594985466,1.200757428432596,-0.6788812414745895,-0.6142333078578334,-0.31846901156117385,-0.4711997547307603,-0.6166576053684617,-0.5423124817091921,0.5138731337545618,-0.6053442169855294,-0.36695496177374104,-0.41544091198630817,-0.47604834975201704,-0.4768564489222265,-0.4073599202842137,-0.350792978369552,-0.36695496177374104,-0.6602949605597721,-0.7758531418997238,-0.2538210779444178,-0.5035237215391384,1.6452119720477947,0.2067954490749699,0.5704400756692235,-0.3103880198590793,-0.4073599202842137,-0.3023070281569848,-0.5075642173901856,-0.36695496177374104,-0.7006999190702448,-0.34271198666745745,-0.16493016922137793,-0.23765909454022868,-0.6061523161557388,-0.48816983730515884,-0.46069446551803744,-0.5196857049433274,2.7927127937452165,-0.31846901156117385,-0.39119793688002463,-0.0033103351794875964,-0.36695496177374104,-0.43968388709259165,0.441144208435711,-0.3265500032632684,-0.2538210779444178,-0.799288017835798,-0.7289833900275756,0.19063346567078085,-0.37503595347583557,-0.4590782671776185,-0.26190206964651225,-0.39119793688002463,4.021023532463584,-0.07603926049833835,-0.4316028953904971,1.588645030133133,0.4088202416273329,-0.2457400862423232,-0.2780640530507013,-0.5681716551558946,-0.2699830613486068,0.5381161088608454,0.06133759843726863],\"type\":\"box\",\"xaxis\":\"x7\",\"yaxis\":\"y7\"},{\"name\":\"valence\",\"x\":[1,2,1,1,1,1,1,1,1,1,2,1,1,1,1,2,2,1,0,1,2,1,2,1,1,1,1,2,1,1,1,1,2,2,1,1,1,2,1,1,1,1,1,1,2,1,1,1,1,1,2,1,2,1,1,1,1,1,0,0,0,1,1,1,1,1,1,2,2,1,1,1,1,1,1,1,1,1,1,0,2,1,1,1,1,1,1,1,1,1,1,1,0,1,1,0,1,1,0,0,0,2,1,2,1,1,1,2,1,2,1,1,1,1,1,0,1,0,1,1,2,2,1,1,1,0,0,1,3,2,1,0,0,1,0,1,1,1,0,1,1,1,1,0,1,2,0,0,0,1,0,0,0,3,0,0,0,0,0,0,0,0,0,0,3,0,0,3,0,0,0,3,0,0,0,0,1,0,0,0,1,1,0,0,0,0,0,0,0,0,0,0,0,0,0,0,0],\"y\":[1.2814569024045883,0.8354743858970921,0.4591766375938928,0.3709092645351175,0.022485423513636714,1.007363480801023,-0.14475802017667433,0.6775222446340211,-0.1958601835264916,0.34768100846701877,0.44059403273941383,-0.739401375520002,0.48705054487561134,-0.9856208898418485,1.8110611407572395,-0.2608993005171681,-0.05184499590427931,0.8540569907515712,-1.5152251281945,1.211772134200292,2.0201154453701275,1.9875958868747894,0.19902016963118674,-0.9438100289192708,-0.44207969784833817,-0.49782751241177514,0.25476798419462376,-0.07971890318599781,-0.5257014196934937,0.6682309422067816,-0.558220978188832,-0.10294715925409657,0.9609069686648254,0.5149244521573298,0.32445275239892,0.5613809642935274,0.8912222004605291,1.007363480801023,-0.7905035388698193,1.7181481164848444,1.462637299735758,1.313976460899926,0.10610714535879223,0.1386267038541305,1.100276505073418,0.38020056696235704,-0.10294715925409657,0.20831147205842626,0.5892548715752458,-0.5071188148390147,1.578778580076252,-1.3526273357178087,0.5520896618662878,-0.31200146386698513,-0.6929448633838045,0.9655526198784452,-1.343336033290569,-0.6418427000339872,1.3046851584726864,-1.7196337815937686,-1.1621556359593992,1.9690132820203103,0.39878317181683604,-1.3386903820769493,-0.2237340908082101,-0.2887732077988866,-0.29806451022612585,0.5753179179343866,-0.6325513976067477,-0.3027101614397456,0.6821678958476409,1.778541582261901,0.29193319390358174,0.9934265271601637,0.268704937835483,1.518385114299195,-0.10294715925409657,0.35232665968063853,0.44059403273941383,-1.0831795653278633,0.7239787567702182,0.09217019171793298,1.5973611849307308,0.4591766375938928,1.8296437456117185,1.100276505073418,-0.5814492342569307,1.61129813857159,0.3383897060397793,1.081693900218939,-0.49782751241177514,0.5427983594390483,-0.8369600510060168,1.0027178295874033,-0.4002688369257604,-1.747507688875487,-0.665070956102086,1.3836612291042223,0.175791913563088,-1.1853838920274975,0.21760277448566576,1.3232677633271654,0.39878317181683604,-0.10294715925409657,-0.1958601835264916,0.6171287788569644,-1.236486055377315,-0.41420579056661966,0.8819308980332896,0.5335070570118088,2.0061784917292687,-0.9345187264920313,1.704211162843985,0.8076004786153737,-0.8183774461515377,-1.2550686602317938,1.2396460414820105,-1.8357750619342623,0.7472070128383169,-0.16798627624477308,0.20831147205842626,1.6438176970669283,1.211772134200292,1.267519948763729,1.685628557989506,0.7007505007021199,-0.813731794937918,-0.8927078655694535,-1.3805012429995271,0.6775222446340211,0.9283874101694872,1.6205894409988295,-0.7905035388698193,-0.7486926779472415,-1.1714469383866384,-0.1494036713902941,0.24547668176738427,0.48705054487561134,-1.1575099847457793,0.9701982710920649,-0.2887732077988866,1.4765742533766173,0.157209308708609,0.20831147205842626,1.6577546507077876,0.28728754268996204,-0.38633188328490115,-1.5105794769808802,0.14327235506774974,-1.4594773136310628,-0.2841275565852669,-0.4885362099845357,0.2036658208448065,-0.4002688369257604,-0.7719209340153402,-0.5303470709071134,0.2779962402627225,-1.1389273798913002,-1.859003318002361,-2.109868483537827,-1.8636489692159808,-1.0506600068325251,-0.6836535609565649,-0.41420579056661966,-0.02861673983618055,-0.8416057022196365,-1.8311294107206424,-2.130773913999116,-1.2039664968819765,-1.250423009018174,1.174606924491334,-1.2922338699407518,-0.8276687485787773,-0.6836535609565649,0.5288614057981891,-1.2457773578045543,-0.4745992563436764,-0.5535753269752122,-0.5257014196934937,-1.8543576667887411,-0.4002688369257604,-0.5628666294024517,-0.23767104444906936,0.19902016963118674,-1.4827055696991616,0.5799635691480064,1.3046851584726864,0.1386267038541305,-1.4269577551357246,-0.3909775344985209,-1.5245164306217394,-1.7335707352346277,-1.5523903379034576,-0.8648339582877352,-0.10294715925409657,-0.869479609501355,-1.231840404163695],\"type\":\"box\",\"xaxis\":\"x8\",\"yaxis\":\"y8\"},{\"name\":\"tempo\",\"x\":[1,2,1,1,1,1,1,1,1,1,2,1,1,1,1,2,2,1,0,1,2,1,2,1,1,1,1,2,1,1,1,1,2,2,1,1,1,2,1,1,1,1,1,1,2,1,1,1,1,1,2,1,2,1,1,1,1,1,0,0,0,1,1,1,1,1,1,2,2,1,1,1,1,1,1,1,1,1,1,0,2,1,1,1,1,1,1,1,1,1,1,1,0,1,1,0,1,1,0,0,0,2,1,2,1,1,1,2,1,2,1,1,1,1,1,0,1,0,1,1,2,2,1,1,1,0,0,1,3,2,1,0,0,1,0,1,1,1,0,1,1,1,1,0,1,2,0,0,0,1,0,0,0,3,0,0,0,0,0,0,0,0,0,0,3,0,0,3,0,0,0,3,0,0,0,0,1,0,0,0,1,1,0,0,0,0,0,0,0,0,0,0,0,0,0,0,0],\"y\":[-0.9301310349872757,-0.8590147057430829,-0.57583076406801,-0.5768629830610438,-0.9330141294160944,-0.7210177045019747,-0.6800136948476654,1.7706877571649218,-0.6827188204845819,-0.8239192599799332,-0.5393471617280212,-0.9338683796172259,-0.7896424706595337,0.13736137260160328,-0.6822205078672549,-1.1615972457355161,2.342216735480237,-0.6831103518267669,0.34853914107297174,-0.8245599476307818,2.3419675791715733,-0.8611147374875314,2.134527155330155,-0.6493674688820746,-0.789927220726578,-0.788966189250305,-0.8245243538724011,0.49290742506418594,-0.005689942329533074,-0.7882543140826951,2.1329254362030334,-0.25488184475125064,2.335275952596044,-0.8229582285036603,2.2010874835016465,-0.7914933460953187,-0.6829679767932448,-1.1811382190863982,-0.7885034703913586,-0.6823628829007768,-0.716568484704415,-0.5050703724076223,-0.7883255015994564,-0.7885390641497393,1.987987652077732,-0.14735310068383028,-0.897171214726954,1.7758132583717106,-1.14472580426317,0.49219554989657605,-1.2550308614842676,-0.5423726311903615,0.6684202476383163,-0.468622363826014,-0.324787986210507,0.09924045737611273,0.5606779410206136,-0.3268524241965749,-0.7902119707936216,2.330399607697919,2.1920466688730054,-0.682505257934299,2.2001620457837547,-0.003732285618606609,-1.216162477332787,-0.64602165559431,0.06446535543838677,-0.25609203253618706,0.029476690950377964,-0.04128370071000985,0.34807642221402585,-0.39843147229971354,0.4918752060711517,1.1673379588574602,0.7061496315216218,0.029263128400095095,-0.6101787409051698,0.06770438745100996,0.2805550625662612,1.6671811077944947,1.8778249698901566,-0.3620902449932467,0.7047614749447836,-1.1071032016550064,0.10102014529513646,-0.4683376137589699,0.20666242016839165,0.6568878699230424,0.20744548285276185,0.4221114396454175,0.3859481811308529,0.352418860736444,0.3477916721469817,-0.7520198680513697,-0.6820069453169719,0.7780134296918045,-1.869165568581014,-0.5041093409313494,-1.3052536545591205,-1.1764754367385557,-0.43199638645250305,-1.1445834292296484,0.6324705516740351,-0.682896789276484,-0.8634995192990231,0.02965465974228069,-0.7870085325393785,1.9871689956349812,-0.3609868384834522,2.768487585844827,0.2091539832550248,-0.7143972654432061,0.13547490340743812,-0.15041416390455173,-0.052709297150142824,-1.1466478672157159,0.3488238911400159,-0.9703163881988341,-1.3932414252756589,0.3444458588592171,-0.6820069453169719,-0.8607587999037265,1.9155187600150814,-0.7870441262977592,0.20815735802037175,0.7012376928651168,0.030010597326085135,-0.6816866014915476,-1.900594857230975,-0.6113533349317256,0.8486670400770515,-0.8614350813129558,0.44916269601458003,-0.15073450772997551,0.9938539805110155,-0.1503785701461711,-1.0727196310594656,-0.8606876123869657,0.4909853621116401,-0.13080200303690895,0.20748107661114248,0.38473799334591696,0.0997743637518199,0.9197121818044824,-0.040607419300780594,0.2805550625662612,-0.7203414230927454,2.0980791467485473,1.2012944043524343,0.4955769569427213,-0.004942473403543034,-0.4983431520737119,0.6622981211968744,1.16886849046782,-0.984660672826166,1.277963359903981,0.06581791825684478,-0.32674564292143343,-0.9845894853094052,-0.14674800679136232,0.21794564157500254,1.33758290519128,0.9830334779633505,-0.6459148743191686,2.1038097418478032,-0.47826827234712327,0.20829973305389332,1.2275270042788455,-1.3579324169622262,-0.6688728484745761,0.22431692432510797,-1.128744206750336,0.15092259454456494,-0.6824340704175377,2.2712071875111857,0.20858448312093747,-0.43541338725702894,0.35587145529935005,-0.36258855761057374,-0.08762677412139035,0.038268349270355724,0.9894759482302172,-0.32037436017132803,2.909937181648842,-1.4700171621023477,-0.3631224639862809,1.3125248992914242,-0.3675004962670792,-0.7396688338933445,1.7018850222154605,-1.1291357380925215,-0.36248177633543227,-1.951529525473437,-0.04210235715276068,-0.3024706997059482,-0.23470018374952056,0.7383619828559533],\"type\":\"box\",\"xaxis\":\"x9\",\"yaxis\":\"y9\"}],                        {\"template\":{\"data\":{\"histogram2dcontour\":[{\"type\":\"histogram2dcontour\",\"colorbar\":{\"outlinewidth\":0,\"ticks\":\"\"},\"colorscale\":[[0.0,\"#0d0887\"],[0.1111111111111111,\"#46039f\"],[0.2222222222222222,\"#7201a8\"],[0.3333333333333333,\"#9c179e\"],[0.4444444444444444,\"#bd3786\"],[0.5555555555555556,\"#d8576b\"],[0.6666666666666666,\"#ed7953\"],[0.7777777777777778,\"#fb9f3a\"],[0.8888888888888888,\"#fdca26\"],[1.0,\"#f0f921\"]]}],\"choropleth\":[{\"type\":\"choropleth\",\"colorbar\":{\"outlinewidth\":0,\"ticks\":\"\"}}],\"histogram2d\":[{\"type\":\"histogram2d\",\"colorbar\":{\"outlinewidth\":0,\"ticks\":\"\"},\"colorscale\":[[0.0,\"#0d0887\"],[0.1111111111111111,\"#46039f\"],[0.2222222222222222,\"#7201a8\"],[0.3333333333333333,\"#9c179e\"],[0.4444444444444444,\"#bd3786\"],[0.5555555555555556,\"#d8576b\"],[0.6666666666666666,\"#ed7953\"],[0.7777777777777778,\"#fb9f3a\"],[0.8888888888888888,\"#fdca26\"],[1.0,\"#f0f921\"]]}],\"heatmap\":[{\"type\":\"heatmap\",\"colorbar\":{\"outlinewidth\":0,\"ticks\":\"\"},\"colorscale\":[[0.0,\"#0d0887\"],[0.1111111111111111,\"#46039f\"],[0.2222222222222222,\"#7201a8\"],[0.3333333333333333,\"#9c179e\"],[0.4444444444444444,\"#bd3786\"],[0.5555555555555556,\"#d8576b\"],[0.6666666666666666,\"#ed7953\"],[0.7777777777777778,\"#fb9f3a\"],[0.8888888888888888,\"#fdca26\"],[1.0,\"#f0f921\"]]}],\"heatmapgl\":[{\"type\":\"heatmapgl\",\"colorbar\":{\"outlinewidth\":0,\"ticks\":\"\"},\"colorscale\":[[0.0,\"#0d0887\"],[0.1111111111111111,\"#46039f\"],[0.2222222222222222,\"#7201a8\"],[0.3333333333333333,\"#9c179e\"],[0.4444444444444444,\"#bd3786\"],[0.5555555555555556,\"#d8576b\"],[0.6666666666666666,\"#ed7953\"],[0.7777777777777778,\"#fb9f3a\"],[0.8888888888888888,\"#fdca26\"],[1.0,\"#f0f921\"]]}],\"contourcarpet\":[{\"type\":\"contourcarpet\",\"colorbar\":{\"outlinewidth\":0,\"ticks\":\"\"}}],\"contour\":[{\"type\":\"contour\",\"colorbar\":{\"outlinewidth\":0,\"ticks\":\"\"},\"colorscale\":[[0.0,\"#0d0887\"],[0.1111111111111111,\"#46039f\"],[0.2222222222222222,\"#7201a8\"],[0.3333333333333333,\"#9c179e\"],[0.4444444444444444,\"#bd3786\"],[0.5555555555555556,\"#d8576b\"],[0.6666666666666666,\"#ed7953\"],[0.7777777777777778,\"#fb9f3a\"],[0.8888888888888888,\"#fdca26\"],[1.0,\"#f0f921\"]]}],\"surface\":[{\"type\":\"surface\",\"colorbar\":{\"outlinewidth\":0,\"ticks\":\"\"},\"colorscale\":[[0.0,\"#0d0887\"],[0.1111111111111111,\"#46039f\"],[0.2222222222222222,\"#7201a8\"],[0.3333333333333333,\"#9c179e\"],[0.4444444444444444,\"#bd3786\"],[0.5555555555555556,\"#d8576b\"],[0.6666666666666666,\"#ed7953\"],[0.7777777777777778,\"#fb9f3a\"],[0.8888888888888888,\"#fdca26\"],[1.0,\"#f0f921\"]]}],\"mesh3d\":[{\"type\":\"mesh3d\",\"colorbar\":{\"outlinewidth\":0,\"ticks\":\"\"}}],\"scatter\":[{\"fillpattern\":{\"fillmode\":\"overlay\",\"size\":10,\"solidity\":0.2},\"type\":\"scatter\"}],\"parcoords\":[{\"type\":\"parcoords\",\"line\":{\"colorbar\":{\"outlinewidth\":0,\"ticks\":\"\"}}}],\"scatterpolargl\":[{\"type\":\"scatterpolargl\",\"marker\":{\"colorbar\":{\"outlinewidth\":0,\"ticks\":\"\"}}}],\"bar\":[{\"error_x\":{\"color\":\"#2a3f5f\"},\"error_y\":{\"color\":\"#2a3f5f\"},\"marker\":{\"line\":{\"color\":\"#E5ECF6\",\"width\":0.5},\"pattern\":{\"fillmode\":\"overlay\",\"size\":10,\"solidity\":0.2}},\"type\":\"bar\"}],\"scattergeo\":[{\"type\":\"scattergeo\",\"marker\":{\"colorbar\":{\"outlinewidth\":0,\"ticks\":\"\"}}}],\"scatterpolar\":[{\"type\":\"scatterpolar\",\"marker\":{\"colorbar\":{\"outlinewidth\":0,\"ticks\":\"\"}}}],\"histogram\":[{\"marker\":{\"pattern\":{\"fillmode\":\"overlay\",\"size\":10,\"solidity\":0.2}},\"type\":\"histogram\"}],\"scattergl\":[{\"type\":\"scattergl\",\"marker\":{\"colorbar\":{\"outlinewidth\":0,\"ticks\":\"\"}}}],\"scatter3d\":[{\"type\":\"scatter3d\",\"line\":{\"colorbar\":{\"outlinewidth\":0,\"ticks\":\"\"}},\"marker\":{\"colorbar\":{\"outlinewidth\":0,\"ticks\":\"\"}}}],\"scattermapbox\":[{\"type\":\"scattermapbox\",\"marker\":{\"colorbar\":{\"outlinewidth\":0,\"ticks\":\"\"}}}],\"scatterternary\":[{\"type\":\"scatterternary\",\"marker\":{\"colorbar\":{\"outlinewidth\":0,\"ticks\":\"\"}}}],\"scattercarpet\":[{\"type\":\"scattercarpet\",\"marker\":{\"colorbar\":{\"outlinewidth\":0,\"ticks\":\"\"}}}],\"carpet\":[{\"aaxis\":{\"endlinecolor\":\"#2a3f5f\",\"gridcolor\":\"white\",\"linecolor\":\"white\",\"minorgridcolor\":\"white\",\"startlinecolor\":\"#2a3f5f\"},\"baxis\":{\"endlinecolor\":\"#2a3f5f\",\"gridcolor\":\"white\",\"linecolor\":\"white\",\"minorgridcolor\":\"white\",\"startlinecolor\":\"#2a3f5f\"},\"type\":\"carpet\"}],\"table\":[{\"cells\":{\"fill\":{\"color\":\"#EBF0F8\"},\"line\":{\"color\":\"white\"}},\"header\":{\"fill\":{\"color\":\"#C8D4E3\"},\"line\":{\"color\":\"white\"}},\"type\":\"table\"}],\"barpolar\":[{\"marker\":{\"line\":{\"color\":\"#E5ECF6\",\"width\":0.5},\"pattern\":{\"fillmode\":\"overlay\",\"size\":10,\"solidity\":0.2}},\"type\":\"barpolar\"}],\"pie\":[{\"automargin\":true,\"type\":\"pie\"}]},\"layout\":{\"autotypenumbers\":\"strict\",\"colorway\":[\"#636efa\",\"#EF553B\",\"#00cc96\",\"#ab63fa\",\"#FFA15A\",\"#19d3f3\",\"#FF6692\",\"#B6E880\",\"#FF97FF\",\"#FECB52\"],\"font\":{\"color\":\"#2a3f5f\"},\"hovermode\":\"closest\",\"hoverlabel\":{\"align\":\"left\"},\"paper_bgcolor\":\"white\",\"plot_bgcolor\":\"#E5ECF6\",\"polar\":{\"bgcolor\":\"#E5ECF6\",\"angularaxis\":{\"gridcolor\":\"white\",\"linecolor\":\"white\",\"ticks\":\"\"},\"radialaxis\":{\"gridcolor\":\"white\",\"linecolor\":\"white\",\"ticks\":\"\"}},\"ternary\":{\"bgcolor\":\"#E5ECF6\",\"aaxis\":{\"gridcolor\":\"white\",\"linecolor\":\"white\",\"ticks\":\"\"},\"baxis\":{\"gridcolor\":\"white\",\"linecolor\":\"white\",\"ticks\":\"\"},\"caxis\":{\"gridcolor\":\"white\",\"linecolor\":\"white\",\"ticks\":\"\"}},\"coloraxis\":{\"colorbar\":{\"outlinewidth\":0,\"ticks\":\"\"}},\"colorscale\":{\"sequential\":[[0.0,\"#0d0887\"],[0.1111111111111111,\"#46039f\"],[0.2222222222222222,\"#7201a8\"],[0.3333333333333333,\"#9c179e\"],[0.4444444444444444,\"#bd3786\"],[0.5555555555555556,\"#d8576b\"],[0.6666666666666666,\"#ed7953\"],[0.7777777777777778,\"#fb9f3a\"],[0.8888888888888888,\"#fdca26\"],[1.0,\"#f0f921\"]],\"sequentialminus\":[[0.0,\"#0d0887\"],[0.1111111111111111,\"#46039f\"],[0.2222222222222222,\"#7201a8\"],[0.3333333333333333,\"#9c179e\"],[0.4444444444444444,\"#bd3786\"],[0.5555555555555556,\"#d8576b\"],[0.6666666666666666,\"#ed7953\"],[0.7777777777777778,\"#fb9f3a\"],[0.8888888888888888,\"#fdca26\"],[1.0,\"#f0f921\"]],\"diverging\":[[0,\"#8e0152\"],[0.1,\"#c51b7d\"],[0.2,\"#de77ae\"],[0.3,\"#f1b6da\"],[0.4,\"#fde0ef\"],[0.5,\"#f7f7f7\"],[0.6,\"#e6f5d0\"],[0.7,\"#b8e186\"],[0.8,\"#7fbc41\"],[0.9,\"#4d9221\"],[1,\"#276419\"]]},\"xaxis\":{\"gridcolor\":\"white\",\"linecolor\":\"white\",\"ticks\":\"\",\"title\":{\"standoff\":15},\"zerolinecolor\":\"white\",\"automargin\":true,\"zerolinewidth\":2},\"yaxis\":{\"gridcolor\":\"white\",\"linecolor\":\"white\",\"ticks\":\"\",\"title\":{\"standoff\":15},\"zerolinecolor\":\"white\",\"automargin\":true,\"zerolinewidth\":2},\"scene\":{\"xaxis\":{\"backgroundcolor\":\"#E5ECF6\",\"gridcolor\":\"white\",\"linecolor\":\"white\",\"showbackground\":true,\"ticks\":\"\",\"zerolinecolor\":\"white\",\"gridwidth\":2},\"yaxis\":{\"backgroundcolor\":\"#E5ECF6\",\"gridcolor\":\"white\",\"linecolor\":\"white\",\"showbackground\":true,\"ticks\":\"\",\"zerolinecolor\":\"white\",\"gridwidth\":2},\"zaxis\":{\"backgroundcolor\":\"#E5ECF6\",\"gridcolor\":\"white\",\"linecolor\":\"white\",\"showbackground\":true,\"ticks\":\"\",\"zerolinecolor\":\"white\",\"gridwidth\":2}},\"shapedefaults\":{\"line\":{\"color\":\"#2a3f5f\"}},\"annotationdefaults\":{\"arrowcolor\":\"#2a3f5f\",\"arrowhead\":0,\"arrowwidth\":1},\"geo\":{\"bgcolor\":\"white\",\"landcolor\":\"#E5ECF6\",\"subunitcolor\":\"white\",\"showland\":true,\"showlakes\":true,\"lakecolor\":\"white\"},\"title\":{\"x\":0.05},\"mapbox\":{\"style\":\"light\"}}},\"xaxis\":{\"anchor\":\"y\",\"domain\":[0.0,1.0]},\"yaxis\":{\"anchor\":\"x\",\"domain\":[0.9185185185185185,1.0]},\"xaxis2\":{\"anchor\":\"y2\",\"domain\":[0.0,1.0]},\"yaxis2\":{\"anchor\":\"x2\",\"domain\":[0.8037037037037038,0.8851851851851853]},\"xaxis3\":{\"anchor\":\"y3\",\"domain\":[0.0,1.0]},\"yaxis3\":{\"anchor\":\"x3\",\"domain\":[0.6888888888888889,0.7703703703703704]},\"xaxis4\":{\"anchor\":\"y4\",\"domain\":[0.0,1.0]},\"yaxis4\":{\"anchor\":\"x4\",\"domain\":[0.5740740740740741,0.6555555555555556]},\"xaxis5\":{\"anchor\":\"y5\",\"domain\":[0.0,1.0]},\"yaxis5\":{\"anchor\":\"x5\",\"domain\":[0.45925925925925926,0.5407407407407407]},\"xaxis6\":{\"anchor\":\"y6\",\"domain\":[0.0,1.0]},\"yaxis6\":{\"anchor\":\"x6\",\"domain\":[0.34444444444444444,0.42592592592592593]},\"xaxis7\":{\"anchor\":\"y7\",\"domain\":[0.0,1.0]},\"yaxis7\":{\"anchor\":\"x7\",\"domain\":[0.22962962962962963,0.3111111111111111]},\"xaxis8\":{\"anchor\":\"y8\",\"domain\":[0.0,1.0]},\"yaxis8\":{\"anchor\":\"x8\",\"domain\":[0.11481481481481481,0.1962962962962963]},\"xaxis9\":{\"anchor\":\"y9\",\"domain\":[0.0,1.0]},\"yaxis9\":{\"anchor\":\"x9\",\"domain\":[0.0,0.08148148148148149]},\"title\":{\"text\":\"Side By Side Subplots\"},\"height\":2000,\"width\":800},                        {\"responsive\": true}                    ).then(function(){\n",
       "                            \n",
       "var gd = document.getElementById('b2e12e46-104d-44a5-af12-250ce8d6b8fe');\n",
       "var x = new MutationObserver(function (mutations, observer) {{\n",
       "        var display = window.getComputedStyle(gd).display;\n",
       "        if (!display || display === 'none') {{\n",
       "            console.log([gd, 'removed!']);\n",
       "            Plotly.purge(gd);\n",
       "            observer.disconnect();\n",
       "        }}\n",
       "}});\n",
       "\n",
       "// Listen for the removal of the full notebook cells\n",
       "var notebookContainer = gd.closest('#notebook-container');\n",
       "if (notebookContainer) {{\n",
       "    x.observe(notebookContainer, {childList: true});\n",
       "}}\n",
       "\n",
       "// Listen for the clearing of the current output cell\n",
       "var outputEl = gd.closest('.output');\n",
       "if (outputEl) {{\n",
       "    x.observe(outputEl, {childList: true});\n",
       "}}\n",
       "\n",
       "                        })                };                });            </script>        </div>"
      ]
     },
     "metadata": {},
     "output_type": "display_data"
    }
   ],
   "source": [
    "fig = make_subplots(rows=len(cols), cols=1)\n",
    "for i, col in enumerate(cols):\n",
    "    fig.add_trace(go.Box(x=df['cluster'], y=df[col], name=col), row=i+1, col=1)\n",
    "\n",
    "fig.update_layout(height=2000, width=800, title_text=\"Side By Side Subplots\")\n",
    "fig.show()"
   ]
  },
  {
   "cell_type": "code",
   "execution_count": null,
   "id": "342df903",
   "metadata": {},
   "outputs": [],
   "source": []
  }
 ],
 "metadata": {
  "kernelspec": {
   "display_name": "music",
   "language": "python",
   "name": "music"
  },
  "language_info": {
   "codemirror_mode": {
    "name": "ipython",
    "version": 3
   },
   "file_extension": ".py",
   "mimetype": "text/x-python",
   "name": "python",
   "nbconvert_exporter": "python",
   "pygments_lexer": "ipython3",
   "version": "3.8.10"
  }
 },
 "nbformat": 4,
 "nbformat_minor": 5
}
