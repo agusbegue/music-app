{
 "cells": [
  {
   "cell_type": "code",
   "execution_count": 3,
   "id": "c7dc8a7a",
   "metadata": {},
   "outputs": [],
   "source": [
    "import os, sys\n",
    "# PWD = os.getenv('PWD')\n",
    "# os.chdir(PWD)\n",
    "# sys.path.insert(0, os.getenv('PWD'))\n",
    "sys.path.append('../')\n",
    "os.environ[\"DJANGO_ALLOW_ASYNC_UNSAFE\"] = \"true\"\n",
    "os.environ.setdefault(\"DJANGO_SETTINGS_MODULE\", \"local_settings.py\")\n",
    "import django\n",
    "django.setup()"
   ]
  },
  {
   "cell_type": "code",
   "execution_count": 4,
   "id": "35cc60ad",
   "metadata": {},
   "outputs": [],
   "source": [
    "from api.models import Track, Artist"
   ]
  },
  {
   "cell_type": "code",
   "execution_count": 3,
   "id": "2947c2b2",
   "metadata": {},
   "outputs": [],
   "source": [
    "tracks = Track.objects.all()"
   ]
  },
  {
   "cell_type": "code",
   "execution_count": 4,
   "id": "44679c31",
   "metadata": {},
   "outputs": [
    {
     "data": {
      "text/plain": [
       "9703"
      ]
     },
     "execution_count": 4,
     "metadata": {},
     "output_type": "execute_result"
    }
   ],
   "source": [
    "len(tracks)"
   ]
  },
  {
   "cell_type": "code",
   "execution_count": 5,
   "id": "db4de5f2",
   "metadata": {},
   "outputs": [],
   "source": [
    "artists = Artist.objects.all()"
   ]
  },
  {
   "cell_type": "code",
   "execution_count": 6,
   "id": "acd1c5c0",
   "metadata": {},
   "outputs": [
    {
     "data": {
      "text/plain": [
       "95"
      ]
     },
     "execution_count": 6,
     "metadata": {},
     "output_type": "execute_result"
    }
   ],
   "source": [
    "len(artists)"
   ]
  },
  {
   "cell_type": "code",
   "execution_count": null,
   "id": "4f3fe223",
   "metadata": {},
   "outputs": [],
   "source": []
  },
  {
   "cell_type": "code",
   "execution_count": 13,
   "id": "1df69698",
   "metadata": {},
   "outputs": [],
   "source": [
    "import requests"
   ]
  },
  {
   "cell_type": "code",
   "execution_count": 14,
   "id": "4aead829",
   "metadata": {},
   "outputs": [],
   "source": [
    "BOT_TOKEN = '5069616520:AAEb3fxBWoPRzM44rXwGAevVEn5CGSOzwTM'\n",
    "BOT_CHAT_ID = '1371118289'\n",
    "def report_error(user, error):\n",
    "    message = f'ERROR [{user}] {error}'\n",
    "    url = 'https://api.telegram.org/bot' + BOT_TOKEN + '/sendMessage?chat_id=' + BOT_CHAT_ID + '&&text=' + message\n",
    "    requests.get(url)\n"
   ]
  },
  {
   "cell_type": "code",
   "execution_count": 15,
   "id": "c58256e7",
   "metadata": {},
   "outputs": [],
   "source": [
    "report_error('pepe', 'fallo1')"
   ]
  },
  {
   "cell_type": "code",
   "execution_count": null,
   "id": "5ca1fadd",
   "metadata": {},
   "outputs": [],
   "source": []
  }
 ],
 "metadata": {
  "kernelspec": {
   "display_name": "Python 3 (ipykernel)",
   "language": "python",
   "name": "python3"
  },
  "language_info": {
   "codemirror_mode": {
    "name": "ipython",
    "version": 3
   },
   "file_extension": ".py",
   "mimetype": "text/x-python",
   "name": "python",
   "nbconvert_exporter": "python",
   "pygments_lexer": "ipython3",
   "version": "3.8.10"
  }
 },
 "nbformat": 4,
 "nbformat_minor": 5
}
